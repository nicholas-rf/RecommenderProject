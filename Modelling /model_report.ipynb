{
 "cells": [
  {
   "cell_type": "markdown",
   "metadata": {},
   "source": [
    "# Modelling\n",
    "To include a wide range of testing and frameworks we then evaluated recommender systems under baseline techniques like matrix factorization and ____ and newer frameworks like Tensorflow Recommenders and more notably NVIDIA Merlin. Using clustering we saved on compute by minimizing the search space that our matrix factorization needed to operate on."
   ]
  },
  {
   "cell_type": "markdown",
   "metadata": {},
   "source": [
    "### Matrix fac"
   ]
  },
  {
   "cell_type": "code",
   "execution_count": null,
   "metadata": {
    "vscode": {
     "languageId": "plaintext"
    }
   },
   "outputs": [],
   "source": []
  }
 ],
 "metadata": {
  "language_info": {
   "name": "python"
  }
 },
 "nbformat": 4,
 "nbformat_minor": 2
}
