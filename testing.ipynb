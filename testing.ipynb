{
 "cells": [
  {
   "cell_type": "code",
   "execution_count": 1,
   "metadata": {},
   "outputs": [
    {
     "name": "stderr",
     "output_type": "stream",
     "text": [
      "/Users/nick/miniforge3/envs/recSysEnv/lib/python3.9/site-packages/tqdm/auto.py:21: TqdmWarning: IProgress not found. Please update jupyter and ipywidgets. See https://ipywidgets.readthedocs.io/en/stable/user_install.html\n",
      "  from .autonotebook import tqdm as notebook_tqdm\n"
     ]
    }
   ],
   "source": [
    "import pandas as pd\n",
    "import numpy as np\n",
    "from sklearn.cluster import KMeans\n",
    "from sklearn.decomposition import PCA\n",
    "import ExploratoryAnalysis.data_processing_modules as dpm"
   ]
  },
  {
   "cell_type": "code",
   "execution_count": 2,
   "metadata": {},
   "outputs": [
    {
     "name": "stderr",
     "output_type": "stream",
     "text": [
      "Some weights of the PyTorch model were not used when initializing the TF 2.0 model TFBertModel: ['cls.seq_relationship.weight', 'cls.predictions.bias', 'cls.predictions.transform.LayerNorm.weight', 'cls.predictions.transform.dense.weight', 'cls.predictions.transform.LayerNorm.bias', 'cls.predictions.transform.dense.bias', 'cls.seq_relationship.bias']\n",
      "- This IS expected if you are initializing TFBertModel from a PyTorch model trained on another task or with another architecture (e.g. initializing a TFBertForSequenceClassification model from a BertForPreTraining model).\n",
      "- This IS NOT expected if you are initializing TFBertModel from a PyTorch model that you expect to be exactly identical (e.g. initializing a TFBertForSequenceClassification model from a BertForSequenceClassification model).\n",
      "All the weights of TFBertModel were initialized from the PyTorch model.\n",
      "If your task is similar to the task the model of the checkpoint was trained on, you can already use TFBertModel for predictions without further training.\n",
      "Token indices sequence length is longer than the specified maximum sequence length for this model (537 > 512). Running this sequence through the model will result in indexing errors\n"
     ]
    },
    {
     "name": "stdout",
     "output_type": "stream",
     "text": [
      "The Battles began on The Voice Monday, with a new set of mentors (Usher, Darius Rucker, Normani, and wil.i.am) and a new rule allowing coaches to save one contestant each from elimination. But before all that, there were a few more Blind Auditions, including one form Season 17's new heartthrob, Matthew McQueen. He may not be related to Steve McQueen, but he had undeniable star power -- with a pretty face and a pretty voice to match plus just the right about of darkness and edge. \"He kind of looks like a combination of Tom Cruise and Christian Bale. You're like a very handsome movie villain,\" John Legend told Matthew. \"Like a vampire. You could be in a vampire movie,\" said Kelly Clarkson, who seemed a little flustered as she called the 21-year-old indie-pop crooner \"so cool and sexy -- I mean, not in a weird way!\" Blake Shelton compared Matthew's modern-sounding vocals to that of another heartthrob, Shawn Mendes. So I guess music really was in Matthew's, um, blood. [insert/quote some tweets] Matthew's cover artist-of-the-moment's Lewis Capaldi's weeper \"Someone You Loved\" was haunting, and not just because he looked like Lestat while singing it. I was impressed by his sense of dynamics, the way he started soft and subtle and built the song to its anguished crescendo, instead of starting at full volume. It was a sophisticated and nuanced performance. \"You got better and better and you kept it classy, you kept it tasteful. When you get into that rasp -- like, whew,\" Kelly marveled. It seemed like Kelly might be on her way to a third victory by getting Matthew on her team, but unfortunately for her, Blake also turned around. He made a very good case, noting that three of his past six winners were not country singers, stating, \"It doesn't matter what lane your coach is in. It's what lane your coach can put you in.\" Combine that with the fact that Grandma McQueen had dreamed that Blake would turn for Matthew, and it was a done deal. Now Blake might win again with another non-country artist. \"With his range and his pocket -- this guy is a threat to this entire competition,\" Blake proclaimed.\n",
      "Real talk. Demi Moore got candid about a variety of topics in her new book, Inside Out, including her famous exes, substance abuse struggles and her heartbreaking sexual assault. \"The same question kept going through my head: How did I get here?\" the 56-year-old actress began in the memoir, which was released on Tuesday, September 24. \"The husband who I'd thought was the love of my life had cheated on me and then decided he didn't want to work on our marriage. My children weren't speaking me. … Is this life? I wondered. Because if this is it, I'm done.\" Moore provided insight into all three of her marriages in the book. She was married to Freddy Moore from 1980 to 1985, Bruce Willis from 1987 to 2000 and Ashton Kutcher from 2005 to 2013. The end of the G.I. Jane star's relationship with the former That 70's Show star, however, seemed to have the biggest impact on her. \"I lost me,\" the Ghost actress told Diane Sawyer on Good Morning America on Monday, September 23, about their split. \"I think the thing if I were to look back, I would say I blinded myself and I lost myself.\" Moore and Kutcher, who is 15 years her junior, started dating in 2003. After Us Weekly broke the news that he was allegedly unfaithful in 2011, the twosome called it quits. The Ranch star married Mila Kunis in July 2015. They share two kids: Wyatt, 4, and Dimitri, 2. Kutcher, for his part, reflected on the divorce during an appearance on Dax Shepard's \"Armchair Expert\" podcast last year. \"Right after I got divorced, I went to the mountains for a week by myself,\" Kutcher told Shepard in February 2018. \"I did no food, no drink   just water and tea. I took all my computers away, my phone, my everything. I was there by myself, so there was no talking. I just had a notepad, a pen and water and tea   for a week.\" He referred to the trip as \"really spiritual and kind of awesome.\" \"I wrote down every single relationship that I had where I felt like there was some grudge or some anything, regret, anything,\" Kutcher explained. \"And I wrote letters to every single person, and on day seven, I typed them all out and then sent them.\" While Moore certainly doesn't hold back in Inside Out, a source told Us earlier this month that the Kutcher isn't worried about the book. \"Ashton knew what was coming. He had a heads up on what is in the book,\" the insider said on September 13. \"He's not mad or disappointed. This is Demi's truth, and he always felt sympathetic toward her. He knows her story and that her upbringing was difficult.\" Inside Out is available now. Scroll through for 10 revelations from the book:\n"
     ]
    }
   ],
   "source": [
    "# Need to do some preprocessing on embeddings so that they get taken out of a column, expanded, and then applied to the list\n",
    "news = pd.read_csv('MIND_small/csv/news.csv')\n",
    "news.drop(columns=['Unnamed: 0'], inplace=True)\n",
    "news = dpm.create_text_embeddings(news)\n"
   ]
  },
  {
   "cell_type": "code",
   "execution_count": null,
   "metadata": {},
   "outputs": [],
   "source": [
    "news.to_csv('MIND_small/csv/news_with_embedding_cols.csv')"
   ]
  },
  {
   "cell_type": "code",
   "execution_count": null,
   "metadata": {},
   "outputs": [],
   "source": [
    "### Now we need to extract the embeddings into separate columns\n",
    "abstract_embeddings = pd.DataFrame(news['abstract_embeddings'].to_list(), index=news.index)\n",
    "title_embeddings = pd.DataFrame(news['title_embeddings'].to_list(), index=news.index)\n",
    "abstract_embeddings.to_csv('MIND_small/csv/abstract_embeddings.csv')\n",
    "title_embeddings.to_csv('MIND_small/csv/title_embeddings.csv')"
   ]
  },
  {
   "cell_type": "code",
   "execution_count": null,
   "metadata": {},
   "outputs": [],
   "source": [
    "news = pd.concat([news, abstract_embeddings, title_embeddings], axis=1)\n",
    "news"
   ]
  },
  {
   "cell_type": "code",
   "execution_count": null,
   "metadata": {},
   "outputs": [],
   "source": [
    "del abstract_embeddings, title_embeddings"
   ]
  },
  {
   "cell_type": "code",
   "execution_count": null,
   "metadata": {},
   "outputs": [],
   "source": []
  }
 ],
 "metadata": {
  "kernelspec": {
   "display_name": "recSysEnv",
   "language": "python",
   "name": "python3"
  },
  "language_info": {
   "codemirror_mode": {
    "name": "ipython",
    "version": 3
   },
   "file_extension": ".py",
   "mimetype": "text/x-python",
   "name": "python",
   "nbconvert_exporter": "python",
   "pygments_lexer": "ipython3",
   "version": "3.9.18"
  }
 },
 "nbformat": 4,
 "nbformat_minor": 2
}
