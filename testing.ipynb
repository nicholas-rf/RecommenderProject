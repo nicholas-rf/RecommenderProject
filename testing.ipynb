{
 "cells": [
  {
   "cell_type": "code",
   "execution_count": 8,
   "metadata": {},
   "outputs": [],
   "source": [
    "from transformers import BertTokenizer, TFBertModel\n",
    "import keras.api._v2.keras"
   ]
  },
  {
   "cell_type": "code",
   "execution_count": null,
   "metadata": {},
   "outputs": [],
   "source": [
    "## How can I apply the embeddings? load and then return the dataframe mythink"
   ]
  },
  {
   "cell_type": "code",
   "execution_count": 13,
   "metadata": {},
   "outputs": [
    {
     "ename": "IndentationError",
     "evalue": "expected an indented block (784318394.py, line 5)",
     "output_type": "error",
     "traceback": [
      "\u001b[0;36m  Cell \u001b[0;32mIn[13], line 5\u001b[0;36m\u001b[0m\n\u001b[0;31m    tokenizer = BertTokenizer.from_pretrained('bert-base-cased')\u001b[0m\n\u001b[0m    ^\u001b[0m\n\u001b[0;31mIndentationError\u001b[0m\u001b[0;31m:\u001b[0m expected an indented block\n"
     ]
    }
   ],
   "source": [
    "def create_text_embeddings(dataset):\n",
    "    \"\"\"\n",
    "    Applies pre-trained BERT embeddings to the feature columns with text data for use within clustering.\n",
    "\n",
    "    Args:\n",
    "        dataset (pd.DataFrame) : Dataset containing user interactions.\n",
    "\n",
    "    Returns:\n",
    "        dataset (pd.DataFrame) : A dataset with embeddings columns.\n",
    "    \"\"\"\n",
    "    # Initialize the bert tokenizer and model from bert base cased.\n",
    "    tokenizer = BertTokenizer.from_pretrained('bert-base-cased')\n",
    "    model = TFBertModel.from_pretrained('bert-base-cased')\n",
    "\n",
    "    # Create a dense layer with the embedding dimension to process embeddings.\n",
    "    embedding_dimension = 8\n",
    "    dense_layer = keras.layers.Dense(embedding_dimension, activation='linear')\n",
    "\n",
    "    # Define a function to get the embeddings from the models and apply them to the text.\n",
    "    def get_embeddings(text_1):\n",
    "        \"\"\"\n",
    "        Gets embeddings from pre trained bert model for news information used for clustering.\n",
    "        \"\"\"\n",
    "\n",
    "        # Apply the tokenizer to the text and return it in the tensorflow tensor format. \n",
    "        encoded_text = tokenizer(text_1, return_tensors='tf')\n",
    "\n",
    "        # Get the output from BERT model with the encoded text.\n",
    "        bert_output = model(encoded_text)\n",
    "\n",
    "        # Use the pooled output for a single vector representation of the input. \n",
    "        pooled_output = bert_output.pooler_output\n",
    "\n",
    "        # Apply dense layer to project to desired size.\n",
    "        embedding_vector = dense_layer(pooled_output)\n",
    "        return embedding_vector\n",
    "\n",
    "    # Apply the embeddings to the abstract and title columns.\n",
    "    dataset['abstract_embeddings'] = dataset['abstract'].apply(get_embeddings)\n",
    "    dataset['title_embeddings'] = dataset['title'].apply(get_embeddings)\n",
    "    return dataset\n"
   ]
  },
  {
   "cell_type": "code",
   "execution_count": 1,
   "metadata": {},
   "outputs": [],
   "source": [
    "import ExploratoryAnalysis.data_processing_modules as dpm\n",
    "import pandas as pd\n",
    "import tensorflow as tf\n",
    "import keras.api._v2.keras as keras\n",
    "import numpy as np\n",
    "from sqlalchemy import create_engine"
   ]
  },
  {
   "cell_type": "code",
   "execution_count": 4,
   "metadata": {},
   "outputs": [],
   "source": [
    "# Starting off we need to load in the dataset and turn it into the form we want\n",
    "sample_data = pd.read_csv('MIND_small/sample_tf_dataset.csv')\n",
    "sample_data.drop(columns=['Unnamed: 0'], inplace=True)\n",
    "sample_data = sample_data[sample_data['abstract'].isna() == False]\n",
    "AUTOTUNE = tf.data.AUTOTUNE\n",
    "tf_data_obj = tf.data.Dataset.from_tensor_slices(dict(sample_data))\n",
    "train_ds = tf_data_obj.cache().prefetch(buffer_size=AUTOTUNE)\n",
    "text_ds = train_ds.map(lambda x: x['abstract'])"
   ]
  },
  {
   "cell_type": "code",
   "execution_count": null,
   "metadata": {},
   "outputs": [],
   "source": [
    "# Then we need to create a text vectorization layer to handle preprocessing\n"
   ]
  },
  {
   "cell_type": "code",
   "execution_count": null,
   "metadata": {},
   "outputs": [],
   "source": []
  },
  {
   "cell_type": "code",
   "execution_count": null,
   "metadata": {},
   "outputs": [],
   "source": []
  },
  {
   "cell_type": "code",
   "execution_count": null,
   "metadata": {},
   "outputs": [],
   "source": []
  },
  {
   "cell_type": "code",
   "execution_count": null,
   "metadata": {},
   "outputs": [],
   "source": [
    "test_frame.rename(columns={'time':'time_'}, inplace=True)\n",
    "test_frame.to_csv('MIND_small/sample_tf_dataset.csv')\n",
    "\n",
    "def create_connection():\n",
    "    \"\"\"\n",
    "    Creates a connection to the database by taking in a user password.\n",
    "    \"\"\"\n",
    "    database_name = 'user_info'\n",
    "    connection_user = 'admin'\n",
    "    try:\n",
    "        connection_password = input(\"Enter Password: \")\n",
    "        connection_host = 'svc-57117697-8d22-448b-8b96-d3b2a46d0970-dml.aws-virginia-6.svc.singlestore.com'\n",
    "        connection_port = '3306'\n",
    "        connection_url = f\"mysql+pymysql://{connection_user}:{connection_password}@{connection_host}:{connection_port}/{database_name}\"\n",
    "        db_connection = create_engine(connection_url)\n",
    "        return db_connection\n",
    "    except Exception as e:\n",
    "        print(f\"Exception {e} occured, try again.\\n\")\n",
    "        return create_connection()\n",
    "\n",
    "\n",
    "def push_to_DB(news : pd.DataFrame, behaviors : pd.DataFrame) -> None:\n",
    "    \"\"\" \n",
    "    Pushes data to the SingleStore database for usage in modelling within docker containers and virtual machines.\n",
    "\n",
    "    Args:\n",
    "        news (pd.DataFrame) : The dataframe containing the data from the news csv.\n",
    "        behaviors (pd.DataFrame) : The dataframe containing the data from the behaviors csv.\n",
    "\n",
    "    Returns:\n",
    "        None.\n",
    "    \"\"\"\n",
    "    db_connection = create_connection()\n",
    "    user_interaction_data = dpm.decompose_interactions(num_iterations=100000, news=news, behaviors=behaviors)\n",
    "    user_interaction_data.to_sql('user_behaviors', if_exists='replace', con=db_connection, index=False)\n",
    "    print(\"Push to Database Successful\")\n"
   ]
  },
  {
   "cell_type": "code",
   "execution_count": null,
   "metadata": {},
   "outputs": [],
   "source": []
  }
 ],
 "metadata": {
  "kernelspec": {
   "display_name": "recSysEnv",
   "language": "python",
   "name": "python3"
  },
  "language_info": {
   "codemirror_mode": {
    "name": "ipython",
    "version": 3
   },
   "file_extension": ".py",
   "mimetype": "text/x-python",
   "name": "python",
   "nbconvert_exporter": "python",
   "pygments_lexer": "ipython3",
   "version": "3.9.18"
  }
 },
 "nbformat": 4,
 "nbformat_minor": 2
}
