{
 "cells": [
  {
   "cell_type": "code",
   "execution_count": 1,
   "metadata": {},
   "outputs": [],
   "source": [
    "import pandas as pd \n",
    "import numpy as np"
   ]
  },
  {
   "cell_type": "code",
   "execution_count": 4,
   "metadata": {},
   "outputs": [
    {
     "data": {
      "text/html": [
       "<div>\n",
       "<style scoped>\n",
       "    .dataframe tbody tr th:only-of-type {\n",
       "        vertical-align: middle;\n",
       "    }\n",
       "\n",
       "    .dataframe tbody tr th {\n",
       "        vertical-align: top;\n",
       "    }\n",
       "\n",
       "    .dataframe thead th {\n",
       "        text-align: right;\n",
       "    }\n",
       "</style>\n",
       "<table border=\"1\" class=\"dataframe\">\n",
       "  <thead>\n",
       "    <tr style=\"text-align: right;\">\n",
       "      <th></th>\n",
       "      <th>impression_id</th>\n",
       "      <th>user_id</th>\n",
       "      <th>time</th>\n",
       "      <th>history</th>\n",
       "      <th>impressions</th>\n",
       "    </tr>\n",
       "  </thead>\n",
       "  <tbody>\n",
       "    <tr>\n",
       "      <th>0</th>\n",
       "      <td>1</td>\n",
       "      <td>U134050</td>\n",
       "      <td>11/15/2019 8:55:22 AM</td>\n",
       "      <td>N12246 N128820 N119226 N4065 N67770 N33446 N10...</td>\n",
       "      <td>N91737-0 N30206-0 N54368-0 N117802-0 N18190-0 ...</td>\n",
       "    </tr>\n",
       "    <tr>\n",
       "      <th>1</th>\n",
       "      <td>2</td>\n",
       "      <td>U254959</td>\n",
       "      <td>11/15/2019 11:42:35 AM</td>\n",
       "      <td>N34011 N9375 N67397 N7936 N118985 N109453 N103...</td>\n",
       "      <td>N119999-0 N24958-0 N104054-0 N33901-0 N9250-0 ...</td>\n",
       "    </tr>\n",
       "    <tr>\n",
       "      <th>2</th>\n",
       "      <td>3</td>\n",
       "      <td>U499841</td>\n",
       "      <td>11/15/2019 9:08:21 AM</td>\n",
       "      <td>N63858 N26834 N6379 N85484 N15229 N65119 N1047...</td>\n",
       "      <td>N18190-0 N89764-0 N91737-0 N54368-0 N49978-1 N...</td>\n",
       "    </tr>\n",
       "    <tr>\n",
       "      <th>3</th>\n",
       "      <td>4</td>\n",
       "      <td>U107107</td>\n",
       "      <td>11/15/2019 5:50:31 AM</td>\n",
       "      <td>N12959 N8085 N18389 N3758 N9740 N90543 N129790...</td>\n",
       "      <td>N122944-1 N18190-0 N55801-0 N59297-0 N128045-0...</td>\n",
       "    </tr>\n",
       "    <tr>\n",
       "      <th>4</th>\n",
       "      <td>5</td>\n",
       "      <td>U492344</td>\n",
       "      <td>11/15/2019 5:02:25 AM</td>\n",
       "      <td>N109183 N48453 N85005 N45706 N98923 N46069 N35...</td>\n",
       "      <td>N64785-0 N82503-0 N32993-0 N122944-0 N29160-0 ...</td>\n",
       "    </tr>\n",
       "    <tr>\n",
       "      <th>...</th>\n",
       "      <td>...</td>\n",
       "      <td>...</td>\n",
       "      <td>...</td>\n",
       "      <td>...</td>\n",
       "      <td>...</td>\n",
       "    </tr>\n",
       "    <tr>\n",
       "      <th>376466</th>\n",
       "      <td>376467</td>\n",
       "      <td>U199558</td>\n",
       "      <td>11/15/2019 8:12:35 AM</td>\n",
       "      <td>N90686 N73122 N37206 N12575 N96616 N114714</td>\n",
       "      <td>N122640-0 N29160-0 N54368-1 N18190-0</td>\n",
       "    </tr>\n",
       "    <tr>\n",
       "      <th>376467</th>\n",
       "      <td>376468</td>\n",
       "      <td>U356824</td>\n",
       "      <td>11/15/2019 6:10:05 AM</td>\n",
       "      <td>N31305 N7742 N45909 N13422 N116312 N110755 N62...</td>\n",
       "      <td>N122640-0 N18190-0 N55801-0 N69938-0 N12384-0 ...</td>\n",
       "    </tr>\n",
       "    <tr>\n",
       "      <th>376468</th>\n",
       "      <td>376469</td>\n",
       "      <td>U484114</td>\n",
       "      <td>11/15/2019 3:05:47 PM</td>\n",
       "      <td>N122359 N104081 N79583 N60911 N20131 N29446 N2...</td>\n",
       "      <td>N46555-0 N28863-0 N129416-0 N112536-0 N64957-0...</td>\n",
       "    </tr>\n",
       "    <tr>\n",
       "      <th>376469</th>\n",
       "      <td>376470</td>\n",
       "      <td>U719484</td>\n",
       "      <td>11/15/2019 3:30:41 PM</td>\n",
       "      <td>N51171 N115826 N52641 N454 N32534 N127923 N443...</td>\n",
       "      <td>N56784-0 N28863-0 N26553-0 N2110-0 N99846-0 N1...</td>\n",
       "    </tr>\n",
       "    <tr>\n",
       "      <th>376470</th>\n",
       "      <td>376471</td>\n",
       "      <td>U655194</td>\n",
       "      <td>11/15/2019 7:03:15 AM</td>\n",
       "      <td>N17862 N82746 N16614 N18966 N36243 N30299 N747...</td>\n",
       "      <td>N28962-0 N52388-0 N128045-0 N17804-0 N15424-0 ...</td>\n",
       "    </tr>\n",
       "  </tbody>\n",
       "</table>\n",
       "<p>376471 rows × 5 columns</p>\n",
       "</div>"
      ],
      "text/plain": [
       "        impression_id  user_id                    time  \\\n",
       "0                   1  U134050   11/15/2019 8:55:22 AM   \n",
       "1                   2  U254959  11/15/2019 11:42:35 AM   \n",
       "2                   3  U499841   11/15/2019 9:08:21 AM   \n",
       "3                   4  U107107   11/15/2019 5:50:31 AM   \n",
       "4                   5  U492344   11/15/2019 5:02:25 AM   \n",
       "...               ...      ...                     ...   \n",
       "376466         376467  U199558   11/15/2019 8:12:35 AM   \n",
       "376467         376468  U356824   11/15/2019 6:10:05 AM   \n",
       "376468         376469  U484114   11/15/2019 3:05:47 PM   \n",
       "376469         376470  U719484   11/15/2019 3:30:41 PM   \n",
       "376470         376471  U655194   11/15/2019 7:03:15 AM   \n",
       "\n",
       "                                                  history  \\\n",
       "0       N12246 N128820 N119226 N4065 N67770 N33446 N10...   \n",
       "1       N34011 N9375 N67397 N7936 N118985 N109453 N103...   \n",
       "2       N63858 N26834 N6379 N85484 N15229 N65119 N1047...   \n",
       "3       N12959 N8085 N18389 N3758 N9740 N90543 N129790...   \n",
       "4       N109183 N48453 N85005 N45706 N98923 N46069 N35...   \n",
       "...                                                   ...   \n",
       "376466         N90686 N73122 N37206 N12575 N96616 N114714   \n",
       "376467  N31305 N7742 N45909 N13422 N116312 N110755 N62...   \n",
       "376468  N122359 N104081 N79583 N60911 N20131 N29446 N2...   \n",
       "376469  N51171 N115826 N52641 N454 N32534 N127923 N443...   \n",
       "376470  N17862 N82746 N16614 N18966 N36243 N30299 N747...   \n",
       "\n",
       "                                              impressions  \n",
       "0       N91737-0 N30206-0 N54368-0 N117802-0 N18190-0 ...  \n",
       "1       N119999-0 N24958-0 N104054-0 N33901-0 N9250-0 ...  \n",
       "2       N18190-0 N89764-0 N91737-0 N54368-0 N49978-1 N...  \n",
       "3       N122944-1 N18190-0 N55801-0 N59297-0 N128045-0...  \n",
       "4       N64785-0 N82503-0 N32993-0 N122944-0 N29160-0 ...  \n",
       "...                                                   ...  \n",
       "376466               N122640-0 N29160-0 N54368-1 N18190-0  \n",
       "376467  N122640-0 N18190-0 N55801-0 N69938-0 N12384-0 ...  \n",
       "376468  N46555-0 N28863-0 N129416-0 N112536-0 N64957-0...  \n",
       "376469  N56784-0 N28863-0 N26553-0 N2110-0 N99846-0 N1...  \n",
       "376470  N28962-0 N52388-0 N128045-0 N17804-0 N15424-0 ...  \n",
       "\n",
       "[376471 rows x 5 columns]"
      ]
     },
     "execution_count": 4,
     "metadata": {},
     "output_type": "execute_result"
    }
   ],
   "source": [
    "behaviors = pd.read_csv('MIND_large/csv/behaviors.csv', index_col=0)\n",
    "behaviors\n"
   ]
  },
  {
   "cell_type": "code",
   "execution_count": 6,
   "metadata": {},
   "outputs": [],
   "source": [
    "testing_df = behaviors.groupby(['user_id', 'history'])['impressions'].apply(list).reset_index()"
   ]
  },
  {
   "cell_type": "code",
   "execution_count": 9,
   "metadata": {},
   "outputs": [
    {
     "data": {
      "text/plain": [
       "[['N19162-0 N83491-0 N121138-0 N94999-0 N44453-0 N80770-0 N15438-0 N69938-1 N76254-0 N110073-0 N19834-0 N4331-0 N62235-0 N103830-0 N5521-0 N51163-0',\n",
       "  'N55066-0 N130076-0 N18258-0 N80105-0 N57299-0 N61442-0 N21033-0 N91268-0 N44032-0 N50180-0 N52339-0 N114950-0 N44608-0 N91506-0 N12899-0 N27289-0 N100425-0 N121138-0 N14612-0 N18623-0 N63870-0 N123462-0 N45595-0 N56565-0 N93879-0 N44493-1 N86444-0 N126404-0 N116564-0 N121375-0 N73966-0 N121208-0 N71731-0 N113286-0 N8749-0 N43000-0 N127356-0 N7728-0 N40690-0 N23981-0 N8042-0 N109802-0 N89823-0 N21356-0 N111050-0 N79608-0 N20802-0 N85420-0 N58760-0 N104644-0 N48323-0 N87470-0 N80425-0 N123819-0',\n",
       "  'N121138-0 N104644-1 N7728-0 N56565-0 N69938-0 N4331-0 N20802-0 N21356-0 N18623-0 N19834-0 N44453-0 N114950-0 N121375-0 N80770-0 N87470-0 N5521-0 N91506-0'],\n",
       " ['N122944-0 N55801-0 N104644-0 N82503-0 N29160-0 N54368-0 N128045-0 N69938-1 N59297-0 N18190-0 N80770-0',\n",
       "  'N18468-1 N89764-0 N21018-0 N129416-1 N46641-0 N53018-0'],\n",
       " ['N122944-0 N96241-0 N40742-0 N15424-0 N54368-0 N128905-0 N12974-0 N3061-0 N48833-0 N64785-1 N46894-0 N35304-0 N104950-0 N69938-0 N18190-0 N30582-0 N72977-0 N30206-0 N37697-0 N18356-0'],\n",
       " ['N121267-0 N23452-0 N89764-0 N50384-0 N40742-0 N112536-0 N2110-0 N91307-0 N1257-0 N30206-0 N46555-0 N52388-0 N97272-0 N93879-0 N104970-0 N46641-0 N119999-0 N80425-0 N69938-0 N85420-0 N25973-0 N92905-0 N122775-0 N37254-0 N123209-0 N14719-0 N58760-0 N44493-0 N117802-0 N56602-0 N130076-0 N95862-1 N100425-0 N91737-0 N23721-0 N83491-0 N21018-0 N29160-0 N49307-0 N48833-0 N109802-0 N56590-0 N79671-0 N17038-0 N61442-0 N32694-0 N11405-0 N129416-0 N44294-0',\n",
       "  'N35304-0 N46894-0 N122944-1 N12974-0 N29160-0 N69938-0 N30206-0 N58465-0 N18356-1 N122640-0 N18190-1 N123209-0 N54368-0 N47891-0',\n",
       "  'N34044-1 N89764-0 N120089-0 N30206-0 N53018-0 N29160-0 N129416-0 N92905-1 N117802-0 N69938-0 N54368-0 N91737-0 N122944-0 N26703-0',\n",
       "  'N54368-0 N18190-0 N25621-0 N55801-0 N29160-1 N122640-0 N46894-0',\n",
       "  'N3623-1 N35304-0 N25621-0 N54368-0 N12384-0 N122944-0 N123209-0 N69938-0 N40742-0 N72977-0 N46894-0 N128045-0 N82573-0 N122640-0 N30582-0 N62800-0 N55801-0 N18190-0'],\n",
       " ['N121267-0 N46555-0 N49307-0 N30206-0 N100425-0 N117802-0 N56602-0 N52464-0 N44032-0 N39770-0 N90986-0 N100701-1 N89764-0 N91737-0 N91307-0 N21033-0 N125045-0 N99846-0 N126696-0 N40742-0 N2110-0 N46641-0 N130076-0 N44493-0 N86352-0 N91268-0 N54281-0 N123968-0 N112536-0 N119999-0 N97272-0 N92905-0 N44294-0 N59569-0 N21018-0 N104970-0 N111050-0 N129416-0 N47891-0 N17827-1',\n",
       "  'N29160-0 N34044-0 N92905-0 N26703-0 N49978-0 N117802-1 N112536-0 N129416-0 N120089-0 N69938-0 N91737-0 N54368-0 N89764-0 N35304-0 N122944-0 N53018-0',\n",
       "  'N39770-0 N125045-0 N28863-0 N100425-0 N47891-0 N97272-0 N107199-1 N56784-0 N123968-0 N111050-0 N17038-0 N19831-0 N99846-0 N64957-0 N119999-0 N21096-0 N46555-0 N26553-0 N126696-0 N123462-0 N96083-1 N2110-0 N92905-0 N40742-0 N129416-0 N44533-0 N21018-0',\n",
       "  'N9471-0 N92199-0 N21356-0 N129416-0 N119999-0 N87236-0 N52388-0 N69675-0 N21018-0 N92905-0 N91737-0 N89764-0 N123209-0 N56602-0 N48833-0 N40742-0 N75841-0 N69938-1 N50384-0 N46555-0 N86352-0 N18258-0 N29160-0 N53018-1 N117802-0 N121267-0 N91307-0 N46641-0 N95862-0 N125917-0 N1257-0 N2110-0 N112536-0 N35398-0 N30206-0 N79671-0 N34044-0 N26703-0',\n",
       "  'N42208-0 N34044-0 N122944-0 N40742-0 N129416-0 N54368-0 N85420-0 N49978-0 N125917-0 N35304-0 N100425-0 N29160-0 N120089-0 N92905-0 N48833-0 N30206-1 N26703-0 N123209-0 N69938-0',\n",
       "  'N54368-0 N18190-1 N122640-0',\n",
       "  'N97272-0 N91307-0 N58760-0 N90986-0 N2110-0 N17038-0 N46555-1 N100701-0 N91737-0 N126696-0 N17827-0 N21096-0 N91268-0 N89764-0 N46641-0 N21018-0 N86352-0 N129416-0 N100425-0 N119999-0 N104970-0 N44032-0 N123968-0 N92905-0 N99846-0 N64957-0 N111050-0 N40742-0 N54281-0 N39770-0 N47891-0 N125045-0']]"
      ]
     },
     "execution_count": 9,
     "metadata": {},
     "output_type": "execute_result"
    }
   ],
   "source": [
    "testing_df.head()['impressions'].to_list()"
   ]
  },
  {
   "cell_type": "code",
   "execution_count": 13,
   "metadata": {},
   "outputs": [],
   "source": [
    "news = pd.read_csv('MIND_large/csv/news.csv', index_col=0)"
   ]
  },
  {
   "cell_type": "code",
   "execution_count": 14,
   "metadata": {},
   "outputs": [
    {
     "data": {
      "text/plain": [
       "72023"
      ]
     },
     "execution_count": 14,
     "metadata": {},
     "output_type": "execute_result"
    }
   ],
   "source": [
    "len(news['news_id'].unique())"
   ]
  },
  {
   "cell_type": "code",
   "execution_count": 15,
   "metadata": {},
   "outputs": [
    {
     "data": {
      "text/plain": [
       "255990"
      ]
     },
     "execution_count": 15,
     "metadata": {},
     "output_type": "execute_result"
    }
   ],
   "source": [
    "len(behaviors['user_id'].unique())"
   ]
  },
  {
   "cell_type": "code",
   "execution_count": null,
   "metadata": {},
   "outputs": [],
   "source": [
    "# user_preference_counts = behaviors.groupby('user_id')[behaviors.columns.to_list()[5:]].agg(sum)"
   ]
  },
  {
   "cell_type": "code",
   "execution_count": null,
   "metadata": {},
   "outputs": [],
   "source": [
    "behaviors = pd.read_csv('MIND_small/csv/behaviors_with_individual_counts.csv', index_col=0).drop(columns='Unnamed: 0')"
   ]
  },
  {
   "cell_type": "code",
   "execution_count": null,
   "metadata": {},
   "outputs": [],
   "source": [
    "behaviors_grouped = behaviors.groupby(['user_id', 'history'])['impressions'].apply(list).reset_index()"
   ]
  },
  {
   "cell_type": "code",
   "execution_count": null,
   "metadata": {},
   "outputs": [],
   "source": [
    "# I think the trick for a user item matrix is to make a dictionary with all 50,000 articles, and features as keys, and then populate it with numpy arrays of all -1, then to change to a 1 or a 0 if a user interacted with it\n",
    "\n",
    "# making the dictionary\n",
    "news_data = {news_id : np.full(255990, -1) for news_id in news['news_id']}\n",
    "\n",
    "def populate_dictionaries(behaviors_frame):\n",
    "    \"\"\"\n",
    "    Populates the news data dictionary with user preferences where each user_id corresponds to a row index and the columns correspond to news articles.\n",
    "    \"\"\"\n",
    "    index = 0\n",
    "    # Might just want to use the popularity counts that are already found in behaviors with popularity counts? that could be a lot better imho\n",
    "    for history, impressions in zip(behaviors_frame['user_id'], behaviors_frame['history'], behaviors_frame['impressions']):\n",
    "\n",
    "        if type(history) != float:\n",
    "            for news_id in history.split():\n",
    "                news_data[news_id][index] = 1\n",
    "\n",
    "        if type(impressions) != float:    \n",
    "            for impression_string in impressions:\n",
    "                for impression in impression_string.split():\n",
    "                    impression_info = dpm.clean_impression(impression)\n",
    "                    if impression_info['score'] == '1':\n",
    "                        news_data[impression_info['article_ID']] = 1\n",
    "                    else:\n",
    "                        news_data[impression_info['article_ID']] = 0\n",
    "        index += 1\n",
    "\n",
    "user_ids = behaviors['user_id'].unique()\n",
    "populate_dictionaries(behaviors_grouped)\n",
    "user_item_matrix = pd.DataFrame(data=news_data, index=user_ids)\n",
    "                    "
   ]
  },
  {
   "cell_type": "code",
   "execution_count": null,
   "metadata": {},
   "outputs": [],
   "source": [
    "## Feature / side info matrix\n",
    "\n",
    "feature_dict = {}\n",
    "keys = []\n",
    "for key in keys:\n",
    "    feature_dict[key] = np.full(50000, -1)\n"
   ]
  }
 ],
 "metadata": {
  "kernelspec": {
   "display_name": "Python 3",
   "language": "python",
   "name": "python3"
  },
  "language_info": {
   "codemirror_mode": {
    "name": "ipython",
    "version": 3
   },
   "file_extension": ".py",
   "mimetype": "text/x-python",
   "name": "python",
   "nbconvert_exporter": "python",
   "pygments_lexer": "ipython3",
   "version": "3.11.6"
  }
 },
 "nbformat": 4,
 "nbformat_minor": 2
}
