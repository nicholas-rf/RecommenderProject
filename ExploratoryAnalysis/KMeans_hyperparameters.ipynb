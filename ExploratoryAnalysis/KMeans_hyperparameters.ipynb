{
 "cells": [
  {
   "cell_type": "code",
   "execution_count": 2,
   "metadata": {},
   "outputs": [],
   "source": [
    "import pandas as pd \n",
    "import numpy as np\n",
    "\n",
    "import umap.umap_ as umap\n",
    "\n",
    "import matplotlib.pyplot as plt\n",
    "import plotly.express as px\n",
    "import sklearn.cluster as cluster\n"
   ]
  },
  {
   "cell_type": "code",
   "execution_count": 8,
   "metadata": {},
   "outputs": [
    {
     "data": {
      "text/html": [
       "<div>\n",
       "<style scoped>\n",
       "    .dataframe tbody tr th:only-of-type {\n",
       "        vertical-align: middle;\n",
       "    }\n",
       "\n",
       "    .dataframe tbody tr th {\n",
       "        vertical-align: top;\n",
       "    }\n",
       "\n",
       "    .dataframe thead th {\n",
       "        text-align: right;\n",
       "    }\n",
       "</style>\n",
       "<table border=\"1\" class=\"dataframe\">\n",
       "  <thead>\n",
       "    <tr style=\"text-align: right;\">\n",
       "      <th></th>\n",
       "      <th>user_id</th>\n",
       "      <th>news</th>\n",
       "      <th>health</th>\n",
       "      <th>finance</th>\n",
       "      <th>lifestyle</th>\n",
       "      <th>video</th>\n",
       "      <th>tv</th>\n",
       "      <th>entertainment</th>\n",
       "      <th>foodanddrink</th>\n",
       "      <th>autos</th>\n",
       "      <th>movies</th>\n",
       "      <th>music</th>\n",
       "      <th>travel</th>\n",
       "      <th>sports</th>\n",
       "      <th>weather</th>\n",
       "      <th>middleeast</th>\n",
       "      <th>kids</th>\n",
       "      <th>median</th>\n",
       "    </tr>\n",
       "  </thead>\n",
       "  <tbody>\n",
       "    <tr>\n",
       "      <th>0</th>\n",
       "      <td>U100019</td>\n",
       "      <td>0.416667</td>\n",
       "      <td>0.083333</td>\n",
       "      <td>0.166667</td>\n",
       "      <td>0.250000</td>\n",
       "      <td>0.083333</td>\n",
       "      <td>0.000000</td>\n",
       "      <td>0.000000</td>\n",
       "      <td>0.000000</td>\n",
       "      <td>0.000000</td>\n",
       "      <td>0.0</td>\n",
       "      <td>0.0</td>\n",
       "      <td>0.0</td>\n",
       "      <td>0.0</td>\n",
       "      <td>0.0</td>\n",
       "      <td>0.0</td>\n",
       "      <td>0.0</td>\n",
       "      <td>0.250</td>\n",
       "    </tr>\n",
       "    <tr>\n",
       "      <th>1</th>\n",
       "      <td>U100061</td>\n",
       "      <td>0.363636</td>\n",
       "      <td>0.090909</td>\n",
       "      <td>0.090909</td>\n",
       "      <td>0.090909</td>\n",
       "      <td>0.000000</td>\n",
       "      <td>0.090909</td>\n",
       "      <td>0.090909</td>\n",
       "      <td>0.090909</td>\n",
       "      <td>0.090909</td>\n",
       "      <td>0.0</td>\n",
       "      <td>0.0</td>\n",
       "      <td>0.0</td>\n",
       "      <td>0.0</td>\n",
       "      <td>0.0</td>\n",
       "      <td>0.0</td>\n",
       "      <td>0.0</td>\n",
       "      <td>0.625</td>\n",
       "    </tr>\n",
       "  </tbody>\n",
       "</table>\n",
       "</div>"
      ],
      "text/plain": [
       "   user_id      news    health   finance  lifestyle     video        tv  \\\n",
       "0  U100019  0.416667  0.083333  0.166667   0.250000  0.083333  0.000000   \n",
       "1  U100061  0.363636  0.090909  0.090909   0.090909  0.000000  0.090909   \n",
       "\n",
       "   entertainment  foodanddrink     autos  movies  music  travel  sports  \\\n",
       "0       0.000000      0.000000  0.000000     0.0    0.0     0.0     0.0   \n",
       "1       0.090909      0.090909  0.090909     0.0    0.0     0.0     0.0   \n",
       "\n",
       "   weather  middleeast  kids  median  \n",
       "0      0.0         0.0   0.0   0.250  \n",
       "1      0.0         0.0   0.0   0.625  "
      ]
     },
     "execution_count": 8,
     "metadata": {},
     "output_type": "execute_result"
    }
   ],
   "source": [
    "user = pd.read_csv(\"../MIND_large/csv/full_user_clusters.csv\", index_col=0)\n",
    "user.drop(\"cluster\", axis=1, inplace=True)\n",
    "user.head(2)"
   ]
  },
  {
   "cell_type": "code",
   "execution_count": null,
   "metadata": {},
   "outputs": [],
   "source": [
    "def plot_clustering(user, n_clusters):\n",
    "    kmeans_labels = cluster.KMeans(n_clusters=n_clusters).fit_predict(user.iloc[:,1:])\n",
    "\n",
    "    user_umap = umap.UMAP(\n",
    "    n_neighbors=100,\n",
    "    min_dist=0.1,\n",
    "    n_components=2,\n",
    "    n_epochs = 200,\n",
    "    random_state=42\n",
    "    ).fit_transform(user[user.columns.to_list()[1:]])\n",
    "    \n",
    "    plt.scatter(user_umap[:, 0], user_umap[:, 1], c=kmeans_labels, s=0.1, cmap='hsv');"
   ]
  },
  {
   "cell_type": "code",
   "execution_count": null,
   "metadata": {},
   "outputs": [],
   "source": [
    "fig, ax = plt.subplots(1,3)"
   ]
  }
 ],
 "metadata": {
  "kernelspec": {
   "display_name": "base",
   "language": "python",
   "name": "python3"
  },
  "language_info": {
   "codemirror_mode": {
    "name": "ipython",
    "version": 3
   },
   "file_extension": ".py",
   "mimetype": "text/x-python",
   "name": "python",
   "nbconvert_exporter": "python",
   "pygments_lexer": "ipython3",
   "version": "3.11.6"
  }
 },
 "nbformat": 4,
 "nbformat_minor": 2
}
