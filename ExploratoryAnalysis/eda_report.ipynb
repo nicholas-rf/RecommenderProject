{
 "cells": [
  {
   "cell_type": "markdown",
   "metadata": {},
   "source": [
    "# Recommender Evaluation\n",
    "### By Nicholas Roze-Freitas and Coby Wilcox"
   ]
  },
  {
   "cell_type": "markdown",
   "metadata": {},
   "source": [
    "## Abstract\n",
    "~Abstract Goes Here~"
   ]
  },
  {
   "cell_type": "markdown",
   "metadata": {},
   "source": [
    "## Exploratory data analysis\n",
    "\n",
    "Before evaluating any recommender frameworks, models or hyperparameters, we will be engaging in exploratory data analysis on the Microsoft News Dataset. The Microsoft news dataset contains 4 separate tab-separated files: behaviors entity_embeddings, news and relation_embeddings. The main focus for now will be on behaviors and news, which gives us data on the catalog and users with interactions."
   ]
  },
  {
   "cell_type": "code",
   "execution_count": 1,
   "metadata": {},
   "outputs": [],
   "source": [
    "## IMPORTS ##\n",
    "import eda_modules\n",
    "import pandas as pd\n",
    "import numpy as np\n",
    "import seaborn as sns\n",
    "import matplotlib.pyplot as plt\n",
    "import plotly.express as px\n"
   ]
  },
  {
   "cell_type": "markdown",
   "metadata": {},
   "source": [
    "### Changing file formats\n",
    "We first noticed that our files were in unlabeled .tsv files, to make our data analysis easier in the future these .tsv files were turned into csvs with columns as specified by the datasets github repo. Once these columns were created, exploratory data analysis could be performed more easily."
   ]
  },
  {
   "cell_type": "markdown",
   "metadata": {},
   "source": [
    "### Initial understanding\n",
    "Within the MIND dataset (might want to make it clear that the mind dataset is referring to the microsoft news dataset at some point so that it is more clear to the reader) there are two main files, the behaviors and news. News contains information on the articles that users interact with like its ID, category, sub-category, title, abstract, url and some entities for use within embeddings (to my understanding). Behaviors focuses on impression ids, user ids, time, user history and impressions. Since there are two main datasets, we will be starting with some examination of each, and then examination of how they might interact."
   ]
  },
  {
   "cell_type": "markdown",
   "metadata": {},
   "source": [
    "### Starting with news\n",
    "Starting with the news dataset, we first wanted to check some initial distributions. Out of the news dataset we can check the distributions of categories and sub-categories. Additionally, there is possibility for utilizing the URLs for web-scraping for further text analysis with natural language processing, however this is ICING :D. Visible below is initial distributions for news categories. "
   ]
  },
  {
   "cell_type": "code",
   "execution_count": 2,
   "metadata": {},
   "outputs": [],
   "source": [
    "news = pd.read_csv('../MIND_small/csv/news.csv')\n"
   ]
  },
  {
   "cell_type": "code",
   "execution_count": 3,
   "metadata": {},
   "outputs": [
    {
     "data": {
      "application/vnd.plotly.v1+json": {
       "config": {
        "plotlyServerURL": "https://plot.ly"
       },
       "data": [
        {
         "branchvalues": "total",
         "domain": {
          "x": [
           0,
           1
          ],
          "y": [
           0,
           1
          ]
         },
         "hovertemplate": "labels=%{label}<br>number_of_articles=%{value}<br>parent=%{parent}<br>id=%{id}<extra></extra>",
         "ids": [
          "music/ads-latingrammys",
          "health/ads-lung-health",
          "lifestyle/advice",
          "kids/animals",
          "video/animals",
          "autos/autosbuying",
          "autos/autoscartech",
          "autos/autosclassics",
          "autos/autoscompact",
          "autos/autosenthusiasts",
          "autos/autoshybrids",
          "autos/autoslosangeles",
          "autos/autosluxury",
          "autos/autosmidsize",
          "autos/autosmotorcycles",
          "autos/autosnews",
          "autos/autosownership",
          "autos/autospassenger",
          "autos/autosresearch",
          "autos/autosresearchguides",
          "autos/autosreview",
          "autos/autossema",
          "autos/autossports",
          "autos/autossuvs",
          "autos/autostokyo",
          "autos/autostrucks",
          "autos/autosvans",
          "autos/autosvideonew",
          "autos/autosvideos",
          "entertainment/awards",
          "lifestyle/awardstyle",
          "sports/baseball",
          "sports/baseball_mlb",
          "sports/baseball_mlb_videos",
          "sports/basketball_nba",
          "sports/basketball_nba_videos",
          "sports/basketball_ncaa",
          "sports/basketball_ncaa_videos",
          "sports/basketball_wnba",
          "foodanddrink/beverages",
          "sports/boxing",
          "sports/boxing-mma",
          "health/cardio",
          "finance/career-news",
          "finance/causes",
          "health/causes",
          "lifestyle/causes",
          "news/causes",
          "lifestyle/causes-animals",
          "news/causes-disaster-relief",
          "news/causes-environment",
          "foodanddrink/causes-food-insecurity",
          "lifestyle/causes-green-living",
          "news/causes-military-appreciation",
          "news/causes-poverty",
          "entertainment/celebhub",
          "entertainment/celebrity",
          "entertainment/celebritynews",
          "music/cma-awards",
          "foodanddrink/cocktails",
          "video/comedy",
          "finance/company-news",
          "foodanddrink/cooking",
          "foodanddrink/cookingschool",
          "video/downtime",
          "news/elections-2020-us",
          "news/empowering-the-planet",
          "entertainment/entertainment-books",
          "entertainment/entertainment-celebrity",
          "entertainment/entertainmentmusic",
          "entertainment/entertainmenttv",
          "news/factcheck",
          "finance/finance-auto-insurance",
          "finance/finance-billstopay",
          "finance/finance-career",
          "finance/finance-career-education",
          "finance/finance-companies",
          "finance/finance-credit",
          "finance/finance-education",
          "finance/finance-healthcare",
          "finance/finance-home-loans",
          "finance/finance-homesandpropertysection",
          "finance/finance-insidetheticker",
          "finance/finance-insurance",
          "finance/finance-mutual-funds",
          "finance/finance-real-estate",
          "finance/finance-retirement",
          "finance/finance-savemoney",
          "finance/finance-saving-investing",
          "finance/finance-small-business",
          "finance/finance-startinvesting",
          "finance/finance-taxes",
          "finance/finance-technology",
          "finance/finance-top-stocks",
          "finance/finance-video",
          "finance/financenews",
          "health/fitness",
          "video/foodanddrink",
          "foodanddrink/foodnews",
          "foodanddrink/foodrecipes",
          "foodanddrink/foodtips",
          "sports/football_ncaa",
          "sports/football_ncaa_videos",
          "sports/football_nfl",
          "sports/football_nfl_videos",
          "kids/fun",
          "entertainment/games",
          "entertainment/gaming",
          "sports/golf",
          "sports/golfvideos",
          "lifestyle/halloween",
          "health/health-cancer",
          "health/health-news",
          "health/healthagingwell",
          "health/healthnews",
          "health/healthyliving",
          "lifestyle/holidays",
          "travel/holidays",
          "entertainment/hollywood",
          "entertainment/humor",
          "music/humor",
          "tv/humor",
          "sports/icehockey_nhl",
          "news/indepth",
          "travel/internationaltravel",
          "video/lifestyle",
          "lifestyle/lifestyle-news-feature",
          "lifestyle/lifestyle-wedding",
          "lifestyle/lifestylebeauty",
          "lifestyle/lifestylebuzz",
          "lifestyle/lifestylecareer",
          "lifestyle/lifestylecelebstyle",
          "lifestyle/lifestylecleaningandorganizing",
          "lifestyle/lifestyledecor",
          "lifestyle/lifestyledidyouknow",
          "lifestyle/lifestylediy",
          "lifestyle/lifestylefamily",
          "lifestyle/lifestylefamilyandrelationships",
          "lifestyle/lifestylefashion",
          "lifestyle/lifestylehomeandgarden",
          "lifestyle/lifestylehoroscope",
          "lifestyle/lifestylehoroscopefish",
          "lifestyle/lifestylelovesex",
          "lifestyle/lifestylemarriage",
          "lifestyle/lifestylemindandsoul",
          "lifestyle/lifestyleparenting",
          "lifestyle/lifestylepets",
          "lifestyle/lifestylepetsanimals",
          "lifestyle/lifestylerelationships",
          "lifestyle/lifestyleroyals",
          "lifestyle/lifestyleshopping",
          "lifestyle/lifestyleshoppinghomegarden",
          "lifestyle/lifestylesmartliving",
          "lifestyle/lifestylestyle",
          "lifestyle/lifestylevideo",
          "lifestyle/lifestyleweddings",
          "lifestyle/lifestylewhatshot",
          "finance/markets",
          "health/medical",
          "health/mentalhealth",
          "middleeast/middleeast-top-stories",
          "sports/mma",
          "sports/mmaufc",
          "sports/more_sports",
          "movies/movienews",
          "movies/movies-awards",
          "movies/movies-celebrity",
          "movies/movies-gallery",
          "movies/movies-oscars",
          "movies/movievideo",
          "music/music-awards",
          "music/music-celebrity",
          "music/music-gallery",
          "music/music-grammys",
          "music/music-reviews",
          "music/musicnews",
          "music/musicvideos",
          "news/narendramodi_opinion",
          "entertainment/news",
          "video/news",
          "news/newsbusiness",
          "news/newscrime",
          "news/newselection2020",
          "news/newsfactcheck",
          "news/newsgoodnews",
          "news/newsnational",
          "news/newsoffbeat",
          "news/newsopinion",
          "news/newsother",
          "news/newsphotos",
          "news/newspolitics",
          "news/newsrealestate",
          "news/newsscience",
          "news/newsscienceandtechnology",
          "foodanddrink/newstrends",
          "travel/newstrends",
          "news/newstvmedia",
          "news/newsus",
          "news/newsvideo",
          "news/newsweather",
          "news/newsworld",
          "news/newsworldpolitics",
          "northamerica/northamerica-video",
          "health/nutrition",
          "sports/olympics-videos",
          "sports/othersports",
          "sports/outdoors",
          "kids/people-places",
          "video/peopleandplaces",
          "finance/personalfinance",
          "news/personalfinance",
          "news/photos",
          "video/popculture",
          "health/pregnancyparenting",
          "lifestyle/pregnancyparenting",
          "foodanddrink/quickandeasy",
          "sports/racing",
          "foodanddrink/recipes",
          "health/recipes",
          "lifestyle/relationships",
          "foodanddrink/restaurantsandnews",
          "finance/retirement",
          "movies/reviews",
          "kids/science",
          "video/science",
          "foodanddrink/seasonal",
          "lifestyle/shop-all",
          "lifestyle/shop-apparel",
          "lifestyle/shop-books-movies-tv",
          "lifestyle/shop-holidays",
          "lifestyle/shop-home-goods",
          "sports/soccer",
          "sports/soccer_bund",
          "sports/soccer_epl",
          "sports/soccer_mls",
          "finance/spendingandborrowing",
          "video/sports",
          "sports/sports_news",
          "health/strength",
          "finance/technologyinvesting",
          "sports/tennis",
          "sports/tennis_intl",
          "foodanddrink/tipsandtricks",
          "music/topnews",
          "tv/topnews",
          "lifestyle/travel",
          "travel/travel-adventure-travel",
          "travel/travel-points-rewards",
          "travel/travel-videos",
          "travel/travelarticle",
          "travel/travelnews",
          "travel/traveltips",
          "travel/traveltripideas",
          "travel/traveltrivia",
          "video/tunedin",
          "entertainment/tv",
          "tv/tv-celebrity",
          "tv/tv-gallery",
          "tv/tv-golden-globes",
          "tv/tv-golden-globes-video",
          "tv/tv-recaps",
          "tv/tv-reviews",
          "tv/tvnews",
          "tv/tvvideos",
          "travel/ustravel",
          "entertainment/video",
          "health/video",
          "kids/video",
          "travel/video",
          "foodanddrink/videos",
          "video/viral",
          "health/voices",
          "lifestyle/voices",
          "travel/voices",
          "video/watch",
          "weather/weatherfullscreenmaps",
          "weather/weathertopstories",
          "health/weight-loss",
          "health/weightloss",
          "health/wellness",
          "foodanddrink/wines",
          "video/wonder",
          "news/yearinoffbeatgoodnews",
          "autos",
          "entertainment",
          "finance",
          "foodanddrink",
          "health",
          "kids",
          "lifestyle",
          "middleeast",
          "movies",
          "music",
          "news",
          "northamerica",
          "sports",
          "travel",
          "tv",
          "video",
          "weather"
         ],
         "labels": [
          "ads-latingrammys",
          "ads-lung-health",
          "advice",
          "animals",
          "animals",
          "autosbuying",
          "autoscartech",
          "autosclassics",
          "autoscompact",
          "autosenthusiasts",
          "autoshybrids",
          "autoslosangeles",
          "autosluxury",
          "autosmidsize",
          "autosmotorcycles",
          "autosnews",
          "autosownership",
          "autospassenger",
          "autosresearch",
          "autosresearchguides",
          "autosreview",
          "autossema",
          "autossports",
          "autossuvs",
          "autostokyo",
          "autostrucks",
          "autosvans",
          "autosvideonew",
          "autosvideos",
          "awards",
          "awardstyle",
          "baseball",
          "baseball_mlb",
          "baseball_mlb_videos",
          "basketball_nba",
          "basketball_nba_videos",
          "basketball_ncaa",
          "basketball_ncaa_videos",
          "basketball_wnba",
          "beverages",
          "boxing",
          "boxing-mma",
          "cardio",
          "career-news",
          "causes",
          "causes",
          "causes",
          "causes",
          "causes-animals",
          "causes-disaster-relief",
          "causes-environment",
          "causes-food-insecurity",
          "causes-green-living",
          "causes-military-appreciation",
          "causes-poverty",
          "celebhub",
          "celebrity",
          "celebritynews",
          "cma-awards",
          "cocktails",
          "comedy",
          "company-news",
          "cooking",
          "cookingschool",
          "downtime",
          "elections-2020-us",
          "empowering-the-planet",
          "entertainment-books",
          "entertainment-celebrity",
          "entertainmentmusic",
          "entertainmenttv",
          "factcheck",
          "finance-auto-insurance",
          "finance-billstopay",
          "finance-career",
          "finance-career-education",
          "finance-companies",
          "finance-credit",
          "finance-education",
          "finance-healthcare",
          "finance-home-loans",
          "finance-homesandpropertysection",
          "finance-insidetheticker",
          "finance-insurance",
          "finance-mutual-funds",
          "finance-real-estate",
          "finance-retirement",
          "finance-savemoney",
          "finance-saving-investing",
          "finance-small-business",
          "finance-startinvesting",
          "finance-taxes",
          "finance-technology",
          "finance-top-stocks",
          "finance-video",
          "financenews",
          "fitness",
          "foodanddrink",
          "foodnews",
          "foodrecipes",
          "foodtips",
          "football_ncaa",
          "football_ncaa_videos",
          "football_nfl",
          "football_nfl_videos",
          "fun",
          "games",
          "gaming",
          "golf",
          "golfvideos",
          "halloween",
          "health-cancer",
          "health-news",
          "healthagingwell",
          "healthnews",
          "healthyliving",
          "holidays",
          "holidays",
          "hollywood",
          "humor",
          "humor",
          "humor",
          "icehockey_nhl",
          "indepth",
          "internationaltravel",
          "lifestyle",
          "lifestyle-news-feature",
          "lifestyle-wedding",
          "lifestylebeauty",
          "lifestylebuzz",
          "lifestylecareer",
          "lifestylecelebstyle",
          "lifestylecleaningandorganizing",
          "lifestyledecor",
          "lifestyledidyouknow",
          "lifestylediy",
          "lifestylefamily",
          "lifestylefamilyandrelationships",
          "lifestylefashion",
          "lifestylehomeandgarden",
          "lifestylehoroscope",
          "lifestylehoroscopefish",
          "lifestylelovesex",
          "lifestylemarriage",
          "lifestylemindandsoul",
          "lifestyleparenting",
          "lifestylepets",
          "lifestylepetsanimals",
          "lifestylerelationships",
          "lifestyleroyals",
          "lifestyleshopping",
          "lifestyleshoppinghomegarden",
          "lifestylesmartliving",
          "lifestylestyle",
          "lifestylevideo",
          "lifestyleweddings",
          "lifestylewhatshot",
          "markets",
          "medical",
          "mentalhealth",
          "middleeast-top-stories",
          "mma",
          "mmaufc",
          "more_sports",
          "movienews",
          "movies-awards",
          "movies-celebrity",
          "movies-gallery",
          "movies-oscars",
          "movievideo",
          "music-awards",
          "music-celebrity",
          "music-gallery",
          "music-grammys",
          "music-reviews",
          "musicnews",
          "musicvideos",
          "narendramodi_opinion",
          "news",
          "news",
          "newsbusiness",
          "newscrime",
          "newselection2020",
          "newsfactcheck",
          "newsgoodnews",
          "newsnational",
          "newsoffbeat",
          "newsopinion",
          "newsother",
          "newsphotos",
          "newspolitics",
          "newsrealestate",
          "newsscience",
          "newsscienceandtechnology",
          "newstrends",
          "newstrends",
          "newstvmedia",
          "newsus",
          "newsvideo",
          "newsweather",
          "newsworld",
          "newsworldpolitics",
          "northamerica-video",
          "nutrition",
          "olympics-videos",
          "othersports",
          "outdoors",
          "people-places",
          "peopleandplaces",
          "personalfinance",
          "personalfinance",
          "photos",
          "popculture",
          "pregnancyparenting",
          "pregnancyparenting",
          "quickandeasy",
          "racing",
          "recipes",
          "recipes",
          "relationships",
          "restaurantsandnews",
          "retirement",
          "reviews",
          "science",
          "science",
          "seasonal",
          "shop-all",
          "shop-apparel",
          "shop-books-movies-tv",
          "shop-holidays",
          "shop-home-goods",
          "soccer",
          "soccer_bund",
          "soccer_epl",
          "soccer_mls",
          "spendingandborrowing",
          "sports",
          "sports_news",
          "strength",
          "technologyinvesting",
          "tennis",
          "tennis_intl",
          "tipsandtricks",
          "topnews",
          "topnews",
          "travel",
          "travel-adventure-travel",
          "travel-points-rewards",
          "travel-videos",
          "travelarticle",
          "travelnews",
          "traveltips",
          "traveltripideas",
          "traveltrivia",
          "tunedin",
          "tv",
          "tv-celebrity",
          "tv-gallery",
          "tv-golden-globes",
          "tv-golden-globes-video",
          "tv-recaps",
          "tv-reviews",
          "tvnews",
          "tvvideos",
          "ustravel",
          "video",
          "video",
          "video",
          "video",
          "videos",
          "viral",
          "voices",
          "voices",
          "voices",
          "watch",
          "weatherfullscreenmaps",
          "weathertopstories",
          "weight-loss",
          "weightloss",
          "wellness",
          "wines",
          "wonder",
          "yearinoffbeatgoodnews",
          "autos",
          "entertainment",
          "finance",
          "foodanddrink",
          "health",
          "kids",
          "lifestyle",
          "middleeast",
          "movies",
          "music",
          "news",
          "northamerica",
          "sports",
          "travel",
          "tv",
          "video",
          "weather"
         ],
         "name": "",
         "parents": [
          "music",
          "health",
          "lifestyle",
          "kids",
          "video",
          "autos",
          "autos",
          "autos",
          "autos",
          "autos",
          "autos",
          "autos",
          "autos",
          "autos",
          "autos",
          "autos",
          "autos",
          "autos",
          "autos",
          "autos",
          "autos",
          "autos",
          "autos",
          "autos",
          "autos",
          "autos",
          "autos",
          "autos",
          "autos",
          "entertainment",
          "lifestyle",
          "sports",
          "sports",
          "sports",
          "sports",
          "sports",
          "sports",
          "sports",
          "sports",
          "foodanddrink",
          "sports",
          "sports",
          "health",
          "finance",
          "finance",
          "health",
          "lifestyle",
          "news",
          "lifestyle",
          "news",
          "news",
          "foodanddrink",
          "lifestyle",
          "news",
          "news",
          "entertainment",
          "entertainment",
          "entertainment",
          "music",
          "foodanddrink",
          "video",
          "finance",
          "foodanddrink",
          "foodanddrink",
          "video",
          "news",
          "news",
          "entertainment",
          "entertainment",
          "entertainment",
          "entertainment",
          "news",
          "finance",
          "finance",
          "finance",
          "finance",
          "finance",
          "finance",
          "finance",
          "finance",
          "finance",
          "finance",
          "finance",
          "finance",
          "finance",
          "finance",
          "finance",
          "finance",
          "finance",
          "finance",
          "finance",
          "finance",
          "finance",
          "finance",
          "finance",
          "finance",
          "health",
          "video",
          "foodanddrink",
          "foodanddrink",
          "foodanddrink",
          "sports",
          "sports",
          "sports",
          "sports",
          "kids",
          "entertainment",
          "entertainment",
          "sports",
          "sports",
          "lifestyle",
          "health",
          "health",
          "health",
          "health",
          "health",
          "lifestyle",
          "travel",
          "entertainment",
          "entertainment",
          "music",
          "tv",
          "sports",
          "news",
          "travel",
          "video",
          "lifestyle",
          "lifestyle",
          "lifestyle",
          "lifestyle",
          "lifestyle",
          "lifestyle",
          "lifestyle",
          "lifestyle",
          "lifestyle",
          "lifestyle",
          "lifestyle",
          "lifestyle",
          "lifestyle",
          "lifestyle",
          "lifestyle",
          "lifestyle",
          "lifestyle",
          "lifestyle",
          "lifestyle",
          "lifestyle",
          "lifestyle",
          "lifestyle",
          "lifestyle",
          "lifestyle",
          "lifestyle",
          "lifestyle",
          "lifestyle",
          "lifestyle",
          "lifestyle",
          "lifestyle",
          "lifestyle",
          "finance",
          "health",
          "health",
          "middleeast",
          "sports",
          "sports",
          "sports",
          "movies",
          "movies",
          "movies",
          "movies",
          "movies",
          "movies",
          "music",
          "music",
          "music",
          "music",
          "music",
          "music",
          "music",
          "news",
          "entertainment",
          "video",
          "news",
          "news",
          "news",
          "news",
          "news",
          "news",
          "news",
          "news",
          "news",
          "news",
          "news",
          "news",
          "news",
          "news",
          "foodanddrink",
          "travel",
          "news",
          "news",
          "news",
          "news",
          "news",
          "news",
          "northamerica",
          "health",
          "sports",
          "sports",
          "sports",
          "kids",
          "video",
          "finance",
          "news",
          "news",
          "video",
          "health",
          "lifestyle",
          "foodanddrink",
          "sports",
          "foodanddrink",
          "health",
          "lifestyle",
          "foodanddrink",
          "finance",
          "movies",
          "kids",
          "video",
          "foodanddrink",
          "lifestyle",
          "lifestyle",
          "lifestyle",
          "lifestyle",
          "lifestyle",
          "sports",
          "sports",
          "sports",
          "sports",
          "finance",
          "video",
          "sports",
          "health",
          "finance",
          "sports",
          "sports",
          "foodanddrink",
          "music",
          "tv",
          "lifestyle",
          "travel",
          "travel",
          "travel",
          "travel",
          "travel",
          "travel",
          "travel",
          "travel",
          "video",
          "entertainment",
          "tv",
          "tv",
          "tv",
          "tv",
          "tv",
          "tv",
          "tv",
          "tv",
          "travel",
          "entertainment",
          "health",
          "kids",
          "travel",
          "foodanddrink",
          "video",
          "health",
          "lifestyle",
          "travel",
          "video",
          "weather",
          "weather",
          "health",
          "health",
          "health",
          "foodanddrink",
          "video",
          "news",
          "",
          "",
          "",
          "",
          "",
          "",
          "",
          "",
          "",
          "",
          "",
          "",
          "",
          "",
          "",
          "",
          ""
         ],
         "type": "treemap",
         "values": [
          7,
          11,
          25,
          2,
          257,
          32,
          2,
          119,
          1,
          231,
          6,
          1,
          20,
          1,
          128,
          837,
          26,
          3,
          15,
          16,
          3,
          19,
          58,
          68,
          6,
          36,
          1,
          7,
          3,
          27,
          12,
          1,
          1661,
          36,
          1555,
          9,
          774,
          14,
          4,
          63,
          15,
          8,
          1,
          2,
          3,
          11,
          11,
          2,
          5,
          1,
          2,
          4,
          5,
          1,
          1,
          1,
          145,
          1,
          37,
          2,
          1,
          1,
          3,
          1,
          3,
          116,
          1,
          110,
          129,
          1,
          1,
          40,
          1,
          12,
          18,
          118,
          567,
          16,
          11,
          14,
          1,
          1,
          1,
          15,
          4,
          584,
          76,
          65,
          71,
          32,
          1,
          37,
          20,
          117,
          81,
          697,
          107,
          1,
          271,
          3,
          1,
          1665,
          36,
          5420,
          161,
          4,
          1,
          115,
          446,
          1,
          1,
          1,
          459,
          2,
          36,
          1,
          2,
          2,
          1,
          9,
          1,
          15,
          531,
          2,
          5,
          122,
          14,
          1,
          30,
          894,
          30,
          59,
          23,
          8,
          103,
          13,
          147,
          28,
          15,
          178,
          34,
          1,
          15,
          1,
          29,
          30,
          77,
          67,
          36,
          239,
          5,
          1,
          61,
          1,
          16,
          11,
          1,
          410,
          479,
          9,
          2,
          437,
          1,
          1065,
          231,
          12,
          213,
          64,
          5,
          77,
          26,
          210,
          48,
          4,
          4,
          414,
          17,
          1,
          17,
          1168,
          48,
          2254,
          8,
          17,
          176,
          1,
          405,
          315,
          1,
          22,
          2826,
          1,
          15,
          1210,
          1175,
          1,
          1,
          6564,
          1,
          11,
          1720,
          5,
          1,
          222,
          1,
          1,
          34,
          5,
          54,
          118,
          2,
          2,
          98,
          8,
          1,
          44,
          299,
          461,
          2,
          1,
          170,
          10,
          4,
          1,
          134,
          2,
          32,
          17,
          2,
          107,
          3,
          156,
          1,
          25,
          37,
          1,
          2,
          4,
          1,
          2,
          111,
          1,
          251,
          1,
          1,
          1,
          4,
          10,
          2,
          1042,
          902,
          76,
          243,
          1,
          5,
          1,
          356,
          78,
          4,
          1,
          16,
          2,
          377,
          39,
          6,
          28,
          11,
          5,
          50,
          87,
          217,
          51,
          86,
          6,
          1,
          1,
          2047,
          6,
          127,
          340,
          13,
          5,
          2,
          1639,
          587,
          3107,
          2551,
          1885,
          17,
          2479,
          2,
          606,
          769,
          15774,
          1,
          14510,
          2350,
          889,
          2068,
          2048
         ]
        }
       ],
       "layout": {
        "legend": {
         "tracegroupgap": 0
        },
        "template": {
         "data": {
          "bar": [
           {
            "error_x": {
             "color": "#2a3f5f"
            },
            "error_y": {
             "color": "#2a3f5f"
            },
            "marker": {
             "line": {
              "color": "#E5ECF6",
              "width": 0.5
             },
             "pattern": {
              "fillmode": "overlay",
              "size": 10,
              "solidity": 0.2
             }
            },
            "type": "bar"
           }
          ],
          "barpolar": [
           {
            "marker": {
             "line": {
              "color": "#E5ECF6",
              "width": 0.5
             },
             "pattern": {
              "fillmode": "overlay",
              "size": 10,
              "solidity": 0.2
             }
            },
            "type": "barpolar"
           }
          ],
          "carpet": [
           {
            "aaxis": {
             "endlinecolor": "#2a3f5f",
             "gridcolor": "white",
             "linecolor": "white",
             "minorgridcolor": "white",
             "startlinecolor": "#2a3f5f"
            },
            "baxis": {
             "endlinecolor": "#2a3f5f",
             "gridcolor": "white",
             "linecolor": "white",
             "minorgridcolor": "white",
             "startlinecolor": "#2a3f5f"
            },
            "type": "carpet"
           }
          ],
          "choropleth": [
           {
            "colorbar": {
             "outlinewidth": 0,
             "ticks": ""
            },
            "type": "choropleth"
           }
          ],
          "contour": [
           {
            "colorbar": {
             "outlinewidth": 0,
             "ticks": ""
            },
            "colorscale": [
             [
              0,
              "#0d0887"
             ],
             [
              0.1111111111111111,
              "#46039f"
             ],
             [
              0.2222222222222222,
              "#7201a8"
             ],
             [
              0.3333333333333333,
              "#9c179e"
             ],
             [
              0.4444444444444444,
              "#bd3786"
             ],
             [
              0.5555555555555556,
              "#d8576b"
             ],
             [
              0.6666666666666666,
              "#ed7953"
             ],
             [
              0.7777777777777778,
              "#fb9f3a"
             ],
             [
              0.8888888888888888,
              "#fdca26"
             ],
             [
              1,
              "#f0f921"
             ]
            ],
            "type": "contour"
           }
          ],
          "contourcarpet": [
           {
            "colorbar": {
             "outlinewidth": 0,
             "ticks": ""
            },
            "type": "contourcarpet"
           }
          ],
          "heatmap": [
           {
            "colorbar": {
             "outlinewidth": 0,
             "ticks": ""
            },
            "colorscale": [
             [
              0,
              "#0d0887"
             ],
             [
              0.1111111111111111,
              "#46039f"
             ],
             [
              0.2222222222222222,
              "#7201a8"
             ],
             [
              0.3333333333333333,
              "#9c179e"
             ],
             [
              0.4444444444444444,
              "#bd3786"
             ],
             [
              0.5555555555555556,
              "#d8576b"
             ],
             [
              0.6666666666666666,
              "#ed7953"
             ],
             [
              0.7777777777777778,
              "#fb9f3a"
             ],
             [
              0.8888888888888888,
              "#fdca26"
             ],
             [
              1,
              "#f0f921"
             ]
            ],
            "type": "heatmap"
           }
          ],
          "heatmapgl": [
           {
            "colorbar": {
             "outlinewidth": 0,
             "ticks": ""
            },
            "colorscale": [
             [
              0,
              "#0d0887"
             ],
             [
              0.1111111111111111,
              "#46039f"
             ],
             [
              0.2222222222222222,
              "#7201a8"
             ],
             [
              0.3333333333333333,
              "#9c179e"
             ],
             [
              0.4444444444444444,
              "#bd3786"
             ],
             [
              0.5555555555555556,
              "#d8576b"
             ],
             [
              0.6666666666666666,
              "#ed7953"
             ],
             [
              0.7777777777777778,
              "#fb9f3a"
             ],
             [
              0.8888888888888888,
              "#fdca26"
             ],
             [
              1,
              "#f0f921"
             ]
            ],
            "type": "heatmapgl"
           }
          ],
          "histogram": [
           {
            "marker": {
             "pattern": {
              "fillmode": "overlay",
              "size": 10,
              "solidity": 0.2
             }
            },
            "type": "histogram"
           }
          ],
          "histogram2d": [
           {
            "colorbar": {
             "outlinewidth": 0,
             "ticks": ""
            },
            "colorscale": [
             [
              0,
              "#0d0887"
             ],
             [
              0.1111111111111111,
              "#46039f"
             ],
             [
              0.2222222222222222,
              "#7201a8"
             ],
             [
              0.3333333333333333,
              "#9c179e"
             ],
             [
              0.4444444444444444,
              "#bd3786"
             ],
             [
              0.5555555555555556,
              "#d8576b"
             ],
             [
              0.6666666666666666,
              "#ed7953"
             ],
             [
              0.7777777777777778,
              "#fb9f3a"
             ],
             [
              0.8888888888888888,
              "#fdca26"
             ],
             [
              1,
              "#f0f921"
             ]
            ],
            "type": "histogram2d"
           }
          ],
          "histogram2dcontour": [
           {
            "colorbar": {
             "outlinewidth": 0,
             "ticks": ""
            },
            "colorscale": [
             [
              0,
              "#0d0887"
             ],
             [
              0.1111111111111111,
              "#46039f"
             ],
             [
              0.2222222222222222,
              "#7201a8"
             ],
             [
              0.3333333333333333,
              "#9c179e"
             ],
             [
              0.4444444444444444,
              "#bd3786"
             ],
             [
              0.5555555555555556,
              "#d8576b"
             ],
             [
              0.6666666666666666,
              "#ed7953"
             ],
             [
              0.7777777777777778,
              "#fb9f3a"
             ],
             [
              0.8888888888888888,
              "#fdca26"
             ],
             [
              1,
              "#f0f921"
             ]
            ],
            "type": "histogram2dcontour"
           }
          ],
          "mesh3d": [
           {
            "colorbar": {
             "outlinewidth": 0,
             "ticks": ""
            },
            "type": "mesh3d"
           }
          ],
          "parcoords": [
           {
            "line": {
             "colorbar": {
              "outlinewidth": 0,
              "ticks": ""
             }
            },
            "type": "parcoords"
           }
          ],
          "pie": [
           {
            "automargin": true,
            "type": "pie"
           }
          ],
          "scatter": [
           {
            "fillpattern": {
             "fillmode": "overlay",
             "size": 10,
             "solidity": 0.2
            },
            "type": "scatter"
           }
          ],
          "scatter3d": [
           {
            "line": {
             "colorbar": {
              "outlinewidth": 0,
              "ticks": ""
             }
            },
            "marker": {
             "colorbar": {
              "outlinewidth": 0,
              "ticks": ""
             }
            },
            "type": "scatter3d"
           }
          ],
          "scattercarpet": [
           {
            "marker": {
             "colorbar": {
              "outlinewidth": 0,
              "ticks": ""
             }
            },
            "type": "scattercarpet"
           }
          ],
          "scattergeo": [
           {
            "marker": {
             "colorbar": {
              "outlinewidth": 0,
              "ticks": ""
             }
            },
            "type": "scattergeo"
           }
          ],
          "scattergl": [
           {
            "marker": {
             "colorbar": {
              "outlinewidth": 0,
              "ticks": ""
             }
            },
            "type": "scattergl"
           }
          ],
          "scattermapbox": [
           {
            "marker": {
             "colorbar": {
              "outlinewidth": 0,
              "ticks": ""
             }
            },
            "type": "scattermapbox"
           }
          ],
          "scatterpolar": [
           {
            "marker": {
             "colorbar": {
              "outlinewidth": 0,
              "ticks": ""
             }
            },
            "type": "scatterpolar"
           }
          ],
          "scatterpolargl": [
           {
            "marker": {
             "colorbar": {
              "outlinewidth": 0,
              "ticks": ""
             }
            },
            "type": "scatterpolargl"
           }
          ],
          "scatterternary": [
           {
            "marker": {
             "colorbar": {
              "outlinewidth": 0,
              "ticks": ""
             }
            },
            "type": "scatterternary"
           }
          ],
          "surface": [
           {
            "colorbar": {
             "outlinewidth": 0,
             "ticks": ""
            },
            "colorscale": [
             [
              0,
              "#0d0887"
             ],
             [
              0.1111111111111111,
              "#46039f"
             ],
             [
              0.2222222222222222,
              "#7201a8"
             ],
             [
              0.3333333333333333,
              "#9c179e"
             ],
             [
              0.4444444444444444,
              "#bd3786"
             ],
             [
              0.5555555555555556,
              "#d8576b"
             ],
             [
              0.6666666666666666,
              "#ed7953"
             ],
             [
              0.7777777777777778,
              "#fb9f3a"
             ],
             [
              0.8888888888888888,
              "#fdca26"
             ],
             [
              1,
              "#f0f921"
             ]
            ],
            "type": "surface"
           }
          ],
          "table": [
           {
            "cells": {
             "fill": {
              "color": "#EBF0F8"
             },
             "line": {
              "color": "white"
             }
            },
            "header": {
             "fill": {
              "color": "#C8D4E3"
             },
             "line": {
              "color": "white"
             }
            },
            "type": "table"
           }
          ]
         },
         "layout": {
          "annotationdefaults": {
           "arrowcolor": "#2a3f5f",
           "arrowhead": 0,
           "arrowwidth": 1
          },
          "autotypenumbers": "strict",
          "coloraxis": {
           "colorbar": {
            "outlinewidth": 0,
            "ticks": ""
           }
          },
          "colorscale": {
           "diverging": [
            [
             0,
             "#8e0152"
            ],
            [
             0.1,
             "#c51b7d"
            ],
            [
             0.2,
             "#de77ae"
            ],
            [
             0.3,
             "#f1b6da"
            ],
            [
             0.4,
             "#fde0ef"
            ],
            [
             0.5,
             "#f7f7f7"
            ],
            [
             0.6,
             "#e6f5d0"
            ],
            [
             0.7,
             "#b8e186"
            ],
            [
             0.8,
             "#7fbc41"
            ],
            [
             0.9,
             "#4d9221"
            ],
            [
             1,
             "#276419"
            ]
           ],
           "sequential": [
            [
             0,
             "#0d0887"
            ],
            [
             0.1111111111111111,
             "#46039f"
            ],
            [
             0.2222222222222222,
             "#7201a8"
            ],
            [
             0.3333333333333333,
             "#9c179e"
            ],
            [
             0.4444444444444444,
             "#bd3786"
            ],
            [
             0.5555555555555556,
             "#d8576b"
            ],
            [
             0.6666666666666666,
             "#ed7953"
            ],
            [
             0.7777777777777778,
             "#fb9f3a"
            ],
            [
             0.8888888888888888,
             "#fdca26"
            ],
            [
             1,
             "#f0f921"
            ]
           ],
           "sequentialminus": [
            [
             0,
             "#0d0887"
            ],
            [
             0.1111111111111111,
             "#46039f"
            ],
            [
             0.2222222222222222,
             "#7201a8"
            ],
            [
             0.3333333333333333,
             "#9c179e"
            ],
            [
             0.4444444444444444,
             "#bd3786"
            ],
            [
             0.5555555555555556,
             "#d8576b"
            ],
            [
             0.6666666666666666,
             "#ed7953"
            ],
            [
             0.7777777777777778,
             "#fb9f3a"
            ],
            [
             0.8888888888888888,
             "#fdca26"
            ],
            [
             1,
             "#f0f921"
            ]
           ]
          },
          "colorway": [
           "#636efa",
           "#EF553B",
           "#00cc96",
           "#ab63fa",
           "#FFA15A",
           "#19d3f3",
           "#FF6692",
           "#B6E880",
           "#FF97FF",
           "#FECB52"
          ],
          "font": {
           "color": "#2a3f5f"
          },
          "geo": {
           "bgcolor": "white",
           "lakecolor": "white",
           "landcolor": "#E5ECF6",
           "showlakes": true,
           "showland": true,
           "subunitcolor": "white"
          },
          "hoverlabel": {
           "align": "left"
          },
          "hovermode": "closest",
          "mapbox": {
           "style": "light"
          },
          "paper_bgcolor": "white",
          "plot_bgcolor": "#E5ECF6",
          "polar": {
           "angularaxis": {
            "gridcolor": "white",
            "linecolor": "white",
            "ticks": ""
           },
           "bgcolor": "#E5ECF6",
           "radialaxis": {
            "gridcolor": "white",
            "linecolor": "white",
            "ticks": ""
           }
          },
          "scene": {
           "xaxis": {
            "backgroundcolor": "#E5ECF6",
            "gridcolor": "white",
            "gridwidth": 2,
            "linecolor": "white",
            "showbackground": true,
            "ticks": "",
            "zerolinecolor": "white"
           },
           "yaxis": {
            "backgroundcolor": "#E5ECF6",
            "gridcolor": "white",
            "gridwidth": 2,
            "linecolor": "white",
            "showbackground": true,
            "ticks": "",
            "zerolinecolor": "white"
           },
           "zaxis": {
            "backgroundcolor": "#E5ECF6",
            "gridcolor": "white",
            "gridwidth": 2,
            "linecolor": "white",
            "showbackground": true,
            "ticks": "",
            "zerolinecolor": "white"
           }
          },
          "shapedefaults": {
           "line": {
            "color": "#2a3f5f"
           }
          },
          "ternary": {
           "aaxis": {
            "gridcolor": "white",
            "linecolor": "white",
            "ticks": ""
           },
           "baxis": {
            "gridcolor": "white",
            "linecolor": "white",
            "ticks": ""
           },
           "bgcolor": "#E5ECF6",
           "caxis": {
            "gridcolor": "white",
            "linecolor": "white",
            "ticks": ""
           }
          },
          "title": {
           "x": 0.05
          },
          "xaxis": {
           "automargin": true,
           "gridcolor": "white",
           "linecolor": "white",
           "ticks": "",
           "title": {
            "standoff": 15
           },
           "zerolinecolor": "white",
           "zerolinewidth": 2
          },
          "yaxis": {
           "automargin": true,
           "gridcolor": "white",
           "linecolor": "white",
           "ticks": "",
           "title": {
            "standoff": 15
           },
           "zerolinecolor": "white",
           "zerolinewidth": 2
          }
         }
        },
        "title": {
         "text": "Categories and their sub-categories"
        }
       }
      }
     },
     "metadata": {},
     "output_type": "display_data"
    }
   ],
   "source": [
    "fig = eda_modules.plot_sub_categories(news)\n",
    "fig.show()"
   ]
  },
  {
   "cell_type": "code",
   "execution_count": 4,
   "metadata": {},
   "outputs": [
    {
     "data": {
      "text/plain": [
       "[]"
      ]
     },
     "execution_count": 4,
     "metadata": {},
     "output_type": "execute_result"
    },
    {
     "data": {
      "image/png": "[encoded data removed]",
      "text/plain": [
       "<Figure size 640x480 with 1 Axes>"
      ]
     },
     "metadata": {},
     "output_type": "display_data"
    }
   ],
   "source": [
    "fig = eda_modules.plot_categories(news)\n",
    "fig.plot()"
   ]
  },
  {
   "cell_type": "code",
   "execution_count": 35,
   "metadata": {},
   "outputs": [
    {
     "data": {
      "text/plain": [
       "<Axes: xlabel='count', ylabel='category'>"
      ]
     },
     "execution_count": 35,
     "metadata": {},
     "output_type": "execute_result"
    },
    {
     "data": {
      "image/png": "[encoded data removed]",
      "text/plain": [
       "<Figure size 640x480 with 1 Axes>"
      ]
     },
     "metadata": {},
     "output_type": "display_data"
    }
   ],
   "source": [
    "missing_vals = news.isna()\n",
    "# print(missing_vals.sum())\n",
    "news[missing_vals['abstract']] # can utilize this as a mask to get values where missing abstract is true in the main, to see if theres a\n",
    "# majority of missing abstracts for a specific category\n",
    "\n",
    "sns.countplot(news,y='category',hue='category')\n",
    "sns.countplot(news[missing_vals['abstract']], color='red',y='category')"
   ]
  }
 ],
 "metadata": {
  "kernelspec": {
   "display_name": "recSysEnv",
   "language": "python",
   "name": "python3"
  },
  "language_info": {
   "codemirror_mode": {
    "name": "ipython",
    "version": 3
   },
   "file_extension": ".py",
   "mimetype": "text/x-python",
   "name": "python",
   "nbconvert_exporter": "python",
   "pygments_lexer": "ipython3",
   "version": "3.9.18"
  }
 },
 "nbformat": 4,
 "nbformat_minor": 2
}
