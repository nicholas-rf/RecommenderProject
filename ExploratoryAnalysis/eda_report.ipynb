{
 "cells": [
  {
   "cell_type": "markdown",
   "metadata": {},
   "source": [
    "# Recommender Evaluation\n",
    "### By Nicholas Roze-Freitas and Coby Wilcox\n",
    "\n",
    "_To reduce boilerplate, code for visualizations and transformations can be found in eda_modules.py_"
   ]
  },
  {
   "cell_type": "markdown",
   "metadata": {},
   "source": [
    "## Abstract\n",
    "Recommender systems are an often behind the scenes but rather foundational aspect of life today. Usually when we engage with media, we are engaging with a recommender: using social media, reading the news, buying something online and much more. Regardless of how ubiquitous recommenders are, evaluating and making them presents interesting and unique problems. Recommenders get gauged on several different metrics of accuracy: serendipity, novelty, robustness, accuracy and coverage to name a few. Through this project we aim to evaluate the performance of several recommender systems, frameworks and how we might improve them in the context of the Microsoft News Dataset. This report will be split into a couple main chapters, the first one below being exploratory data analysis. After walking through our analysis and preparation of the microsoft news dataset, we delve into recommender system frameworks, metrics and evalulation."
   ]
  },
  {
   "cell_type": "markdown",
   "metadata": {},
   "source": [
    "## Exploratory data analysis\n",
    "\n",
    "Before evaluating any recommender frameworks, models or hyperparameters, we will be engaging in exploratory data analysis on the Microsoft News Dataset. The Microsoft news dataset contains 4 separate tab-separated files: behaviors entity_embeddings, news and relation_embeddings. The main focus for now will be on behaviors and news, which gives us data on the catalog and users with interactions respectively. "
   ]
  },
  {
   "cell_type": "code",
   "execution_count": 1,
   "metadata": {},
   "outputs": [],
   "source": [
    "## IMPORTS ## REMOVE IMPORTS NOT EDA_MODULES ONCE DONE ##\n",
    "import ExploratoryAnalysis.visualization_modules as visualization_modules # contains all custom modules for EDA on MIND\n",
    "import pandas as pd\n",
    "import numpy as np\n",
    "import seaborn as sns\n",
    "import matplotlib.pyplot as plt\n",
    "import plotly.express as px\n",
    "import datetime as datetime\n"
   ]
  },
  {
   "cell_type": "markdown",
   "metadata": {},
   "source": [
    "### Changing file formats\n",
    "We first noticed that our files were in unlabeled .tsv files, to make our data analysis easier in the future these .tsv files were turned into csvs with columns as specified by the datasets github repo. Once these columns were created, exploratory data analysis could be performed more easily."
   ]
  },
  {
   "cell_type": "markdown",
   "metadata": {},
   "source": [
    "### Initial understanding\n",
    "Within the MIND dataset (might want to make it clear that the mind dataset is referring to the microsoft news dataset at some point so that it is more clear to the reader) there are two main files, the behaviors and news. News contains information on the articles that users interact with like its ID, category, sub-category, title, abstract, url and some entities for use within embeddings (to my understanding). Behaviors focuses on impression ids, user ids, time, user history and impressions. Since there are two main datasets, we will be starting with some examination of each, and then examination of how they might interact."
   ]
  },
  {
   "cell_type": "code",
   "execution_count": 2,
   "metadata": {},
   "outputs": [
    {
     "data": {
      "text/html": [
       "<div>\n",
       "<style scoped>\n",
       "    .dataframe tbody tr th:only-of-type {\n",
       "        vertical-align: middle;\n",
       "    }\n",
       "\n",
       "    .dataframe tbody tr th {\n",
       "        vertical-align: top;\n",
       "    }\n",
       "\n",
       "    .dataframe thead th {\n",
       "        text-align: right;\n",
       "    }\n",
       "</style>\n",
       "<table border=\"1\" class=\"dataframe\">\n",
       "  <thead>\n",
       "    <tr style=\"text-align: right;\">\n",
       "      <th></th>\n",
       "      <th>Unnamed: 0</th>\n",
       "      <th>news_id</th>\n",
       "      <th>category</th>\n",
       "      <th>sub_category</th>\n",
       "      <th>title</th>\n",
       "      <th>abstract</th>\n",
       "      <th>url</th>\n",
       "      <th>title_entities</th>\n",
       "      <th>abstract_entities</th>\n",
       "    </tr>\n",
       "  </thead>\n",
       "  <tbody>\n",
       "    <tr>\n",
       "      <th>0</th>\n",
       "      <td>0</td>\n",
       "      <td>N55528</td>\n",
       "      <td>lifestyle</td>\n",
       "      <td>lifestyleroyals</td>\n",
       "      <td>The Brands Queen Elizabeth, Prince Charles, an...</td>\n",
       "      <td>Shop the notebooks, jackets, and more that the...</td>\n",
       "      <td>https://assets.msn.com/labs/mind/AAGH0ET.html</td>\n",
       "      <td>[{\"Label\": \"Prince Philip, Duke of Edinburgh\",...</td>\n",
       "      <td>[]</td>\n",
       "    </tr>\n",
       "    <tr>\n",
       "      <th>1</th>\n",
       "      <td>1</td>\n",
       "      <td>N19639</td>\n",
       "      <td>health</td>\n",
       "      <td>weightloss</td>\n",
       "      <td>50 Worst Habits For Belly Fat</td>\n",
       "      <td>These seemingly harmless habits are holding yo...</td>\n",
       "      <td>https://assets.msn.com/labs/mind/AAB19MK.html</td>\n",
       "      <td>[{\"Label\": \"Adipose tissue\", \"Type\": \"C\", \"Wik...</td>\n",
       "      <td>[{\"Label\": \"Adipose tissue\", \"Type\": \"C\", \"Wik...</td>\n",
       "    </tr>\n",
       "  </tbody>\n",
       "</table>\n",
       "</div>"
      ],
      "text/plain": [
       "   Unnamed: 0 news_id   category     sub_category  \\\n",
       "0           0  N55528  lifestyle  lifestyleroyals   \n",
       "1           1  N19639     health       weightloss   \n",
       "\n",
       "                                               title  \\\n",
       "0  The Brands Queen Elizabeth, Prince Charles, an...   \n",
       "1                      50 Worst Habits For Belly Fat   \n",
       "\n",
       "                                            abstract  \\\n",
       "0  Shop the notebooks, jackets, and more that the...   \n",
       "1  These seemingly harmless habits are holding yo...   \n",
       "\n",
       "                                             url  \\\n",
       "0  https://assets.msn.com/labs/mind/AAGH0ET.html   \n",
       "1  https://assets.msn.com/labs/mind/AAB19MK.html   \n",
       "\n",
       "                                      title_entities  \\\n",
       "0  [{\"Label\": \"Prince Philip, Duke of Edinburgh\",...   \n",
       "1  [{\"Label\": \"Adipose tissue\", \"Type\": \"C\", \"Wik...   \n",
       "\n",
       "                                   abstract_entities  \n",
       "0                                                 []  \n",
       "1  [{\"Label\": \"Adipose tissue\", \"Type\": \"C\", \"Wik...  "
      ]
     },
     "execution_count": 2,
     "metadata": {},
     "output_type": "execute_result"
    }
   ],
   "source": [
    "news = pd.read_csv('../MIND_small/csv/news.csv')\n",
    "news.head(2)"
   ]
  },
  {
   "cell_type": "markdown",
   "metadata": {},
   "source": [
    "## Starting with news\n",
    "As noticeable above, there are columns for categories and subcategories. As these categories will be utilized to improve recommendations we will start our analysis of the news dataset by taking a quick peak at how many categories there may be, and what sorts of sub-categories we'll find in each via a treemap. "
   ]
  },
  {
   "cell_type": "code",
   "execution_count": 3,
   "metadata": {},
   "outputs": [
    {
     "data": {
      "application/vnd.plotly.v1+json": {
       "config": {
        "plotlyServerURL": "https://plot.ly"
       },
       "data": [
        {
         "branchvalues": "total",
         "domain": {
          "x": [
           0,
           1
          ],
          "y": [
           0,
           1
          ]
         },
         "hovertemplate": "labels=%{label}<br>number_of_articles=%{value}<br>parent=%{parent}<br>id=%{id}<extra></extra>",
         "ids": [
          "music/ads-latingrammys",
          "health/ads-lung-health",
          "lifestyle/advice",
          "kids/animals",
          "video/animals",
          "autos/autosbuying",
          "autos/autoscartech",
          "autos/autosclassics",
          "autos/autoscompact",
          "autos/autosenthusiasts",
          "autos/autoshybrids",
          "autos/autoslosangeles",
          "autos/autosluxury",
          "autos/autosmidsize",
          "autos/autosmotorcycles",
          "autos/autosnews",
          "autos/autosownership",
          "autos/autospassenger",
          "autos/autosresearch",
          "autos/autosresearchguides",
          "autos/autosreview",
          "autos/autossema",
          "autos/autossports",
          "autos/autossuvs",
          "autos/autostokyo",
          "autos/autostrucks",
          "autos/autosvans",
          "autos/autosvideonew",
          "autos/autosvideos",
          "entertainment/awards",
          "lifestyle/awardstyle",
          "sports/baseball",
          "sports/baseball_mlb",
          "sports/baseball_mlb_videos",
          "sports/basketball_nba",
          "sports/basketball_nba_videos",
          "sports/basketball_ncaa",
          "sports/basketball_ncaa_videos",
          "sports/basketball_wnba",
          "foodanddrink/beverages",
          "sports/boxing",
          "sports/boxing-mma",
          "health/cardio",
          "finance/career-news",
          "finance/causes",
          "health/causes",
          "lifestyle/causes",
          "news/causes",
          "lifestyle/causes-animals",
          "news/causes-disaster-relief",
          "news/causes-environment",
          "foodanddrink/causes-food-insecurity",
          "lifestyle/causes-green-living",
          "news/causes-military-appreciation",
          "news/causes-poverty",
          "entertainment/celebhub",
          "entertainment/celebrity",
          "entertainment/celebritynews",
          "music/cma-awards",
          "foodanddrink/cocktails",
          "video/comedy",
          "finance/company-news",
          "foodanddrink/cooking",
          "foodanddrink/cookingschool",
          "video/downtime",
          "news/elections-2020-us",
          "news/empowering-the-planet",
          "entertainment/entertainment-books",
          "entertainment/entertainment-celebrity",
          "entertainment/entertainmentmusic",
          "entertainment/entertainmenttv",
          "news/factcheck",
          "finance/finance-auto-insurance",
          "finance/finance-billstopay",
          "finance/finance-career",
          "finance/finance-career-education",
          "finance/finance-companies",
          "finance/finance-credit",
          "finance/finance-education",
          "finance/finance-healthcare",
          "finance/finance-home-loans",
          "finance/finance-homesandpropertysection",
          "finance/finance-insidetheticker",
          "finance/finance-insurance",
          "finance/finance-mutual-funds",
          "finance/finance-real-estate",
          "finance/finance-retirement",
          "finance/finance-savemoney",
          "finance/finance-saving-investing",
          "finance/finance-small-business",
          "finance/finance-startinvesting",
          "finance/finance-taxes",
          "finance/finance-technology",
          "finance/finance-top-stocks",
          "finance/finance-video",
          "finance/financenews",
          "health/fitness",
          "video/foodanddrink",
          "foodanddrink/foodnews",
          "foodanddrink/foodrecipes",
          "foodanddrink/foodtips",
          "sports/football_ncaa",
          "sports/football_ncaa_videos",
          "sports/football_nfl",
          "sports/football_nfl_videos",
          "kids/fun",
          "entertainment/games",
          "entertainment/gaming",
          "sports/golf",
          "sports/golfvideos",
          "lifestyle/halloween",
          "health/health-cancer",
          "health/health-news",
          "health/healthagingwell",
          "health/healthnews",
          "health/healthyliving",
          "lifestyle/holidays",
          "travel/holidays",
          "entertainment/hollywood",
          "entertainment/humor",
          "music/humor",
          "tv/humor",
          "sports/icehockey_nhl",
          "news/indepth",
          "travel/internationaltravel",
          "video/lifestyle",
          "lifestyle/lifestyle-news-feature",
          "lifestyle/lifestyle-wedding",
          "lifestyle/lifestylebeauty",
          "lifestyle/lifestylebuzz",
          "lifestyle/lifestylecareer",
          "lifestyle/lifestylecelebstyle",
          "lifestyle/lifestylecleaningandorganizing",
          "lifestyle/lifestyledecor",
          "lifestyle/lifestyledidyouknow",
          "lifestyle/lifestylediy",
          "lifestyle/lifestylefamily",
          "lifestyle/lifestylefamilyandrelationships",
          "lifestyle/lifestylefashion",
          "lifestyle/lifestylehomeandgarden",
          "lifestyle/lifestylehoroscope",
          "lifestyle/lifestylehoroscopefish",
          "lifestyle/lifestylelovesex",
          "lifestyle/lifestylemarriage",
          "lifestyle/lifestylemindandsoul",
          "lifestyle/lifestyleparenting",
          "lifestyle/lifestylepets",
          "lifestyle/lifestylepetsanimals",
          "lifestyle/lifestylerelationships",
          "lifestyle/lifestyleroyals",
          "lifestyle/lifestyleshopping",
          "lifestyle/lifestyleshoppinghomegarden",
          "lifestyle/lifestylesmartliving",
          "lifestyle/lifestylestyle",
          "lifestyle/lifestylevideo",
          "lifestyle/lifestyleweddings",
          "lifestyle/lifestylewhatshot",
          "finance/markets",
          "health/medical",
          "health/mentalhealth",
          "middleeast/middleeast-top-stories",
          "sports/mma",
          "sports/mmaufc",
          "sports/more_sports",
          "movies/movienews",
          "movies/movies-awards",
          "movies/movies-celebrity",
          "movies/movies-gallery",
          "movies/movies-oscars",
          "movies/movievideo",
          "music/music-awards",
          "music/music-celebrity",
          "music/music-gallery",
          "music/music-grammys",
          "music/music-reviews",
          "music/musicnews",
          "music/musicvideos",
          "news/narendramodi_opinion",
          "entertainment/news",
          "video/news",
          "news/newsbusiness",
          "news/newscrime",
          "news/newselection2020",
          "news/newsfactcheck",
          "news/newsgoodnews",
          "news/newsnational",
          "news/newsoffbeat",
          "news/newsopinion",
          "news/newsother",
          "news/newsphotos",
          "news/newspolitics",
          "news/newsrealestate",
          "news/newsscience",
          "news/newsscienceandtechnology",
          "foodanddrink/newstrends",
          "travel/newstrends",
          "news/newstvmedia",
          "news/newsus",
          "news/newsvideo",
          "news/newsweather",
          "news/newsworld",
          "news/newsworldpolitics",
          "northamerica/northamerica-video",
          "health/nutrition",
          "sports/olympics-videos",
          "sports/othersports",
          "sports/outdoors",
          "kids/people-places",
          "video/peopleandplaces",
          "finance/personalfinance",
          "news/personalfinance",
          "news/photos",
          "video/popculture",
          "health/pregnancyparenting",
          "lifestyle/pregnancyparenting",
          "foodanddrink/quickandeasy",
          "sports/racing",
          "foodanddrink/recipes",
          "health/recipes",
          "lifestyle/relationships",
          "foodanddrink/restaurantsandnews",
          "finance/retirement",
          "movies/reviews",
          "kids/science",
          "video/science",
          "foodanddrink/seasonal",
          "lifestyle/shop-all",
          "lifestyle/shop-apparel",
          "lifestyle/shop-books-movies-tv",
          "lifestyle/shop-holidays",
          "lifestyle/shop-home-goods",
          "sports/soccer",
          "sports/soccer_bund",
          "sports/soccer_epl",
          "sports/soccer_mls",
          "finance/spendingandborrowing",
          "video/sports",
          "sports/sports_news",
          "health/strength",
          "finance/technologyinvesting",
          "sports/tennis",
          "sports/tennis_intl",
          "foodanddrink/tipsandtricks",
          "music/topnews",
          "tv/topnews",
          "lifestyle/travel",
          "travel/travel-adventure-travel",
          "travel/travel-points-rewards",
          "travel/travel-videos",
          "travel/travelarticle",
          "travel/travelnews",
          "travel/traveltips",
          "travel/traveltripideas",
          "travel/traveltrivia",
          "video/tunedin",
          "entertainment/tv",
          "tv/tv-celebrity",
          "tv/tv-gallery",
          "tv/tv-golden-globes",
          "tv/tv-golden-globes-video",
          "tv/tv-recaps",
          "tv/tv-reviews",
          "tv/tvnews",
          "tv/tvvideos",
          "travel/ustravel",
          "entertainment/video",
          "health/video",
          "kids/video",
          "travel/video",
          "foodanddrink/videos",
          "video/viral",
          "health/voices",
          "lifestyle/voices",
          "travel/voices",
          "video/watch",
          "weather/weatherfullscreenmaps",
          "weather/weathertopstories",
          "health/weight-loss",
          "health/weightloss",
          "health/wellness",
          "foodanddrink/wines",
          "video/wonder",
          "news/yearinoffbeatgoodnews",
          "autos",
          "entertainment",
          "finance",
          "foodanddrink",
          "health",
          "kids",
          "lifestyle",
          "middleeast",
          "movies",
          "music",
          "news",
          "northamerica",
          "sports",
          "travel",
          "tv",
          "video",
          "weather"
         ],
         "labels": [
          "ads-latingrammys",
          "ads-lung-health",
          "advice",
          "animals",
          "animals",
          "autosbuying",
          "autoscartech",
          "autosclassics",
          "autoscompact",
          "autosenthusiasts",
          "autoshybrids",
          "autoslosangeles",
          "autosluxury",
          "autosmidsize",
          "autosmotorcycles",
          "autosnews",
          "autosownership",
          "autospassenger",
          "autosresearch",
          "autosresearchguides",
          "autosreview",
          "autossema",
          "autossports",
          "autossuvs",
          "autostokyo",
          "autostrucks",
          "autosvans",
          "autosvideonew",
          "autosvideos",
          "awards",
          "awardstyle",
          "baseball",
          "baseball_mlb",
          "baseball_mlb_videos",
          "basketball_nba",
          "basketball_nba_videos",
          "basketball_ncaa",
          "basketball_ncaa_videos",
          "basketball_wnba",
          "beverages",
          "boxing",
          "boxing-mma",
          "cardio",
          "career-news",
          "causes",
          "causes",
          "causes",
          "causes",
          "causes-animals",
          "causes-disaster-relief",
          "causes-environment",
          "causes-food-insecurity",
          "causes-green-living",
          "causes-military-appreciation",
          "causes-poverty",
          "celebhub",
          "celebrity",
          "celebritynews",
          "cma-awards",
          "cocktails",
          "comedy",
          "company-news",
          "cooking",
          "cookingschool",
          "downtime",
          "elections-2020-us",
          "empowering-the-planet",
          "entertainment-books",
          "entertainment-celebrity",
          "entertainmentmusic",
          "entertainmenttv",
          "factcheck",
          "finance-auto-insurance",
          "finance-billstopay",
          "finance-career",
          "finance-career-education",
          "finance-companies",
          "finance-credit",
          "finance-education",
          "finance-healthcare",
          "finance-home-loans",
          "finance-homesandpropertysection",
          "finance-insidetheticker",
          "finance-insurance",
          "finance-mutual-funds",
          "finance-real-estate",
          "finance-retirement",
          "finance-savemoney",
          "finance-saving-investing",
          "finance-small-business",
          "finance-startinvesting",
          "finance-taxes",
          "finance-technology",
          "finance-top-stocks",
          "finance-video",
          "financenews",
          "fitness",
          "foodanddrink",
          "foodnews",
          "foodrecipes",
          "foodtips",
          "football_ncaa",
          "football_ncaa_videos",
          "football_nfl",
          "football_nfl_videos",
          "fun",
          "games",
          "gaming",
          "golf",
          "golfvideos",
          "halloween",
          "health-cancer",
          "health-news",
          "healthagingwell",
          "healthnews",
          "healthyliving",
          "holidays",
          "holidays",
          "hollywood",
          "humor",
          "humor",
          "humor",
          "icehockey_nhl",
          "indepth",
          "internationaltravel",
          "lifestyle",
          "lifestyle-news-feature",
          "lifestyle-wedding",
          "lifestylebeauty",
          "lifestylebuzz",
          "lifestylecareer",
          "lifestylecelebstyle",
          "lifestylecleaningandorganizing",
          "lifestyledecor",
          "lifestyledidyouknow",
          "lifestylediy",
          "lifestylefamily",
          "lifestylefamilyandrelationships",
          "lifestylefashion",
          "lifestylehomeandgarden",
          "lifestylehoroscope",
          "lifestylehoroscopefish",
          "lifestylelovesex",
          "lifestylemarriage",
          "lifestylemindandsoul",
          "lifestyleparenting",
          "lifestylepets",
          "lifestylepetsanimals",
          "lifestylerelationships",
          "lifestyleroyals",
          "lifestyleshopping",
          "lifestyleshoppinghomegarden",
          "lifestylesmartliving",
          "lifestylestyle",
          "lifestylevideo",
          "lifestyleweddings",
          "lifestylewhatshot",
          "markets",
          "medical",
          "mentalhealth",
          "middleeast-top-stories",
          "mma",
          "mmaufc",
          "more_sports",
          "movienews",
          "movies-awards",
          "movies-celebrity",
          "movies-gallery",
          "movies-oscars",
          "movievideo",
          "music-awards",
          "music-celebrity",
          "music-gallery",
          "music-grammys",
          "music-reviews",
          "musicnews",
          "musicvideos",
          "narendramodi_opinion",
          "news",
          "news",
          "newsbusiness",
          "newscrime",
          "newselection2020",
          "newsfactcheck",
          "newsgoodnews",
          "newsnational",
          "newsoffbeat",
          "newsopinion",
          "newsother",
          "newsphotos",
          "newspolitics",
          "newsrealestate",
          "newsscience",
          "newsscienceandtechnology",
          "newstrends",
          "newstrends",
          "newstvmedia",
          "newsus",
          "newsvideo",
          "newsweather",
          "newsworld",
          "newsworldpolitics",
          "northamerica-video",
          "nutrition",
          "olympics-videos",
          "othersports",
          "outdoors",
          "people-places",
          "peopleandplaces",
          "personalfinance",
          "personalfinance",
          "photos",
          "popculture",
          "pregnancyparenting",
          "pregnancyparenting",
          "quickandeasy",
          "racing",
          "recipes",
          "recipes",
          "relationships",
          "restaurantsandnews",
          "retirement",
          "reviews",
          "science",
          "science",
          "seasonal",
          "shop-all",
          "shop-apparel",
          "shop-books-movies-tv",
          "shop-holidays",
          "shop-home-goods",
          "soccer",
          "soccer_bund",
          "soccer_epl",
          "soccer_mls",
          "spendingandborrowing",
          "sports",
          "sports_news",
          "strength",
          "technologyinvesting",
          "tennis",
          "tennis_intl",
          "tipsandtricks",
          "topnews",
          "topnews",
          "travel",
          "travel-adventure-travel",
          "travel-points-rewards",
          "travel-videos",
          "travelarticle",
          "travelnews",
          "traveltips",
          "traveltripideas",
          "traveltrivia",
          "tunedin",
          "tv",
          "tv-celebrity",
          "tv-gallery",
          "tv-golden-globes",
          "tv-golden-globes-video",
          "tv-recaps",
          "tv-reviews",
          "tvnews",
          "tvvideos",
          "ustravel",
          "video",
          "video",
          "video",
          "video",
          "videos",
          "viral",
          "voices",
          "voices",
          "voices",
          "watch",
          "weatherfullscreenmaps",
          "weathertopstories",
          "weight-loss",
          "weightloss",
          "wellness",
          "wines",
          "wonder",
          "yearinoffbeatgoodnews",
          "autos",
          "entertainment",
          "finance",
          "foodanddrink",
          "health",
          "kids",
          "lifestyle",
          "middleeast",
          "movies",
          "music",
          "news",
          "northamerica",
          "sports",
          "travel",
          "tv",
          "video",
          "weather"
         ],
         "name": "",
         "parents": [
          "music",
          "health",
          "lifestyle",
          "kids",
          "video",
          "autos",
          "autos",
          "autos",
          "autos",
          "autos",
          "autos",
          "autos",
          "autos",
          "autos",
          "autos",
          "autos",
          "autos",
          "autos",
          "autos",
          "autos",
          "autos",
          "autos",
          "autos",
          "autos",
          "autos",
          "autos",
          "autos",
          "autos",
          "autos",
          "entertainment",
          "lifestyle",
          "sports",
          "sports",
          "sports",
          "sports",
          "sports",
          "sports",
          "sports",
          "sports",
          "foodanddrink",
          "sports",
          "sports",
          "health",
          "finance",
          "finance",
          "health",
          "lifestyle",
          "news",
          "lifestyle",
          "news",
          "news",
          "foodanddrink",
          "lifestyle",
          "news",
          "news",
          "entertainment",
          "entertainment",
          "entertainment",
          "music",
          "foodanddrink",
          "video",
          "finance",
          "foodanddrink",
          "foodanddrink",
          "video",
          "news",
          "news",
          "entertainment",
          "entertainment",
          "entertainment",
          "entertainment",
          "news",
          "finance",
          "finance",
          "finance",
          "finance",
          "finance",
          "finance",
          "finance",
          "finance",
          "finance",
          "finance",
          "finance",
          "finance",
          "finance",
          "finance",
          "finance",
          "finance",
          "finance",
          "finance",
          "finance",
          "finance",
          "finance",
          "finance",
          "finance",
          "finance",
          "health",
          "video",
          "foodanddrink",
          "foodanddrink",
          "foodanddrink",
          "sports",
          "sports",
          "sports",
          "sports",
          "kids",
          "entertainment",
          "entertainment",
          "sports",
          "sports",
          "lifestyle",
          "health",
          "health",
          "health",
          "health",
          "health",
          "lifestyle",
          "travel",
          "entertainment",
          "entertainment",
          "music",
          "tv",
          "sports",
          "news",
          "travel",
          "video",
          "lifestyle",
          "lifestyle",
          "lifestyle",
          "lifestyle",
          "lifestyle",
          "lifestyle",
          "lifestyle",
          "lifestyle",
          "lifestyle",
          "lifestyle",
          "lifestyle",
          "lifestyle",
          "lifestyle",
          "lifestyle",
          "lifestyle",
          "lifestyle",
          "lifestyle",
          "lifestyle",
          "lifestyle",
          "lifestyle",
          "lifestyle",
          "lifestyle",
          "lifestyle",
          "lifestyle",
          "lifestyle",
          "lifestyle",
          "lifestyle",
          "lifestyle",
          "lifestyle",
          "lifestyle",
          "lifestyle",
          "finance",
          "health",
          "health",
          "middleeast",
          "sports",
          "sports",
          "sports",
          "movies",
          "movies",
          "movies",
          "movies",
          "movies",
          "movies",
          "music",
          "music",
          "music",
          "music",
          "music",
          "music",
          "music",
          "news",
          "entertainment",
          "video",
          "news",
          "news",
          "news",
          "news",
          "news",
          "news",
          "news",
          "news",
          "news",
          "news",
          "news",
          "news",
          "news",
          "news",
          "foodanddrink",
          "travel",
          "news",
          "news",
          "news",
          "news",
          "news",
          "news",
          "northamerica",
          "health",
          "sports",
          "sports",
          "sports",
          "kids",
          "video",
          "finance",
          "news",
          "news",
          "video",
          "health",
          "lifestyle",
          "foodanddrink",
          "sports",
          "foodanddrink",
          "health",
          "lifestyle",
          "foodanddrink",
          "finance",
          "movies",
          "kids",
          "video",
          "foodanddrink",
          "lifestyle",
          "lifestyle",
          "lifestyle",
          "lifestyle",
          "lifestyle",
          "sports",
          "sports",
          "sports",
          "sports",
          "finance",
          "video",
          "sports",
          "health",
          "finance",
          "sports",
          "sports",
          "foodanddrink",
          "music",
          "tv",
          "lifestyle",
          "travel",
          "travel",
          "travel",
          "travel",
          "travel",
          "travel",
          "travel",
          "travel",
          "video",
          "entertainment",
          "tv",
          "tv",
          "tv",
          "tv",
          "tv",
          "tv",
          "tv",
          "tv",
          "travel",
          "entertainment",
          "health",
          "kids",
          "travel",
          "foodanddrink",
          "video",
          "health",
          "lifestyle",
          "travel",
          "video",
          "weather",
          "weather",
          "health",
          "health",
          "health",
          "foodanddrink",
          "video",
          "news",
          "",
          "",
          "",
          "",
          "",
          "",
          "",
          "",
          "",
          "",
          "",
          "",
          "",
          "",
          "",
          "",
          ""
         ],
         "type": "treemap",
         "values": [
          7,
          11,
          25,
          2,
          257,
          32,
          2,
          119,
          1,
          231,
          6,
          1,
          20,
          1,
          128,
          837,
          26,
          3,
          15,
          16,
          3,
          19,
          58,
          68,
          6,
          36,
          1,
          7,
          3,
          27,
          12,
          1,
          1661,
          36,
          1555,
          9,
          774,
          14,
          4,
          63,
          15,
          8,
          1,
          2,
          3,
          11,
          11,
          2,
          5,
          1,
          2,
          4,
          5,
          1,
          1,
          1,
          145,
          1,
          37,
          2,
          1,
          1,
          3,
          1,
          3,
          116,
          1,
          110,
          129,
          1,
          1,
          40,
          1,
          12,
          18,
          118,
          567,
          16,
          11,
          14,
          1,
          1,
          1,
          15,
          4,
          584,
          76,
          65,
          71,
          32,
          1,
          37,
          20,
          117,
          81,
          697,
          107,
          1,
          271,
          3,
          1,
          1665,
          36,
          5420,
          161,
          4,
          1,
          115,
          446,
          1,
          1,
          1,
          459,
          2,
          36,
          1,
          2,
          2,
          1,
          9,
          1,
          15,
          531,
          2,
          5,
          122,
          14,
          1,
          30,
          894,
          30,
          59,
          23,
          8,
          103,
          13,
          147,
          28,
          15,
          178,
          34,
          1,
          15,
          1,
          29,
          30,
          77,
          67,
          36,
          239,
          5,
          1,
          61,
          1,
          16,
          11,
          1,
          410,
          479,
          9,
          2,
          437,
          1,
          1065,
          231,
          12,
          213,
          64,
          5,
          77,
          26,
          210,
          48,
          4,
          4,
          414,
          17,
          1,
          17,
          1168,
          48,
          2254,
          8,
          17,
          176,
          1,
          405,
          315,
          1,
          22,
          2826,
          1,
          15,
          1210,
          1175,
          1,
          1,
          6564,
          1,
          11,
          1720,
          5,
          1,
          222,
          1,
          1,
          34,
          5,
          54,
          118,
          2,
          2,
          98,
          8,
          1,
          44,
          299,
          461,
          2,
          1,
          170,
          10,
          4,
          1,
          134,
          2,
          32,
          17,
          2,
          107,
          3,
          156,
          1,
          25,
          37,
          1,
          2,
          4,
          1,
          2,
          111,
          1,
          251,
          1,
          1,
          1,
          4,
          10,
          2,
          1042,
          902,
          76,
          243,
          1,
          5,
          1,
          356,
          78,
          4,
          1,
          16,
          2,
          377,
          39,
          6,
          28,
          11,
          5,
          50,
          87,
          217,
          51,
          86,
          6,
          1,
          1,
          2047,
          6,
          127,
          340,
          13,
          5,
          2,
          1639,
          587,
          3107,
          2551,
          1885,
          17,
          2479,
          2,
          606,
          769,
          15774,
          1,
          14510,
          2350,
          889,
          2068,
          2048
         ]
        }
       ],
       "layout": {
        "legend": {
         "tracegroupgap": 0
        },
        "template": {
         "data": {
          "bar": [
           {
            "error_x": {
             "color": "#2a3f5f"
            },
            "error_y": {
             "color": "#2a3f5f"
            },
            "marker": {
             "line": {
              "color": "#E5ECF6",
              "width": 0.5
             },
             "pattern": {
              "fillmode": "overlay",
              "size": 10,
              "solidity": 0.2
             }
            },
            "type": "bar"
           }
          ],
          "barpolar": [
           {
            "marker": {
             "line": {
              "color": "#E5ECF6",
              "width": 0.5
             },
             "pattern": {
              "fillmode": "overlay",
              "size": 10,
              "solidity": 0.2
             }
            },
            "type": "barpolar"
           }
          ],
          "carpet": [
           {
            "aaxis": {
             "endlinecolor": "#2a3f5f",
             "gridcolor": "white",
             "linecolor": "white",
             "minorgridcolor": "white",
             "startlinecolor": "#2a3f5f"
            },
            "baxis": {
             "endlinecolor": "#2a3f5f",
             "gridcolor": "white",
             "linecolor": "white",
             "minorgridcolor": "white",
             "startlinecolor": "#2a3f5f"
            },
            "type": "carpet"
           }
          ],
          "choropleth": [
           {
            "colorbar": {
             "outlinewidth": 0,
             "ticks": ""
            },
            "type": "choropleth"
           }
          ],
          "contour": [
           {
            "colorbar": {
             "outlinewidth": 0,
             "ticks": ""
            },
            "colorscale": [
             [
              0,
              "#0d0887"
             ],
             [
              0.1111111111111111,
              "#46039f"
             ],
             [
              0.2222222222222222,
              "#7201a8"
             ],
             [
              0.3333333333333333,
              "#9c179e"
             ],
             [
              0.4444444444444444,
              "#bd3786"
             ],
             [
              0.5555555555555556,
              "#d8576b"
             ],
             [
              0.6666666666666666,
              "#ed7953"
             ],
             [
              0.7777777777777778,
              "#fb9f3a"
             ],
             [
              0.8888888888888888,
              "#fdca26"
             ],
             [
              1,
              "#f0f921"
             ]
            ],
            "type": "contour"
           }
          ],
          "contourcarpet": [
           {
            "colorbar": {
             "outlinewidth": 0,
             "ticks": ""
            },
            "type": "contourcarpet"
           }
          ],
          "heatmap": [
           {
            "colorbar": {
             "outlinewidth": 0,
             "ticks": ""
            },
            "colorscale": [
             [
              0,
              "#0d0887"
             ],
             [
              0.1111111111111111,
              "#46039f"
             ],
             [
              0.2222222222222222,
              "#7201a8"
             ],
             [
              0.3333333333333333,
              "#9c179e"
             ],
             [
              0.4444444444444444,
              "#bd3786"
             ],
             [
              0.5555555555555556,
              "#d8576b"
             ],
             [
              0.6666666666666666,
              "#ed7953"
             ],
             [
              0.7777777777777778,
              "#fb9f3a"
             ],
             [
              0.8888888888888888,
              "#fdca26"
             ],
             [
              1,
              "#f0f921"
             ]
            ],
            "type": "heatmap"
           }
          ],
          "heatmapgl": [
           {
            "colorbar": {
             "outlinewidth": 0,
             "ticks": ""
            },
            "colorscale": [
             [
              0,
              "#0d0887"
             ],
             [
              0.1111111111111111,
              "#46039f"
             ],
             [
              0.2222222222222222,
              "#7201a8"
             ],
             [
              0.3333333333333333,
              "#9c179e"
             ],
             [
              0.4444444444444444,
              "#bd3786"
             ],
             [
              0.5555555555555556,
              "#d8576b"
             ],
             [
              0.6666666666666666,
              "#ed7953"
             ],
             [
              0.7777777777777778,
              "#fb9f3a"
             ],
             [
              0.8888888888888888,
              "#fdca26"
             ],
             [
              1,
              "#f0f921"
             ]
            ],
            "type": "heatmapgl"
           }
          ],
          "histogram": [
           {
            "marker": {
             "pattern": {
              "fillmode": "overlay",
              "size": 10,
              "solidity": 0.2
             }
            },
            "type": "histogram"
           }
          ],
          "histogram2d": [
           {
            "colorbar": {
             "outlinewidth": 0,
             "ticks": ""
            },
            "colorscale": [
             [
              0,
              "#0d0887"
             ],
             [
              0.1111111111111111,
              "#46039f"
             ],
             [
              0.2222222222222222,
              "#7201a8"
             ],
             [
              0.3333333333333333,
              "#9c179e"
             ],
             [
              0.4444444444444444,
              "#bd3786"
             ],
             [
              0.5555555555555556,
              "#d8576b"
             ],
             [
              0.6666666666666666,
              "#ed7953"
             ],
             [
              0.7777777777777778,
              "#fb9f3a"
             ],
             [
              0.8888888888888888,
              "#fdca26"
             ],
             [
              1,
              "#f0f921"
             ]
            ],
            "type": "histogram2d"
           }
          ],
          "histogram2dcontour": [
           {
            "colorbar": {
             "outlinewidth": 0,
             "ticks": ""
            },
            "colorscale": [
             [
              0,
              "#0d0887"
             ],
             [
              0.1111111111111111,
              "#46039f"
             ],
             [
              0.2222222222222222,
              "#7201a8"
             ],
             [
              0.3333333333333333,
              "#9c179e"
             ],
             [
              0.4444444444444444,
              "#bd3786"
             ],
             [
              0.5555555555555556,
              "#d8576b"
             ],
             [
              0.6666666666666666,
              "#ed7953"
             ],
             [
              0.7777777777777778,
              "#fb9f3a"
             ],
             [
              0.8888888888888888,
              "#fdca26"
             ],
             [
              1,
              "#f0f921"
             ]
            ],
            "type": "histogram2dcontour"
           }
          ],
          "mesh3d": [
           {
            "colorbar": {
             "outlinewidth": 0,
             "ticks": ""
            },
            "type": "mesh3d"
           }
          ],
          "parcoords": [
           {
            "line": {
             "colorbar": {
              "outlinewidth": 0,
              "ticks": ""
             }
            },
            "type": "parcoords"
           }
          ],
          "pie": [
           {
            "automargin": true,
            "type": "pie"
           }
          ],
          "scatter": [
           {
            "fillpattern": {
             "fillmode": "overlay",
             "size": 10,
             "solidity": 0.2
            },
            "type": "scatter"
           }
          ],
          "scatter3d": [
           {
            "line": {
             "colorbar": {
              "outlinewidth": 0,
              "ticks": ""
             }
            },
            "marker": {
             "colorbar": {
              "outlinewidth": 0,
              "ticks": ""
             }
            },
            "type": "scatter3d"
           }
          ],
          "scattercarpet": [
           {
            "marker": {
             "colorbar": {
              "outlinewidth": 0,
              "ticks": ""
             }
            },
            "type": "scattercarpet"
           }
          ],
          "scattergeo": [
           {
            "marker": {
             "colorbar": {
              "outlinewidth": 0,
              "ticks": ""
             }
            },
            "type": "scattergeo"
           }
          ],
          "scattergl": [
           {
            "marker": {
             "colorbar": {
              "outlinewidth": 0,
              "ticks": ""
             }
            },
            "type": "scattergl"
           }
          ],
          "scattermapbox": [
           {
            "marker": {
             "colorbar": {
              "outlinewidth": 0,
              "ticks": ""
             }
            },
            "type": "scattermapbox"
           }
          ],
          "scatterpolar": [
           {
            "marker": {
             "colorbar": {
              "outlinewidth": 0,
              "ticks": ""
             }
            },
            "type": "scatterpolar"
           }
          ],
          "scatterpolargl": [
           {
            "marker": {
             "colorbar": {
              "outlinewidth": 0,
              "ticks": ""
             }
            },
            "type": "scatterpolargl"
           }
          ],
          "scatterternary": [
           {
            "marker": {
             "colorbar": {
              "outlinewidth": 0,
              "ticks": ""
             }
            },
            "type": "scatterternary"
           }
          ],
          "surface": [
           {
            "colorbar": {
             "outlinewidth": 0,
             "ticks": ""
            },
            "colorscale": [
             [
              0,
              "#0d0887"
             ],
             [
              0.1111111111111111,
              "#46039f"
             ],
             [
              0.2222222222222222,
              "#7201a8"
             ],
             [
              0.3333333333333333,
              "#9c179e"
             ],
             [
              0.4444444444444444,
              "#bd3786"
             ],
             [
              0.5555555555555556,
              "#d8576b"
             ],
             [
              0.6666666666666666,
              "#ed7953"
             ],
             [
              0.7777777777777778,
              "#fb9f3a"
             ],
             [
              0.8888888888888888,
              "#fdca26"
             ],
             [
              1,
              "#f0f921"
             ]
            ],
            "type": "surface"
           }
          ],
          "table": [
           {
            "cells": {
             "fill": {
              "color": "#EBF0F8"
             },
             "line": {
              "color": "white"
             }
            },
            "header": {
             "fill": {
              "color": "#C8D4E3"
             },
             "line": {
              "color": "white"
             }
            },
            "type": "table"
           }
          ]
         },
         "layout": {
          "annotationdefaults": {
           "arrowcolor": "#2a3f5f",
           "arrowhead": 0,
           "arrowwidth": 1
          },
          "autotypenumbers": "strict",
          "coloraxis": {
           "colorbar": {
            "outlinewidth": 0,
            "ticks": ""
           }
          },
          "colorscale": {
           "diverging": [
            [
             0,
             "#8e0152"
            ],
            [
             0.1,
             "#c51b7d"
            ],
            [
             0.2,
             "#de77ae"
            ],
            [
             0.3,
             "#f1b6da"
            ],
            [
             0.4,
             "#fde0ef"
            ],
            [
             0.5,
             "#f7f7f7"
            ],
            [
             0.6,
             "#e6f5d0"
            ],
            [
             0.7,
             "#b8e186"
            ],
            [
             0.8,
             "#7fbc41"
            ],
            [
             0.9,
             "#4d9221"
            ],
            [
             1,
             "#276419"
            ]
           ],
           "sequential": [
            [
             0,
             "#0d0887"
            ],
            [
             0.1111111111111111,
             "#46039f"
            ],
            [
             0.2222222222222222,
             "#7201a8"
            ],
            [
             0.3333333333333333,
             "#9c179e"
            ],
            [
             0.4444444444444444,
             "#bd3786"
            ],
            [
             0.5555555555555556,
             "#d8576b"
            ],
            [
             0.6666666666666666,
             "#ed7953"
            ],
            [
             0.7777777777777778,
             "#fb9f3a"
            ],
            [
             0.8888888888888888,
             "#fdca26"
            ],
            [
             1,
             "#f0f921"
            ]
           ],
           "sequentialminus": [
            [
             0,
             "#0d0887"
            ],
            [
             0.1111111111111111,
             "#46039f"
            ],
            [
             0.2222222222222222,
             "#7201a8"
            ],
            [
             0.3333333333333333,
             "#9c179e"
            ],
            [
             0.4444444444444444,
             "#bd3786"
            ],
            [
             0.5555555555555556,
             "#d8576b"
            ],
            [
             0.6666666666666666,
             "#ed7953"
            ],
            [
             0.7777777777777778,
             "#fb9f3a"
            ],
            [
             0.8888888888888888,
             "#fdca26"
            ],
            [
             1,
             "#f0f921"
            ]
           ]
          },
          "colorway": [
           "#636efa",
           "#EF553B",
           "#00cc96",
           "#ab63fa",
           "#FFA15A",
           "#19d3f3",
           "#FF6692",
           "#B6E880",
           "#FF97FF",
           "#FECB52"
          ],
          "font": {
           "color": "#2a3f5f"
          },
          "geo": {
           "bgcolor": "white",
           "lakecolor": "white",
           "landcolor": "#E5ECF6",
           "showlakes": true,
           "showland": true,
           "subunitcolor": "white"
          },
          "hoverlabel": {
           "align": "left"
          },
          "hovermode": "closest",
          "mapbox": {
           "style": "light"
          },
          "paper_bgcolor": "white",
          "plot_bgcolor": "#E5ECF6",
          "polar": {
           "angularaxis": {
            "gridcolor": "white",
            "linecolor": "white",
            "ticks": ""
           },
           "bgcolor": "#E5ECF6",
           "radialaxis": {
            "gridcolor": "white",
            "linecolor": "white",
            "ticks": ""
           }
          },
          "scene": {
           "xaxis": {
            "backgroundcolor": "#E5ECF6",
            "gridcolor": "white",
            "gridwidth": 2,
            "linecolor": "white",
            "showbackground": true,
            "ticks": "",
            "zerolinecolor": "white"
           },
           "yaxis": {
            "backgroundcolor": "#E5ECF6",
            "gridcolor": "white",
            "gridwidth": 2,
            "linecolor": "white",
            "showbackground": true,
            "ticks": "",
            "zerolinecolor": "white"
           },
           "zaxis": {
            "backgroundcolor": "#E5ECF6",
            "gridcolor": "white",
            "gridwidth": 2,
            "linecolor": "white",
            "showbackground": true,
            "ticks": "",
            "zerolinecolor": "white"
           }
          },
          "shapedefaults": {
           "line": {
            "color": "#2a3f5f"
           }
          },
          "ternary": {
           "aaxis": {
            "gridcolor": "white",
            "linecolor": "white",
            "ticks": ""
           },
           "baxis": {
            "gridcolor": "white",
            "linecolor": "white",
            "ticks": ""
           },
           "bgcolor": "#E5ECF6",
           "caxis": {
            "gridcolor": "white",
            "linecolor": "white",
            "ticks": ""
           }
          },
          "title": {
           "x": 0.05
          },
          "xaxis": {
           "automargin": true,
           "gridcolor": "white",
           "linecolor": "white",
           "ticks": "",
           "title": {
            "standoff": 15
           },
           "zerolinecolor": "white",
           "zerolinewidth": 2
          },
          "yaxis": {
           "automargin": true,
           "gridcolor": "white",
           "linecolor": "white",
           "ticks": "",
           "title": {
            "standoff": 15
           },
           "zerolinecolor": "white",
           "zerolinewidth": 2
          }
         }
        },
        "title": {
         "text": "Categories and their sub-categories"
        }
       }
      }
     },
     "metadata": {},
     "output_type": "display_data"
    }
   ],
   "source": [
    "fig = visualization_modules.plot_sub_categories(news)\n",
    "fig.show()"
   ]
  },
  {
   "cell_type": "markdown",
   "metadata": {},
   "source": [
    "Within this initial peak we can see that our biggest categories are news and sports, whereas music, movies and entertainment make up the smallest. In content-filtering recommenders differing sizes of categories can lower the quality of recommendations as categories with more items are more likely to have higher counts of users that have interacted with them thus increasing the frequency that they are recommended. Consequently this can affected success metrics; improper management could cause a dip in coverage and serendipity as the recommender system will not make as wide a selection of recommendations. Through further analysis we can explore the option of applying an inverse category frequency weight to balance our recommendations within content-filtering recommenders."
   ]
  },
  {
   "cell_type": "markdown",
   "metadata": {},
   "source": [
    "### Checking Counts of Categories\n",
    "Moving on, we will now check the distribution of our categories more properly."
   ]
  },
  {
   "cell_type": "code",
   "execution_count": 4,
   "metadata": {},
   "outputs": [
    {
     "data": {
      "image/png": "[encoded data removed]",
      "text/plain": [
       "<Figure size 640x480 with 1 Axes>"
      ]
     },
     "metadata": {},
     "output_type": "display_data"
    }
   ],
   "source": [
    "fig = visualization_modules.plot_categories(news)\n",
    "# Might want to consider sorting so the figure can make better sense, also considering matching colors with the px graph above"
   ]
  },
  {
   "cell_type": "markdown",
   "metadata": {},
   "source": [
    "Confirming what we saw earlier, news and sports are still our biggest main categories, however new categories not previoulsy seen in our peek such as kids, middleeast and northamerica appear. These latter 3 categories contain so few observations that its unlikely that a user has interacted with them. To ameliorate this, we will see if any users have interacted with articles from these categories and remove the categories depending on the results after we load in the behaviors data."
   ]
  },
  {
   "cell_type": "markdown",
   "metadata": {},
   "source": [
    "### Missing Values in News\n",
    "Before moving on to any further usage of our news dataset, we will check for missing values."
   ]
  },
  {
   "cell_type": "code",
   "execution_count": 5,
   "metadata": {},
   "outputs": [
    {
     "data": {
      "text/plain": [
       "Unnamed: 0              0\n",
       "news_id                 0\n",
       "category                0\n",
       "sub_category            0\n",
       "title                   0\n",
       "abstract             2666\n",
       "url                     0\n",
       "title_entities          3\n",
       "abstract_entities       4\n",
       "dtype: int64"
      ]
     },
     "execution_count": 5,
     "metadata": {},
     "output_type": "execute_result"
    }
   ],
   "source": [
    "missing_vals = news.isna().sum()\n",
    "missing_vals"
   ]
  },
  {
   "cell_type": "markdown",
   "metadata": {},
   "source": [
    "Most missing values are in the abstract with only a few in title_entities and abstract_entities. An abstract briefly summarizes an articles content; by turning abstracts into embeddings we can create a feature that uses similarity of embeddings to recommend news. While we are missing many values we can either remove them or utilize a summarization model like T5 to generate new abstracts for the articles."
   ]
  },
  {
   "cell_type": "markdown",
   "metadata": {},
   "source": [
    "## Moving on to Behaviors\n",
    "The other half of the Microsoft News Dataset is the behaviors file; detailing user interactions, history, and times, the behaviors file provides our recommenders important training data. Due to the inclusion of a timestamp for interactions we examined the temporal context of interactions and created traditional training and testing splits based off of time frames as detailed further below."
   ]
  },
  {
   "cell_type": "code",
   "execution_count": 6,
   "metadata": {},
   "outputs": [
    {
     "data": {
      "text/html": [
       "<div>\n",
       "<style scoped>\n",
       "    .dataframe tbody tr th:only-of-type {\n",
       "        vertical-align: middle;\n",
       "    }\n",
       "\n",
       "    .dataframe tbody tr th {\n",
       "        vertical-align: top;\n",
       "    }\n",
       "\n",
       "    .dataframe thead th {\n",
       "        text-align: right;\n",
       "    }\n",
       "</style>\n",
       "<table border=\"1\" class=\"dataframe\">\n",
       "  <thead>\n",
       "    <tr style=\"text-align: right;\">\n",
       "      <th></th>\n",
       "      <th>Unnamed: 0</th>\n",
       "      <th>impression_id</th>\n",
       "      <th>user_id</th>\n",
       "      <th>time</th>\n",
       "      <th>history</th>\n",
       "      <th>impressions</th>\n",
       "    </tr>\n",
       "  </thead>\n",
       "  <tbody>\n",
       "    <tr>\n",
       "      <th>0</th>\n",
       "      <td>0</td>\n",
       "      <td>1</td>\n",
       "      <td>U13740</td>\n",
       "      <td>11/11/2019 9:05:58 AM</td>\n",
       "      <td>N55189 N42782 N34694 N45794 N18445 N63302 N104...</td>\n",
       "      <td>N55689-1 N35729-0</td>\n",
       "    </tr>\n",
       "    <tr>\n",
       "      <th>1</th>\n",
       "      <td>1</td>\n",
       "      <td>2</td>\n",
       "      <td>U91836</td>\n",
       "      <td>11/12/2019 6:11:30 PM</td>\n",
       "      <td>N31739 N6072 N63045 N23979 N35656 N43353 N8129...</td>\n",
       "      <td>N20678-0 N39317-0 N58114-0 N20495-0 N42977-0 N...</td>\n",
       "    </tr>\n",
       "  </tbody>\n",
       "</table>\n",
       "</div>"
      ],
      "text/plain": [
       "   Unnamed: 0  impression_id user_id                   time  \\\n",
       "0           0              1  U13740  11/11/2019 9:05:58 AM   \n",
       "1           1              2  U91836  11/12/2019 6:11:30 PM   \n",
       "\n",
       "                                             history  \\\n",
       "0  N55189 N42782 N34694 N45794 N18445 N63302 N104...   \n",
       "1  N31739 N6072 N63045 N23979 N35656 N43353 N8129...   \n",
       "\n",
       "                                         impressions  \n",
       "0                                  N55689-1 N35729-0  \n",
       "1  N20678-0 N39317-0 N58114-0 N20495-0 N42977-0 N...  "
      ]
     },
     "execution_count": 6,
     "metadata": {},
     "output_type": "execute_result"
    }
   ],
   "source": [
    "behaviors = pd.read_csv('../MIND_small/csv/behaviors.csv')\n",
    "behaviors.head(2)"
   ]
  },
  {
   "cell_type": "markdown",
   "metadata": {},
   "source": [
    "### Missing values in behaviors\n",
    "Before showcasing more of our analysis we first discuss the missing values in behaviors."
   ]
  },
  {
   "cell_type": "code",
   "execution_count": 7,
   "metadata": {},
   "outputs": [
    {
     "data": {
      "text/plain": [
       "Unnamed: 0          0\n",
       "impression_id       0\n",
       "user_id             0\n",
       "time                0\n",
       "history          3238\n",
       "impressions         0\n",
       "dtype: int64"
      ]
     },
     "execution_count": 7,
     "metadata": {},
     "output_type": "execute_result"
    }
   ],
   "source": [
    "behaviors.isna().sum()"
   ]
  },
  {
   "cell_type": "markdown",
   "metadata": {},
   "source": [
    "The only column containing missing values is the history column which can have an effect on the efficacy of a sequential recommender. As it is the history column, this implies that there are new users who's first interactions have been logged and have yet to have a history. (look more into history column). This creates a major issue for sequential recommenders, which utilize a users history to create new recommendations. \n",
    "\n",
    "When evaluating the Tensorflow sequential recommender, we removed rows that included missing values for history. For other recommender models we added a layer that was able to provide recommendations based off of other features."
   ]
  },
  {
   "cell_type": "markdown",
   "metadata": {},
   "source": [
    "### Category Popularity\n",
    "We then analyzed the popularity of each category and article in the dataset. Each interaction in the dataset has information specific to that interaction: prior history and clickthrough rates for recommended articles. From this, we determined the popularity of articles and categories in regards to, history, clickthrough rate and both. "
   ]
  },
  {
   "cell_type": "code",
   "execution_count": 3,
   "metadata": {},
   "outputs": [],
   "source": [
    "category_popularity = pd.read_csv('../MIND_small/csv/category_with_popularity.csv')"
   ]
  },
  {
   "cell_type": "code",
   "execution_count": 11,
   "metadata": {},
   "outputs": [
    {
     "data": {
      "text/html": [
       "<div>\n",
       "<style scoped>\n",
       "    .dataframe tbody tr th:only-of-type {\n",
       "        vertical-align: middle;\n",
       "    }\n",
       "\n",
       "    .dataframe tbody tr th {\n",
       "        vertical-align: top;\n",
       "    }\n",
       "\n",
       "    .dataframe thead th {\n",
       "        text-align: right;\n",
       "    }\n",
       "</style>\n",
       "<table border=\"1\" class=\"dataframe\">\n",
       "  <thead>\n",
       "    <tr style=\"text-align: right;\">\n",
       "      <th></th>\n",
       "      <th>popularity_type</th>\n",
       "      <th>variable</th>\n",
       "      <th>popularity</th>\n",
       "    </tr>\n",
       "  </thead>\n",
       "  <tbody>\n",
       "    <tr>\n",
       "      <th>0</th>\n",
       "      <td>impressions</td>\n",
       "      <td>lifestyle</td>\n",
       "      <td>26584</td>\n",
       "    </tr>\n",
       "    <tr>\n",
       "      <th>1</th>\n",
       "      <td>history</td>\n",
       "      <td>lifestyle</td>\n",
       "      <td>529650</td>\n",
       "    </tr>\n",
       "    <tr>\n",
       "      <th>2</th>\n",
       "      <td>impressions</td>\n",
       "      <td>health</td>\n",
       "      <td>10863</td>\n",
       "    </tr>\n",
       "    <tr>\n",
       "      <th>3</th>\n",
       "      <td>history</td>\n",
       "      <td>health</td>\n",
       "      <td>230010</td>\n",
       "    </tr>\n",
       "    <tr>\n",
       "      <th>4</th>\n",
       "      <td>impressions</td>\n",
       "      <td>news</td>\n",
       "      <td>69408</td>\n",
       "    </tr>\n",
       "    <tr>\n",
       "      <th>5</th>\n",
       "      <td>history</td>\n",
       "      <td>news</td>\n",
       "      <td>1603654</td>\n",
       "    </tr>\n",
       "    <tr>\n",
       "      <th>6</th>\n",
       "      <td>impressions</td>\n",
       "      <td>sports</td>\n",
       "      <td>28181</td>\n",
       "    </tr>\n",
       "    <tr>\n",
       "      <th>7</th>\n",
       "      <td>history</td>\n",
       "      <td>sports</td>\n",
       "      <td>728254</td>\n",
       "    </tr>\n",
       "    <tr>\n",
       "      <th>8</th>\n",
       "      <td>impressions</td>\n",
       "      <td>weather</td>\n",
       "      <td>4582</td>\n",
       "    </tr>\n",
       "    <tr>\n",
       "      <th>9</th>\n",
       "      <td>history</td>\n",
       "      <td>weather</td>\n",
       "      <td>60410</td>\n",
       "    </tr>\n",
       "    <tr>\n",
       "      <th>10</th>\n",
       "      <td>impressions</td>\n",
       "      <td>entertainment</td>\n",
       "      <td>10530</td>\n",
       "    </tr>\n",
       "    <tr>\n",
       "      <th>11</th>\n",
       "      <td>history</td>\n",
       "      <td>entertainment</td>\n",
       "      <td>165519</td>\n",
       "    </tr>\n",
       "    <tr>\n",
       "      <th>12</th>\n",
       "      <td>impressions</td>\n",
       "      <td>autos</td>\n",
       "      <td>7428</td>\n",
       "    </tr>\n",
       "    <tr>\n",
       "      <th>13</th>\n",
       "      <td>history</td>\n",
       "      <td>autos</td>\n",
       "      <td>178621</td>\n",
       "    </tr>\n",
       "    <tr>\n",
       "      <th>14</th>\n",
       "      <td>impressions</td>\n",
       "      <td>travel</td>\n",
       "      <td>8304</td>\n",
       "    </tr>\n",
       "    <tr>\n",
       "      <th>15</th>\n",
       "      <td>history</td>\n",
       "      <td>travel</td>\n",
       "      <td>164224</td>\n",
       "    </tr>\n",
       "    <tr>\n",
       "      <th>16</th>\n",
       "      <td>impressions</td>\n",
       "      <td>foodanddrink</td>\n",
       "      <td>10883</td>\n",
       "    </tr>\n",
       "    <tr>\n",
       "      <th>17</th>\n",
       "      <td>history</td>\n",
       "      <td>foodanddrink</td>\n",
       "      <td>273451</td>\n",
       "    </tr>\n",
       "    <tr>\n",
       "      <th>18</th>\n",
       "      <td>impressions</td>\n",
       "      <td>tv</td>\n",
       "      <td>14544</td>\n",
       "    </tr>\n",
       "    <tr>\n",
       "      <th>19</th>\n",
       "      <td>history</td>\n",
       "      <td>tv</td>\n",
       "      <td>366764</td>\n",
       "    </tr>\n",
       "    <tr>\n",
       "      <th>20</th>\n",
       "      <td>impressions</td>\n",
       "      <td>finance</td>\n",
       "      <td>20597</td>\n",
       "    </tr>\n",
       "    <tr>\n",
       "      <th>21</th>\n",
       "      <td>history</td>\n",
       "      <td>finance</td>\n",
       "      <td>391906</td>\n",
       "    </tr>\n",
       "    <tr>\n",
       "      <th>22</th>\n",
       "      <td>impressions</td>\n",
       "      <td>movies</td>\n",
       "      <td>4186</td>\n",
       "    </tr>\n",
       "    <tr>\n",
       "      <th>23</th>\n",
       "      <td>history</td>\n",
       "      <td>movies</td>\n",
       "      <td>181275</td>\n",
       "    </tr>\n",
       "    <tr>\n",
       "      <th>24</th>\n",
       "      <td>impressions</td>\n",
       "      <td>video</td>\n",
       "      <td>4262</td>\n",
       "    </tr>\n",
       "    <tr>\n",
       "      <th>25</th>\n",
       "      <td>history</td>\n",
       "      <td>video</td>\n",
       "      <td>101820</td>\n",
       "    </tr>\n",
       "    <tr>\n",
       "      <th>26</th>\n",
       "      <td>impressions</td>\n",
       "      <td>music</td>\n",
       "      <td>15988</td>\n",
       "    </tr>\n",
       "    <tr>\n",
       "      <th>27</th>\n",
       "      <td>history</td>\n",
       "      <td>music</td>\n",
       "      <td>131851</td>\n",
       "    </tr>\n",
       "    <tr>\n",
       "      <th>28</th>\n",
       "      <td>impressions</td>\n",
       "      <td>kids</td>\n",
       "      <td>3</td>\n",
       "    </tr>\n",
       "    <tr>\n",
       "      <th>29</th>\n",
       "      <td>history</td>\n",
       "      <td>kids</td>\n",
       "      <td>161</td>\n",
       "    </tr>\n",
       "    <tr>\n",
       "      <th>30</th>\n",
       "      <td>impressions</td>\n",
       "      <td>middleeast</td>\n",
       "      <td>0</td>\n",
       "    </tr>\n",
       "    <tr>\n",
       "      <th>31</th>\n",
       "      <td>history</td>\n",
       "      <td>middleeast</td>\n",
       "      <td>69</td>\n",
       "    </tr>\n",
       "    <tr>\n",
       "      <th>32</th>\n",
       "      <td>impressions</td>\n",
       "      <td>northamerica</td>\n",
       "      <td>1</td>\n",
       "    </tr>\n",
       "    <tr>\n",
       "      <th>33</th>\n",
       "      <td>history</td>\n",
       "      <td>northamerica</td>\n",
       "      <td>0</td>\n",
       "    </tr>\n",
       "  </tbody>\n",
       "</table>\n",
       "</div>"
      ],
      "text/plain": [
       "   popularity_type       variable  popularity\n",
       "0      impressions      lifestyle       26584\n",
       "1          history      lifestyle      529650\n",
       "2      impressions         health       10863\n",
       "3          history         health      230010\n",
       "4      impressions           news       69408\n",
       "5          history           news     1603654\n",
       "6      impressions         sports       28181\n",
       "7          history         sports      728254\n",
       "8      impressions        weather        4582\n",
       "9          history        weather       60410\n",
       "10     impressions  entertainment       10530\n",
       "11         history  entertainment      165519\n",
       "12     impressions          autos        7428\n",
       "13         history          autos      178621\n",
       "14     impressions         travel        8304\n",
       "15         history         travel      164224\n",
       "16     impressions   foodanddrink       10883\n",
       "17         history   foodanddrink      273451\n",
       "18     impressions             tv       14544\n",
       "19         history             tv      366764\n",
       "20     impressions        finance       20597\n",
       "21         history        finance      391906\n",
       "22     impressions         movies        4186\n",
       "23         history         movies      181275\n",
       "24     impressions          video        4262\n",
       "25         history          video      101820\n",
       "26     impressions          music       15988\n",
       "27         history          music      131851\n",
       "28     impressions           kids           3\n",
       "29         history           kids         161\n",
       "30     impressions     middleeast           0\n",
       "31         history     middleeast          69\n",
       "32     impressions   northamerica           1\n",
       "33         history   northamerica           0"
      ]
     },
     "execution_count": 11,
     "metadata": {},
     "output_type": "execute_result"
    }
   ],
   "source": [
    "\n",
    "# category_popularity.drop(columns=['Unnamed: 0'], inplace=True)\n",
    "category_popularity_long = category_popularity.melt(id_vars='popularity_type', value_vars=category_popularity.columns, value_name='popularity')\n",
    "category_popularity_long\n",
    "\n",
    "# sns.histplot(category_popularity)\n",
    "\n",
    "# def create_popularity_chart():\n",
    "#     \"\"\" \n",
    "#     Maybe here we want to pass in the news and behaviors and then use the create_popularity df so it minimizes boilerplate in the notebook?\n",
    "#     \"\"\"\n",
    "#     pop_long = category_popularity.melt(value_vars=category_popularity.columns, value_name='popularity')\n",
    "#     news_cat = news['category'].value_counts().to_frame()\n",
    "#     pop_long.set_index('variable', inplace=True)\n",
    "#     concatenated = pd.concat([pop_long, news_cat], axis=1)\n",
    "#     concatenated.reset_index(inplace=True)\n",
    "#     dat = concatenated.melt(id_vars='index', value_vars=['popularity', 'count']).sort_values(by='value', ascending=False)\n",
    "#     sns.barplot(data=dat,\n",
    "#                 y='index',\n",
    "#                 x='value',\n",
    "#                 hue='variable')\n",
    "# create_popularity_chart()\n",
    "# ## Could also very well re-consider the plot to be something that is only the popularity of categories however could be useful or good to visualize as such\n"
   ]
  },
  {
   "cell_type": "code",
   "execution_count": 28,
   "metadata": {},
   "outputs": [
    {
     "name": "stderr",
     "output_type": "stream",
     "text": [
      "/Users/nick/miniforge3/envs/recSysEnv/lib/python3.9/site-packages/seaborn/axisgrid.py:718: UserWarning: Using the barplot function without specifying `order` is likely to produce an incorrect plot.\n",
      "  warnings.warn(warning)\n"
     ]
    },
    {
     "data": {
      "image/png": "[encoded data removed]",
      "text/plain": [
       "<Figure size 1150x500 with 2 Axes>"
      ]
     },
     "metadata": {},
     "output_type": "display_data"
    }
   ],
   "source": [
    "def plot_popularity(category_popularity : pd.DataFrame) -> None:\n",
    "    \"\"\"\n",
    "    Plots category popularity for user impressions and history separately using an SNS FacetGrid.\n",
    "    \n",
    "    Args:\n",
    "        category_popularity (pd.DataFrame) : A pandas dataframe containing the popularity of each category within impressions and user history's.\n",
    "    \n",
    "    Returns:\n",
    "        None\n",
    "    \"\"\"\n",
    "    # Melt and then sort the data.\n",
    "    category_popularity_long = category_popularity.melt(id_vars='popularity_type', value_vars=category_popularity.columns, value_name='popularity')\n",
    "    category_popularity_long_sorted = category_popularity_long.sort_values(by=['popularity_type', 'popularity'], ascending=[True, False])\n",
    "    \n",
    "    # Create a seaborn FacetGrid for the visualization\n",
    "    g = sns.FacetGrid(category_popularity_long_sorted, col='popularity_type', sharex=False, height=5, aspect=1, hue='variable')\n",
    "\n",
    "    # Apply a barplot to each facet and set the labels and titles\n",
    "    g.map(sns.barplot, 'popularity','variable')\n",
    "    g.set_axis_labels(x_var=\"Count of interactions\", y_var='Categories')\n",
    "    g.set_titles(\"User {col_name}\")\n",
    "    g.add_legend(title='Categories')\n",
    "\n",
    "    plt.show()"
   ]
  },
  {
   "cell_type": "code",
   "execution_count": 16,
   "metadata": {},
   "outputs": [
    {
     "ename": "NameError",
     "evalue": "name 'dfm' is not defined",
     "output_type": "error",
     "traceback": [
      "\u001b[0;31m---------------------------------------------------------------------------\u001b[0m",
      "\u001b[0;31mNameError\u001b[0m                                 Traceback (most recent call last)",
      "Cell \u001b[0;32mIn[16], line 1\u001b[0m\n\u001b[0;32m----> 1\u001b[0m g \u001b[38;5;241m=\u001b[39m sns\u001b[38;5;241m.\u001b[39mcatplot(x\u001b[38;5;241m=\u001b[39m\u001b[38;5;124m'\u001b[39m\u001b[38;5;124mvariable\u001b[39m\u001b[38;5;124m'\u001b[39m, y\u001b[38;5;241m=\u001b[39m\u001b[38;5;124m'\u001b[39m\u001b[38;5;124mpopularity\u001b[39m\u001b[38;5;124m'\u001b[39m, hue\u001b[38;5;241m=\u001b[39m\u001b[38;5;124m'\u001b[39m\u001b[38;5;124mpopularity_type\u001b[39m\u001b[38;5;124m'\u001b[39m, data\u001b[38;5;241m=\u001b[39m\u001b[43mdfm\u001b[49m, kind\u001b[38;5;241m=\u001b[39m\u001b[38;5;124m'\u001b[39m\u001b[38;5;124mbar\u001b[39m\u001b[38;5;124m'\u001b[39m, height\u001b[38;5;241m=\u001b[39m\u001b[38;5;241m5\u001b[39m, aspect\u001b[38;5;241m=\u001b[39m\u001b[38;5;241m1\u001b[39m)\n\u001b[1;32m      2\u001b[0m \u001b[38;5;66;03m# plt.figure(figsize=(5, 5))\u001b[39;00m\n\u001b[1;32m      3\u001b[0m \u001b[38;5;66;03m# ax = sns.barplot(x='class', y='survival rate', hue='sex', data=dfm)\u001b[39;00m\n\u001b[1;32m      4\u001b[0m \u001b[38;5;66;03m# ax.spines[['top', 'right']].set_visible(False)\u001b[39;00m\n\u001b[1;32m      5\u001b[0m \u001b[38;5;66;03m# sns.move_legend(ax, bbox_to_anchor=(1, 0.5), loc='center left', frameon=False)\u001b[39;00m\n\u001b[1;32m      6\u001b[0m g\n",
      "\u001b[0;31mNameError\u001b[0m: name 'dfm' is not defined"
     ]
    }
   ],
   "source": [
    "g = sns.catplot(x='variable', y='popularity', hue='popularity_type', data=dfm, kind='bar', height=5, aspect=1)\n",
    "# plt.figure(figsize=(5, 5))\n",
    "# ax = sns.barplot(x='class', y='survival rate', hue='sex', data=dfm)\n",
    "# ax.spines[['top', 'right']].set_visible(False)\n",
    "# sns.move_legend(ax, bbox_to_anchor=(1, 0.5), loc='center left', frameon=False)\n",
    "g\n",
    "# sns.barplot(category_popularity_long, y='variable', x='popularity', hue='popularity_type')"
   ]
  },
  {
   "cell_type": "markdown",
   "metadata": {},
   "source": [
    "As visible above, the count of articles in a category does not impact the overall popularity of that category. TV has less articles than weather and yet is much more popular amongst users. It's clear from earlier distribitutions that certain categories have larger catalogs and popularity. To see if category and popularity density affects the quality of recommendations we later experiment with a potential weighting system modeled after IDF with categories that are more prevalent. "
   ]
  },
  {
   "cell_type": "markdown",
   "metadata": {},
   "source": [
    "### Addressing the Long Tail\n",
    "While we are experiementing on density of categories and their popularities, the efficacy of our recommenders could be affected by what is known as the long tail problem; an issue where certain items have a disproportionate number of ratings which can skew recommendations. "
   ]
  },
  {
   "cell_type": "code",
   "execution_count": null,
   "metadata": {},
   "outputs": [],
   "source": [
    "## Want to use the clean impression function\n",
    "# Get a dict of all article IDs\n",
    "# go through all user interactions and determine positive clickthroughs\n",
    "# might want to check if a click directly refers to history bc if so we can just modify the previous function for popularity slightly\n",
    "# user history does not get updated with clickthrough rates! uh oh hahahaha, have to change the popularity chart to be representative of history\n",
    "# and of user click through rates as well"
   ]
  },
  {
   "cell_type": "markdown",
   "metadata": {},
   "source": [
    "### Accessing temporal aspects of our data\n",
    "Within our data we have a time column, meaning that we can not only test and train with time in mind, but we can utilize this temporal aspect in our recommendations. As a result of this potential we have access to creating feature interactions based off of an interaction time. "
   ]
  },
  {
   "cell_type": "code",
   "execution_count": 11,
   "metadata": {},
   "outputs": [
    {
     "name": "stdout",
     "output_type": "stream",
     "text": [
      "['(2019-11-09 00:00:00, 2019-11-09 01:00:00]', '(2019-11-09 01:00:00, 2019-11-09 02:00:00]', '(2019-11-09 02:00:00, 2019-11-09 03:00:00]', '(2019-11-09 03:00:00, 2019-11-09 04:00:00]', '(2019-11-09 04:00:00, 2019-11-09 05:00:00]', '(2019-11-09 05:00:00, 2019-11-09 06:00:00]', '(2019-11-09 06:00:00, 2019-11-09 07:00:00]', '(2019-11-09 07:00:00, 2019-11-09 08:00:00]', '(2019-11-09 08:00:00, 2019-11-09 09:00:00]', '(2019-11-09 09:00:00, 2019-11-09 10:00:00]', '(2019-11-09 10:00:00, 2019-11-09 11:00:00]', '(2019-11-09 11:00:00, 2019-11-09 12:00:00]', '(2019-11-09 12:00:00, 2019-11-09 13:00:00]', '(2019-11-09 13:00:00, 2019-11-09 14:00:00]', '(2019-11-09 14:00:00, 2019-11-09 15:00:00]', '(2019-11-09 15:00:00, 2019-11-09 16:00:00]', '(2019-11-09 16:00:00, 2019-11-09 17:00:00]', '(2019-11-09 17:00:00, 2019-11-09 18:00:00]', '(2019-11-09 18:00:00, 2019-11-09 19:00:00]', '(2019-11-09 19:00:00, 2019-11-09 20:00:00]', '(2019-11-09 20:00:00, 2019-11-09 21:00:00]', '(2019-11-09 21:00:00, 2019-11-09 22:00:00]', '(2019-11-09 22:00:00, 2019-11-09 23:00:00]', '(2019-11-09 23:00:00, 2019-11-10 00:00:00]', '(2019-11-10 00:00:00, 2019-11-10 01:00:00]', '(2019-11-10 01:00:00, 2019-11-10 02:00:00]', '(2019-11-10 02:00:00, 2019-11-10 03:00:00]', '(2019-11-10 03:00:00, 2019-11-10 04:00:00]', '(2019-11-10 04:00:00, 2019-11-10 05:00:00]', '(2019-11-10 05:00:00, 2019-11-10 06:00:00]', '(2019-11-10 06:00:00, 2019-11-10 07:00:00]', '(2019-11-10 07:00:00, 2019-11-10 08:00:00]', '(2019-11-10 08:00:00, 2019-11-10 09:00:00]', '(2019-11-10 09:00:00, 2019-11-10 10:00:00]', '(2019-11-10 10:00:00, 2019-11-10 11:00:00]', '(2019-11-10 11:00:00, 2019-11-10 12:00:00]', '(2019-11-10 12:00:00, 2019-11-10 13:00:00]', '(2019-11-10 13:00:00, 2019-11-10 14:00:00]', '(2019-11-10 14:00:00, 2019-11-10 15:00:00]', '(2019-11-10 15:00:00, 2019-11-10 16:00:00]', '(2019-11-10 16:00:00, 2019-11-10 17:00:00]', '(2019-11-10 17:00:00, 2019-11-10 18:00:00]', '(2019-11-10 18:00:00, 2019-11-10 19:00:00]', '(2019-11-10 19:00:00, 2019-11-10 20:00:00]', '(2019-11-10 20:00:00, 2019-11-10 21:00:00]', '(2019-11-10 21:00:00, 2019-11-10 22:00:00]', '(2019-11-10 22:00:00, 2019-11-10 23:00:00]', '(2019-11-10 23:00:00, 2019-11-11 00:00:00]', '(2019-11-11 00:00:00, 2019-11-11 01:00:00]', '(2019-11-11 01:00:00, 2019-11-11 02:00:00]', '(2019-11-11 02:00:00, 2019-11-11 03:00:00]', '(2019-11-11 03:00:00, 2019-11-11 04:00:00]', '(2019-11-11 04:00:00, 2019-11-11 05:00:00]', '(2019-11-11 05:00:00, 2019-11-11 06:00:00]', '(2019-11-11 06:00:00, 2019-11-11 07:00:00]', '(2019-11-11 07:00:00, 2019-11-11 08:00:00]', '(2019-11-11 08:00:00, 2019-11-11 09:00:00]', '(2019-11-11 09:00:00, 2019-11-11 10:00:00]', '(2019-11-11 10:00:00, 2019-11-11 11:00:00]', '(2019-11-11 11:00:00, 2019-11-11 12:00:00]', '(2019-11-11 12:00:00, 2019-11-11 13:00:00]', '(2019-11-11 13:00:00, 2019-11-11 14:00:00]', '(2019-11-11 14:00:00, 2019-11-11 15:00:00]', '(2019-11-11 15:00:00, 2019-11-11 16:00:00]', '(2019-11-11 16:00:00, 2019-11-11 17:00:00]', '(2019-11-11 17:00:00, 2019-11-11 18:00:00]', '(2019-11-11 18:00:00, 2019-11-11 19:00:00]', '(2019-11-11 19:00:00, 2019-11-11 20:00:00]', '(2019-11-11 20:00:00, 2019-11-11 21:00:00]', '(2019-11-11 21:00:00, 2019-11-11 22:00:00]', '(2019-11-11 22:00:00, 2019-11-11 23:00:00]', '(2019-11-11 23:00:00, 2019-11-12 00:00:00]', '(2019-11-12 00:00:00, 2019-11-12 01:00:00]', '(2019-11-12 01:00:00, 2019-11-12 02:00:00]', '(2019-11-12 02:00:00, 2019-11-12 03:00:00]', '(2019-11-12 03:00:00, 2019-11-12 04:00:00]', '(2019-11-12 04:00:00, 2019-11-12 05:00:00]', '(2019-11-12 05:00:00, 2019-11-12 06:00:00]', '(2019-11-12 06:00:00, 2019-11-12 07:00:00]', '(2019-11-12 07:00:00, 2019-11-12 08:00:00]', '(2019-11-12 08:00:00, 2019-11-12 09:00:00]', '(2019-11-12 09:00:00, 2019-11-12 10:00:00]', '(2019-11-12 10:00:00, 2019-11-12 11:00:00]', '(2019-11-12 11:00:00, 2019-11-12 12:00:00]', '(2019-11-12 12:00:00, 2019-11-12 13:00:00]', '(2019-11-12 13:00:00, 2019-11-12 14:00:00]', '(2019-11-12 14:00:00, 2019-11-12 15:00:00]', '(2019-11-12 15:00:00, 2019-11-12 16:00:00]', '(2019-11-12 16:00:00, 2019-11-12 17:00:00]', '(2019-11-12 17:00:00, 2019-11-12 18:00:00]', '(2019-11-12 18:00:00, 2019-11-12 19:00:00]', '(2019-11-12 19:00:00, 2019-11-12 20:00:00]', '(2019-11-12 20:00:00, 2019-11-12 21:00:00]', '(2019-11-12 21:00:00, 2019-11-12 22:00:00]', '(2019-11-12 22:00:00, 2019-11-12 23:00:00]', '(2019-11-12 23:00:00, 2019-11-13 00:00:00]', '(2019-11-13 00:00:00, 2019-11-13 01:00:00]', '(2019-11-13 01:00:00, 2019-11-13 02:00:00]', '(2019-11-13 02:00:00, 2019-11-13 03:00:00]', '(2019-11-13 03:00:00, 2019-11-13 04:00:00]', '(2019-11-13 04:00:00, 2019-11-13 05:00:00]', '(2019-11-13 05:00:00, 2019-11-13 06:00:00]', '(2019-11-13 06:00:00, 2019-11-13 07:00:00]', '(2019-11-13 07:00:00, 2019-11-13 08:00:00]', '(2019-11-13 08:00:00, 2019-11-13 09:00:00]', '(2019-11-13 09:00:00, 2019-11-13 10:00:00]', '(2019-11-13 10:00:00, 2019-11-13 11:00:00]', '(2019-11-13 11:00:00, 2019-11-13 12:00:00]', '(2019-11-13 12:00:00, 2019-11-13 13:00:00]', '(2019-11-13 13:00:00, 2019-11-13 14:00:00]', '(2019-11-13 14:00:00, 2019-11-13 15:00:00]', '(2019-11-13 15:00:00, 2019-11-13 16:00:00]', '(2019-11-13 16:00:00, 2019-11-13 17:00:00]', '(2019-11-13 17:00:00, 2019-11-13 18:00:00]', '(2019-11-13 18:00:00, 2019-11-13 19:00:00]', '(2019-11-13 19:00:00, 2019-11-13 20:00:00]', '(2019-11-13 20:00:00, 2019-11-13 21:00:00]', '(2019-11-13 21:00:00, 2019-11-13 22:00:00]', '(2019-11-13 22:00:00, 2019-11-13 23:00:00]', '(2019-11-13 23:00:00, 2019-11-14 00:00:00]', '(2019-11-14 00:00:00, 2019-11-14 01:00:00]', '(2019-11-14 01:00:00, 2019-11-14 02:00:00]', '(2019-11-14 02:00:00, 2019-11-14 03:00:00]', '(2019-11-14 03:00:00, 2019-11-14 04:00:00]', '(2019-11-14 04:00:00, 2019-11-14 05:00:00]', '(2019-11-14 05:00:00, 2019-11-14 06:00:00]', '(2019-11-14 06:00:00, 2019-11-14 07:00:00]', '(2019-11-14 07:00:00, 2019-11-14 08:00:00]', '(2019-11-14 08:00:00, 2019-11-14 09:00:00]', '(2019-11-14 09:00:00, 2019-11-14 10:00:00]', '(2019-11-14 10:00:00, 2019-11-14 11:00:00]', '(2019-11-14 11:00:00, 2019-11-14 12:00:00]', '(2019-11-14 12:00:00, 2019-11-14 13:00:00]', '(2019-11-14 13:00:00, 2019-11-14 14:00:00]', '(2019-11-14 14:00:00, 2019-11-14 15:00:00]', '(2019-11-14 15:00:00, 2019-11-14 16:00:00]', '(2019-11-14 16:00:00, 2019-11-14 17:00:00]', '(2019-11-14 17:00:00, 2019-11-14 18:00:00]', '(2019-11-14 18:00:00, 2019-11-14 19:00:00]', '(2019-11-14 19:00:00, 2019-11-14 20:00:00]', '(2019-11-14 20:00:00, 2019-11-14 21:00:00]', '(2019-11-14 21:00:00, 2019-11-14 22:00:00]', '(2019-11-14 22:00:00, 2019-11-14 23:00:00]', '(2019-11-14 23:00:00, 2019-11-15 00:00:00]']\n"
     ]
    }
   ],
   "source": [
    "## Accessing temporal data ##\n",
    "# how do we go about this? we can bin times into hours by finding the min and max time in the array\n",
    "# then with our bins we can bin into hours, determining the categories by hours \n",
    "\n",
    "# first finding our min and max times\n",
    "copynews = news.set_index('news_id') # duplicate copynews will have to fix later!\n",
    "times = [behaviors['time'].max(), behaviors['time'].min()]\n",
    "# max and then min\n",
    "# print(times)\n",
    "# interactions range from the 9th to the 14th, a span of 5 days, want to create bins of 1 hour\n",
    "# 24 * 5 is 120 hours in total\n",
    "cut_points = pd.date_range(start='2019-11-09 00:00:00', end='2019-11-15 00:00:00', freq='h') # hourly ranges for the time of the behaviors dataset\n",
    "# cut_points = np.linspace(start=dataframe[col].min(), stop=dataframe[col].max(), num=5 + 1)\n",
    "# print(type(cut_points))\n",
    "behaviors_new = behaviors.copy()\n",
    "bins_str = cut_points.astype(str).values\n",
    "\n",
    "labels = ['({}, {}]'.format(bins_str[i-1], bins_str[i]) for i in range(1, len(bins_str))]\n",
    "print(labels)\n",
    "behaviors_new['time'] = pd.cut(behaviors['time'], cut_points, labels=labels, include_lowest=True)\n",
    "# behaviors_new.head()\n",
    "# might want to use df['toronto_time'] = pd.to_datetime(df['toronto_time']).dt.strftime('%H:%M:%S')\n",
    "# def get_item_popularity()\n",
    "# can change the create popularity df function to be applied on every group of time, or a bigger function that takes in a row\n",
    "# popularity_by_time = behaviors_new.groupby('time').agg()\n",
    "# df[[\"col1\", \"col2\", ...]] = df.apply(lambda row: fn(row.text), axis='columns', result_type='expand')\n",
    "behaviors_new['time'] = behaviors_new['time'].apply(lambda time_string : time_string.split(\" \")[-1][:-1])\n",
    "def clean_impression(impression : str = 'N55689-1') -> dict:\n",
    "    \"\"\" \n",
    "    Cleans up a user impression for its characteristics.\n",
    "\n",
    "    Args:\n",
    "        impression (str) : A users impression on a recommended article.\n",
    "    \n",
    "    Returns:\n",
    "        impression_info (dict) : A dictionary containing keys for the rating and article in the impression.\n",
    "    \"\"\"\n",
    "    impression_info = impression.split('-')\n",
    "    return {'score':impression_info[1], 'article_ID':impression_info[0]}    \n",
    "\n",
    "# func should return a dictionary with column names as keys, we then can group by time, and then sum for each category\n",
    "# then we can plot with strftime\n",
    "STANDARD_DICT = {category: 0 for category in pd.unique(copynews['category'])}\n",
    "\n",
    "def func(row):\n",
    "    \"\"\" \n",
    "    Might want to change name from impression to interaction\n",
    "    \"\"\"\n",
    "    user_interactions = row['impressions']\n",
    "    cols_to_add = STANDARD_DICT.copy()\n",
    "    if type(user_interactions) != float:\n",
    "        for impression in user_interactions.split():\n",
    "            impression_info = clean_impression(impression)\n",
    "            if impression_info['score'] == '1':\n",
    "                cols_to_add[copynews.loc[impression_info['article_ID']]['category']] += 1\n",
    "    return cols_to_add\n",
    "\n",
    "# print([category_popularity.columns.to_list()])\n",
    "behaviors_new[category_popularity.columns.to_list()] = behaviors_new.apply(lambda row : func(row), axis='columns', result_type='expand')\n",
    "\n",
    "\n",
    "\n",
    "# popularity_by_time[[category_popularity.columns]] = popularity_by_time.apply(lambda row : func(row))\n",
    "# might just want to create a new dataframe with history and time "
   ]
  },
  {
   "cell_type": "code",
   "execution_count": 25,
   "metadata": {},
   "outputs": [],
   "source": [
    "\n",
    "behaviors_final = behaviors_new.drop(columns=['Unnamed: 0', 'impression_id', 'user_id', 'history', 'impressions'])\n",
    "                \n",
    "\n",
    "behaviors_final = behaviors_final.groupby('time').agg('sum')\n",
    "behaviors_final.reset_index(inplace=True)"
   ]
  },
  {
   "cell_type": "code",
   "execution_count": 52,
   "metadata": {},
   "outputs": [
    {
     "name": "stderr",
     "output_type": "stream",
     "text": [
      "/var/folders/83/h9nx83394pb5k_0h4zbb4lw00000gn/T/ipykernel_10514/1544821908.py:3: UserWarning:\n",
      "\n",
      "Could not infer format, so each element will be parsed individually, falling back to `dateutil`. To ensure parsing is consistent and as-expected, please specify a format.\n",
      "\n"
     ]
    },
    {
     "data": {
      "text/html": [
       "<div>\n",
       "<style scoped>\n",
       "    .dataframe tbody tr th:only-of-type {\n",
       "        vertical-align: middle;\n",
       "    }\n",
       "\n",
       "    .dataframe tbody tr th {\n",
       "        vertical-align: top;\n",
       "    }\n",
       "\n",
       "    .dataframe thead th {\n",
       "        text-align: right;\n",
       "    }\n",
       "</style>\n",
       "<table border=\"1\" class=\"dataframe\">\n",
       "  <thead>\n",
       "    <tr style=\"text-align: right;\">\n",
       "      <th></th>\n",
       "      <th>time</th>\n",
       "      <th>variable</th>\n",
       "      <th>value</th>\n",
       "    </tr>\n",
       "  </thead>\n",
       "  <tbody>\n",
       "    <tr>\n",
       "      <th>0</th>\n",
       "      <td>0</td>\n",
       "      <td>lifestyle</td>\n",
       "      <td>185</td>\n",
       "    </tr>\n",
       "    <tr>\n",
       "      <th>1</th>\n",
       "      <td>1</td>\n",
       "      <td>lifestyle</td>\n",
       "      <td>146</td>\n",
       "    </tr>\n",
       "    <tr>\n",
       "      <th>2</th>\n",
       "      <td>2</td>\n",
       "      <td>lifestyle</td>\n",
       "      <td>169</td>\n",
       "    </tr>\n",
       "    <tr>\n",
       "      <th>3</th>\n",
       "      <td>3</td>\n",
       "      <td>lifestyle</td>\n",
       "      <td>251</td>\n",
       "    </tr>\n",
       "    <tr>\n",
       "      <th>4</th>\n",
       "      <td>4</td>\n",
       "      <td>lifestyle</td>\n",
       "      <td>446</td>\n",
       "    </tr>\n",
       "    <tr>\n",
       "      <th>...</th>\n",
       "      <td>...</td>\n",
       "      <td>...</td>\n",
       "      <td>...</td>\n",
       "    </tr>\n",
       "    <tr>\n",
       "      <th>403</th>\n",
       "      <td>19</td>\n",
       "      <td>northamerica</td>\n",
       "      <td>1</td>\n",
       "    </tr>\n",
       "    <tr>\n",
       "      <th>404</th>\n",
       "      <td>20</td>\n",
       "      <td>northamerica</td>\n",
       "      <td>0</td>\n",
       "    </tr>\n",
       "    <tr>\n",
       "      <th>405</th>\n",
       "      <td>21</td>\n",
       "      <td>northamerica</td>\n",
       "      <td>0</td>\n",
       "    </tr>\n",
       "    <tr>\n",
       "      <th>406</th>\n",
       "      <td>22</td>\n",
       "      <td>northamerica</td>\n",
       "      <td>0</td>\n",
       "    </tr>\n",
       "    <tr>\n",
       "      <th>407</th>\n",
       "      <td>23</td>\n",
       "      <td>northamerica</td>\n",
       "      <td>0</td>\n",
       "    </tr>\n",
       "  </tbody>\n",
       "</table>\n",
       "<p>408 rows × 3 columns</p>\n",
       "</div>"
      ],
      "text/plain": [
       "     time      variable  value\n",
       "0       0     lifestyle    185\n",
       "1       1     lifestyle    146\n",
       "2       2     lifestyle    169\n",
       "3       3     lifestyle    251\n",
       "4       4     lifestyle    446\n",
       "..    ...           ...    ...\n",
       "403    19  northamerica      1\n",
       "404    20  northamerica      0\n",
       "405    21  northamerica      0\n",
       "406    22  northamerica      0\n",
       "407    23  northamerica      0\n",
       "\n",
       "[408 rows x 3 columns]"
      ]
     },
     "execution_count": 52,
     "metadata": {},
     "output_type": "execute_result"
    },
    {
     "data": {
      "image/png": "[encoded data removed]",
      "text/plain": [
       "<Figure size 650x500 with 1 Axes>"
      ]
     },
     "metadata": {},
     "output_type": "display_data"
    }
   ],
   "source": [
    "\n",
    "\n",
    "cols = ['lifestyle', 'health', 'news', 'sports', 'weather', 'entertainment', 'autos', 'travel', 'foodanddrink', 'tv', 'finance', 'movies', 'video', 'music', 'kids', 'middleeast', 'northamerica']\n",
    "behaviors_long = behaviors_final.melt(id_vars='time', value_vars=cols)\n",
    "behaviors_long['time'] = pd.to_datetime(behaviors_long['time'])\n",
    "behaviors_long['time'] = behaviors_long['time'].dt.hour\n",
    "\n",
    "sns.relplot(behaviors_long, x='time', y='value', hue='variable', kind='line')\n",
    "behaviors_long"
   ]
  },
  {
   "cell_type": "markdown",
   "metadata": {},
   "source": [
    "###  meep\n",
    "Within the context of a recommender we do not care about the date exactly but more so the hour or time of day, hence we will change the bins accordingly "
   ]
  },
  {
   "cell_type": "code",
   "execution_count": null,
   "metadata": {},
   "outputs": [],
   "source": []
  },
  {
   "cell_type": "code",
   "execution_count": null,
   "metadata": {},
   "outputs": [],
   "source": []
  }
 ],
 "metadata": {
  "kernelspec": {
   "display_name": "recSysEnv",
   "language": "python",
   "name": "python3"
  },
  "language_info": {
   "codemirror_mode": {
    "name": "ipython",
    "version": 3
   },
   "file_extension": ".py",
   "mimetype": "text/x-python",
   "name": "python",
   "nbconvert_exporter": "python",
   "pygments_lexer": "ipython3",
   "version": "3.9.18"
  }
 },
 "nbformat": 4,
 "nbformat_minor": 2
}
