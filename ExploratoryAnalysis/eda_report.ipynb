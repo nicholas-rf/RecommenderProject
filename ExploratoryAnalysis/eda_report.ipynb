{
 "cells": [
  {
   "cell_type": "markdown",
   "metadata": {},
   "source": [
    "# Recommender Evaluation\n",
    "### By Nicholas Roze-Freitas and Coby Wilcox"
   ]
  },
  {
   "cell_type": "markdown",
   "metadata": {},
   "source": [
    "## Abstract\n",
    "Recommender systems are an often behind the scenes but rather foundational aspect of life today. Usually when we engage with media, we are engaging with a recommender: using social media, reading the news, buying something online and much more. Regardless of how ubiquitous recommenders are, evaluating and making them presents interesting and unique problems. Recommenders get gauged on several different metrics of accuracy: serendipity, novelty, robustness, accuracy and coverage to name a few. Through this project we aim to evaluate the performance of several recommender systems, frameworks and how we might improve them in the context of the Microsoft News Dataset. This report will be split into a couple main chapters, the first one below being exploratory data analysis. After walking through our analysis and preparation of the microsoft news dataset, we delve into recommender system frameworks, metrics and evalulation."
   ]
  },
  {
   "cell_type": "markdown",
   "metadata": {},
   "source": [
    "## Exploratory data analysis\n",
    "\n",
    "Before evaluating any recommender frameworks, models or hyperparameters, we will be engaging in exploratory data analysis on the Microsoft News Dataset. The Microsoft news dataset contains 4 separate tab-separated files: behaviors entity_embeddings, news and relation_embeddings. The main focus for now will be on behaviors and news, which gives us data on the catalog and users with interactions respectively. "
   ]
  },
  {
   "cell_type": "code",
   "execution_count": 2,
   "metadata": {},
   "outputs": [],
   "source": [
    "## IMPORTS ##\n",
    "import eda_modules # contains all custom modules for EDA on MIND\n",
    "import pandas as pd\n",
    "import numpy as np\n",
    "import seaborn as sns\n",
    "import matplotlib.pyplot as plt\n",
    "import plotly.express as px\n",
    "import datetime as datetime"
   ]
  },
  {
   "cell_type": "markdown",
   "metadata": {},
   "source": [
    "### Changing file formats\n",
    "We first noticed that our files were in unlabeled .tsv files, to make our data analysis easier in the future these .tsv files were turned into csvs with columns as specified by the datasets github repo. Once these columns were created, exploratory data analysis could be performed more easily."
   ]
  },
  {
   "cell_type": "markdown",
   "metadata": {},
   "source": [
    "### Initial understanding\n",
    "Within the MIND dataset (might want to make it clear that the mind dataset is referring to the microsoft news dataset at some point so that it is more clear to the reader) there are two main files, the behaviors and news. News contains information on the articles that users interact with like its ID, category, sub-category, title, abstract, url and some entities for use within embeddings (to my understanding). Behaviors focuses on impression ids, user ids, time, user history and impressions. Since there are two main datasets, we will be starting with some examination of each, and then examination of how they might interact."
   ]
  },
  {
   "cell_type": "code",
   "execution_count": 4,
   "metadata": {},
   "outputs": [
    {
     "data": {
      "text/html": [
       "<div>\n",
       "<style scoped>\n",
       "    .dataframe tbody tr th:only-of-type {\n",
       "        vertical-align: middle;\n",
       "    }\n",
       "\n",
       "    .dataframe tbody tr th {\n",
       "        vertical-align: top;\n",
       "    }\n",
       "\n",
       "    .dataframe thead th {\n",
       "        text-align: right;\n",
       "    }\n",
       "</style>\n",
       "<table border=\"1\" class=\"dataframe\">\n",
       "  <thead>\n",
       "    <tr style=\"text-align: right;\">\n",
       "      <th></th>\n",
       "      <th>Unnamed: 0</th>\n",
       "      <th>news_id</th>\n",
       "      <th>category</th>\n",
       "      <th>sub_category</th>\n",
       "      <th>title</th>\n",
       "      <th>abstract</th>\n",
       "      <th>url</th>\n",
       "      <th>title_entities</th>\n",
       "      <th>abstract_entities</th>\n",
       "    </tr>\n",
       "  </thead>\n",
       "  <tbody>\n",
       "    <tr>\n",
       "      <th>0</th>\n",
       "      <td>0</td>\n",
       "      <td>N55528</td>\n",
       "      <td>lifestyle</td>\n",
       "      <td>lifestyleroyals</td>\n",
       "      <td>The Brands Queen Elizabeth, Prince Charles, an...</td>\n",
       "      <td>Shop the notebooks, jackets, and more that the...</td>\n",
       "      <td>https://assets.msn.com/labs/mind/AAGH0ET.html</td>\n",
       "      <td>[{\"Label\": \"Prince Philip, Duke of Edinburgh\",...</td>\n",
       "      <td>[]</td>\n",
       "    </tr>\n",
       "    <tr>\n",
       "      <th>1</th>\n",
       "      <td>1</td>\n",
       "      <td>N19639</td>\n",
       "      <td>health</td>\n",
       "      <td>weightloss</td>\n",
       "      <td>50 Worst Habits For Belly Fat</td>\n",
       "      <td>These seemingly harmless habits are holding yo...</td>\n",
       "      <td>https://assets.msn.com/labs/mind/AAB19MK.html</td>\n",
       "      <td>[{\"Label\": \"Adipose tissue\", \"Type\": \"C\", \"Wik...</td>\n",
       "      <td>[{\"Label\": \"Adipose tissue\", \"Type\": \"C\", \"Wik...</td>\n",
       "    </tr>\n",
       "  </tbody>\n",
       "</table>\n",
       "</div>"
      ],
      "text/plain": [
       "   Unnamed: 0 news_id   category     sub_category  \\\n",
       "0           0  N55528  lifestyle  lifestyleroyals   \n",
       "1           1  N19639     health       weightloss   \n",
       "\n",
       "                                               title  \\\n",
       "0  The Brands Queen Elizabeth, Prince Charles, an...   \n",
       "1                      50 Worst Habits For Belly Fat   \n",
       "\n",
       "                                            abstract  \\\n",
       "0  Shop the notebooks, jackets, and more that the...   \n",
       "1  These seemingly harmless habits are holding yo...   \n",
       "\n",
       "                                             url  \\\n",
       "0  https://assets.msn.com/labs/mind/AAGH0ET.html   \n",
       "1  https://assets.msn.com/labs/mind/AAB19MK.html   \n",
       "\n",
       "                                      title_entities  \\\n",
       "0  [{\"Label\": \"Prince Philip, Duke of Edinburgh\",...   \n",
       "1  [{\"Label\": \"Adipose tissue\", \"Type\": \"C\", \"Wik...   \n",
       "\n",
       "                                   abstract_entities  \n",
       "0                                                 []  \n",
       "1  [{\"Label\": \"Adipose tissue\", \"Type\": \"C\", \"Wik...  "
      ]
     },
     "execution_count": 4,
     "metadata": {},
     "output_type": "execute_result"
    }
   ],
   "source": [
    "news = pd.read_csv('../MIND_small/csv/news.csv')\n",
    "news.head(2)"
   ]
  },
  {
   "cell_type": "markdown",
   "metadata": {},
   "source": [
    "## Starting with news\n",
    "As noticeable above, there are columns for categories and subcategories. As these categories will be utilized to improve recommendations we will start our analysis of the news dataset by taking a quick peak at how many categories there may be, and what sorts of sub-categories we'll find in each via a treemap. "
   ]
  },
  {
   "cell_type": "code",
   "execution_count": 3,
   "metadata": {},
   "outputs": [
    {
     "data": {
      "application/vnd.plotly.v1+json": {
       "config": {
        "plotlyServerURL": "https://plot.ly"
       },
       "data": [
        {
         "branchvalues": "total",
         "domain": {
          "x": [
           0,
           1
          ],
          "y": [
           0,
           1
          ]
         },
         "hovertemplate": "labels=%{label}<br>number_of_articles=%{value}<br>parent=%{parent}<br>id=%{id}<extra></extra>",
         "ids": [
          "music/ads-latingrammys",
          "health/ads-lung-health",
          "lifestyle/advice",
          "kids/animals",
          "video/animals",
          "autos/autosbuying",
          "autos/autoscartech",
          "autos/autosclassics",
          "autos/autoscompact",
          "autos/autosenthusiasts",
          "autos/autoshybrids",
          "autos/autoslosangeles",
          "autos/autosluxury",
          "autos/autosmidsize",
          "autos/autosmotorcycles",
          "autos/autosnews",
          "autos/autosownership",
          "autos/autospassenger",
          "autos/autosresearch",
          "autos/autosresearchguides",
          "autos/autosreview",
          "autos/autossema",
          "autos/autossports",
          "autos/autossuvs",
          "autos/autostokyo",
          "autos/autostrucks",
          "autos/autosvans",
          "autos/autosvideonew",
          "autos/autosvideos",
          "entertainment/awards",
          "lifestyle/awardstyle",
          "sports/baseball",
          "sports/baseball_mlb",
          "sports/baseball_mlb_videos",
          "sports/basketball_nba",
          "sports/basketball_nba_videos",
          "sports/basketball_ncaa",
          "sports/basketball_ncaa_videos",
          "sports/basketball_wnba",
          "foodanddrink/beverages",
          "sports/boxing",
          "sports/boxing-mma",
          "health/cardio",
          "finance/career-news",
          "finance/causes",
          "health/causes",
          "lifestyle/causes",
          "news/causes",
          "lifestyle/causes-animals",
          "news/causes-disaster-relief",
          "news/causes-environment",
          "foodanddrink/causes-food-insecurity",
          "lifestyle/causes-green-living",
          "news/causes-military-appreciation",
          "news/causes-poverty",
          "entertainment/celebhub",
          "entertainment/celebrity",
          "entertainment/celebritynews",
          "music/cma-awards",
          "foodanddrink/cocktails",
          "video/comedy",
          "finance/company-news",
          "foodanddrink/cooking",
          "foodanddrink/cookingschool",
          "video/downtime",
          "news/elections-2020-us",
          "news/empowering-the-planet",
          "entertainment/entertainment-books",
          "entertainment/entertainment-celebrity",
          "entertainment/entertainmentmusic",
          "entertainment/entertainmenttv",
          "news/factcheck",
          "finance/finance-auto-insurance",
          "finance/finance-billstopay",
          "finance/finance-career",
          "finance/finance-career-education",
          "finance/finance-companies",
          "finance/finance-credit",
          "finance/finance-education",
          "finance/finance-healthcare",
          "finance/finance-home-loans",
          "finance/finance-homesandpropertysection",
          "finance/finance-insidetheticker",
          "finance/finance-insurance",
          "finance/finance-mutual-funds",
          "finance/finance-real-estate",
          "finance/finance-retirement",
          "finance/finance-savemoney",
          "finance/finance-saving-investing",
          "finance/finance-small-business",
          "finance/finance-startinvesting",
          "finance/finance-taxes",
          "finance/finance-technology",
          "finance/finance-top-stocks",
          "finance/finance-video",
          "finance/financenews",
          "health/fitness",
          "video/foodanddrink",
          "foodanddrink/foodnews",
          "foodanddrink/foodrecipes",
          "foodanddrink/foodtips",
          "sports/football_ncaa",
          "sports/football_ncaa_videos",
          "sports/football_nfl",
          "sports/football_nfl_videos",
          "kids/fun",
          "entertainment/games",
          "entertainment/gaming",
          "sports/golf",
          "sports/golfvideos",
          "lifestyle/halloween",
          "health/health-cancer",
          "health/health-news",
          "health/healthagingwell",
          "health/healthnews",
          "health/healthyliving",
          "lifestyle/holidays",
          "travel/holidays",
          "entertainment/hollywood",
          "entertainment/humor",
          "music/humor",
          "tv/humor",
          "sports/icehockey_nhl",
          "news/indepth",
          "travel/internationaltravel",
          "video/lifestyle",
          "lifestyle/lifestyle-news-feature",
          "lifestyle/lifestyle-wedding",
          "lifestyle/lifestylebeauty",
          "lifestyle/lifestylebuzz",
          "lifestyle/lifestylecareer",
          "lifestyle/lifestylecelebstyle",
          "lifestyle/lifestylecleaningandorganizing",
          "lifestyle/lifestyledecor",
          "lifestyle/lifestyledidyouknow",
          "lifestyle/lifestylediy",
          "lifestyle/lifestylefamily",
          "lifestyle/lifestylefamilyandrelationships",
          "lifestyle/lifestylefashion",
          "lifestyle/lifestylehomeandgarden",
          "lifestyle/lifestylehoroscope",
          "lifestyle/lifestylehoroscopefish",
          "lifestyle/lifestylelovesex",
          "lifestyle/lifestylemarriage",
          "lifestyle/lifestylemindandsoul",
          "lifestyle/lifestyleparenting",
          "lifestyle/lifestylepets",
          "lifestyle/lifestylepetsanimals",
          "lifestyle/lifestylerelationships",
          "lifestyle/lifestyleroyals",
          "lifestyle/lifestyleshopping",
          "lifestyle/lifestyleshoppinghomegarden",
          "lifestyle/lifestylesmartliving",
          "lifestyle/lifestylestyle",
          "lifestyle/lifestylevideo",
          "lifestyle/lifestyleweddings",
          "lifestyle/lifestylewhatshot",
          "finance/markets",
          "health/medical",
          "health/mentalhealth",
          "middleeast/middleeast-top-stories",
          "sports/mma",
          "sports/mmaufc",
          "sports/more_sports",
          "movies/movienews",
          "movies/movies-awards",
          "movies/movies-celebrity",
          "movies/movies-gallery",
          "movies/movies-oscars",
          "movies/movievideo",
          "music/music-awards",
          "music/music-celebrity",
          "music/music-gallery",
          "music/music-grammys",
          "music/music-reviews",
          "music/musicnews",
          "music/musicvideos",
          "news/narendramodi_opinion",
          "entertainment/news",
          "video/news",
          "news/newsbusiness",
          "news/newscrime",
          "news/newselection2020",
          "news/newsfactcheck",
          "news/newsgoodnews",
          "news/newsnational",
          "news/newsoffbeat",
          "news/newsopinion",
          "news/newsother",
          "news/newsphotos",
          "news/newspolitics",
          "news/newsrealestate",
          "news/newsscience",
          "news/newsscienceandtechnology",
          "foodanddrink/newstrends",
          "travel/newstrends",
          "news/newstvmedia",
          "news/newsus",
          "news/newsvideo",
          "news/newsweather",
          "news/newsworld",
          "news/newsworldpolitics",
          "northamerica/northamerica-video",
          "health/nutrition",
          "sports/olympics-videos",
          "sports/othersports",
          "sports/outdoors",
          "kids/people-places",
          "video/peopleandplaces",
          "finance/personalfinance",
          "news/personalfinance",
          "news/photos",
          "video/popculture",
          "health/pregnancyparenting",
          "lifestyle/pregnancyparenting",
          "foodanddrink/quickandeasy",
          "sports/racing",
          "foodanddrink/recipes",
          "health/recipes",
          "lifestyle/relationships",
          "foodanddrink/restaurantsandnews",
          "finance/retirement",
          "movies/reviews",
          "kids/science",
          "video/science",
          "foodanddrink/seasonal",
          "lifestyle/shop-all",
          "lifestyle/shop-apparel",
          "lifestyle/shop-books-movies-tv",
          "lifestyle/shop-holidays",
          "lifestyle/shop-home-goods",
          "sports/soccer",
          "sports/soccer_bund",
          "sports/soccer_epl",
          "sports/soccer_mls",
          "finance/spendingandborrowing",
          "video/sports",
          "sports/sports_news",
          "health/strength",
          "finance/technologyinvesting",
          "sports/tennis",
          "sports/tennis_intl",
          "foodanddrink/tipsandtricks",
          "music/topnews",
          "tv/topnews",
          "lifestyle/travel",
          "travel/travel-adventure-travel",
          "travel/travel-points-rewards",
          "travel/travel-videos",
          "travel/travelarticle",
          "travel/travelnews",
          "travel/traveltips",
          "travel/traveltripideas",
          "travel/traveltrivia",
          "video/tunedin",
          "entertainment/tv",
          "tv/tv-celebrity",
          "tv/tv-gallery",
          "tv/tv-golden-globes",
          "tv/tv-golden-globes-video",
          "tv/tv-recaps",
          "tv/tv-reviews",
          "tv/tvnews",
          "tv/tvvideos",
          "travel/ustravel",
          "entertainment/video",
          "health/video",
          "kids/video",
          "travel/video",
          "foodanddrink/videos",
          "video/viral",
          "health/voices",
          "lifestyle/voices",
          "travel/voices",
          "video/watch",
          "weather/weatherfullscreenmaps",
          "weather/weathertopstories",
          "health/weight-loss",
          "health/weightloss",
          "health/wellness",
          "foodanddrink/wines",
          "video/wonder",
          "news/yearinoffbeatgoodnews",
          "autos",
          "entertainment",
          "finance",
          "foodanddrink",
          "health",
          "kids",
          "lifestyle",
          "middleeast",
          "movies",
          "music",
          "news",
          "northamerica",
          "sports",
          "travel",
          "tv",
          "video",
          "weather"
         ],
         "labels": [
          "ads-latingrammys",
          "ads-lung-health",
          "advice",
          "animals",
          "animals",
          "autosbuying",
          "autoscartech",
          "autosclassics",
          "autoscompact",
          "autosenthusiasts",
          "autoshybrids",
          "autoslosangeles",
          "autosluxury",
          "autosmidsize",
          "autosmotorcycles",
          "autosnews",
          "autosownership",
          "autospassenger",
          "autosresearch",
          "autosresearchguides",
          "autosreview",
          "autossema",
          "autossports",
          "autossuvs",
          "autostokyo",
          "autostrucks",
          "autosvans",
          "autosvideonew",
          "autosvideos",
          "awards",
          "awardstyle",
          "baseball",
          "baseball_mlb",
          "baseball_mlb_videos",
          "basketball_nba",
          "basketball_nba_videos",
          "basketball_ncaa",
          "basketball_ncaa_videos",
          "basketball_wnba",
          "beverages",
          "boxing",
          "boxing-mma",
          "cardio",
          "career-news",
          "causes",
          "causes",
          "causes",
          "causes",
          "causes-animals",
          "causes-disaster-relief",
          "causes-environment",
          "causes-food-insecurity",
          "causes-green-living",
          "causes-military-appreciation",
          "causes-poverty",
          "celebhub",
          "celebrity",
          "celebritynews",
          "cma-awards",
          "cocktails",
          "comedy",
          "company-news",
          "cooking",
          "cookingschool",
          "downtime",
          "elections-2020-us",
          "empowering-the-planet",
          "entertainment-books",
          "entertainment-celebrity",
          "entertainmentmusic",
          "entertainmenttv",
          "factcheck",
          "finance-auto-insurance",
          "finance-billstopay",
          "finance-career",
          "finance-career-education",
          "finance-companies",
          "finance-credit",
          "finance-education",
          "finance-healthcare",
          "finance-home-loans",
          "finance-homesandpropertysection",
          "finance-insidetheticker",
          "finance-insurance",
          "finance-mutual-funds",
          "finance-real-estate",
          "finance-retirement",
          "finance-savemoney",
          "finance-saving-investing",
          "finance-small-business",
          "finance-startinvesting",
          "finance-taxes",
          "finance-technology",
          "finance-top-stocks",
          "finance-video",
          "financenews",
          "fitness",
          "foodanddrink",
          "foodnews",
          "foodrecipes",
          "foodtips",
          "football_ncaa",
          "football_ncaa_videos",
          "football_nfl",
          "football_nfl_videos",
          "fun",
          "games",
          "gaming",
          "golf",
          "golfvideos",
          "halloween",
          "health-cancer",
          "health-news",
          "healthagingwell",
          "healthnews",
          "healthyliving",
          "holidays",
          "holidays",
          "hollywood",
          "humor",
          "humor",
          "humor",
          "icehockey_nhl",
          "indepth",
          "internationaltravel",
          "lifestyle",
          "lifestyle-news-feature",
          "lifestyle-wedding",
          "lifestylebeauty",
          "lifestylebuzz",
          "lifestylecareer",
          "lifestylecelebstyle",
          "lifestylecleaningandorganizing",
          "lifestyledecor",
          "lifestyledidyouknow",
          "lifestylediy",
          "lifestylefamily",
          "lifestylefamilyandrelationships",
          "lifestylefashion",
          "lifestylehomeandgarden",
          "lifestylehoroscope",
          "lifestylehoroscopefish",
          "lifestylelovesex",
          "lifestylemarriage",
          "lifestylemindandsoul",
          "lifestyleparenting",
          "lifestylepets",
          "lifestylepetsanimals",
          "lifestylerelationships",
          "lifestyleroyals",
          "lifestyleshopping",
          "lifestyleshoppinghomegarden",
          "lifestylesmartliving",
          "lifestylestyle",
          "lifestylevideo",
          "lifestyleweddings",
          "lifestylewhatshot",
          "markets",
          "medical",
          "mentalhealth",
          "middleeast-top-stories",
          "mma",
          "mmaufc",
          "more_sports",
          "movienews",
          "movies-awards",
          "movies-celebrity",
          "movies-gallery",
          "movies-oscars",
          "movievideo",
          "music-awards",
          "music-celebrity",
          "music-gallery",
          "music-grammys",
          "music-reviews",
          "musicnews",
          "musicvideos",
          "narendramodi_opinion",
          "news",
          "news",
          "newsbusiness",
          "newscrime",
          "newselection2020",
          "newsfactcheck",
          "newsgoodnews",
          "newsnational",
          "newsoffbeat",
          "newsopinion",
          "newsother",
          "newsphotos",
          "newspolitics",
          "newsrealestate",
          "newsscience",
          "newsscienceandtechnology",
          "newstrends",
          "newstrends",
          "newstvmedia",
          "newsus",
          "newsvideo",
          "newsweather",
          "newsworld",
          "newsworldpolitics",
          "northamerica-video",
          "nutrition",
          "olympics-videos",
          "othersports",
          "outdoors",
          "people-places",
          "peopleandplaces",
          "personalfinance",
          "personalfinance",
          "photos",
          "popculture",
          "pregnancyparenting",
          "pregnancyparenting",
          "quickandeasy",
          "racing",
          "recipes",
          "recipes",
          "relationships",
          "restaurantsandnews",
          "retirement",
          "reviews",
          "science",
          "science",
          "seasonal",
          "shop-all",
          "shop-apparel",
          "shop-books-movies-tv",
          "shop-holidays",
          "shop-home-goods",
          "soccer",
          "soccer_bund",
          "soccer_epl",
          "soccer_mls",
          "spendingandborrowing",
          "sports",
          "sports_news",
          "strength",
          "technologyinvesting",
          "tennis",
          "tennis_intl",
          "tipsandtricks",
          "topnews",
          "topnews",
          "travel",
          "travel-adventure-travel",
          "travel-points-rewards",
          "travel-videos",
          "travelarticle",
          "travelnews",
          "traveltips",
          "traveltripideas",
          "traveltrivia",
          "tunedin",
          "tv",
          "tv-celebrity",
          "tv-gallery",
          "tv-golden-globes",
          "tv-golden-globes-video",
          "tv-recaps",
          "tv-reviews",
          "tvnews",
          "tvvideos",
          "ustravel",
          "video",
          "video",
          "video",
          "video",
          "videos",
          "viral",
          "voices",
          "voices",
          "voices",
          "watch",
          "weatherfullscreenmaps",
          "weathertopstories",
          "weight-loss",
          "weightloss",
          "wellness",
          "wines",
          "wonder",
          "yearinoffbeatgoodnews",
          "autos",
          "entertainment",
          "finance",
          "foodanddrink",
          "health",
          "kids",
          "lifestyle",
          "middleeast",
          "movies",
          "music",
          "news",
          "northamerica",
          "sports",
          "travel",
          "tv",
          "video",
          "weather"
         ],
         "name": "",
         "parents": [
          "music",
          "health",
          "lifestyle",
          "kids",
          "video",
          "autos",
          "autos",
          "autos",
          "autos",
          "autos",
          "autos",
          "autos",
          "autos",
          "autos",
          "autos",
          "autos",
          "autos",
          "autos",
          "autos",
          "autos",
          "autos",
          "autos",
          "autos",
          "autos",
          "autos",
          "autos",
          "autos",
          "autos",
          "autos",
          "entertainment",
          "lifestyle",
          "sports",
          "sports",
          "sports",
          "sports",
          "sports",
          "sports",
          "sports",
          "sports",
          "foodanddrink",
          "sports",
          "sports",
          "health",
          "finance",
          "finance",
          "health",
          "lifestyle",
          "news",
          "lifestyle",
          "news",
          "news",
          "foodanddrink",
          "lifestyle",
          "news",
          "news",
          "entertainment",
          "entertainment",
          "entertainment",
          "music",
          "foodanddrink",
          "video",
          "finance",
          "foodanddrink",
          "foodanddrink",
          "video",
          "news",
          "news",
          "entertainment",
          "entertainment",
          "entertainment",
          "entertainment",
          "news",
          "finance",
          "finance",
          "finance",
          "finance",
          "finance",
          "finance",
          "finance",
          "finance",
          "finance",
          "finance",
          "finance",
          "finance",
          "finance",
          "finance",
          "finance",
          "finance",
          "finance",
          "finance",
          "finance",
          "finance",
          "finance",
          "finance",
          "finance",
          "finance",
          "health",
          "video",
          "foodanddrink",
          "foodanddrink",
          "foodanddrink",
          "sports",
          "sports",
          "sports",
          "sports",
          "kids",
          "entertainment",
          "entertainment",
          "sports",
          "sports",
          "lifestyle",
          "health",
          "health",
          "health",
          "health",
          "health",
          "lifestyle",
          "travel",
          "entertainment",
          "entertainment",
          "music",
          "tv",
          "sports",
          "news",
          "travel",
          "video",
          "lifestyle",
          "lifestyle",
          "lifestyle",
          "lifestyle",
          "lifestyle",
          "lifestyle",
          "lifestyle",
          "lifestyle",
          "lifestyle",
          "lifestyle",
          "lifestyle",
          "lifestyle",
          "lifestyle",
          "lifestyle",
          "lifestyle",
          "lifestyle",
          "lifestyle",
          "lifestyle",
          "lifestyle",
          "lifestyle",
          "lifestyle",
          "lifestyle",
          "lifestyle",
          "lifestyle",
          "lifestyle",
          "lifestyle",
          "lifestyle",
          "lifestyle",
          "lifestyle",
          "lifestyle",
          "lifestyle",
          "finance",
          "health",
          "health",
          "middleeast",
          "sports",
          "sports",
          "sports",
          "movies",
          "movies",
          "movies",
          "movies",
          "movies",
          "movies",
          "music",
          "music",
          "music",
          "music",
          "music",
          "music",
          "music",
          "news",
          "entertainment",
          "video",
          "news",
          "news",
          "news",
          "news",
          "news",
          "news",
          "news",
          "news",
          "news",
          "news",
          "news",
          "news",
          "news",
          "news",
          "foodanddrink",
          "travel",
          "news",
          "news",
          "news",
          "news",
          "news",
          "news",
          "northamerica",
          "health",
          "sports",
          "sports",
          "sports",
          "kids",
          "video",
          "finance",
          "news",
          "news",
          "video",
          "health",
          "lifestyle",
          "foodanddrink",
          "sports",
          "foodanddrink",
          "health",
          "lifestyle",
          "foodanddrink",
          "finance",
          "movies",
          "kids",
          "video",
          "foodanddrink",
          "lifestyle",
          "lifestyle",
          "lifestyle",
          "lifestyle",
          "lifestyle",
          "sports",
          "sports",
          "sports",
          "sports",
          "finance",
          "video",
          "sports",
          "health",
          "finance",
          "sports",
          "sports",
          "foodanddrink",
          "music",
          "tv",
          "lifestyle",
          "travel",
          "travel",
          "travel",
          "travel",
          "travel",
          "travel",
          "travel",
          "travel",
          "video",
          "entertainment",
          "tv",
          "tv",
          "tv",
          "tv",
          "tv",
          "tv",
          "tv",
          "tv",
          "travel",
          "entertainment",
          "health",
          "kids",
          "travel",
          "foodanddrink",
          "video",
          "health",
          "lifestyle",
          "travel",
          "video",
          "weather",
          "weather",
          "health",
          "health",
          "health",
          "foodanddrink",
          "video",
          "news",
          "",
          "",
          "",
          "",
          "",
          "",
          "",
          "",
          "",
          "",
          "",
          "",
          "",
          "",
          "",
          "",
          ""
         ],
         "type": "treemap",
         "values": [
          7,
          11,
          25,
          2,
          257,
          32,
          2,
          119,
          1,
          231,
          6,
          1,
          20,
          1,
          128,
          837,
          26,
          3,
          15,
          16,
          3,
          19,
          58,
          68,
          6,
          36,
          1,
          7,
          3,
          27,
          12,
          1,
          1661,
          36,
          1555,
          9,
          774,
          14,
          4,
          63,
          15,
          8,
          1,
          2,
          3,
          11,
          11,
          2,
          5,
          1,
          2,
          4,
          5,
          1,
          1,
          1,
          145,
          1,
          37,
          2,
          1,
          1,
          3,
          1,
          3,
          116,
          1,
          110,
          129,
          1,
          1,
          40,
          1,
          12,
          18,
          118,
          567,
          16,
          11,
          14,
          1,
          1,
          1,
          15,
          4,
          584,
          76,
          65,
          71,
          32,
          1,
          37,
          20,
          117,
          81,
          697,
          107,
          1,
          271,
          3,
          1,
          1665,
          36,
          5420,
          161,
          4,
          1,
          115,
          446,
          1,
          1,
          1,
          459,
          2,
          36,
          1,
          2,
          2,
          1,
          9,
          1,
          15,
          531,
          2,
          5,
          122,
          14,
          1,
          30,
          894,
          30,
          59,
          23,
          8,
          103,
          13,
          147,
          28,
          15,
          178,
          34,
          1,
          15,
          1,
          29,
          30,
          77,
          67,
          36,
          239,
          5,
          1,
          61,
          1,
          16,
          11,
          1,
          410,
          479,
          9,
          2,
          437,
          1,
          1065,
          231,
          12,
          213,
          64,
          5,
          77,
          26,
          210,
          48,
          4,
          4,
          414,
          17,
          1,
          17,
          1168,
          48,
          2254,
          8,
          17,
          176,
          1,
          405,
          315,
          1,
          22,
          2826,
          1,
          15,
          1210,
          1175,
          1,
          1,
          6564,
          1,
          11,
          1720,
          5,
          1,
          222,
          1,
          1,
          34,
          5,
          54,
          118,
          2,
          2,
          98,
          8,
          1,
          44,
          299,
          461,
          2,
          1,
          170,
          10,
          4,
          1,
          134,
          2,
          32,
          17,
          2,
          107,
          3,
          156,
          1,
          25,
          37,
          1,
          2,
          4,
          1,
          2,
          111,
          1,
          251,
          1,
          1,
          1,
          4,
          10,
          2,
          1042,
          902,
          76,
          243,
          1,
          5,
          1,
          356,
          78,
          4,
          1,
          16,
          2,
          377,
          39,
          6,
          28,
          11,
          5,
          50,
          87,
          217,
          51,
          86,
          6,
          1,
          1,
          2047,
          6,
          127,
          340,
          13,
          5,
          2,
          1639,
          587,
          3107,
          2551,
          1885,
          17,
          2479,
          2,
          606,
          769,
          15774,
          1,
          14510,
          2350,
          889,
          2068,
          2048
         ]
        }
       ],
       "layout": {
        "legend": {
         "tracegroupgap": 0
        },
        "template": {
         "data": {
          "bar": [
           {
            "error_x": {
             "color": "#2a3f5f"
            },
            "error_y": {
             "color": "#2a3f5f"
            },
            "marker": {
             "line": {
              "color": "#E5ECF6",
              "width": 0.5
             },
             "pattern": {
              "fillmode": "overlay",
              "size": 10,
              "solidity": 0.2
             }
            },
            "type": "bar"
           }
          ],
          "barpolar": [
           {
            "marker": {
             "line": {
              "color": "#E5ECF6",
              "width": 0.5
             },
             "pattern": {
              "fillmode": "overlay",
              "size": 10,
              "solidity": 0.2
             }
            },
            "type": "barpolar"
           }
          ],
          "carpet": [
           {
            "aaxis": {
             "endlinecolor": "#2a3f5f",
             "gridcolor": "white",
             "linecolor": "white",
             "minorgridcolor": "white",
             "startlinecolor": "#2a3f5f"
            },
            "baxis": {
             "endlinecolor": "#2a3f5f",
             "gridcolor": "white",
             "linecolor": "white",
             "minorgridcolor": "white",
             "startlinecolor": "#2a3f5f"
            },
            "type": "carpet"
           }
          ],
          "choropleth": [
           {
            "colorbar": {
             "outlinewidth": 0,
             "ticks": ""
            },
            "type": "choropleth"
           }
          ],
          "contour": [
           {
            "colorbar": {
             "outlinewidth": 0,
             "ticks": ""
            },
            "colorscale": [
             [
              0,
              "#0d0887"
             ],
             [
              0.1111111111111111,
              "#46039f"
             ],
             [
              0.2222222222222222,
              "#7201a8"
             ],
             [
              0.3333333333333333,
              "#9c179e"
             ],
             [
              0.4444444444444444,
              "#bd3786"
             ],
             [
              0.5555555555555556,
              "#d8576b"
             ],
             [
              0.6666666666666666,
              "#ed7953"
             ],
             [
              0.7777777777777778,
              "#fb9f3a"
             ],
             [
              0.8888888888888888,
              "#fdca26"
             ],
             [
              1,
              "#f0f921"
             ]
            ],
            "type": "contour"
           }
          ],
          "contourcarpet": [
           {
            "colorbar": {
             "outlinewidth": 0,
             "ticks": ""
            },
            "type": "contourcarpet"
           }
          ],
          "heatmap": [
           {
            "colorbar": {
             "outlinewidth": 0,
             "ticks": ""
            },
            "colorscale": [
             [
              0,
              "#0d0887"
             ],
             [
              0.1111111111111111,
              "#46039f"
             ],
             [
              0.2222222222222222,
              "#7201a8"
             ],
             [
              0.3333333333333333,
              "#9c179e"
             ],
             [
              0.4444444444444444,
              "#bd3786"
             ],
             [
              0.5555555555555556,
              "#d8576b"
             ],
             [
              0.6666666666666666,
              "#ed7953"
             ],
             [
              0.7777777777777778,
              "#fb9f3a"
             ],
             [
              0.8888888888888888,
              "#fdca26"
             ],
             [
              1,
              "#f0f921"
             ]
            ],
            "type": "heatmap"
           }
          ],
          "heatmapgl": [
           {
            "colorbar": {
             "outlinewidth": 0,
             "ticks": ""
            },
            "colorscale": [
             [
              0,
              "#0d0887"
             ],
             [
              0.1111111111111111,
              "#46039f"
             ],
             [
              0.2222222222222222,
              "#7201a8"
             ],
             [
              0.3333333333333333,
              "#9c179e"
             ],
             [
              0.4444444444444444,
              "#bd3786"
             ],
             [
              0.5555555555555556,
              "#d8576b"
             ],
             [
              0.6666666666666666,
              "#ed7953"
             ],
             [
              0.7777777777777778,
              "#fb9f3a"
             ],
             [
              0.8888888888888888,
              "#fdca26"
             ],
             [
              1,
              "#f0f921"
             ]
            ],
            "type": "heatmapgl"
           }
          ],
          "histogram": [
           {
            "marker": {
             "pattern": {
              "fillmode": "overlay",
              "size": 10,
              "solidity": 0.2
             }
            },
            "type": "histogram"
           }
          ],
          "histogram2d": [
           {
            "colorbar": {
             "outlinewidth": 0,
             "ticks": ""
            },
            "colorscale": [
             [
              0,
              "#0d0887"
             ],
             [
              0.1111111111111111,
              "#46039f"
             ],
             [
              0.2222222222222222,
              "#7201a8"
             ],
             [
              0.3333333333333333,
              "#9c179e"
             ],
             [
              0.4444444444444444,
              "#bd3786"
             ],
             [
              0.5555555555555556,
              "#d8576b"
             ],
             [
              0.6666666666666666,
              "#ed7953"
             ],
             [
              0.7777777777777778,
              "#fb9f3a"
             ],
             [
              0.8888888888888888,
              "#fdca26"
             ],
             [
              1,
              "#f0f921"
             ]
            ],
            "type": "histogram2d"
           }
          ],
          "histogram2dcontour": [
           {
            "colorbar": {
             "outlinewidth": 0,
             "ticks": ""
            },
            "colorscale": [
             [
              0,
              "#0d0887"
             ],
             [
              0.1111111111111111,
              "#46039f"
             ],
             [
              0.2222222222222222,
              "#7201a8"
             ],
             [
              0.3333333333333333,
              "#9c179e"
             ],
             [
              0.4444444444444444,
              "#bd3786"
             ],
             [
              0.5555555555555556,
              "#d8576b"
             ],
             [
              0.6666666666666666,
              "#ed7953"
             ],
             [
              0.7777777777777778,
              "#fb9f3a"
             ],
             [
              0.8888888888888888,
              "#fdca26"
             ],
             [
              1,
              "#f0f921"
             ]
            ],
            "type": "histogram2dcontour"
           }
          ],
          "mesh3d": [
           {
            "colorbar": {
             "outlinewidth": 0,
             "ticks": ""
            },
            "type": "mesh3d"
           }
          ],
          "parcoords": [
           {
            "line": {
             "colorbar": {
              "outlinewidth": 0,
              "ticks": ""
             }
            },
            "type": "parcoords"
           }
          ],
          "pie": [
           {
            "automargin": true,
            "type": "pie"
           }
          ],
          "scatter": [
           {
            "fillpattern": {
             "fillmode": "overlay",
             "size": 10,
             "solidity": 0.2
            },
            "type": "scatter"
           }
          ],
          "scatter3d": [
           {
            "line": {
             "colorbar": {
              "outlinewidth": 0,
              "ticks": ""
             }
            },
            "marker": {
             "colorbar": {
              "outlinewidth": 0,
              "ticks": ""
             }
            },
            "type": "scatter3d"
           }
          ],
          "scattercarpet": [
           {
            "marker": {
             "colorbar": {
              "outlinewidth": 0,
              "ticks": ""
             }
            },
            "type": "scattercarpet"
           }
          ],
          "scattergeo": [
           {
            "marker": {
             "colorbar": {
              "outlinewidth": 0,
              "ticks": ""
             }
            },
            "type": "scattergeo"
           }
          ],
          "scattergl": [
           {
            "marker": {
             "colorbar": {
              "outlinewidth": 0,
              "ticks": ""
             }
            },
            "type": "scattergl"
           }
          ],
          "scattermapbox": [
           {
            "marker": {
             "colorbar": {
              "outlinewidth": 0,
              "ticks": ""
             }
            },
            "type": "scattermapbox"
           }
          ],
          "scatterpolar": [
           {
            "marker": {
             "colorbar": {
              "outlinewidth": 0,
              "ticks": ""
             }
            },
            "type": "scatterpolar"
           }
          ],
          "scatterpolargl": [
           {
            "marker": {
             "colorbar": {
              "outlinewidth": 0,
              "ticks": ""
             }
            },
            "type": "scatterpolargl"
           }
          ],
          "scatterternary": [
           {
            "marker": {
             "colorbar": {
              "outlinewidth": 0,
              "ticks": ""
             }
            },
            "type": "scatterternary"
           }
          ],
          "surface": [
           {
            "colorbar": {
             "outlinewidth": 0,
             "ticks": ""
            },
            "colorscale": [
             [
              0,
              "#0d0887"
             ],
             [
              0.1111111111111111,
              "#46039f"
             ],
             [
              0.2222222222222222,
              "#7201a8"
             ],
             [
              0.3333333333333333,
              "#9c179e"
             ],
             [
              0.4444444444444444,
              "#bd3786"
             ],
             [
              0.5555555555555556,
              "#d8576b"
             ],
             [
              0.6666666666666666,
              "#ed7953"
             ],
             [
              0.7777777777777778,
              "#fb9f3a"
             ],
             [
              0.8888888888888888,
              "#fdca26"
             ],
             [
              1,
              "#f0f921"
             ]
            ],
            "type": "surface"
           }
          ],
          "table": [
           {
            "cells": {
             "fill": {
              "color": "#EBF0F8"
             },
             "line": {
              "color": "white"
             }
            },
            "header": {
             "fill": {
              "color": "#C8D4E3"
             },
             "line": {
              "color": "white"
             }
            },
            "type": "table"
           }
          ]
         },
         "layout": {
          "annotationdefaults": {
           "arrowcolor": "#2a3f5f",
           "arrowhead": 0,
           "arrowwidth": 1
          },
          "autotypenumbers": "strict",
          "coloraxis": {
           "colorbar": {
            "outlinewidth": 0,
            "ticks": ""
           }
          },
          "colorscale": {
           "diverging": [
            [
             0,
             "#8e0152"
            ],
            [
             0.1,
             "#c51b7d"
            ],
            [
             0.2,
             "#de77ae"
            ],
            [
             0.3,
             "#f1b6da"
            ],
            [
             0.4,
             "#fde0ef"
            ],
            [
             0.5,
             "#f7f7f7"
            ],
            [
             0.6,
             "#e6f5d0"
            ],
            [
             0.7,
             "#b8e186"
            ],
            [
             0.8,
             "#7fbc41"
            ],
            [
             0.9,
             "#4d9221"
            ],
            [
             1,
             "#276419"
            ]
           ],
           "sequential": [
            [
             0,
             "#0d0887"
            ],
            [
             0.1111111111111111,
             "#46039f"
            ],
            [
             0.2222222222222222,
             "#7201a8"
            ],
            [
             0.3333333333333333,
             "#9c179e"
            ],
            [
             0.4444444444444444,
             "#bd3786"
            ],
            [
             0.5555555555555556,
             "#d8576b"
            ],
            [
             0.6666666666666666,
             "#ed7953"
            ],
            [
             0.7777777777777778,
             "#fb9f3a"
            ],
            [
             0.8888888888888888,
             "#fdca26"
            ],
            [
             1,
             "#f0f921"
            ]
           ],
           "sequentialminus": [
            [
             0,
             "#0d0887"
            ],
            [
             0.1111111111111111,
             "#46039f"
            ],
            [
             0.2222222222222222,
             "#7201a8"
            ],
            [
             0.3333333333333333,
             "#9c179e"
            ],
            [
             0.4444444444444444,
             "#bd3786"
            ],
            [
             0.5555555555555556,
             "#d8576b"
            ],
            [
             0.6666666666666666,
             "#ed7953"
            ],
            [
             0.7777777777777778,
             "#fb9f3a"
            ],
            [
             0.8888888888888888,
             "#fdca26"
            ],
            [
             1,
             "#f0f921"
            ]
           ]
          },
          "colorway": [
           "#636efa",
           "#EF553B",
           "#00cc96",
           "#ab63fa",
           "#FFA15A",
           "#19d3f3",
           "#FF6692",
           "#B6E880",
           "#FF97FF",
           "#FECB52"
          ],
          "font": {
           "color": "#2a3f5f"
          },
          "geo": {
           "bgcolor": "white",
           "lakecolor": "white",
           "landcolor": "#E5ECF6",
           "showlakes": true,
           "showland": true,
           "subunitcolor": "white"
          },
          "hoverlabel": {
           "align": "left"
          },
          "hovermode": "closest",
          "mapbox": {
           "style": "light"
          },
          "paper_bgcolor": "white",
          "plot_bgcolor": "#E5ECF6",
          "polar": {
           "angularaxis": {
            "gridcolor": "white",
            "linecolor": "white",
            "ticks": ""
           },
           "bgcolor": "#E5ECF6",
           "radialaxis": {
            "gridcolor": "white",
            "linecolor": "white",
            "ticks": ""
           }
          },
          "scene": {
           "xaxis": {
            "backgroundcolor": "#E5ECF6",
            "gridcolor": "white",
            "gridwidth": 2,
            "linecolor": "white",
            "showbackground": true,
            "ticks": "",
            "zerolinecolor": "white"
           },
           "yaxis": {
            "backgroundcolor": "#E5ECF6",
            "gridcolor": "white",
            "gridwidth": 2,
            "linecolor": "white",
            "showbackground": true,
            "ticks": "",
            "zerolinecolor": "white"
           },
           "zaxis": {
            "backgroundcolor": "#E5ECF6",
            "gridcolor": "white",
            "gridwidth": 2,
            "linecolor": "white",
            "showbackground": true,
            "ticks": "",
            "zerolinecolor": "white"
           }
          },
          "shapedefaults": {
           "line": {
            "color": "#2a3f5f"
           }
          },
          "ternary": {
           "aaxis": {
            "gridcolor": "white",
            "linecolor": "white",
            "ticks": ""
           },
           "baxis": {
            "gridcolor": "white",
            "linecolor": "white",
            "ticks": ""
           },
           "bgcolor": "#E5ECF6",
           "caxis": {
            "gridcolor": "white",
            "linecolor": "white",
            "ticks": ""
           }
          },
          "title": {
           "x": 0.05
          },
          "xaxis": {
           "automargin": true,
           "gridcolor": "white",
           "linecolor": "white",
           "ticks": "",
           "title": {
            "standoff": 15
           },
           "zerolinecolor": "white",
           "zerolinewidth": 2
          },
          "yaxis": {
           "automargin": true,
           "gridcolor": "white",
           "linecolor": "white",
           "ticks": "",
           "title": {
            "standoff": 15
           },
           "zerolinecolor": "white",
           "zerolinewidth": 2
          }
         }
        },
        "title": {
         "text": "Categories and their sub-categories"
        }
       }
      }
     },
     "metadata": {},
     "output_type": "display_data"
    }
   ],
   "source": [
    "fig = eda_modules.plot_sub_categories(news)\n",
    "fig.show()"
   ]
  },
  {
   "cell_type": "markdown",
   "metadata": {},
   "source": [
    "Within this initial peak we can see that our biggest categories are news and sports, whereas music, movies and entertainment make up the smallest. In content-filtering recommenders differing sizes of categories can lower the quality of recommendations as categories with more items are more likely to have higher counts of users that have interacted with them thus increasing the frequency that they are recommended. Consequently this can affected success metrics; improper management could cause a dip in coverage and serendipity as the recommender system will not make as wide a selection of recommendations. Through further analysis we can explore the option of applying an inverse category frequency weight to balance our recommendations within content-filtering recommenders."
   ]
  },
  {
   "cell_type": "markdown",
   "metadata": {},
   "source": [
    "### Checking Counts of Categories\n",
    "Moving on, we will now check the distribution of our categories more properly."
   ]
  },
  {
   "cell_type": "code",
   "execution_count": 6,
   "metadata": {},
   "outputs": [
    {
     "data": {
      "image/png": "[encoded data removed]",
      "text/plain": [
       "<Figure size 640x480 with 1 Axes>"
      ]
     },
     "metadata": {},
     "output_type": "display_data"
    }
   ],
   "source": [
    "fig = eda_modules.plot_categories(news)\n",
    "# Might want to consider sorting so the figure can make better sense, also considering matching colors with the px graph above"
   ]
  },
  {
   "cell_type": "markdown",
   "metadata": {},
   "source": [
    "Confirming what we saw earlier, news and sports are still our biggest main categories, however new categories not previoulsy seen in our peek such as kids, middleeast and northamerica appear. These latter 3 categories contain so few observations that its unlikely that a user has interacted with them. To ameliorate this, we will see if any users have interacted with articles from these categories and remove the categories depending on the results after we load in the behaviors data."
   ]
  },
  {
   "cell_type": "markdown",
   "metadata": {},
   "source": [
    "### Missing Values in News\n",
    "Before moving on to any further usage of our news dataset, we will check for missing values."
   ]
  },
  {
   "cell_type": "code",
   "execution_count": 6,
   "metadata": {},
   "outputs": [
    {
     "data": {
      "text/plain": [
       "Unnamed: 0              0\n",
       "news_id                 0\n",
       "category                0\n",
       "sub_category            0\n",
       "title                   0\n",
       "abstract             2666\n",
       "url                     0\n",
       "title_entities          3\n",
       "abstract_entities       4\n",
       "dtype: int64"
      ]
     },
     "execution_count": 6,
     "metadata": {},
     "output_type": "execute_result"
    }
   ],
   "source": [
    "missing_vals = news.isna().sum()\n",
    "missing_vals"
   ]
  },
  {
   "cell_type": "markdown",
   "metadata": {},
   "source": [
    "Most missing values are in the abstract with only a few in title_entities and abstract_entities. The abstract can be used in conjunction with natural language processing to create a new feature however due to the amount of missing observations this may not be viable.\n",
    "Currently the abstract will not be utilized for recommendations. However, there is potential to creating an abstract from the web-scraped information from the article. (depending on time we shall see how this goes.)"
   ]
  },
  {
   "cell_type": "markdown",
   "metadata": {},
   "source": [
    "## Moving on to Behaviors\n",
    "The other half of the Microsoft News Dataset is the behaviors file; detailing user interactions, history, and times, the behaviors file provides our recommenders information it needs to train and determine what users might like. As a result of the times column for interaction time we can examine the context of interactions more deeply which is an opportunity for feature extraction. "
   ]
  },
  {
   "cell_type": "code",
   "execution_count": 7,
   "metadata": {},
   "outputs": [
    {
     "data": {
      "text/html": [
       "<div>\n",
       "<style scoped>\n",
       "    .dataframe tbody tr th:only-of-type {\n",
       "        vertical-align: middle;\n",
       "    }\n",
       "\n",
       "    .dataframe tbody tr th {\n",
       "        vertical-align: top;\n",
       "    }\n",
       "\n",
       "    .dataframe thead th {\n",
       "        text-align: right;\n",
       "    }\n",
       "</style>\n",
       "<table border=\"1\" class=\"dataframe\">\n",
       "  <thead>\n",
       "    <tr style=\"text-align: right;\">\n",
       "      <th></th>\n",
       "      <th>Unnamed: 0</th>\n",
       "      <th>impression_id</th>\n",
       "      <th>user_id</th>\n",
       "      <th>time</th>\n",
       "      <th>history</th>\n",
       "      <th>impressions</th>\n",
       "    </tr>\n",
       "  </thead>\n",
       "  <tbody>\n",
       "    <tr>\n",
       "      <th>0</th>\n",
       "      <td>0</td>\n",
       "      <td>1</td>\n",
       "      <td>U13740</td>\n",
       "      <td>11/11/2019 9:05:58 AM</td>\n",
       "      <td>N55189 N42782 N34694 N45794 N18445 N63302 N104...</td>\n",
       "      <td>N55689-1 N35729-0</td>\n",
       "    </tr>\n",
       "    <tr>\n",
       "      <th>1</th>\n",
       "      <td>1</td>\n",
       "      <td>2</td>\n",
       "      <td>U91836</td>\n",
       "      <td>11/12/2019 6:11:30 PM</td>\n",
       "      <td>N31739 N6072 N63045 N23979 N35656 N43353 N8129...</td>\n",
       "      <td>N20678-0 N39317-0 N58114-0 N20495-0 N42977-0 N...</td>\n",
       "    </tr>\n",
       "  </tbody>\n",
       "</table>\n",
       "</div>"
      ],
      "text/plain": [
       "   Unnamed: 0  impression_id user_id                   time  \\\n",
       "0           0              1  U13740  11/11/2019 9:05:58 AM   \n",
       "1           1              2  U91836  11/12/2019 6:11:30 PM   \n",
       "\n",
       "                                             history  \\\n",
       "0  N55189 N42782 N34694 N45794 N18445 N63302 N104...   \n",
       "1  N31739 N6072 N63045 N23979 N35656 N43353 N8129...   \n",
       "\n",
       "                                         impressions  \n",
       "0                                  N55689-1 N35729-0  \n",
       "1  N20678-0 N39317-0 N58114-0 N20495-0 N42977-0 N...  "
      ]
     },
     "execution_count": 7,
     "metadata": {},
     "output_type": "execute_result"
    }
   ],
   "source": [
    "behaviors = pd.read_csv('../MIND_small/csv/behaviors.csv')\n",
    "behaviors.head(2)"
   ]
  },
  {
   "cell_type": "markdown",
   "metadata": {},
   "source": [
    "### Missing values in behaviors\n",
    "Similarly to the news data, before moving forward we wil be checking the potential missing values."
   ]
  },
  {
   "cell_type": "code",
   "execution_count": 8,
   "metadata": {},
   "outputs": [
    {
     "data": {
      "text/plain": [
       "Unnamed: 0          0\n",
       "impression_id       0\n",
       "user_id             0\n",
       "time                0\n",
       "history          3238\n",
       "impressions         0\n",
       "dtype: int64"
      ]
     },
     "execution_count": 8,
     "metadata": {},
     "output_type": "execute_result"
    }
   ],
   "source": [
    "missing_behaviors = behaviors.isna().sum()\n",
    "missing_behaviors"
   ]
  },
  {
   "cell_type": "markdown",
   "metadata": {},
   "source": [
    "The only column with missing values is the history column, which isn't of too much risk Within the behaviors file, there are certain users that do not have any history which can be a problem if these users have no history on their most recent interaction. If a user has no history whatsoever before the training cutoff point for time, then they must be removed as the recommender system will not generate anything for them that is personalized unless it is taking article popularity into account (hhmmmmm that might actually be a good idea is to take article popularity into account)"
   ]
  },
  {
   "cell_type": "code",
   "execution_count": 9,
   "metadata": {},
   "outputs": [
    {
     "data": {
      "text/html": [
       "<div>\n",
       "<style scoped>\n",
       "    .dataframe tbody tr th:only-of-type {\n",
       "        vertical-align: middle;\n",
       "    }\n",
       "\n",
       "    .dataframe tbody tr th {\n",
       "        vertical-align: top;\n",
       "    }\n",
       "\n",
       "    .dataframe thead th {\n",
       "        text-align: right;\n",
       "    }\n",
       "</style>\n",
       "<table border=\"1\" class=\"dataframe\">\n",
       "  <thead>\n",
       "    <tr style=\"text-align: right;\">\n",
       "      <th></th>\n",
       "      <th>lifestyle</th>\n",
       "      <th>health</th>\n",
       "      <th>news</th>\n",
       "      <th>sports</th>\n",
       "      <th>weather</th>\n",
       "      <th>entertainment</th>\n",
       "      <th>autos</th>\n",
       "      <th>travel</th>\n",
       "      <th>foodanddrink</th>\n",
       "      <th>tv</th>\n",
       "      <th>finance</th>\n",
       "      <th>movies</th>\n",
       "      <th>video</th>\n",
       "      <th>music</th>\n",
       "      <th>kids</th>\n",
       "      <th>middleeast</th>\n",
       "      <th>northamerica</th>\n",
       "    </tr>\n",
       "  </thead>\n",
       "  <tbody>\n",
       "    <tr>\n",
       "      <th>1</th>\n",
       "      <td>98916</td>\n",
       "      <td>45253</td>\n",
       "      <td>278614</td>\n",
       "      <td>129298</td>\n",
       "      <td>10895</td>\n",
       "      <td>32444</td>\n",
       "      <td>33465</td>\n",
       "      <td>29762</td>\n",
       "      <td>49021</td>\n",
       "      <td>71786</td>\n",
       "      <td>68694</td>\n",
       "      <td>34881</td>\n",
       "      <td>18441</td>\n",
       "      <td>24560</td>\n",
       "      <td>10</td>\n",
       "      <td>18</td>\n",
       "      <td>0</td>\n",
       "    </tr>\n",
       "  </tbody>\n",
       "</table>\n",
       "</div>"
      ],
      "text/plain": [
       "   lifestyle  health    news  sports  weather  entertainment  autos  travel  \\\n",
       "1      98916   45253  278614  129298    10895          32444  33465   29762   \n",
       "\n",
       "   foodanddrink     tv  finance  movies  video  music  kids  middleeast  \\\n",
       "1         49021  71786    68694   34881  18441  24560    10          18   \n",
       "\n",
       "   northamerica  \n",
       "1             0  "
      ]
     },
     "execution_count": 9,
     "metadata": {},
     "output_type": "execute_result"
    }
   ],
   "source": [
    "\n",
    "behaviors['time'] = pd.to_datetime(behaviors['time']) # Important to do in here as further stuff kinda relies on it\n",
    "category_popularity = eda_modules.create_popularity_df()\n",
    "category_popularity.head()"
   ]
  },
  {
   "cell_type": "code",
   "execution_count": 10,
   "metadata": {},
   "outputs": [
    {
     "data": {
      "text/plain": [
       "<Axes: xlabel='value', ylabel='index'>"
      ]
     },
     "execution_count": 10,
     "metadata": {},
     "output_type": "execute_result"
    },
    {
     "data": {
      "image/png": "[encoded data removed]",
      "text/plain": [
       "<Figure size 640x480 with 1 Axes>"
      ]
     },
     "metadata": {},
     "output_type": "display_data"
    }
   ],
   "source": [
    "pop_long = category_popularity.melt(value_vars=category_popularity.columns, value_name='popularity')\n",
    "news_cat = news['category'].value_counts().to_frame()\n",
    "pop_long.set_index('variable', inplace=True)\n",
    "concatenated = pd.concat([pop_long, news_cat], axis=1)\n",
    "concatenated.reset_index(inplace=True)\n",
    "sns.barplot(data=concatenated.melt(id_vars='index', value_vars=['popularity', 'count']),\n",
    "            y='index',\n",
    "            x='value',\n",
    "            hue='variable')\n",
    "\n",
    "## Could also very well re-consider the plot to be something that is only the popularity of categories however could be useful or good to visualize as such\n"
   ]
  },
  {
   "cell_type": "markdown",
   "metadata": {},
   "source": [
    "### Interpreting the popularity\n",
    "By analying the final tracked interactions of all users and checking their history, we can see that certain categories outweigh others in terms of rankings. Therefore we may consider creating weights for an inverse category frequency to ensure recommendations from the entire catalog. "
   ]
  },
  {
   "cell_type": "markdown",
   "metadata": {},
   "source": [
    "How do we then gauge the most popular genres, or times? "
   ]
  },
  {
   "cell_type": "markdown",
   "metadata": {},
   "source": [
    "### Accessing temporal aspects of our data\n",
    "Within our data we have a time column, meaning that we can not only test and train with time in mind, but we can utilize this temporal aspect in our recommendations. As a result of this potential we have access to creating feature interactions based off of an interaction time. "
   ]
  },
  {
   "cell_type": "code",
   "execution_count": 11,
   "metadata": {},
   "outputs": [
    {
     "name": "stdout",
     "output_type": "stream",
     "text": [
      "['(2019-11-09 00:00:00, 2019-11-09 01:00:00]', '(2019-11-09 01:00:00, 2019-11-09 02:00:00]', '(2019-11-09 02:00:00, 2019-11-09 03:00:00]', '(2019-11-09 03:00:00, 2019-11-09 04:00:00]', '(2019-11-09 04:00:00, 2019-11-09 05:00:00]', '(2019-11-09 05:00:00, 2019-11-09 06:00:00]', '(2019-11-09 06:00:00, 2019-11-09 07:00:00]', '(2019-11-09 07:00:00, 2019-11-09 08:00:00]', '(2019-11-09 08:00:00, 2019-11-09 09:00:00]', '(2019-11-09 09:00:00, 2019-11-09 10:00:00]', '(2019-11-09 10:00:00, 2019-11-09 11:00:00]', '(2019-11-09 11:00:00, 2019-11-09 12:00:00]', '(2019-11-09 12:00:00, 2019-11-09 13:00:00]', '(2019-11-09 13:00:00, 2019-11-09 14:00:00]', '(2019-11-09 14:00:00, 2019-11-09 15:00:00]', '(2019-11-09 15:00:00, 2019-11-09 16:00:00]', '(2019-11-09 16:00:00, 2019-11-09 17:00:00]', '(2019-11-09 17:00:00, 2019-11-09 18:00:00]', '(2019-11-09 18:00:00, 2019-11-09 19:00:00]', '(2019-11-09 19:00:00, 2019-11-09 20:00:00]', '(2019-11-09 20:00:00, 2019-11-09 21:00:00]', '(2019-11-09 21:00:00, 2019-11-09 22:00:00]', '(2019-11-09 22:00:00, 2019-11-09 23:00:00]', '(2019-11-09 23:00:00, 2019-11-10 00:00:00]', '(2019-11-10 00:00:00, 2019-11-10 01:00:00]', '(2019-11-10 01:00:00, 2019-11-10 02:00:00]', '(2019-11-10 02:00:00, 2019-11-10 03:00:00]', '(2019-11-10 03:00:00, 2019-11-10 04:00:00]', '(2019-11-10 04:00:00, 2019-11-10 05:00:00]', '(2019-11-10 05:00:00, 2019-11-10 06:00:00]', '(2019-11-10 06:00:00, 2019-11-10 07:00:00]', '(2019-11-10 07:00:00, 2019-11-10 08:00:00]', '(2019-11-10 08:00:00, 2019-11-10 09:00:00]', '(2019-11-10 09:00:00, 2019-11-10 10:00:00]', '(2019-11-10 10:00:00, 2019-11-10 11:00:00]', '(2019-11-10 11:00:00, 2019-11-10 12:00:00]', '(2019-11-10 12:00:00, 2019-11-10 13:00:00]', '(2019-11-10 13:00:00, 2019-11-10 14:00:00]', '(2019-11-10 14:00:00, 2019-11-10 15:00:00]', '(2019-11-10 15:00:00, 2019-11-10 16:00:00]', '(2019-11-10 16:00:00, 2019-11-10 17:00:00]', '(2019-11-10 17:00:00, 2019-11-10 18:00:00]', '(2019-11-10 18:00:00, 2019-11-10 19:00:00]', '(2019-11-10 19:00:00, 2019-11-10 20:00:00]', '(2019-11-10 20:00:00, 2019-11-10 21:00:00]', '(2019-11-10 21:00:00, 2019-11-10 22:00:00]', '(2019-11-10 22:00:00, 2019-11-10 23:00:00]', '(2019-11-10 23:00:00, 2019-11-11 00:00:00]', '(2019-11-11 00:00:00, 2019-11-11 01:00:00]', '(2019-11-11 01:00:00, 2019-11-11 02:00:00]', '(2019-11-11 02:00:00, 2019-11-11 03:00:00]', '(2019-11-11 03:00:00, 2019-11-11 04:00:00]', '(2019-11-11 04:00:00, 2019-11-11 05:00:00]', '(2019-11-11 05:00:00, 2019-11-11 06:00:00]', '(2019-11-11 06:00:00, 2019-11-11 07:00:00]', '(2019-11-11 07:00:00, 2019-11-11 08:00:00]', '(2019-11-11 08:00:00, 2019-11-11 09:00:00]', '(2019-11-11 09:00:00, 2019-11-11 10:00:00]', '(2019-11-11 10:00:00, 2019-11-11 11:00:00]', '(2019-11-11 11:00:00, 2019-11-11 12:00:00]', '(2019-11-11 12:00:00, 2019-11-11 13:00:00]', '(2019-11-11 13:00:00, 2019-11-11 14:00:00]', '(2019-11-11 14:00:00, 2019-11-11 15:00:00]', '(2019-11-11 15:00:00, 2019-11-11 16:00:00]', '(2019-11-11 16:00:00, 2019-11-11 17:00:00]', '(2019-11-11 17:00:00, 2019-11-11 18:00:00]', '(2019-11-11 18:00:00, 2019-11-11 19:00:00]', '(2019-11-11 19:00:00, 2019-11-11 20:00:00]', '(2019-11-11 20:00:00, 2019-11-11 21:00:00]', '(2019-11-11 21:00:00, 2019-11-11 22:00:00]', '(2019-11-11 22:00:00, 2019-11-11 23:00:00]', '(2019-11-11 23:00:00, 2019-11-12 00:00:00]', '(2019-11-12 00:00:00, 2019-11-12 01:00:00]', '(2019-11-12 01:00:00, 2019-11-12 02:00:00]', '(2019-11-12 02:00:00, 2019-11-12 03:00:00]', '(2019-11-12 03:00:00, 2019-11-12 04:00:00]', '(2019-11-12 04:00:00, 2019-11-12 05:00:00]', '(2019-11-12 05:00:00, 2019-11-12 06:00:00]', '(2019-11-12 06:00:00, 2019-11-12 07:00:00]', '(2019-11-12 07:00:00, 2019-11-12 08:00:00]', '(2019-11-12 08:00:00, 2019-11-12 09:00:00]', '(2019-11-12 09:00:00, 2019-11-12 10:00:00]', '(2019-11-12 10:00:00, 2019-11-12 11:00:00]', '(2019-11-12 11:00:00, 2019-11-12 12:00:00]', '(2019-11-12 12:00:00, 2019-11-12 13:00:00]', '(2019-11-12 13:00:00, 2019-11-12 14:00:00]', '(2019-11-12 14:00:00, 2019-11-12 15:00:00]', '(2019-11-12 15:00:00, 2019-11-12 16:00:00]', '(2019-11-12 16:00:00, 2019-11-12 17:00:00]', '(2019-11-12 17:00:00, 2019-11-12 18:00:00]', '(2019-11-12 18:00:00, 2019-11-12 19:00:00]', '(2019-11-12 19:00:00, 2019-11-12 20:00:00]', '(2019-11-12 20:00:00, 2019-11-12 21:00:00]', '(2019-11-12 21:00:00, 2019-11-12 22:00:00]', '(2019-11-12 22:00:00, 2019-11-12 23:00:00]', '(2019-11-12 23:00:00, 2019-11-13 00:00:00]', '(2019-11-13 00:00:00, 2019-11-13 01:00:00]', '(2019-11-13 01:00:00, 2019-11-13 02:00:00]', '(2019-11-13 02:00:00, 2019-11-13 03:00:00]', '(2019-11-13 03:00:00, 2019-11-13 04:00:00]', '(2019-11-13 04:00:00, 2019-11-13 05:00:00]', '(2019-11-13 05:00:00, 2019-11-13 06:00:00]', '(2019-11-13 06:00:00, 2019-11-13 07:00:00]', '(2019-11-13 07:00:00, 2019-11-13 08:00:00]', '(2019-11-13 08:00:00, 2019-11-13 09:00:00]', '(2019-11-13 09:00:00, 2019-11-13 10:00:00]', '(2019-11-13 10:00:00, 2019-11-13 11:00:00]', '(2019-11-13 11:00:00, 2019-11-13 12:00:00]', '(2019-11-13 12:00:00, 2019-11-13 13:00:00]', '(2019-11-13 13:00:00, 2019-11-13 14:00:00]', '(2019-11-13 14:00:00, 2019-11-13 15:00:00]', '(2019-11-13 15:00:00, 2019-11-13 16:00:00]', '(2019-11-13 16:00:00, 2019-11-13 17:00:00]', '(2019-11-13 17:00:00, 2019-11-13 18:00:00]', '(2019-11-13 18:00:00, 2019-11-13 19:00:00]', '(2019-11-13 19:00:00, 2019-11-13 20:00:00]', '(2019-11-13 20:00:00, 2019-11-13 21:00:00]', '(2019-11-13 21:00:00, 2019-11-13 22:00:00]', '(2019-11-13 22:00:00, 2019-11-13 23:00:00]', '(2019-11-13 23:00:00, 2019-11-14 00:00:00]', '(2019-11-14 00:00:00, 2019-11-14 01:00:00]', '(2019-11-14 01:00:00, 2019-11-14 02:00:00]', '(2019-11-14 02:00:00, 2019-11-14 03:00:00]', '(2019-11-14 03:00:00, 2019-11-14 04:00:00]', '(2019-11-14 04:00:00, 2019-11-14 05:00:00]', '(2019-11-14 05:00:00, 2019-11-14 06:00:00]', '(2019-11-14 06:00:00, 2019-11-14 07:00:00]', '(2019-11-14 07:00:00, 2019-11-14 08:00:00]', '(2019-11-14 08:00:00, 2019-11-14 09:00:00]', '(2019-11-14 09:00:00, 2019-11-14 10:00:00]', '(2019-11-14 10:00:00, 2019-11-14 11:00:00]', '(2019-11-14 11:00:00, 2019-11-14 12:00:00]', '(2019-11-14 12:00:00, 2019-11-14 13:00:00]', '(2019-11-14 13:00:00, 2019-11-14 14:00:00]', '(2019-11-14 14:00:00, 2019-11-14 15:00:00]', '(2019-11-14 15:00:00, 2019-11-14 16:00:00]', '(2019-11-14 16:00:00, 2019-11-14 17:00:00]', '(2019-11-14 17:00:00, 2019-11-14 18:00:00]', '(2019-11-14 18:00:00, 2019-11-14 19:00:00]', '(2019-11-14 19:00:00, 2019-11-14 20:00:00]', '(2019-11-14 20:00:00, 2019-11-14 21:00:00]', '(2019-11-14 21:00:00, 2019-11-14 22:00:00]', '(2019-11-14 22:00:00, 2019-11-14 23:00:00]', '(2019-11-14 23:00:00, 2019-11-15 00:00:00]']\n"
     ]
    }
   ],
   "source": [
    "## Accessing temporal data ##\n",
    "# how do we go about this? we can bin times into hours by finding the min and max time in the array\n",
    "# then with our bins we can bin into hours, determining the categories by hours \n",
    "\n",
    "# first finding our min and max times\n",
    "copynews = news.set_index('news_id') # duplicate copynews will have to fix later!\n",
    "times = [behaviors['time'].max(), behaviors['time'].min()]\n",
    "# max and then min\n",
    "# print(times)\n",
    "# interactions range from the 9th to the 14th, a span of 5 days, want to create bins of 1 hour\n",
    "# 24 * 5 is 120 hours in total\n",
    "cut_points = pd.date_range(start='2019-11-09 00:00:00', end='2019-11-15 00:00:00', freq='h') # hourly ranges for the time of the behaviors dataset\n",
    "# cut_points = np.linspace(start=dataframe[col].min(), stop=dataframe[col].max(), num=5 + 1)\n",
    "# print(type(cut_points))\n",
    "behaviors_new = behaviors.copy()\n",
    "bins_str = cut_points.astype(str).values\n",
    "\n",
    "labels = ['({}, {}]'.format(bins_str[i-1], bins_str[i]) for i in range(1, len(bins_str))]\n",
    "print(labels)\n",
    "behaviors_new['time'] = pd.cut(behaviors['time'], cut_points, labels=labels, include_lowest=True)\n",
    "# behaviors_new.head()\n",
    "# might want to use df['toronto_time'] = pd.to_datetime(df['toronto_time']).dt.strftime('%H:%M:%S')\n",
    "# def get_item_popularity()\n",
    "# can change the create popularity df function to be applied on every group of time, or a bigger function that takes in a row\n",
    "# popularity_by_time = behaviors_new.groupby('time').agg()\n",
    "# df[[\"col1\", \"col2\", ...]] = df.apply(lambda row: fn(row.text), axis='columns', result_type='expand')\n",
    "behaviors_new['time'] = behaviors_new['time'].apply(lambda time_string : time_string.split(\" \")[-1][:-1])\n",
    "def clean_impression(impression : str = 'N55689-1') -> dict:\n",
    "    \"\"\" \n",
    "    Cleans up a user impression for its characteristics.\n",
    "\n",
    "    Args:\n",
    "        impression (str) : A users impression on a recommended article.\n",
    "    \n",
    "    Returns:\n",
    "        impression_info (dict) : A dictionary containing keys for the rating and article in the impression.\n",
    "    \"\"\"\n",
    "    impression_info = impression.split('-')\n",
    "    return {'score':impression_info[1], 'article_ID':impression_info[0]}    \n",
    "\n",
    "# func should return a dictionary with column names as keys, we then can group by time, and then sum for each category\n",
    "# then we can plot with strftime\n",
    "STANDARD_DICT = {category: 0 for category in pd.unique(copynews['category'])}\n",
    "\n",
    "def func(row):\n",
    "    \"\"\" \n",
    "    Might want to change name from impression to interaction\n",
    "    \"\"\"\n",
    "    user_interactions = row['impressions']\n",
    "    cols_to_add = STANDARD_DICT.copy()\n",
    "    if type(user_interactions) != float:\n",
    "        for impression in user_interactions.split():\n",
    "            impression_info = clean_impression(impression)\n",
    "            if impression_info['score'] == '1':\n",
    "                cols_to_add[copynews.loc[impression_info['article_ID']]['category']] += 1\n",
    "    return cols_to_add\n",
    "\n",
    "# print([category_popularity.columns.to_list()])\n",
    "behaviors_new[category_popularity.columns.to_list()] = behaviors_new.apply(lambda row : func(row), axis='columns', result_type='expand')\n",
    "\n",
    "\n",
    "\n",
    "# popularity_by_time[[category_popularity.columns]] = popularity_by_time.apply(lambda row : func(row))\n",
    "# might just want to create a new dataframe with history and time "
   ]
  },
  {
   "cell_type": "code",
   "execution_count": 25,
   "metadata": {},
   "outputs": [],
   "source": [
    "\n",
    "behaviors_final = behaviors_new.drop(columns=['Unnamed: 0', 'impression_id', 'user_id', 'history', 'impressions'])\n",
    "                \n",
    "\n",
    "behaviors_final = behaviors_final.groupby('time').agg('sum')\n",
    "behaviors_final.reset_index(inplace=True)"
   ]
  },
  {
   "cell_type": "code",
   "execution_count": 52,
   "metadata": {},
   "outputs": [
    {
     "name": "stderr",
     "output_type": "stream",
     "text": [
      "/var/folders/83/h9nx83394pb5k_0h4zbb4lw00000gn/T/ipykernel_10514/1544821908.py:3: UserWarning:\n",
      "\n",
      "Could not infer format, so each element will be parsed individually, falling back to `dateutil`. To ensure parsing is consistent and as-expected, please specify a format.\n",
      "\n"
     ]
    },
    {
     "data": {
      "text/html": [
       "<div>\n",
       "<style scoped>\n",
       "    .dataframe tbody tr th:only-of-type {\n",
       "        vertical-align: middle;\n",
       "    }\n",
       "\n",
       "    .dataframe tbody tr th {\n",
       "        vertical-align: top;\n",
       "    }\n",
       "\n",
       "    .dataframe thead th {\n",
       "        text-align: right;\n",
       "    }\n",
       "</style>\n",
       "<table border=\"1\" class=\"dataframe\">\n",
       "  <thead>\n",
       "    <tr style=\"text-align: right;\">\n",
       "      <th></th>\n",
       "      <th>time</th>\n",
       "      <th>variable</th>\n",
       "      <th>value</th>\n",
       "    </tr>\n",
       "  </thead>\n",
       "  <tbody>\n",
       "    <tr>\n",
       "      <th>0</th>\n",
       "      <td>0</td>\n",
       "      <td>lifestyle</td>\n",
       "      <td>185</td>\n",
       "    </tr>\n",
       "    <tr>\n",
       "      <th>1</th>\n",
       "      <td>1</td>\n",
       "      <td>lifestyle</td>\n",
       "      <td>146</td>\n",
       "    </tr>\n",
       "    <tr>\n",
       "      <th>2</th>\n",
       "      <td>2</td>\n",
       "      <td>lifestyle</td>\n",
       "      <td>169</td>\n",
       "    </tr>\n",
       "    <tr>\n",
       "      <th>3</th>\n",
       "      <td>3</td>\n",
       "      <td>lifestyle</td>\n",
       "      <td>251</td>\n",
       "    </tr>\n",
       "    <tr>\n",
       "      <th>4</th>\n",
       "      <td>4</td>\n",
       "      <td>lifestyle</td>\n",
       "      <td>446</td>\n",
       "    </tr>\n",
       "    <tr>\n",
       "      <th>...</th>\n",
       "      <td>...</td>\n",
       "      <td>...</td>\n",
       "      <td>...</td>\n",
       "    </tr>\n",
       "    <tr>\n",
       "      <th>403</th>\n",
       "      <td>19</td>\n",
       "      <td>northamerica</td>\n",
       "      <td>1</td>\n",
       "    </tr>\n",
       "    <tr>\n",
       "      <th>404</th>\n",
       "      <td>20</td>\n",
       "      <td>northamerica</td>\n",
       "      <td>0</td>\n",
       "    </tr>\n",
       "    <tr>\n",
       "      <th>405</th>\n",
       "      <td>21</td>\n",
       "      <td>northamerica</td>\n",
       "      <td>0</td>\n",
       "    </tr>\n",
       "    <tr>\n",
       "      <th>406</th>\n",
       "      <td>22</td>\n",
       "      <td>northamerica</td>\n",
       "      <td>0</td>\n",
       "    </tr>\n",
       "    <tr>\n",
       "      <th>407</th>\n",
       "      <td>23</td>\n",
       "      <td>northamerica</td>\n",
       "      <td>0</td>\n",
       "    </tr>\n",
       "  </tbody>\n",
       "</table>\n",
       "<p>408 rows × 3 columns</p>\n",
       "</div>"
      ],
      "text/plain": [
       "     time      variable  value\n",
       "0       0     lifestyle    185\n",
       "1       1     lifestyle    146\n",
       "2       2     lifestyle    169\n",
       "3       3     lifestyle    251\n",
       "4       4     lifestyle    446\n",
       "..    ...           ...    ...\n",
       "403    19  northamerica      1\n",
       "404    20  northamerica      0\n",
       "405    21  northamerica      0\n",
       "406    22  northamerica      0\n",
       "407    23  northamerica      0\n",
       "\n",
       "[408 rows x 3 columns]"
      ]
     },
     "execution_count": 52,
     "metadata": {},
     "output_type": "execute_result"
    },
    {
     "data": {
      "image/png": "[encoded data removed]",
      "text/plain": [
       "<Figure size 650x500 with 1 Axes>"
      ]
     },
     "metadata": {},
     "output_type": "display_data"
    }
   ],
   "source": [
    "\n",
    "\n",
    "cols = ['lifestyle', 'health', 'news', 'sports', 'weather', 'entertainment', 'autos', 'travel', 'foodanddrink', 'tv', 'finance', 'movies', 'video', 'music', 'kids', 'middleeast', 'northamerica']\n",
    "behaviors_long = behaviors_final.melt(id_vars='time', value_vars=cols)\n",
    "behaviors_long['time'] = pd.to_datetime(behaviors_long['time'])\n",
    "behaviors_long['time'] = behaviors_long['time'].dt.hour\n",
    "\n",
    "sns.relplot(behaviors_long, x='time', y='value', hue='variable', kind='line')\n",
    "behaviors_long"
   ]
  },
  {
   "cell_type": "markdown",
   "metadata": {},
   "source": [
    "###  meep\n",
    "Within the context of a recommender we do not care about the date exactly but more so the hour or time of day, hence we will change the bins accordingly "
   ]
  },
  {
   "cell_type": "code",
   "execution_count": null,
   "metadata": {},
   "outputs": [],
   "source": []
  },
  {
   "cell_type": "code",
   "execution_count": null,
   "metadata": {},
   "outputs": [],
   "source": []
  }
 ],
 "metadata": {
  "kernelspec": {
   "display_name": "recSysEnv",
   "language": "python",
   "name": "python3"
  },
  "language_info": {
   "codemirror_mode": {
    "name": "ipython",
    "version": 3
   },
   "file_extension": ".py",
   "mimetype": "text/x-python",
   "name": "python",
   "nbconvert_exporter": "python",
   "pygments_lexer": "ipython3",
   "version": "3.9.18"
  }
 },
 "nbformat": 4,
 "nbformat_minor": 2
}
