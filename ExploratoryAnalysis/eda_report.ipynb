{
 "cells": [
  {
   "cell_type": "markdown",
   "metadata": {},
   "source": [
    "# Recommender Evaluation\n",
    "### By Nicholas Roze-Freitas and Coby Wilcox"
   ]
  },
  {
   "cell_type": "markdown",
   "metadata": {},
   "source": [
    "## Abstract\n",
    "Recommender systems are an often behind the scenes but rather foundational aspect of life today. Usually when we engage with media, we are engaging with a recommender: using social media, reading the news, buying something online and much more. Regardless of how ubiquitous recommenders are, evaluating and making them presents interesting and unique problems. Recommenders get gauged on several different metrics of accuracy ____ (put metrics here) ___. Through this project we aim to evaluate the performance of several recommender systems, frameworks and how we might improve them in the context of the Microsoft News Dataset. This report will be split into a couple main chapters, the first one below being exploratory data analysis. After walking through our analysis and preparation of the microsoft news dataset, we delve into recommender system frameworks, metrics and evalulation."
   ]
  },
  {
   "cell_type": "markdown",
   "metadata": {},
   "source": [
    "## Exploratory data analysis\n",
    "\n",
    "Before evaluating any recommender frameworks, models or hyperparameters, we will be engaging in exploratory data analysis on the Microsoft News Dataset. The Microsoft news dataset contains 4 separate tab-separated files: behaviors entity_embeddings, news and relation_embeddings. The main focus for now will be on behaviors and news, which gives us data on the catalog and users with interactions respectively. "
   ]
  },
  {
   "cell_type": "code",
   "execution_count": 1,
   "metadata": {},
   "outputs": [],
   "source": [
    "## IMPORTS ##\n",
    "import eda_modules\n",
    "import pandas as pd\n",
    "import numpy as np\n",
    "import seaborn as sns\n",
    "import matplotlib.pyplot as plt\n",
    "import plotly.express as px\n",
    "import datetime as datetime\n"
   ]
  },
  {
   "cell_type": "markdown",
   "metadata": {},
   "source": [
    "### Changing file formats\n",
    "We first noticed that our files were in unlabeled .tsv files, to make our data analysis easier in the future these .tsv files were turned into csvs with columns as specified by the datasets github repo. Once these columns were created, exploratory data analysis could be performed more easily."
   ]
  },
  {
   "cell_type": "markdown",
   "metadata": {},
   "source": [
    "### Initial understanding\n",
    "Within the MIND dataset (might want to make it clear that the mind dataset is referring to the microsoft news dataset at some point so that it is more clear to the reader) there are two main files, the behaviors and news. News contains information on the articles that users interact with like its ID, category, sub-category, title, abstract, url and some entities for use within embeddings (to my understanding). Behaviors focuses on impression ids, user ids, time, user history and impressions. Since there are two main datasets, we will be starting with some examination of each, and then examination of how they might interact."
   ]
  },
  {
   "cell_type": "code",
   "execution_count": 2,
   "metadata": {},
   "outputs": [],
   "source": [
    "news = pd.read_csv('../MIND_small/csv/news.csv')\n",
    "# news.head()\n"
   ]
  },
  {
   "cell_type": "markdown",
   "metadata": {},
   "source": [
    "### Starting with news\n",
    "Within the news dataset, several different categories and subcategories exist. We first want to understand how large each category may be, and the amount of subcategories that exist within it. By creating a treeplot we can extrapolate a few things about our dataset before diving deeper into investigation. Immediately noticeable is that the largest categories are news and sports, whereas entertainment and movies are much smaller. This could lead to potential bias within recommendations worsening success metrics such as coverage or serendipity which rely on the recommender to make wide selections of recommendations. While this does cause consideration of an IDF technique to add weights to our categories, we still have more exploration to do."
   ]
  },
  {
   "cell_type": "code",
   "execution_count": 3,
   "metadata": {},
   "outputs": [
    {
     "data": {
      "application/vnd.plotly.v1+json": {
       "config": {
        "plotlyServerURL": "https://plot.ly"
       },
       "data": [
        {
         "branchvalues": "total",
         "domain": {
          "x": [
           0,
           1
          ],
          "y": [
           0,
           1
          ]
         },
         "hovertemplate": "labels=%{label}<br>number_of_articles=%{value}<br>parent=%{parent}<br>id=%{id}<extra></extra>",
         "ids": [
          "music/ads-latingrammys",
          "health/ads-lung-health",
          "lifestyle/advice",
          "kids/animals",
          "video/animals",
          "autos/autosbuying",
          "autos/autoscartech",
          "autos/autosclassics",
          "autos/autoscompact",
          "autos/autosenthusiasts",
          "autos/autoshybrids",
          "autos/autoslosangeles",
          "autos/autosluxury",
          "autos/autosmidsize",
          "autos/autosmotorcycles",
          "autos/autosnews",
          "autos/autosownership",
          "autos/autospassenger",
          "autos/autosresearch",
          "autos/autosresearchguides",
          "autos/autosreview",
          "autos/autossema",
          "autos/autossports",
          "autos/autossuvs",
          "autos/autostokyo",
          "autos/autostrucks",
          "autos/autosvans",
          "autos/autosvideonew",
          "autos/autosvideos",
          "entertainment/awards",
          "lifestyle/awardstyle",
          "sports/baseball",
          "sports/baseball_mlb",
          "sports/baseball_mlb_videos",
          "sports/basketball_nba",
          "sports/basketball_nba_videos",
          "sports/basketball_ncaa",
          "sports/basketball_ncaa_videos",
          "sports/basketball_wnba",
          "foodanddrink/beverages",
          "sports/boxing",
          "sports/boxing-mma",
          "health/cardio",
          "finance/career-news",
          "finance/causes",
          "health/causes",
          "lifestyle/causes",
          "news/causes",
          "lifestyle/causes-animals",
          "news/causes-disaster-relief",
          "news/causes-environment",
          "foodanddrink/causes-food-insecurity",
          "lifestyle/causes-green-living",
          "news/causes-military-appreciation",
          "news/causes-poverty",
          "entertainment/celebhub",
          "entertainment/celebrity",
          "entertainment/celebritynews",
          "music/cma-awards",
          "foodanddrink/cocktails",
          "video/comedy",
          "finance/company-news",
          "foodanddrink/cooking",
          "foodanddrink/cookingschool",
          "video/downtime",
          "news/elections-2020-us",
          "news/empowering-the-planet",
          "entertainment/entertainment-books",
          "entertainment/entertainment-celebrity",
          "entertainment/entertainmentmusic",
          "entertainment/entertainmenttv",
          "news/factcheck",
          "finance/finance-auto-insurance",
          "finance/finance-billstopay",
          "finance/finance-career",
          "finance/finance-career-education",
          "finance/finance-companies",
          "finance/finance-credit",
          "finance/finance-education",
          "finance/finance-healthcare",
          "finance/finance-home-loans",
          "finance/finance-homesandpropertysection",
          "finance/finance-insidetheticker",
          "finance/finance-insurance",
          "finance/finance-mutual-funds",
          "finance/finance-real-estate",
          "finance/finance-retirement",
          "finance/finance-savemoney",
          "finance/finance-saving-investing",
          "finance/finance-small-business",
          "finance/finance-startinvesting",
          "finance/finance-taxes",
          "finance/finance-technology",
          "finance/finance-top-stocks",
          "finance/finance-video",
          "finance/financenews",
          "health/fitness",
          "video/foodanddrink",
          "foodanddrink/foodnews",
          "foodanddrink/foodrecipes",
          "foodanddrink/foodtips",
          "sports/football_ncaa",
          "sports/football_ncaa_videos",
          "sports/football_nfl",
          "sports/football_nfl_videos",
          "kids/fun",
          "entertainment/games",
          "entertainment/gaming",
          "sports/golf",
          "sports/golfvideos",
          "lifestyle/halloween",
          "health/health-cancer",
          "health/health-news",
          "health/healthagingwell",
          "health/healthnews",
          "health/healthyliving",
          "lifestyle/holidays",
          "travel/holidays",
          "entertainment/hollywood",
          "entertainment/humor",
          "music/humor",
          "tv/humor",
          "sports/icehockey_nhl",
          "news/indepth",
          "travel/internationaltravel",
          "video/lifestyle",
          "lifestyle/lifestyle-news-feature",
          "lifestyle/lifestyle-wedding",
          "lifestyle/lifestylebeauty",
          "lifestyle/lifestylebuzz",
          "lifestyle/lifestylecareer",
          "lifestyle/lifestylecelebstyle",
          "lifestyle/lifestylecleaningandorganizing",
          "lifestyle/lifestyledecor",
          "lifestyle/lifestyledidyouknow",
          "lifestyle/lifestylediy",
          "lifestyle/lifestylefamily",
          "lifestyle/lifestylefamilyandrelationships",
          "lifestyle/lifestylefashion",
          "lifestyle/lifestylehomeandgarden",
          "lifestyle/lifestylehoroscope",
          "lifestyle/lifestylehoroscopefish",
          "lifestyle/lifestylelovesex",
          "lifestyle/lifestylemarriage",
          "lifestyle/lifestylemindandsoul",
          "lifestyle/lifestyleparenting",
          "lifestyle/lifestylepets",
          "lifestyle/lifestylepetsanimals",
          "lifestyle/lifestylerelationships",
          "lifestyle/lifestyleroyals",
          "lifestyle/lifestyleshopping",
          "lifestyle/lifestyleshoppinghomegarden",
          "lifestyle/lifestylesmartliving",
          "lifestyle/lifestylestyle",
          "lifestyle/lifestylevideo",
          "lifestyle/lifestyleweddings",
          "lifestyle/lifestylewhatshot",
          "finance/markets",
          "health/medical",
          "health/mentalhealth",
          "middleeast/middleeast-top-stories",
          "sports/mma",
          "sports/mmaufc",
          "sports/more_sports",
          "movies/movienews",
          "movies/movies-awards",
          "movies/movies-celebrity",
          "movies/movies-gallery",
          "movies/movies-oscars",
          "movies/movievideo",
          "music/music-awards",
          "music/music-celebrity",
          "music/music-gallery",
          "music/music-grammys",
          "music/music-reviews",
          "music/musicnews",
          "music/musicvideos",
          "news/narendramodi_opinion",
          "entertainment/news",
          "video/news",
          "news/newsbusiness",
          "news/newscrime",
          "news/newselection2020",
          "news/newsfactcheck",
          "news/newsgoodnews",
          "news/newsnational",
          "news/newsoffbeat",
          "news/newsopinion",
          "news/newsother",
          "news/newsphotos",
          "news/newspolitics",
          "news/newsrealestate",
          "news/newsscience",
          "news/newsscienceandtechnology",
          "foodanddrink/newstrends",
          "travel/newstrends",
          "news/newstvmedia",
          "news/newsus",
          "news/newsvideo",
          "news/newsweather",
          "news/newsworld",
          "news/newsworldpolitics",
          "northamerica/northamerica-video",
          "health/nutrition",
          "sports/olympics-videos",
          "sports/othersports",
          "sports/outdoors",
          "kids/people-places",
          "video/peopleandplaces",
          "finance/personalfinance",
          "news/personalfinance",
          "news/photos",
          "video/popculture",
          "health/pregnancyparenting",
          "lifestyle/pregnancyparenting",
          "foodanddrink/quickandeasy",
          "sports/racing",
          "foodanddrink/recipes",
          "health/recipes",
          "lifestyle/relationships",
          "foodanddrink/restaurantsandnews",
          "finance/retirement",
          "movies/reviews",
          "kids/science",
          "video/science",
          "foodanddrink/seasonal",
          "lifestyle/shop-all",
          "lifestyle/shop-apparel",
          "lifestyle/shop-books-movies-tv",
          "lifestyle/shop-holidays",
          "lifestyle/shop-home-goods",
          "sports/soccer",
          "sports/soccer_bund",
          "sports/soccer_epl",
          "sports/soccer_mls",
          "finance/spendingandborrowing",
          "video/sports",
          "sports/sports_news",
          "health/strength",
          "finance/technologyinvesting",
          "sports/tennis",
          "sports/tennis_intl",
          "foodanddrink/tipsandtricks",
          "music/topnews",
          "tv/topnews",
          "lifestyle/travel",
          "travel/travel-adventure-travel",
          "travel/travel-points-rewards",
          "travel/travel-videos",
          "travel/travelarticle",
          "travel/travelnews",
          "travel/traveltips",
          "travel/traveltripideas",
          "travel/traveltrivia",
          "video/tunedin",
          "entertainment/tv",
          "tv/tv-celebrity",
          "tv/tv-gallery",
          "tv/tv-golden-globes",
          "tv/tv-golden-globes-video",
          "tv/tv-recaps",
          "tv/tv-reviews",
          "tv/tvnews",
          "tv/tvvideos",
          "travel/ustravel",
          "entertainment/video",
          "health/video",
          "kids/video",
          "travel/video",
          "foodanddrink/videos",
          "video/viral",
          "health/voices",
          "lifestyle/voices",
          "travel/voices",
          "video/watch",
          "weather/weatherfullscreenmaps",
          "weather/weathertopstories",
          "health/weight-loss",
          "health/weightloss",
          "health/wellness",
          "foodanddrink/wines",
          "video/wonder",
          "news/yearinoffbeatgoodnews",
          "autos",
          "entertainment",
          "finance",
          "foodanddrink",
          "health",
          "kids",
          "lifestyle",
          "middleeast",
          "movies",
          "music",
          "news",
          "northamerica",
          "sports",
          "travel",
          "tv",
          "video",
          "weather"
         ],
         "labels": [
          "ads-latingrammys",
          "ads-lung-health",
          "advice",
          "animals",
          "animals",
          "autosbuying",
          "autoscartech",
          "autosclassics",
          "autoscompact",
          "autosenthusiasts",
          "autoshybrids",
          "autoslosangeles",
          "autosluxury",
          "autosmidsize",
          "autosmotorcycles",
          "autosnews",
          "autosownership",
          "autospassenger",
          "autosresearch",
          "autosresearchguides",
          "autosreview",
          "autossema",
          "autossports",
          "autossuvs",
          "autostokyo",
          "autostrucks",
          "autosvans",
          "autosvideonew",
          "autosvideos",
          "awards",
          "awardstyle",
          "baseball",
          "baseball_mlb",
          "baseball_mlb_videos",
          "basketball_nba",
          "basketball_nba_videos",
          "basketball_ncaa",
          "basketball_ncaa_videos",
          "basketball_wnba",
          "beverages",
          "boxing",
          "boxing-mma",
          "cardio",
          "career-news",
          "causes",
          "causes",
          "causes",
          "causes",
          "causes-animals",
          "causes-disaster-relief",
          "causes-environment",
          "causes-food-insecurity",
          "causes-green-living",
          "causes-military-appreciation",
          "causes-poverty",
          "celebhub",
          "celebrity",
          "celebritynews",
          "cma-awards",
          "cocktails",
          "comedy",
          "company-news",
          "cooking",
          "cookingschool",
          "downtime",
          "elections-2020-us",
          "empowering-the-planet",
          "entertainment-books",
          "entertainment-celebrity",
          "entertainmentmusic",
          "entertainmenttv",
          "factcheck",
          "finance-auto-insurance",
          "finance-billstopay",
          "finance-career",
          "finance-career-education",
          "finance-companies",
          "finance-credit",
          "finance-education",
          "finance-healthcare",
          "finance-home-loans",
          "finance-homesandpropertysection",
          "finance-insidetheticker",
          "finance-insurance",
          "finance-mutual-funds",
          "finance-real-estate",
          "finance-retirement",
          "finance-savemoney",
          "finance-saving-investing",
          "finance-small-business",
          "finance-startinvesting",
          "finance-taxes",
          "finance-technology",
          "finance-top-stocks",
          "finance-video",
          "financenews",
          "fitness",
          "foodanddrink",
          "foodnews",
          "foodrecipes",
          "foodtips",
          "football_ncaa",
          "football_ncaa_videos",
          "football_nfl",
          "football_nfl_videos",
          "fun",
          "games",
          "gaming",
          "golf",
          "golfvideos",
          "halloween",
          "health-cancer",
          "health-news",
          "healthagingwell",
          "healthnews",
          "healthyliving",
          "holidays",
          "holidays",
          "hollywood",
          "humor",
          "humor",
          "humor",
          "icehockey_nhl",
          "indepth",
          "internationaltravel",
          "lifestyle",
          "lifestyle-news-feature",
          "lifestyle-wedding",
          "lifestylebeauty",
          "lifestylebuzz",
          "lifestylecareer",
          "lifestylecelebstyle",
          "lifestylecleaningandorganizing",
          "lifestyledecor",
          "lifestyledidyouknow",
          "lifestylediy",
          "lifestylefamily",
          "lifestylefamilyandrelationships",
          "lifestylefashion",
          "lifestylehomeandgarden",
          "lifestylehoroscope",
          "lifestylehoroscopefish",
          "lifestylelovesex",
          "lifestylemarriage",
          "lifestylemindandsoul",
          "lifestyleparenting",
          "lifestylepets",
          "lifestylepetsanimals",
          "lifestylerelationships",
          "lifestyleroyals",
          "lifestyleshopping",
          "lifestyleshoppinghomegarden",
          "lifestylesmartliving",
          "lifestylestyle",
          "lifestylevideo",
          "lifestyleweddings",
          "lifestylewhatshot",
          "markets",
          "medical",
          "mentalhealth",
          "middleeast-top-stories",
          "mma",
          "mmaufc",
          "more_sports",
          "movienews",
          "movies-awards",
          "movies-celebrity",
          "movies-gallery",
          "movies-oscars",
          "movievideo",
          "music-awards",
          "music-celebrity",
          "music-gallery",
          "music-grammys",
          "music-reviews",
          "musicnews",
          "musicvideos",
          "narendramodi_opinion",
          "news",
          "news",
          "newsbusiness",
          "newscrime",
          "newselection2020",
          "newsfactcheck",
          "newsgoodnews",
          "newsnational",
          "newsoffbeat",
          "newsopinion",
          "newsother",
          "newsphotos",
          "newspolitics",
          "newsrealestate",
          "newsscience",
          "newsscienceandtechnology",
          "newstrends",
          "newstrends",
          "newstvmedia",
          "newsus",
          "newsvideo",
          "newsweather",
          "newsworld",
          "newsworldpolitics",
          "northamerica-video",
          "nutrition",
          "olympics-videos",
          "othersports",
          "outdoors",
          "people-places",
          "peopleandplaces",
          "personalfinance",
          "personalfinance",
          "photos",
          "popculture",
          "pregnancyparenting",
          "pregnancyparenting",
          "quickandeasy",
          "racing",
          "recipes",
          "recipes",
          "relationships",
          "restaurantsandnews",
          "retirement",
          "reviews",
          "science",
          "science",
          "seasonal",
          "shop-all",
          "shop-apparel",
          "shop-books-movies-tv",
          "shop-holidays",
          "shop-home-goods",
          "soccer",
          "soccer_bund",
          "soccer_epl",
          "soccer_mls",
          "spendingandborrowing",
          "sports",
          "sports_news",
          "strength",
          "technologyinvesting",
          "tennis",
          "tennis_intl",
          "tipsandtricks",
          "topnews",
          "topnews",
          "travel",
          "travel-adventure-travel",
          "travel-points-rewards",
          "travel-videos",
          "travelarticle",
          "travelnews",
          "traveltips",
          "traveltripideas",
          "traveltrivia",
          "tunedin",
          "tv",
          "tv-celebrity",
          "tv-gallery",
          "tv-golden-globes",
          "tv-golden-globes-video",
          "tv-recaps",
          "tv-reviews",
          "tvnews",
          "tvvideos",
          "ustravel",
          "video",
          "video",
          "video",
          "video",
          "videos",
          "viral",
          "voices",
          "voices",
          "voices",
          "watch",
          "weatherfullscreenmaps",
          "weathertopstories",
          "weight-loss",
          "weightloss",
          "wellness",
          "wines",
          "wonder",
          "yearinoffbeatgoodnews",
          "autos",
          "entertainment",
          "finance",
          "foodanddrink",
          "health",
          "kids",
          "lifestyle",
          "middleeast",
          "movies",
          "music",
          "news",
          "northamerica",
          "sports",
          "travel",
          "tv",
          "video",
          "weather"
         ],
         "name": "",
         "parents": [
          "music",
          "health",
          "lifestyle",
          "kids",
          "video",
          "autos",
          "autos",
          "autos",
          "autos",
          "autos",
          "autos",
          "autos",
          "autos",
          "autos",
          "autos",
          "autos",
          "autos",
          "autos",
          "autos",
          "autos",
          "autos",
          "autos",
          "autos",
          "autos",
          "autos",
          "autos",
          "autos",
          "autos",
          "autos",
          "entertainment",
          "lifestyle",
          "sports",
          "sports",
          "sports",
          "sports",
          "sports",
          "sports",
          "sports",
          "sports",
          "foodanddrink",
          "sports",
          "sports",
          "health",
          "finance",
          "finance",
          "health",
          "lifestyle",
          "news",
          "lifestyle",
          "news",
          "news",
          "foodanddrink",
          "lifestyle",
          "news",
          "news",
          "entertainment",
          "entertainment",
          "entertainment",
          "music",
          "foodanddrink",
          "video",
          "finance",
          "foodanddrink",
          "foodanddrink",
          "video",
          "news",
          "news",
          "entertainment",
          "entertainment",
          "entertainment",
          "entertainment",
          "news",
          "finance",
          "finance",
          "finance",
          "finance",
          "finance",
          "finance",
          "finance",
          "finance",
          "finance",
          "finance",
          "finance",
          "finance",
          "finance",
          "finance",
          "finance",
          "finance",
          "finance",
          "finance",
          "finance",
          "finance",
          "finance",
          "finance",
          "finance",
          "finance",
          "health",
          "video",
          "foodanddrink",
          "foodanddrink",
          "foodanddrink",
          "sports",
          "sports",
          "sports",
          "sports",
          "kids",
          "entertainment",
          "entertainment",
          "sports",
          "sports",
          "lifestyle",
          "health",
          "health",
          "health",
          "health",
          "health",
          "lifestyle",
          "travel",
          "entertainment",
          "entertainment",
          "music",
          "tv",
          "sports",
          "news",
          "travel",
          "video",
          "lifestyle",
          "lifestyle",
          "lifestyle",
          "lifestyle",
          "lifestyle",
          "lifestyle",
          "lifestyle",
          "lifestyle",
          "lifestyle",
          "lifestyle",
          "lifestyle",
          "lifestyle",
          "lifestyle",
          "lifestyle",
          "lifestyle",
          "lifestyle",
          "lifestyle",
          "lifestyle",
          "lifestyle",
          "lifestyle",
          "lifestyle",
          "lifestyle",
          "lifestyle",
          "lifestyle",
          "lifestyle",
          "lifestyle",
          "lifestyle",
          "lifestyle",
          "lifestyle",
          "lifestyle",
          "lifestyle",
          "finance",
          "health",
          "health",
          "middleeast",
          "sports",
          "sports",
          "sports",
          "movies",
          "movies",
          "movies",
          "movies",
          "movies",
          "movies",
          "music",
          "music",
          "music",
          "music",
          "music",
          "music",
          "music",
          "news",
          "entertainment",
          "video",
          "news",
          "news",
          "news",
          "news",
          "news",
          "news",
          "news",
          "news",
          "news",
          "news",
          "news",
          "news",
          "news",
          "news",
          "foodanddrink",
          "travel",
          "news",
          "news",
          "news",
          "news",
          "news",
          "news",
          "northamerica",
          "health",
          "sports",
          "sports",
          "sports",
          "kids",
          "video",
          "finance",
          "news",
          "news",
          "video",
          "health",
          "lifestyle",
          "foodanddrink",
          "sports",
          "foodanddrink",
          "health",
          "lifestyle",
          "foodanddrink",
          "finance",
          "movies",
          "kids",
          "video",
          "foodanddrink",
          "lifestyle",
          "lifestyle",
          "lifestyle",
          "lifestyle",
          "lifestyle",
          "sports",
          "sports",
          "sports",
          "sports",
          "finance",
          "video",
          "sports",
          "health",
          "finance",
          "sports",
          "sports",
          "foodanddrink",
          "music",
          "tv",
          "lifestyle",
          "travel",
          "travel",
          "travel",
          "travel",
          "travel",
          "travel",
          "travel",
          "travel",
          "video",
          "entertainment",
          "tv",
          "tv",
          "tv",
          "tv",
          "tv",
          "tv",
          "tv",
          "tv",
          "travel",
          "entertainment",
          "health",
          "kids",
          "travel",
          "foodanddrink",
          "video",
          "health",
          "lifestyle",
          "travel",
          "video",
          "weather",
          "weather",
          "health",
          "health",
          "health",
          "foodanddrink",
          "video",
          "news",
          "",
          "",
          "",
          "",
          "",
          "",
          "",
          "",
          "",
          "",
          "",
          "",
          "",
          "",
          "",
          "",
          ""
         ],
         "type": "treemap",
         "values": [
          7,
          11,
          25,
          2,
          257,
          32,
          2,
          119,
          1,
          231,
          6,
          1,
          20,
          1,
          128,
          837,
          26,
          3,
          15,
          16,
          3,
          19,
          58,
          68,
          6,
          36,
          1,
          7,
          3,
          27,
          12,
          1,
          1661,
          36,
          1555,
          9,
          774,
          14,
          4,
          63,
          15,
          8,
          1,
          2,
          3,
          11,
          11,
          2,
          5,
          1,
          2,
          4,
          5,
          1,
          1,
          1,
          145,
          1,
          37,
          2,
          1,
          1,
          3,
          1,
          3,
          116,
          1,
          110,
          129,
          1,
          1,
          40,
          1,
          12,
          18,
          118,
          567,
          16,
          11,
          14,
          1,
          1,
          1,
          15,
          4,
          584,
          76,
          65,
          71,
          32,
          1,
          37,
          20,
          117,
          81,
          697,
          107,
          1,
          271,
          3,
          1,
          1665,
          36,
          5420,
          161,
          4,
          1,
          115,
          446,
          1,
          1,
          1,
          459,
          2,
          36,
          1,
          2,
          2,
          1,
          9,
          1,
          15,
          531,
          2,
          5,
          122,
          14,
          1,
          30,
          894,
          30,
          59,
          23,
          8,
          103,
          13,
          147,
          28,
          15,
          178,
          34,
          1,
          15,
          1,
          29,
          30,
          77,
          67,
          36,
          239,
          5,
          1,
          61,
          1,
          16,
          11,
          1,
          410,
          479,
          9,
          2,
          437,
          1,
          1065,
          231,
          12,
          213,
          64,
          5,
          77,
          26,
          210,
          48,
          4,
          4,
          414,
          17,
          1,
          17,
          1168,
          48,
          2254,
          8,
          17,
          176,
          1,
          405,
          315,
          1,
          22,
          2826,
          1,
          15,
          1210,
          1175,
          1,
          1,
          6564,
          1,
          11,
          1720,
          5,
          1,
          222,
          1,
          1,
          34,
          5,
          54,
          118,
          2,
          2,
          98,
          8,
          1,
          44,
          299,
          461,
          2,
          1,
          170,
          10,
          4,
          1,
          134,
          2,
          32,
          17,
          2,
          107,
          3,
          156,
          1,
          25,
          37,
          1,
          2,
          4,
          1,
          2,
          111,
          1,
          251,
          1,
          1,
          1,
          4,
          10,
          2,
          1042,
          902,
          76,
          243,
          1,
          5,
          1,
          356,
          78,
          4,
          1,
          16,
          2,
          377,
          39,
          6,
          28,
          11,
          5,
          50,
          87,
          217,
          51,
          86,
          6,
          1,
          1,
          2047,
          6,
          127,
          340,
          13,
          5,
          2,
          1639,
          587,
          3107,
          2551,
          1885,
          17,
          2479,
          2,
          606,
          769,
          15774,
          1,
          14510,
          2350,
          889,
          2068,
          2048
         ]
        }
       ],
       "layout": {
        "legend": {
         "tracegroupgap": 0
        },
        "template": {
         "data": {
          "bar": [
           {
            "error_x": {
             "color": "#2a3f5f"
            },
            "error_y": {
             "color": "#2a3f5f"
            },
            "marker": {
             "line": {
              "color": "#E5ECF6",
              "width": 0.5
             },
             "pattern": {
              "fillmode": "overlay",
              "size": 10,
              "solidity": 0.2
             }
            },
            "type": "bar"
           }
          ],
          "barpolar": [
           {
            "marker": {
             "line": {
              "color": "#E5ECF6",
              "width": 0.5
             },
             "pattern": {
              "fillmode": "overlay",
              "size": 10,
              "solidity": 0.2
             }
            },
            "type": "barpolar"
           }
          ],
          "carpet": [
           {
            "aaxis": {
             "endlinecolor": "#2a3f5f",
             "gridcolor": "white",
             "linecolor": "white",
             "minorgridcolor": "white",
             "startlinecolor": "#2a3f5f"
            },
            "baxis": {
             "endlinecolor": "#2a3f5f",
             "gridcolor": "white",
             "linecolor": "white",
             "minorgridcolor": "white",
             "startlinecolor": "#2a3f5f"
            },
            "type": "carpet"
           }
          ],
          "choropleth": [
           {
            "colorbar": {
             "outlinewidth": 0,
             "ticks": ""
            },
            "type": "choropleth"
           }
          ],
          "contour": [
           {
            "colorbar": {
             "outlinewidth": 0,
             "ticks": ""
            },
            "colorscale": [
             [
              0,
              "#0d0887"
             ],
             [
              0.1111111111111111,
              "#46039f"
             ],
             [
              0.2222222222222222,
              "#7201a8"
             ],
             [
              0.3333333333333333,
              "#9c179e"
             ],
             [
              0.4444444444444444,
              "#bd3786"
             ],
             [
              0.5555555555555556,
              "#d8576b"
             ],
             [
              0.6666666666666666,
              "#ed7953"
             ],
             [
              0.7777777777777778,
              "#fb9f3a"
             ],
             [
              0.8888888888888888,
              "#fdca26"
             ],
             [
              1,
              "#f0f921"
             ]
            ],
            "type": "contour"
           }
          ],
          "contourcarpet": [
           {
            "colorbar": {
             "outlinewidth": 0,
             "ticks": ""
            },
            "type": "contourcarpet"
           }
          ],
          "heatmap": [
           {
            "colorbar": {
             "outlinewidth": 0,
             "ticks": ""
            },
            "colorscale": [
             [
              0,
              "#0d0887"
             ],
             [
              0.1111111111111111,
              "#46039f"
             ],
             [
              0.2222222222222222,
              "#7201a8"
             ],
             [
              0.3333333333333333,
              "#9c179e"
             ],
             [
              0.4444444444444444,
              "#bd3786"
             ],
             [
              0.5555555555555556,
              "#d8576b"
             ],
             [
              0.6666666666666666,
              "#ed7953"
             ],
             [
              0.7777777777777778,
              "#fb9f3a"
             ],
             [
              0.8888888888888888,
              "#fdca26"
             ],
             [
              1,
              "#f0f921"
             ]
            ],
            "type": "heatmap"
           }
          ],
          "heatmapgl": [
           {
            "colorbar": {
             "outlinewidth": 0,
             "ticks": ""
            },
            "colorscale": [
             [
              0,
              "#0d0887"
             ],
             [
              0.1111111111111111,
              "#46039f"
             ],
             [
              0.2222222222222222,
              "#7201a8"
             ],
             [
              0.3333333333333333,
              "#9c179e"
             ],
             [
              0.4444444444444444,
              "#bd3786"
             ],
             [
              0.5555555555555556,
              "#d8576b"
             ],
             [
              0.6666666666666666,
              "#ed7953"
             ],
             [
              0.7777777777777778,
              "#fb9f3a"
             ],
             [
              0.8888888888888888,
              "#fdca26"
             ],
             [
              1,
              "#f0f921"
             ]
            ],
            "type": "heatmapgl"
           }
          ],
          "histogram": [
           {
            "marker": {
             "pattern": {
              "fillmode": "overlay",
              "size": 10,
              "solidity": 0.2
             }
            },
            "type": "histogram"
           }
          ],
          "histogram2d": [
           {
            "colorbar": {
             "outlinewidth": 0,
             "ticks": ""
            },
            "colorscale": [
             [
              0,
              "#0d0887"
             ],
             [
              0.1111111111111111,
              "#46039f"
             ],
             [
              0.2222222222222222,
              "#7201a8"
             ],
             [
              0.3333333333333333,
              "#9c179e"
             ],
             [
              0.4444444444444444,
              "#bd3786"
             ],
             [
              0.5555555555555556,
              "#d8576b"
             ],
             [
              0.6666666666666666,
              "#ed7953"
             ],
             [
              0.7777777777777778,
              "#fb9f3a"
             ],
             [
              0.8888888888888888,
              "#fdca26"
             ],
             [
              1,
              "#f0f921"
             ]
            ],
            "type": "histogram2d"
           }
          ],
          "histogram2dcontour": [
           {
            "colorbar": {
             "outlinewidth": 0,
             "ticks": ""
            },
            "colorscale": [
             [
              0,
              "#0d0887"
             ],
             [
              0.1111111111111111,
              "#46039f"
             ],
             [
              0.2222222222222222,
              "#7201a8"
             ],
             [
              0.3333333333333333,
              "#9c179e"
             ],
             [
              0.4444444444444444,
              "#bd3786"
             ],
             [
              0.5555555555555556,
              "#d8576b"
             ],
             [
              0.6666666666666666,
              "#ed7953"
             ],
             [
              0.7777777777777778,
              "#fb9f3a"
             ],
             [
              0.8888888888888888,
              "#fdca26"
             ],
             [
              1,
              "#f0f921"
             ]
            ],
            "type": "histogram2dcontour"
           }
          ],
          "mesh3d": [
           {
            "colorbar": {
             "outlinewidth": 0,
             "ticks": ""
            },
            "type": "mesh3d"
           }
          ],
          "parcoords": [
           {
            "line": {
             "colorbar": {
              "outlinewidth": 0,
              "ticks": ""
             }
            },
            "type": "parcoords"
           }
          ],
          "pie": [
           {
            "automargin": true,
            "type": "pie"
           }
          ],
          "scatter": [
           {
            "fillpattern": {
             "fillmode": "overlay",
             "size": 10,
             "solidity": 0.2
            },
            "type": "scatter"
           }
          ],
          "scatter3d": [
           {
            "line": {
             "colorbar": {
              "outlinewidth": 0,
              "ticks": ""
             }
            },
            "marker": {
             "colorbar": {
              "outlinewidth": 0,
              "ticks": ""
             }
            },
            "type": "scatter3d"
           }
          ],
          "scattercarpet": [
           {
            "marker": {
             "colorbar": {
              "outlinewidth": 0,
              "ticks": ""
             }
            },
            "type": "scattercarpet"
           }
          ],
          "scattergeo": [
           {
            "marker": {
             "colorbar": {
              "outlinewidth": 0,
              "ticks": ""
             }
            },
            "type": "scattergeo"
           }
          ],
          "scattergl": [
           {
            "marker": {
             "colorbar": {
              "outlinewidth": 0,
              "ticks": ""
             }
            },
            "type": "scattergl"
           }
          ],
          "scattermapbox": [
           {
            "marker": {
             "colorbar": {
              "outlinewidth": 0,
              "ticks": ""
             }
            },
            "type": "scattermapbox"
           }
          ],
          "scatterpolar": [
           {
            "marker": {
             "colorbar": {
              "outlinewidth": 0,
              "ticks": ""
             }
            },
            "type": "scatterpolar"
           }
          ],
          "scatterpolargl": [
           {
            "marker": {
             "colorbar": {
              "outlinewidth": 0,
              "ticks": ""
             }
            },
            "type": "scatterpolargl"
           }
          ],
          "scatterternary": [
           {
            "marker": {
             "colorbar": {
              "outlinewidth": 0,
              "ticks": ""
             }
            },
            "type": "scatterternary"
           }
          ],
          "surface": [
           {
            "colorbar": {
             "outlinewidth": 0,
             "ticks": ""
            },
            "colorscale": [
             [
              0,
              "#0d0887"
             ],
             [
              0.1111111111111111,
              "#46039f"
             ],
             [
              0.2222222222222222,
              "#7201a8"
             ],
             [
              0.3333333333333333,
              "#9c179e"
             ],
             [
              0.4444444444444444,
              "#bd3786"
             ],
             [
              0.5555555555555556,
              "#d8576b"
             ],
             [
              0.6666666666666666,
              "#ed7953"
             ],
             [
              0.7777777777777778,
              "#fb9f3a"
             ],
             [
              0.8888888888888888,
              "#fdca26"
             ],
             [
              1,
              "#f0f921"
             ]
            ],
            "type": "surface"
           }
          ],
          "table": [
           {
            "cells": {
             "fill": {
              "color": "#EBF0F8"
             },
             "line": {
              "color": "white"
             }
            },
            "header": {
             "fill": {
              "color": "#C8D4E3"
             },
             "line": {
              "color": "white"
             }
            },
            "type": "table"
           }
          ]
         },
         "layout": {
          "annotationdefaults": {
           "arrowcolor": "#2a3f5f",
           "arrowhead": 0,
           "arrowwidth": 1
          },
          "autotypenumbers": "strict",
          "coloraxis": {
           "colorbar": {
            "outlinewidth": 0,
            "ticks": ""
           }
          },
          "colorscale": {
           "diverging": [
            [
             0,
             "#8e0152"
            ],
            [
             0.1,
             "#c51b7d"
            ],
            [
             0.2,
             "#de77ae"
            ],
            [
             0.3,
             "#f1b6da"
            ],
            [
             0.4,
             "#fde0ef"
            ],
            [
             0.5,
             "#f7f7f7"
            ],
            [
             0.6,
             "#e6f5d0"
            ],
            [
             0.7,
             "#b8e186"
            ],
            [
             0.8,
             "#7fbc41"
            ],
            [
             0.9,
             "#4d9221"
            ],
            [
             1,
             "#276419"
            ]
           ],
           "sequential": [
            [
             0,
             "#0d0887"
            ],
            [
             0.1111111111111111,
             "#46039f"
            ],
            [
             0.2222222222222222,
             "#7201a8"
            ],
            [
             0.3333333333333333,
             "#9c179e"
            ],
            [
             0.4444444444444444,
             "#bd3786"
            ],
            [
             0.5555555555555556,
             "#d8576b"
            ],
            [
             0.6666666666666666,
             "#ed7953"
            ],
            [
             0.7777777777777778,
             "#fb9f3a"
            ],
            [
             0.8888888888888888,
             "#fdca26"
            ],
            [
             1,
             "#f0f921"
            ]
           ],
           "sequentialminus": [
            [
             0,
             "#0d0887"
            ],
            [
             0.1111111111111111,
             "#46039f"
            ],
            [
             0.2222222222222222,
             "#7201a8"
            ],
            [
             0.3333333333333333,
             "#9c179e"
            ],
            [
             0.4444444444444444,
             "#bd3786"
            ],
            [
             0.5555555555555556,
             "#d8576b"
            ],
            [
             0.6666666666666666,
             "#ed7953"
            ],
            [
             0.7777777777777778,
             "#fb9f3a"
            ],
            [
             0.8888888888888888,
             "#fdca26"
            ],
            [
             1,
             "#f0f921"
            ]
           ]
          },
          "colorway": [
           "#636efa",
           "#EF553B",
           "#00cc96",
           "#ab63fa",
           "#FFA15A",
           "#19d3f3",
           "#FF6692",
           "#B6E880",
           "#FF97FF",
           "#FECB52"
          ],
          "font": {
           "color": "#2a3f5f"
          },
          "geo": {
           "bgcolor": "white",
           "lakecolor": "white",
           "landcolor": "#E5ECF6",
           "showlakes": true,
           "showland": true,
           "subunitcolor": "white"
          },
          "hoverlabel": {
           "align": "left"
          },
          "hovermode": "closest",
          "mapbox": {
           "style": "light"
          },
          "paper_bgcolor": "white",
          "plot_bgcolor": "#E5ECF6",
          "polar": {
           "angularaxis": {
            "gridcolor": "white",
            "linecolor": "white",
            "ticks": ""
           },
           "bgcolor": "#E5ECF6",
           "radialaxis": {
            "gridcolor": "white",
            "linecolor": "white",
            "ticks": ""
           }
          },
          "scene": {
           "xaxis": {
            "backgroundcolor": "#E5ECF6",
            "gridcolor": "white",
            "gridwidth": 2,
            "linecolor": "white",
            "showbackground": true,
            "ticks": "",
            "zerolinecolor": "white"
           },
           "yaxis": {
            "backgroundcolor": "#E5ECF6",
            "gridcolor": "white",
            "gridwidth": 2,
            "linecolor": "white",
            "showbackground": true,
            "ticks": "",
            "zerolinecolor": "white"
           },
           "zaxis": {
            "backgroundcolor": "#E5ECF6",
            "gridcolor": "white",
            "gridwidth": 2,
            "linecolor": "white",
            "showbackground": true,
            "ticks": "",
            "zerolinecolor": "white"
           }
          },
          "shapedefaults": {
           "line": {
            "color": "#2a3f5f"
           }
          },
          "ternary": {
           "aaxis": {
            "gridcolor": "white",
            "linecolor": "white",
            "ticks": ""
           },
           "baxis": {
            "gridcolor": "white",
            "linecolor": "white",
            "ticks": ""
           },
           "bgcolor": "#E5ECF6",
           "caxis": {
            "gridcolor": "white",
            "linecolor": "white",
            "ticks": ""
           }
          },
          "title": {
           "x": 0.05
          },
          "xaxis": {
           "automargin": true,
           "gridcolor": "white",
           "linecolor": "white",
           "ticks": "",
           "title": {
            "standoff": 15
           },
           "zerolinecolor": "white",
           "zerolinewidth": 2
          },
          "yaxis": {
           "automargin": true,
           "gridcolor": "white",
           "linecolor": "white",
           "ticks": "",
           "title": {
            "standoff": 15
           },
           "zerolinecolor": "white",
           "zerolinewidth": 2
          }
         }
        },
        "title": {
         "text": "Categories and their sub-categories"
        }
       }
      }
     },
     "metadata": {},
     "output_type": "display_data"
    }
   ],
   "source": [
    "fig = eda_modules.plot_sub_categories(news)\n",
    "fig.show()"
   ]
  },
  {
   "cell_type": "markdown",
   "metadata": {},
   "source": [
    "Now that we have had an initial peak at our news datas categories and sub-categories, we can check the distribution of categories in comparison with each other. As we can see in the figure below, news and sports still are much larger than any other category, with kids middleeast and northamerica having so few counts they are barely visible. To ameliorate this, we will test to see how many users have interacted with the categories that have the smallest counts. Afterwards we may consider applying some form of outlier removal as well as normalization through an inverse category frequency."
   ]
  },
  {
   "cell_type": "code",
   "execution_count": 4,
   "metadata": {},
   "outputs": [
    {
     "data": {
      "text/plain": [
       "[]"
      ]
     },
     "execution_count": 4,
     "metadata": {},
     "output_type": "execute_result"
    },
    {
     "data": {
      "image/png": "[encoded data removed]",
      "text/plain": [
       "<Figure size 640x480 with 1 Axes>"
      ]
     },
     "metadata": {},
     "output_type": "display_data"
    }
   ],
   "source": [
    "fig = eda_modules.plot_categories(news)\n",
    "fig.plot()"
   ]
  },
  {
   "cell_type": "markdown",
   "metadata": {},
   "source": [
    "### Missing Values in News\n",
    "Examining the news dataset provided information about the count of missing values, all of which lie within the abstract, title entities and the abstract entities. Currently the abstract will not be utilized for recommendations. However, there is potential to creating an abstract from the web-scraped information from the article. (depending on time we shall see how this goes.)"
   ]
  },
  {
   "cell_type": "code",
   "execution_count": 5,
   "metadata": {},
   "outputs": [
    {
     "data": {
      "text/plain": [
       "Unnamed: 0                                                       20003\n",
       "category                                                         music\n",
       "sub_category                                                 musicnews\n",
       "title                   Bob Kingsley, Country Radio Legend, Dead at 80\n",
       "abstract             Country radio legend Bob Kingley, the longtime...\n",
       "url                      https://assets.msn.com/labs/mind/AAIW26m.html\n",
       "title_entities       [{\"Label\": \"Bob Kingsley\", \"Type\": \"P\", \"Wikid...\n",
       "abstract_entities    [{\"Label\": \"Bob Kingsley\", \"Type\": \"P\", \"Wikid...\n",
       "Name: N20121, dtype: object"
      ]
     },
     "execution_count": 5,
     "metadata": {},
     "output_type": "execute_result"
    }
   ],
   "source": [
    "copynews = news.set_index('news_id')\n",
    "copynews.loc['N20121']\n"
   ]
  },
  {
   "cell_type": "code",
   "execution_count": 6,
   "metadata": {},
   "outputs": [
    {
     "data": {
      "text/plain": [
       "Unnamed: 0              0\n",
       "news_id                 0\n",
       "category                0\n",
       "sub_category            0\n",
       "title                   0\n",
       "abstract             2666\n",
       "url                     0\n",
       "title_entities          3\n",
       "abstract_entities       4\n",
       "dtype: int64"
      ]
     },
     "execution_count": 6,
     "metadata": {},
     "output_type": "execute_result"
    }
   ],
   "source": [
    "missing_vals = news.isna().sum()\n",
    "# print(missing_vals.sum())\n",
    "# news[missing_vals['abstract']] # can utilize this as a mask to get values where missing abstract is true in the main, to see if theres a\n",
    "# majority of missing abstracts for a specific category\n",
    "missing_vals\n",
    "# sns.countplot(news,y='category',hue='category')\n",
    "# sns.countplot(news[missing_vals['abstract']], color='red',y='category')"
   ]
  },
  {
   "cell_type": "markdown",
   "metadata": {},
   "source": [
    "### Moving on to Behaviors\n",
    "The second large chunk of the microsoft news dataset is the behaviors file. Detailing user interactions, history, and times, the behaviors file provides our recommenders information it needs to train and determine what users might like. Additionally since there is an interaction time column, we can utilize temporal data and understand the affect it may have on our results. Starting off our exploration will be an examination into the potential missing values of the behaviors file"
   ]
  },
  {
   "cell_type": "code",
   "execution_count": 7,
   "metadata": {},
   "outputs": [],
   "source": [
    "behaviors = pd.read_csv('../MIND_small/csv/behaviors.csv')"
   ]
  },
  {
   "cell_type": "markdown",
   "metadata": {},
   "source": [
    "#### Missing values in behaviors\n",
    "Within the behaviors file, there are certain users that do not have any history which can be a problem if these users have no history on their most recent interaction. If a user has no history whatsoever before the training cutoff point for time, then they must be removed as the recommender system will not generate anything for them that is personalized unless it is taking article popularity into account (hhmmmmm that might actually be a good idea is to take article popularity into account)"
   ]
  },
  {
   "cell_type": "code",
   "execution_count": 8,
   "metadata": {},
   "outputs": [
    {
     "data": {
      "text/plain": [
       "Unnamed: 0          0\n",
       "impression_id       0\n",
       "user_id             0\n",
       "time                0\n",
       "history          3238\n",
       "impressions         0\n",
       "dtype: int64"
      ]
     },
     "execution_count": 8,
     "metadata": {},
     "output_type": "execute_result"
    }
   ],
   "source": [
    "# print(len(pd.unique(behaviors['user_id'])))\n",
    "# print(len(behaviors['user_id']))\n",
    "# print(behaviors.columns)\n",
    "# print(pd.unique(copynews['sub_category']))\n",
    "\n",
    "# do missing value analysis on the behaviors csv\n",
    "missing_behaviors = behaviors.isna().sum()\n",
    "missing_behaviors"
   ]
  },
  {
   "cell_type": "code",
   "execution_count": 9,
   "metadata": {},
   "outputs": [
    {
     "data": {
      "text/html": [
       "<div>\n",
       "<style scoped>\n",
       "    .dataframe tbody tr th:only-of-type {\n",
       "        vertical-align: middle;\n",
       "    }\n",
       "\n",
       "    .dataframe tbody tr th {\n",
       "        vertical-align: top;\n",
       "    }\n",
       "\n",
       "    .dataframe thead th {\n",
       "        text-align: right;\n",
       "    }\n",
       "</style>\n",
       "<table border=\"1\" class=\"dataframe\">\n",
       "  <thead>\n",
       "    <tr style=\"text-align: right;\">\n",
       "      <th></th>\n",
       "      <th>lifestyle</th>\n",
       "      <th>health</th>\n",
       "      <th>news</th>\n",
       "      <th>sports</th>\n",
       "      <th>weather</th>\n",
       "      <th>entertainment</th>\n",
       "      <th>autos</th>\n",
       "      <th>travel</th>\n",
       "      <th>foodanddrink</th>\n",
       "      <th>tv</th>\n",
       "      <th>finance</th>\n",
       "      <th>movies</th>\n",
       "      <th>video</th>\n",
       "      <th>music</th>\n",
       "      <th>kids</th>\n",
       "      <th>middleeast</th>\n",
       "      <th>northamerica</th>\n",
       "    </tr>\n",
       "  </thead>\n",
       "  <tbody>\n",
       "    <tr>\n",
       "      <th>1</th>\n",
       "      <td>98916</td>\n",
       "      <td>45253</td>\n",
       "      <td>278614</td>\n",
       "      <td>129298</td>\n",
       "      <td>10895</td>\n",
       "      <td>32444</td>\n",
       "      <td>33465</td>\n",
       "      <td>29762</td>\n",
       "      <td>49021</td>\n",
       "      <td>71786</td>\n",
       "      <td>68694</td>\n",
       "      <td>34881</td>\n",
       "      <td>18441</td>\n",
       "      <td>24560</td>\n",
       "      <td>10</td>\n",
       "      <td>18</td>\n",
       "      <td>0</td>\n",
       "    </tr>\n",
       "  </tbody>\n",
       "</table>\n",
       "</div>"
      ],
      "text/plain": [
       "   lifestyle  health    news  sports  weather  entertainment  autos  travel  \\\n",
       "1      98916   45253  278614  129298    10895          32444  33465   29762   \n",
       "\n",
       "   foodanddrink     tv  finance  movies  video  music  kids  middleeast  \\\n",
       "1         49021  71786    68694   34881  18441  24560    10          18   \n",
       "\n",
       "   northamerica  \n",
       "1             0  "
      ]
     },
     "execution_count": 9,
     "metadata": {},
     "output_type": "execute_result"
    }
   ],
   "source": [
    "behaviors['time'] = pd.to_datetime(behaviors['time'])\n",
    "\n",
    "## Gets the most recent time for interactions \n",
    "max_idcs = behaviors.groupby('user_id')['time'].idxmax()\n",
    "max_behaviors = behaviors.loc[max_idcs]\n",
    "\n",
    "# def swap_to_genres(history):\n",
    "#     \"\"\" \n",
    "#     Swaps the articles in a users history to the corresponding genre\n",
    "#     # \"\"\"\n",
    "#     # for interaction in history:\n",
    "#     # copynews.loc['N55528']['category']\n",
    "\n",
    "# ## could define a separate function that just creates a new dataframe, updating the column for each genre by 1 for every time an article appears in the maximum history of a user\n",
    "    \n",
    "def create_popularity_df():\n",
    "    \"\"\" \n",
    "    Creates a dataframe with the popularity of every sub-category and category. The category popularity gets calculated as a biproduct of the sub-category popularity.\n",
    "    \"\"\"\n",
    "    popoularity_dict = {category: 0 for category in pd.unique(copynews['category'])}\n",
    "    for history in max_behaviors['history']:\n",
    "        if type(history) != float:\n",
    "            for news_id in history.split():\n",
    "                sub_category = copynews.loc[news_id]['category']\n",
    "                popoularity_dict[sub_category] += 1\n",
    "\n",
    "    return pd.DataFrame(data=popoularity_dict, index=[1])\n",
    "\n",
    "category_popularity = create_popularity_df()\n",
    "category_popularity.head()"
   ]
  },
  {
   "cell_type": "code",
   "execution_count": 10,
   "metadata": {},
   "outputs": [
    {
     "data": {
      "text/plain": [
       "<Axes: xlabel='value', ylabel='index'>"
      ]
     },
     "execution_count": 10,
     "metadata": {},
     "output_type": "execute_result"
    },
    {
     "data": {
      "image/png": "[encoded data removed]",
      "text/plain": [
       "<Figure size 640x480 with 1 Axes>"
      ]
     },
     "metadata": {},
     "output_type": "display_data"
    }
   ],
   "source": [
    "pop_long = category_popularity.melt(value_vars=category_popularity.columns, value_name='popularity')\n",
    "news_cat = news['category'].value_counts().to_frame()\n",
    "pop_long.set_index('variable', inplace=True)\n",
    "concatenated = pd.concat([pop_long, news_cat], axis=1)\n",
    "concatenated.reset_index(inplace=True)\n",
    "# concatenated\n",
    "sns.barplot(data=concatenated.melt(id_vars='index', value_vars=['popularity', 'count']),\n",
    "            y='index',\n",
    "            x='value',\n",
    "            hue='variable')\n",
    "\n"
   ]
  },
  {
   "cell_type": "markdown",
   "metadata": {},
   "source": [
    "### Interpreting the popularity\n",
    "By analying the final tracked interactions of all users and checking their history, we can see that certain categories outweigh others in terms of rankings. Therefore we may consider creating weights for an inverse category frequency to ensure recommendations from the entire catalog. "
   ]
  },
  {
   "cell_type": "markdown",
   "metadata": {},
   "source": [
    "How do we then gauge the most popular genres, or times? "
   ]
  },
  {
   "cell_type": "markdown",
   "metadata": {},
   "source": [
    "### Accessing temporal aspects of our data\n",
    "Within our data we have a time column, meaning that we can not only test and train with time in mind, but we can utilize this temporal aspect in our recommendations. As a result of this potential we have access to creating feature interactions based off of an interaction time. "
   ]
  },
  {
   "cell_type": "code",
   "execution_count": 11,
   "metadata": {},
   "outputs": [
    {
     "name": "stdout",
     "output_type": "stream",
     "text": [
      "['(2019-11-09 00:00:00, 2019-11-09 01:00:00]', '(2019-11-09 01:00:00, 2019-11-09 02:00:00]', '(2019-11-09 02:00:00, 2019-11-09 03:00:00]', '(2019-11-09 03:00:00, 2019-11-09 04:00:00]', '(2019-11-09 04:00:00, 2019-11-09 05:00:00]', '(2019-11-09 05:00:00, 2019-11-09 06:00:00]', '(2019-11-09 06:00:00, 2019-11-09 07:00:00]', '(2019-11-09 07:00:00, 2019-11-09 08:00:00]', '(2019-11-09 08:00:00, 2019-11-09 09:00:00]', '(2019-11-09 09:00:00, 2019-11-09 10:00:00]', '(2019-11-09 10:00:00, 2019-11-09 11:00:00]', '(2019-11-09 11:00:00, 2019-11-09 12:00:00]', '(2019-11-09 12:00:00, 2019-11-09 13:00:00]', '(2019-11-09 13:00:00, 2019-11-09 14:00:00]', '(2019-11-09 14:00:00, 2019-11-09 15:00:00]', '(2019-11-09 15:00:00, 2019-11-09 16:00:00]', '(2019-11-09 16:00:00, 2019-11-09 17:00:00]', '(2019-11-09 17:00:00, 2019-11-09 18:00:00]', '(2019-11-09 18:00:00, 2019-11-09 19:00:00]', '(2019-11-09 19:00:00, 2019-11-09 20:00:00]', '(2019-11-09 20:00:00, 2019-11-09 21:00:00]', '(2019-11-09 21:00:00, 2019-11-09 22:00:00]', '(2019-11-09 22:00:00, 2019-11-09 23:00:00]', '(2019-11-09 23:00:00, 2019-11-10 00:00:00]', '(2019-11-10 00:00:00, 2019-11-10 01:00:00]', '(2019-11-10 01:00:00, 2019-11-10 02:00:00]', '(2019-11-10 02:00:00, 2019-11-10 03:00:00]', '(2019-11-10 03:00:00, 2019-11-10 04:00:00]', '(2019-11-10 04:00:00, 2019-11-10 05:00:00]', '(2019-11-10 05:00:00, 2019-11-10 06:00:00]', '(2019-11-10 06:00:00, 2019-11-10 07:00:00]', '(2019-11-10 07:00:00, 2019-11-10 08:00:00]', '(2019-11-10 08:00:00, 2019-11-10 09:00:00]', '(2019-11-10 09:00:00, 2019-11-10 10:00:00]', '(2019-11-10 10:00:00, 2019-11-10 11:00:00]', '(2019-11-10 11:00:00, 2019-11-10 12:00:00]', '(2019-11-10 12:00:00, 2019-11-10 13:00:00]', '(2019-11-10 13:00:00, 2019-11-10 14:00:00]', '(2019-11-10 14:00:00, 2019-11-10 15:00:00]', '(2019-11-10 15:00:00, 2019-11-10 16:00:00]', '(2019-11-10 16:00:00, 2019-11-10 17:00:00]', '(2019-11-10 17:00:00, 2019-11-10 18:00:00]', '(2019-11-10 18:00:00, 2019-11-10 19:00:00]', '(2019-11-10 19:00:00, 2019-11-10 20:00:00]', '(2019-11-10 20:00:00, 2019-11-10 21:00:00]', '(2019-11-10 21:00:00, 2019-11-10 22:00:00]', '(2019-11-10 22:00:00, 2019-11-10 23:00:00]', '(2019-11-10 23:00:00, 2019-11-11 00:00:00]', '(2019-11-11 00:00:00, 2019-11-11 01:00:00]', '(2019-11-11 01:00:00, 2019-11-11 02:00:00]', '(2019-11-11 02:00:00, 2019-11-11 03:00:00]', '(2019-11-11 03:00:00, 2019-11-11 04:00:00]', '(2019-11-11 04:00:00, 2019-11-11 05:00:00]', '(2019-11-11 05:00:00, 2019-11-11 06:00:00]', '(2019-11-11 06:00:00, 2019-11-11 07:00:00]', '(2019-11-11 07:00:00, 2019-11-11 08:00:00]', '(2019-11-11 08:00:00, 2019-11-11 09:00:00]', '(2019-11-11 09:00:00, 2019-11-11 10:00:00]', '(2019-11-11 10:00:00, 2019-11-11 11:00:00]', '(2019-11-11 11:00:00, 2019-11-11 12:00:00]', '(2019-11-11 12:00:00, 2019-11-11 13:00:00]', '(2019-11-11 13:00:00, 2019-11-11 14:00:00]', '(2019-11-11 14:00:00, 2019-11-11 15:00:00]', '(2019-11-11 15:00:00, 2019-11-11 16:00:00]', '(2019-11-11 16:00:00, 2019-11-11 17:00:00]', '(2019-11-11 17:00:00, 2019-11-11 18:00:00]', '(2019-11-11 18:00:00, 2019-11-11 19:00:00]', '(2019-11-11 19:00:00, 2019-11-11 20:00:00]', '(2019-11-11 20:00:00, 2019-11-11 21:00:00]', '(2019-11-11 21:00:00, 2019-11-11 22:00:00]', '(2019-11-11 22:00:00, 2019-11-11 23:00:00]', '(2019-11-11 23:00:00, 2019-11-12 00:00:00]', '(2019-11-12 00:00:00, 2019-11-12 01:00:00]', '(2019-11-12 01:00:00, 2019-11-12 02:00:00]', '(2019-11-12 02:00:00, 2019-11-12 03:00:00]', '(2019-11-12 03:00:00, 2019-11-12 04:00:00]', '(2019-11-12 04:00:00, 2019-11-12 05:00:00]', '(2019-11-12 05:00:00, 2019-11-12 06:00:00]', '(2019-11-12 06:00:00, 2019-11-12 07:00:00]', '(2019-11-12 07:00:00, 2019-11-12 08:00:00]', '(2019-11-12 08:00:00, 2019-11-12 09:00:00]', '(2019-11-12 09:00:00, 2019-11-12 10:00:00]', '(2019-11-12 10:00:00, 2019-11-12 11:00:00]', '(2019-11-12 11:00:00, 2019-11-12 12:00:00]', '(2019-11-12 12:00:00, 2019-11-12 13:00:00]', '(2019-11-12 13:00:00, 2019-11-12 14:00:00]', '(2019-11-12 14:00:00, 2019-11-12 15:00:00]', '(2019-11-12 15:00:00, 2019-11-12 16:00:00]', '(2019-11-12 16:00:00, 2019-11-12 17:00:00]', '(2019-11-12 17:00:00, 2019-11-12 18:00:00]', '(2019-11-12 18:00:00, 2019-11-12 19:00:00]', '(2019-11-12 19:00:00, 2019-11-12 20:00:00]', '(2019-11-12 20:00:00, 2019-11-12 21:00:00]', '(2019-11-12 21:00:00, 2019-11-12 22:00:00]', '(2019-11-12 22:00:00, 2019-11-12 23:00:00]', '(2019-11-12 23:00:00, 2019-11-13 00:00:00]', '(2019-11-13 00:00:00, 2019-11-13 01:00:00]', '(2019-11-13 01:00:00, 2019-11-13 02:00:00]', '(2019-11-13 02:00:00, 2019-11-13 03:00:00]', '(2019-11-13 03:00:00, 2019-11-13 04:00:00]', '(2019-11-13 04:00:00, 2019-11-13 05:00:00]', '(2019-11-13 05:00:00, 2019-11-13 06:00:00]', '(2019-11-13 06:00:00, 2019-11-13 07:00:00]', '(2019-11-13 07:00:00, 2019-11-13 08:00:00]', '(2019-11-13 08:00:00, 2019-11-13 09:00:00]', '(2019-11-13 09:00:00, 2019-11-13 10:00:00]', '(2019-11-13 10:00:00, 2019-11-13 11:00:00]', '(2019-11-13 11:00:00, 2019-11-13 12:00:00]', '(2019-11-13 12:00:00, 2019-11-13 13:00:00]', '(2019-11-13 13:00:00, 2019-11-13 14:00:00]', '(2019-11-13 14:00:00, 2019-11-13 15:00:00]', '(2019-11-13 15:00:00, 2019-11-13 16:00:00]', '(2019-11-13 16:00:00, 2019-11-13 17:00:00]', '(2019-11-13 17:00:00, 2019-11-13 18:00:00]', '(2019-11-13 18:00:00, 2019-11-13 19:00:00]', '(2019-11-13 19:00:00, 2019-11-13 20:00:00]', '(2019-11-13 20:00:00, 2019-11-13 21:00:00]', '(2019-11-13 21:00:00, 2019-11-13 22:00:00]', '(2019-11-13 22:00:00, 2019-11-13 23:00:00]', '(2019-11-13 23:00:00, 2019-11-14 00:00:00]', '(2019-11-14 00:00:00, 2019-11-14 01:00:00]', '(2019-11-14 01:00:00, 2019-11-14 02:00:00]', '(2019-11-14 02:00:00, 2019-11-14 03:00:00]', '(2019-11-14 03:00:00, 2019-11-14 04:00:00]', '(2019-11-14 04:00:00, 2019-11-14 05:00:00]', '(2019-11-14 05:00:00, 2019-11-14 06:00:00]', '(2019-11-14 06:00:00, 2019-11-14 07:00:00]', '(2019-11-14 07:00:00, 2019-11-14 08:00:00]', '(2019-11-14 08:00:00, 2019-11-14 09:00:00]', '(2019-11-14 09:00:00, 2019-11-14 10:00:00]', '(2019-11-14 10:00:00, 2019-11-14 11:00:00]', '(2019-11-14 11:00:00, 2019-11-14 12:00:00]', '(2019-11-14 12:00:00, 2019-11-14 13:00:00]', '(2019-11-14 13:00:00, 2019-11-14 14:00:00]', '(2019-11-14 14:00:00, 2019-11-14 15:00:00]', '(2019-11-14 15:00:00, 2019-11-14 16:00:00]', '(2019-11-14 16:00:00, 2019-11-14 17:00:00]', '(2019-11-14 17:00:00, 2019-11-14 18:00:00]', '(2019-11-14 18:00:00, 2019-11-14 19:00:00]', '(2019-11-14 19:00:00, 2019-11-14 20:00:00]', '(2019-11-14 20:00:00, 2019-11-14 21:00:00]', '(2019-11-14 21:00:00, 2019-11-14 22:00:00]', '(2019-11-14 22:00:00, 2019-11-14 23:00:00]', '(2019-11-14 23:00:00, 2019-11-15 00:00:00]']\n"
     ]
    }
   ],
   "source": [
    "## Accessing temporal data ##\n",
    "# how do we go about this? we can bin times into hours by finding the min and max time in the array\n",
    "# then with our bins we can bin into hours, determining the categories by hours \n",
    "\n",
    "# first finding our min and max times\n",
    "\n",
    "times = [behaviors['time'].max(), behaviors['time'].min()]\n",
    "# max and then min\n",
    "# print(times)\n",
    "# interactions range from the 9th to the 14th, a span of 5 days, want to create bins of 1 hour\n",
    "# 24 * 5 is 120 hours in total\n",
    "cut_points = pd.date_range(start='2019-11-09 00:00:00', end='2019-11-15 00:00:00', freq='h') # hourly ranges for the time of the behaviors dataset\n",
    "# cut_points = np.linspace(start=dataframe[col].min(), stop=dataframe[col].max(), num=5 + 1)\n",
    "# print(type(cut_points))\n",
    "behaviors_new = behaviors.copy()\n",
    "bins_str = cut_points.astype(str).values\n",
    "\n",
    "labels = ['({}, {}]'.format(bins_str[i-1], bins_str[i]) for i in range(1, len(bins_str))]\n",
    "print(labels)\n",
    "behaviors_new['time'] = pd.cut(behaviors['time'], cut_points, labels=labels, include_lowest=True)\n",
    "# behaviors_new.head()\n",
    "# might want to use df['toronto_time'] = pd.to_datetime(df['toronto_time']).dt.strftime('%H:%M:%S')\n",
    "# def get_item_popularity()\n",
    "# can change the create popularity df function to be applied on every group of time, or a bigger function that takes in a row\n",
    "# popularity_by_time = behaviors_new.groupby('time').agg()\n",
    "# df[[\"col1\", \"col2\", ...]] = df.apply(lambda row: fn(row.text), axis='columns', result_type='expand')\n",
    "behaviors_new['time'] = behaviors_new['time'].apply(lambda time_string : time_string.split(\" \")[-1][:-1])\n",
    "def clean_impression(impression : str = 'N55689-1') -> dict:\n",
    "    \"\"\" \n",
    "    Cleans up a user impression for its characteristics.\n",
    "\n",
    "    Args:\n",
    "        impression (str) : A users impression on a recommended article.\n",
    "    \n",
    "    Returns:\n",
    "        impression_info (dict) : A dictionary containing keys for the rating and article in the impression.\n",
    "    \"\"\"\n",
    "    impression_info = impression.split('-')\n",
    "    return {'score':impression_info[1], 'article_ID':impression_info[0]}    \n",
    "\n",
    "# func should return a dictionary with column names as keys, we then can group by time, and then sum for each category\n",
    "# then we can plot with strftime\n",
    "STANDARD_DICT = {category: 0 for category in pd.unique(copynews['category'])}\n",
    "\n",
    "def func(row):\n",
    "    \"\"\" \n",
    "    Might want to change name from impression to interaction\n",
    "    \"\"\"\n",
    "    user_interactions = row['impressions']\n",
    "    cols_to_add = STANDARD_DICT.copy()\n",
    "    if type(user_interactions) != float:\n",
    "        for impression in user_interactions.split():\n",
    "            impression_info = clean_impression(impression)\n",
    "            if impression_info['score'] == '1':\n",
    "                cols_to_add[copynews.loc[impression_info['article_ID']]['category']] += 1\n",
    "    return cols_to_add\n",
    "\n",
    "# print([category_popularity.columns.to_list()])\n",
    "behaviors_new[category_popularity.columns.to_list()] = behaviors_new.apply(lambda row : func(row), axis='columns', result_type='expand')\n",
    "\n",
    "\n",
    "\n",
    "# popularity_by_time[[category_popularity.columns]] = popularity_by_time.apply(lambda row : func(row))\n",
    "# might just want to create a new dataframe with history and time "
   ]
  },
  {
   "cell_type": "code",
   "execution_count": 12,
   "metadata": {},
   "outputs": [
    {
     "data": {
      "text/html": [
       "<div>\n",
       "<style scoped>\n",
       "    .dataframe tbody tr th:only-of-type {\n",
       "        vertical-align: middle;\n",
       "    }\n",
       "\n",
       "    .dataframe tbody tr th {\n",
       "        vertical-align: top;\n",
       "    }\n",
       "\n",
       "    .dataframe thead th {\n",
       "        text-align: right;\n",
       "    }\n",
       "</style>\n",
       "<table border=\"1\" class=\"dataframe\">\n",
       "  <thead>\n",
       "    <tr style=\"text-align: right;\">\n",
       "      <th></th>\n",
       "      <th>lifestyle</th>\n",
       "      <th>health</th>\n",
       "      <th>news</th>\n",
       "      <th>sports</th>\n",
       "      <th>weather</th>\n",
       "      <th>entertainment</th>\n",
       "      <th>autos</th>\n",
       "      <th>travel</th>\n",
       "      <th>foodanddrink</th>\n",
       "      <th>tv</th>\n",
       "      <th>finance</th>\n",
       "      <th>movies</th>\n",
       "      <th>video</th>\n",
       "      <th>music</th>\n",
       "      <th>kids</th>\n",
       "      <th>middleeast</th>\n",
       "      <th>northamerica</th>\n",
       "    </tr>\n",
       "    <tr>\n",
       "      <th>time</th>\n",
       "      <th></th>\n",
       "      <th></th>\n",
       "      <th></th>\n",
       "      <th></th>\n",
       "      <th></th>\n",
       "      <th></th>\n",
       "      <th></th>\n",
       "      <th></th>\n",
       "      <th></th>\n",
       "      <th></th>\n",
       "      <th></th>\n",
       "      <th></th>\n",
       "      <th></th>\n",
       "      <th></th>\n",
       "      <th></th>\n",
       "      <th></th>\n",
       "      <th></th>\n",
       "    </tr>\n",
       "  </thead>\n",
       "  <tbody>\n",
       "    <tr>\n",
       "      <th>00:00:00</th>\n",
       "      <td>185</td>\n",
       "      <td>91</td>\n",
       "      <td>569</td>\n",
       "      <td>345</td>\n",
       "      <td>53</td>\n",
       "      <td>78</td>\n",
       "      <td>72</td>\n",
       "      <td>44</td>\n",
       "      <td>79</td>\n",
       "      <td>68</td>\n",
       "      <td>113</td>\n",
       "      <td>47</td>\n",
       "      <td>18</td>\n",
       "      <td>179</td>\n",
       "      <td>1</td>\n",
       "      <td>0</td>\n",
       "      <td>0</td>\n",
       "    </tr>\n",
       "    <tr>\n",
       "      <th>01:00:00</th>\n",
       "      <td>146</td>\n",
       "      <td>72</td>\n",
       "      <td>486</td>\n",
       "      <td>222</td>\n",
       "      <td>19</td>\n",
       "      <td>71</td>\n",
       "      <td>49</td>\n",
       "      <td>40</td>\n",
       "      <td>86</td>\n",
       "      <td>75</td>\n",
       "      <td>115</td>\n",
       "      <td>50</td>\n",
       "      <td>18</td>\n",
       "      <td>91</td>\n",
       "      <td>0</td>\n",
       "      <td>0</td>\n",
       "      <td>0</td>\n",
       "    </tr>\n",
       "    <tr>\n",
       "      <th>02:00:00</th>\n",
       "      <td>169</td>\n",
       "      <td>67</td>\n",
       "      <td>635</td>\n",
       "      <td>252</td>\n",
       "      <td>17</td>\n",
       "      <td>80</td>\n",
       "      <td>58</td>\n",
       "      <td>43</td>\n",
       "      <td>106</td>\n",
       "      <td>86</td>\n",
       "      <td>134</td>\n",
       "      <td>45</td>\n",
       "      <td>17</td>\n",
       "      <td>107</td>\n",
       "      <td>0</td>\n",
       "      <td>0</td>\n",
       "      <td>0</td>\n",
       "    </tr>\n",
       "    <tr>\n",
       "      <th>03:00:00</th>\n",
       "      <td>251</td>\n",
       "      <td>112</td>\n",
       "      <td>998</td>\n",
       "      <td>427</td>\n",
       "      <td>31</td>\n",
       "      <td>106</td>\n",
       "      <td>98</td>\n",
       "      <td>64</td>\n",
       "      <td>121</td>\n",
       "      <td>129</td>\n",
       "      <td>220</td>\n",
       "      <td>73</td>\n",
       "      <td>39</td>\n",
       "      <td>171</td>\n",
       "      <td>1</td>\n",
       "      <td>0</td>\n",
       "      <td>0</td>\n",
       "    </tr>\n",
       "    <tr>\n",
       "      <th>04:00:00</th>\n",
       "      <td>446</td>\n",
       "      <td>188</td>\n",
       "      <td>1785</td>\n",
       "      <td>602</td>\n",
       "      <td>50</td>\n",
       "      <td>174</td>\n",
       "      <td>190</td>\n",
       "      <td>140</td>\n",
       "      <td>210</td>\n",
       "      <td>242</td>\n",
       "      <td>356</td>\n",
       "      <td>87</td>\n",
       "      <td>81</td>\n",
       "      <td>257</td>\n",
       "      <td>0</td>\n",
       "      <td>0</td>\n",
       "      <td>0</td>\n",
       "    </tr>\n",
       "    <tr>\n",
       "      <th>05:00:00</th>\n",
       "      <td>796</td>\n",
       "      <td>354</td>\n",
       "      <td>3052</td>\n",
       "      <td>1066</td>\n",
       "      <td>100</td>\n",
       "      <td>276</td>\n",
       "      <td>306</td>\n",
       "      <td>224</td>\n",
       "      <td>410</td>\n",
       "      <td>388</td>\n",
       "      <td>594</td>\n",
       "      <td>123</td>\n",
       "      <td>185</td>\n",
       "      <td>441</td>\n",
       "      <td>0</td>\n",
       "      <td>0</td>\n",
       "      <td>0</td>\n",
       "    </tr>\n",
       "    <tr>\n",
       "      <th>06:00:00</th>\n",
       "      <td>1507</td>\n",
       "      <td>576</td>\n",
       "      <td>4742</td>\n",
       "      <td>1424</td>\n",
       "      <td>221</td>\n",
       "      <td>657</td>\n",
       "      <td>457</td>\n",
       "      <td>363</td>\n",
       "      <td>638</td>\n",
       "      <td>683</td>\n",
       "      <td>958</td>\n",
       "      <td>182</td>\n",
       "      <td>280</td>\n",
       "      <td>782</td>\n",
       "      <td>0</td>\n",
       "      <td>0</td>\n",
       "      <td>0</td>\n",
       "    </tr>\n",
       "    <tr>\n",
       "      <th>07:00:00</th>\n",
       "      <td>2163</td>\n",
       "      <td>671</td>\n",
       "      <td>5599</td>\n",
       "      <td>2050</td>\n",
       "      <td>344</td>\n",
       "      <td>869</td>\n",
       "      <td>527</td>\n",
       "      <td>476</td>\n",
       "      <td>728</td>\n",
       "      <td>746</td>\n",
       "      <td>1092</td>\n",
       "      <td>226</td>\n",
       "      <td>343</td>\n",
       "      <td>748</td>\n",
       "      <td>0</td>\n",
       "      <td>0</td>\n",
       "      <td>0</td>\n",
       "    </tr>\n",
       "    <tr>\n",
       "      <th>08:00:00</th>\n",
       "      <td>2130</td>\n",
       "      <td>710</td>\n",
       "      <td>6059</td>\n",
       "      <td>2288</td>\n",
       "      <td>339</td>\n",
       "      <td>844</td>\n",
       "      <td>506</td>\n",
       "      <td>464</td>\n",
       "      <td>859</td>\n",
       "      <td>669</td>\n",
       "      <td>1331</td>\n",
       "      <td>190</td>\n",
       "      <td>363</td>\n",
       "      <td>721</td>\n",
       "      <td>0</td>\n",
       "      <td>0</td>\n",
       "      <td>0</td>\n",
       "    </tr>\n",
       "    <tr>\n",
       "      <th>09:00:00</th>\n",
       "      <td>2256</td>\n",
       "      <td>780</td>\n",
       "      <td>6065</td>\n",
       "      <td>2094</td>\n",
       "      <td>313</td>\n",
       "      <td>834</td>\n",
       "      <td>522</td>\n",
       "      <td>497</td>\n",
       "      <td>928</td>\n",
       "      <td>725</td>\n",
       "      <td>2065</td>\n",
       "      <td>322</td>\n",
       "      <td>408</td>\n",
       "      <td>1023</td>\n",
       "      <td>1</td>\n",
       "      <td>0</td>\n",
       "      <td>0</td>\n",
       "    </tr>\n",
       "    <tr>\n",
       "      <th>10:00:00</th>\n",
       "      <td>1967</td>\n",
       "      <td>702</td>\n",
       "      <td>4580</td>\n",
       "      <td>1645</td>\n",
       "      <td>125</td>\n",
       "      <td>668</td>\n",
       "      <td>391</td>\n",
       "      <td>498</td>\n",
       "      <td>841</td>\n",
       "      <td>720</td>\n",
       "      <td>1418</td>\n",
       "      <td>335</td>\n",
       "      <td>269</td>\n",
       "      <td>1675</td>\n",
       "      <td>0</td>\n",
       "      <td>0</td>\n",
       "      <td>0</td>\n",
       "    </tr>\n",
       "    <tr>\n",
       "      <th>11:00:00</th>\n",
       "      <td>2079</td>\n",
       "      <td>1100</td>\n",
       "      <td>5098</td>\n",
       "      <td>1992</td>\n",
       "      <td>143</td>\n",
       "      <td>780</td>\n",
       "      <td>459</td>\n",
       "      <td>697</td>\n",
       "      <td>804</td>\n",
       "      <td>1341</td>\n",
       "      <td>2254</td>\n",
       "      <td>369</td>\n",
       "      <td>240</td>\n",
       "      <td>1258</td>\n",
       "      <td>0</td>\n",
       "      <td>0</td>\n",
       "      <td>0</td>\n",
       "    </tr>\n",
       "    <tr>\n",
       "      <th>12:00:00</th>\n",
       "      <td>2087</td>\n",
       "      <td>1213</td>\n",
       "      <td>4341</td>\n",
       "      <td>1878</td>\n",
       "      <td>168</td>\n",
       "      <td>907</td>\n",
       "      <td>490</td>\n",
       "      <td>695</td>\n",
       "      <td>772</td>\n",
       "      <td>2418</td>\n",
       "      <td>2024</td>\n",
       "      <td>368</td>\n",
       "      <td>205</td>\n",
       "      <td>1271</td>\n",
       "      <td>0</td>\n",
       "      <td>0</td>\n",
       "      <td>0</td>\n",
       "    </tr>\n",
       "    <tr>\n",
       "      <th>13:00:00</th>\n",
       "      <td>2177</td>\n",
       "      <td>923</td>\n",
       "      <td>3976</td>\n",
       "      <td>1864</td>\n",
       "      <td>122</td>\n",
       "      <td>933</td>\n",
       "      <td>594</td>\n",
       "      <td>746</td>\n",
       "      <td>768</td>\n",
       "      <td>1335</td>\n",
       "      <td>1734</td>\n",
       "      <td>299</td>\n",
       "      <td>160</td>\n",
       "      <td>1298</td>\n",
       "      <td>0</td>\n",
       "      <td>0</td>\n",
       "      <td>0</td>\n",
       "    </tr>\n",
       "    <tr>\n",
       "      <th>14:00:00</th>\n",
       "      <td>1720</td>\n",
       "      <td>831</td>\n",
       "      <td>3630</td>\n",
       "      <td>1864</td>\n",
       "      <td>370</td>\n",
       "      <td>683</td>\n",
       "      <td>575</td>\n",
       "      <td>881</td>\n",
       "      <td>662</td>\n",
       "      <td>1354</td>\n",
       "      <td>1363</td>\n",
       "      <td>202</td>\n",
       "      <td>190</td>\n",
       "      <td>1248</td>\n",
       "      <td>0</td>\n",
       "      <td>0</td>\n",
       "      <td>0</td>\n",
       "    </tr>\n",
       "    <tr>\n",
       "      <th>15:00:00</th>\n",
       "      <td>1349</td>\n",
       "      <td>536</td>\n",
       "      <td>3119</td>\n",
       "      <td>1599</td>\n",
       "      <td>448</td>\n",
       "      <td>512</td>\n",
       "      <td>569</td>\n",
       "      <td>587</td>\n",
       "      <td>593</td>\n",
       "      <td>1091</td>\n",
       "      <td>988</td>\n",
       "      <td>253</td>\n",
       "      <td>262</td>\n",
       "      <td>975</td>\n",
       "      <td>0</td>\n",
       "      <td>0</td>\n",
       "      <td>0</td>\n",
       "    </tr>\n",
       "    <tr>\n",
       "      <th>16:00:00</th>\n",
       "      <td>898</td>\n",
       "      <td>384</td>\n",
       "      <td>2600</td>\n",
       "      <td>1072</td>\n",
       "      <td>357</td>\n",
       "      <td>342</td>\n",
       "      <td>317</td>\n",
       "      <td>448</td>\n",
       "      <td>555</td>\n",
       "      <td>691</td>\n",
       "      <td>615</td>\n",
       "      <td>189</td>\n",
       "      <td>235</td>\n",
       "      <td>802</td>\n",
       "      <td>0</td>\n",
       "      <td>0</td>\n",
       "      <td>0</td>\n",
       "    </tr>\n",
       "    <tr>\n",
       "      <th>17:00:00</th>\n",
       "      <td>902</td>\n",
       "      <td>397</td>\n",
       "      <td>2674</td>\n",
       "      <td>1213</td>\n",
       "      <td>399</td>\n",
       "      <td>443</td>\n",
       "      <td>302</td>\n",
       "      <td>340</td>\n",
       "      <td>449</td>\n",
       "      <td>481</td>\n",
       "      <td>660</td>\n",
       "      <td>220</td>\n",
       "      <td>240</td>\n",
       "      <td>650</td>\n",
       "      <td>0</td>\n",
       "      <td>0</td>\n",
       "      <td>0</td>\n",
       "    </tr>\n",
       "    <tr>\n",
       "      <th>18:00:00</th>\n",
       "      <td>801</td>\n",
       "      <td>364</td>\n",
       "      <td>2303</td>\n",
       "      <td>982</td>\n",
       "      <td>295</td>\n",
       "      <td>349</td>\n",
       "      <td>265</td>\n",
       "      <td>303</td>\n",
       "      <td>368</td>\n",
       "      <td>365</td>\n",
       "      <td>771</td>\n",
       "      <td>157</td>\n",
       "      <td>212</td>\n",
       "      <td>489</td>\n",
       "      <td>0</td>\n",
       "      <td>0</td>\n",
       "      <td>0</td>\n",
       "    </tr>\n",
       "    <tr>\n",
       "      <th>19:00:00</th>\n",
       "      <td>790</td>\n",
       "      <td>273</td>\n",
       "      <td>1940</td>\n",
       "      <td>857</td>\n",
       "      <td>204</td>\n",
       "      <td>277</td>\n",
       "      <td>240</td>\n",
       "      <td>259</td>\n",
       "      <td>300</td>\n",
       "      <td>265</td>\n",
       "      <td>595</td>\n",
       "      <td>122</td>\n",
       "      <td>160</td>\n",
       "      <td>498</td>\n",
       "      <td>0</td>\n",
       "      <td>0</td>\n",
       "      <td>1</td>\n",
       "    </tr>\n",
       "    <tr>\n",
       "      <th>20:00:00</th>\n",
       "      <td>624</td>\n",
       "      <td>191</td>\n",
       "      <td>1610</td>\n",
       "      <td>760</td>\n",
       "      <td>169</td>\n",
       "      <td>210</td>\n",
       "      <td>176</td>\n",
       "      <td>160</td>\n",
       "      <td>220</td>\n",
       "      <td>230</td>\n",
       "      <td>454</td>\n",
       "      <td>104</td>\n",
       "      <td>135</td>\n",
       "      <td>362</td>\n",
       "      <td>0</td>\n",
       "      <td>0</td>\n",
       "      <td>0</td>\n",
       "    </tr>\n",
       "    <tr>\n",
       "      <th>21:00:00</th>\n",
       "      <td>504</td>\n",
       "      <td>117</td>\n",
       "      <td>1476</td>\n",
       "      <td>553</td>\n",
       "      <td>135</td>\n",
       "      <td>185</td>\n",
       "      <td>115</td>\n",
       "      <td>152</td>\n",
       "      <td>176</td>\n",
       "      <td>186</td>\n",
       "      <td>339</td>\n",
       "      <td>108</td>\n",
       "      <td>98</td>\n",
       "      <td>355</td>\n",
       "      <td>0</td>\n",
       "      <td>0</td>\n",
       "      <td>0</td>\n",
       "    </tr>\n",
       "    <tr>\n",
       "      <th>22:00:00</th>\n",
       "      <td>362</td>\n",
       "      <td>122</td>\n",
       "      <td>1225</td>\n",
       "      <td>641</td>\n",
       "      <td>90</td>\n",
       "      <td>137</td>\n",
       "      <td>92</td>\n",
       "      <td>99</td>\n",
       "      <td>126</td>\n",
       "      <td>155</td>\n",
       "      <td>250</td>\n",
       "      <td>70</td>\n",
       "      <td>64</td>\n",
       "      <td>322</td>\n",
       "      <td>0</td>\n",
       "      <td>0</td>\n",
       "      <td>0</td>\n",
       "    </tr>\n",
       "    <tr>\n",
       "      <th>23:00:00</th>\n",
       "      <td>275</td>\n",
       "      <td>89</td>\n",
       "      <td>846</td>\n",
       "      <td>491</td>\n",
       "      <td>70</td>\n",
       "      <td>115</td>\n",
       "      <td>58</td>\n",
       "      <td>84</td>\n",
       "      <td>84</td>\n",
       "      <td>101</td>\n",
       "      <td>154</td>\n",
       "      <td>45</td>\n",
       "      <td>40</td>\n",
       "      <td>265</td>\n",
       "      <td>0</td>\n",
       "      <td>0</td>\n",
       "      <td>0</td>\n",
       "    </tr>\n",
       "  </tbody>\n",
       "</table>\n",
       "</div>"
      ],
      "text/plain": [
       "          lifestyle  health  news  sports  weather  entertainment  autos  \\\n",
       "time                                                                       \n",
       "00:00:00        185      91   569     345       53             78     72   \n",
       "01:00:00        146      72   486     222       19             71     49   \n",
       "02:00:00        169      67   635     252       17             80     58   \n",
       "03:00:00        251     112   998     427       31            106     98   \n",
       "04:00:00        446     188  1785     602       50            174    190   \n",
       "05:00:00        796     354  3052    1066      100            276    306   \n",
       "06:00:00       1507     576  4742    1424      221            657    457   \n",
       "07:00:00       2163     671  5599    2050      344            869    527   \n",
       "08:00:00       2130     710  6059    2288      339            844    506   \n",
       "09:00:00       2256     780  6065    2094      313            834    522   \n",
       "10:00:00       1967     702  4580    1645      125            668    391   \n",
       "11:00:00       2079    1100  5098    1992      143            780    459   \n",
       "12:00:00       2087    1213  4341    1878      168            907    490   \n",
       "13:00:00       2177     923  3976    1864      122            933    594   \n",
       "14:00:00       1720     831  3630    1864      370            683    575   \n",
       "15:00:00       1349     536  3119    1599      448            512    569   \n",
       "16:00:00        898     384  2600    1072      357            342    317   \n",
       "17:00:00        902     397  2674    1213      399            443    302   \n",
       "18:00:00        801     364  2303     982      295            349    265   \n",
       "19:00:00        790     273  1940     857      204            277    240   \n",
       "20:00:00        624     191  1610     760      169            210    176   \n",
       "21:00:00        504     117  1476     553      135            185    115   \n",
       "22:00:00        362     122  1225     641       90            137     92   \n",
       "23:00:00        275      89   846     491       70            115     58   \n",
       "\n",
       "          travel  foodanddrink    tv  finance  movies  video  music  kids  \\\n",
       "time                                                                        \n",
       "00:00:00      44            79    68      113      47     18    179     1   \n",
       "01:00:00      40            86    75      115      50     18     91     0   \n",
       "02:00:00      43           106    86      134      45     17    107     0   \n",
       "03:00:00      64           121   129      220      73     39    171     1   \n",
       "04:00:00     140           210   242      356      87     81    257     0   \n",
       "05:00:00     224           410   388      594     123    185    441     0   \n",
       "06:00:00     363           638   683      958     182    280    782     0   \n",
       "07:00:00     476           728   746     1092     226    343    748     0   \n",
       "08:00:00     464           859   669     1331     190    363    721     0   \n",
       "09:00:00     497           928   725     2065     322    408   1023     1   \n",
       "10:00:00     498           841   720     1418     335    269   1675     0   \n",
       "11:00:00     697           804  1341     2254     369    240   1258     0   \n",
       "12:00:00     695           772  2418     2024     368    205   1271     0   \n",
       "13:00:00     746           768  1335     1734     299    160   1298     0   \n",
       "14:00:00     881           662  1354     1363     202    190   1248     0   \n",
       "15:00:00     587           593  1091      988     253    262    975     0   \n",
       "16:00:00     448           555   691      615     189    235    802     0   \n",
       "17:00:00     340           449   481      660     220    240    650     0   \n",
       "18:00:00     303           368   365      771     157    212    489     0   \n",
       "19:00:00     259           300   265      595     122    160    498     0   \n",
       "20:00:00     160           220   230      454     104    135    362     0   \n",
       "21:00:00     152           176   186      339     108     98    355     0   \n",
       "22:00:00      99           126   155      250      70     64    322     0   \n",
       "23:00:00      84            84   101      154      45     40    265     0   \n",
       "\n",
       "          middleeast  northamerica  \n",
       "time                                \n",
       "00:00:00           0             0  \n",
       "01:00:00           0             0  \n",
       "02:00:00           0             0  \n",
       "03:00:00           0             0  \n",
       "04:00:00           0             0  \n",
       "05:00:00           0             0  \n",
       "06:00:00           0             0  \n",
       "07:00:00           0             0  \n",
       "08:00:00           0             0  \n",
       "09:00:00           0             0  \n",
       "10:00:00           0             0  \n",
       "11:00:00           0             0  \n",
       "12:00:00           0             0  \n",
       "13:00:00           0             0  \n",
       "14:00:00           0             0  \n",
       "15:00:00           0             0  \n",
       "16:00:00           0             0  \n",
       "17:00:00           0             0  \n",
       "18:00:00           0             0  \n",
       "19:00:00           0             1  \n",
       "20:00:00           0             0  \n",
       "21:00:00           0             0  \n",
       "22:00:00           0             0  \n",
       "23:00:00           0             0  "
      ]
     },
     "execution_count": 12,
     "metadata": {},
     "output_type": "execute_result"
    }
   ],
   "source": [
    "\n",
    "behaviors_final = behaviors_new.drop(columns=['Unnamed: 0', 'impression_id', 'user_id', 'history', 'impressions'])\n",
    "                \n",
    "behaviors_final.groupby('time').agg('sum')"
   ]
  },
  {
   "cell_type": "code",
   "execution_count": 28,
   "metadata": {},
   "outputs": [
    {
     "ename": "KeyError",
     "evalue": "\"None of [Index([('time', 'value')], dtype='object')] are in the [columns]\"",
     "output_type": "error",
     "traceback": [
      "\u001b[0;31m---------------------------------------------------------------------------\u001b[0m",
      "\u001b[0;31mKeyError\u001b[0m                                  Traceback (most recent call last)",
      "Cell \u001b[0;32mIn[28], line 6\u001b[0m\n\u001b[1;32m      4\u001b[0m behaviors_long \u001b[38;5;241m=\u001b[39m behaviors_final\u001b[38;5;241m.\u001b[39mmelt(id_vars\u001b[38;5;241m=\u001b[39m\u001b[38;5;124m'\u001b[39m\u001b[38;5;124mtime\u001b[39m\u001b[38;5;124m'\u001b[39m, value_vars\u001b[38;5;241m=\u001b[39mcols)\n\u001b[1;32m      5\u001b[0m g \u001b[38;5;241m=\u001b[39m sns\u001b[38;5;241m.\u001b[39mFacetGrid(behaviors_long, col\u001b[38;5;241m=\u001b[39m\u001b[38;5;124m\"\u001b[39m\u001b[38;5;124mvariable\u001b[39m\u001b[38;5;124m\"\u001b[39m, palette\u001b[38;5;241m=\u001b[39m\u001b[38;5;124m\"\u001b[39m\u001b[38;5;124mrocket_r\u001b[39m\u001b[38;5;124m\"\u001b[39m, col_wrap\u001b[38;5;241m=\u001b[39m\u001b[38;5;241m3\u001b[39m, sharex\u001b[38;5;241m=\u001b[39m\u001b[38;5;28;01mFalse\u001b[39;00m, sharey\u001b[38;5;241m=\u001b[39m\u001b[38;5;28;01mFalse\u001b[39;00m)\n\u001b[0;32m----> 6\u001b[0m g \u001b[38;5;241m=\u001b[39m (\u001b[43mg\u001b[49m\u001b[38;5;241;43m.\u001b[39;49m\u001b[43mmap\u001b[49m\u001b[43m(\u001b[49m\u001b[43msns\u001b[49m\u001b[38;5;241;43m.\u001b[39;49m\u001b[43mhistplot\u001b[49m\u001b[43m,\u001b[49m\u001b[43m \u001b[49m\u001b[43m[\u001b[49m\u001b[38;5;124;43m\"\u001b[39;49m\u001b[38;5;124;43mtime\u001b[39;49m\u001b[38;5;124;43m\"\u001b[39;49m\u001b[43m,\u001b[49m\u001b[43m \u001b[49m\u001b[38;5;124;43m\"\u001b[39;49m\u001b[38;5;124;43mvalue\u001b[39;49m\u001b[38;5;124;43m\"\u001b[39;49m\u001b[43m]\u001b[49m\u001b[43m,\u001b[49m\u001b[43m \u001b[49m\u001b[43melement\u001b[49m\u001b[38;5;241;43m=\u001b[39;49m\u001b[38;5;124;43m\"\u001b[39;49m\u001b[38;5;124;43mstep\u001b[39;49m\u001b[38;5;124;43m\"\u001b[39;49m\u001b[43m)\u001b[49m\u001b[38;5;241m.\u001b[39madd_legend())\n\u001b[1;32m      7\u001b[0m g\u001b[38;5;241m.\u001b[39mset_titles(\u001b[38;5;124m\"\u001b[39m\u001b[38;5;132;01m{col_name}\u001b[39;00m\u001b[38;5;124m\"\u001b[39m)\n\u001b[1;32m      8\u001b[0m g\u001b[38;5;241m.\u001b[39mfig\u001b[38;5;241m.\u001b[39mtight_layout()\n",
      "File \u001b[0;32m~/miniforge3/envs/recSysEnv/lib/python3.9/site-packages/seaborn/axisgrid.py:748\u001b[0m, in \u001b[0;36mFacetGrid.map\u001b[0;34m(self, func, *args, **kwargs)\u001b[0m\n\u001b[1;32m    745\u001b[0m     kwargs[\u001b[38;5;124m\"\u001b[39m\u001b[38;5;124mlabel\u001b[39m\u001b[38;5;124m\"\u001b[39m] \u001b[38;5;241m=\u001b[39m utils\u001b[38;5;241m.\u001b[39mto_utf8(\u001b[38;5;28mself\u001b[39m\u001b[38;5;241m.\u001b[39mhue_names[hue_k])\n\u001b[1;32m    747\u001b[0m \u001b[38;5;66;03m# Get the actual data we are going to plot with\u001b[39;00m\n\u001b[0;32m--> 748\u001b[0m plot_data \u001b[38;5;241m=\u001b[39m \u001b[43mdata_ijk\u001b[49m\u001b[43m[\u001b[49m\u001b[38;5;28;43mlist\u001b[39;49m\u001b[43m(\u001b[49m\u001b[43margs\u001b[49m\u001b[43m)\u001b[49m\u001b[43m]\u001b[49m\n\u001b[1;32m    749\u001b[0m \u001b[38;5;28;01mif\u001b[39;00m \u001b[38;5;28mself\u001b[39m\u001b[38;5;241m.\u001b[39m_dropna:\n\u001b[1;32m    750\u001b[0m     plot_data \u001b[38;5;241m=\u001b[39m plot_data\u001b[38;5;241m.\u001b[39mdropna()\n",
      "File \u001b[0;32m~/miniforge3/envs/recSysEnv/lib/python3.9/site-packages/pandas/core/frame.py:4096\u001b[0m, in \u001b[0;36mDataFrame.__getitem__\u001b[0;34m(self, key)\u001b[0m\n\u001b[1;32m   4094\u001b[0m     \u001b[38;5;28;01mif\u001b[39;00m is_iterator(key):\n\u001b[1;32m   4095\u001b[0m         key \u001b[38;5;241m=\u001b[39m \u001b[38;5;28mlist\u001b[39m(key)\n\u001b[0;32m-> 4096\u001b[0m     indexer \u001b[38;5;241m=\u001b[39m \u001b[38;5;28;43mself\u001b[39;49m\u001b[38;5;241;43m.\u001b[39;49m\u001b[43mcolumns\u001b[49m\u001b[38;5;241;43m.\u001b[39;49m\u001b[43m_get_indexer_strict\u001b[49m\u001b[43m(\u001b[49m\u001b[43mkey\u001b[49m\u001b[43m,\u001b[49m\u001b[43m \u001b[49m\u001b[38;5;124;43m\"\u001b[39;49m\u001b[38;5;124;43mcolumns\u001b[39;49m\u001b[38;5;124;43m\"\u001b[39;49m\u001b[43m)\u001b[49m[\u001b[38;5;241m1\u001b[39m]\n\u001b[1;32m   4098\u001b[0m \u001b[38;5;66;03m# take() does not accept boolean indexers\u001b[39;00m\n\u001b[1;32m   4099\u001b[0m \u001b[38;5;28;01mif\u001b[39;00m \u001b[38;5;28mgetattr\u001b[39m(indexer, \u001b[38;5;124m\"\u001b[39m\u001b[38;5;124mdtype\u001b[39m\u001b[38;5;124m\"\u001b[39m, \u001b[38;5;28;01mNone\u001b[39;00m) \u001b[38;5;241m==\u001b[39m \u001b[38;5;28mbool\u001b[39m:\n",
      "File \u001b[0;32m~/miniforge3/envs/recSysEnv/lib/python3.9/site-packages/pandas/core/indexes/base.py:6199\u001b[0m, in \u001b[0;36mIndex._get_indexer_strict\u001b[0;34m(self, key, axis_name)\u001b[0m\n\u001b[1;32m   6196\u001b[0m \u001b[38;5;28;01melse\u001b[39;00m:\n\u001b[1;32m   6197\u001b[0m     keyarr, indexer, new_indexer \u001b[38;5;241m=\u001b[39m \u001b[38;5;28mself\u001b[39m\u001b[38;5;241m.\u001b[39m_reindex_non_unique(keyarr)\n\u001b[0;32m-> 6199\u001b[0m \u001b[38;5;28;43mself\u001b[39;49m\u001b[38;5;241;43m.\u001b[39;49m\u001b[43m_raise_if_missing\u001b[49m\u001b[43m(\u001b[49m\u001b[43mkeyarr\u001b[49m\u001b[43m,\u001b[49m\u001b[43m \u001b[49m\u001b[43mindexer\u001b[49m\u001b[43m,\u001b[49m\u001b[43m \u001b[49m\u001b[43maxis_name\u001b[49m\u001b[43m)\u001b[49m\n\u001b[1;32m   6201\u001b[0m keyarr \u001b[38;5;241m=\u001b[39m \u001b[38;5;28mself\u001b[39m\u001b[38;5;241m.\u001b[39mtake(indexer)\n\u001b[1;32m   6202\u001b[0m \u001b[38;5;28;01mif\u001b[39;00m \u001b[38;5;28misinstance\u001b[39m(key, Index):\n\u001b[1;32m   6203\u001b[0m     \u001b[38;5;66;03m# GH 42790 - Preserve name from an Index\u001b[39;00m\n",
      "File \u001b[0;32m~/miniforge3/envs/recSysEnv/lib/python3.9/site-packages/pandas/core/indexes/base.py:6248\u001b[0m, in \u001b[0;36mIndex._raise_if_missing\u001b[0;34m(self, key, indexer, axis_name)\u001b[0m\n\u001b[1;32m   6246\u001b[0m \u001b[38;5;28;01mif\u001b[39;00m nmissing:\n\u001b[1;32m   6247\u001b[0m     \u001b[38;5;28;01mif\u001b[39;00m nmissing \u001b[38;5;241m==\u001b[39m \u001b[38;5;28mlen\u001b[39m(indexer):\n\u001b[0;32m-> 6248\u001b[0m         \u001b[38;5;28;01mraise\u001b[39;00m \u001b[38;5;167;01mKeyError\u001b[39;00m(\u001b[38;5;124mf\u001b[39m\u001b[38;5;124m\"\u001b[39m\u001b[38;5;124mNone of [\u001b[39m\u001b[38;5;132;01m{\u001b[39;00mkey\u001b[38;5;132;01m}\u001b[39;00m\u001b[38;5;124m] are in the [\u001b[39m\u001b[38;5;132;01m{\u001b[39;00maxis_name\u001b[38;5;132;01m}\u001b[39;00m\u001b[38;5;124m]\u001b[39m\u001b[38;5;124m\"\u001b[39m)\n\u001b[1;32m   6250\u001b[0m     not_found \u001b[38;5;241m=\u001b[39m \u001b[38;5;28mlist\u001b[39m(ensure_index(key)[missing_mask\u001b[38;5;241m.\u001b[39mnonzero()[\u001b[38;5;241m0\u001b[39m]]\u001b[38;5;241m.\u001b[39munique())\n\u001b[1;32m   6251\u001b[0m     \u001b[38;5;28;01mraise\u001b[39;00m \u001b[38;5;167;01mKeyError\u001b[39;00m(\u001b[38;5;124mf\u001b[39m\u001b[38;5;124m\"\u001b[39m\u001b[38;5;132;01m{\u001b[39;00mnot_found\u001b[38;5;132;01m}\u001b[39;00m\u001b[38;5;124m not in index\u001b[39m\u001b[38;5;124m\"\u001b[39m)\n",
      "\u001b[0;31mKeyError\u001b[0m: \"None of [Index([('time', 'value')], dtype='object')] are in the [columns]\""
     ]
    },
    {
     "data": {
      "image/png": "[encoded data removed]",
      "text/plain": [
       "<Figure size 900x1800 with 17 Axes>"
      ]
     },
     "metadata": {},
     "output_type": "display_data"
    }
   ],
   "source": [
    "cols = ['lifestyle', 'health', 'news', 'sports', 'weather',\n",
    "       'entertainment', 'autos', 'travel', 'foodanddrink', 'tv', 'finance',\n",
    "       'movies', 'video', 'music', 'kids', 'middleeast', 'northamerica']\n",
    "behaviors_long = behaviors_final.melt(id_vars='time', value_vars=cols)\n",
    "g = sns.FacetGrid(behaviors_long, col=\"variable\", palette=\"rocket_r\", col_wrap=3, sharex=False, sharey=False)\n",
    "g = (g.map(sns.histplot, [\"time\", \"value\"], element=\"step\").add_legend())\n",
    "g.set_titles(\"{col_name}\")\n",
    "g.fig.tight_layout()\n",
    "\n",
    "plt.show()\n",
    "\n",
    "behaviors_long\n",
    "\n",
    "\n",
    "# variables = ['residual sugar', 'density', 'fixed acidity', 'pH', 'alcohol', 'free sulfur dioxide', 'chlorides', 'citric acid']\n",
    "# wine_data_long = data.melt(id_vars='type', value_vars=variables, var_name='variable', value_name='value')\n",
    "\n",
    "# g = sns.FacetGrid(wine_data_long, col=\"variable\", hue=\"type\", palette=\"rocket_r\", col_wrap=3, sharex=False, sharey=False)\n",
    "# g = (g.map(sns.histplot, \"value\", element=\"step\").add_legend())\n",
    "\n",
    "# g.set_titles(\"{col_name}\")\n",
    "# g.fig.tight_layout()\n",
    "\n",
    "# plt.show()\n",
    "\n"
   ]
  },
  {
   "cell_type": "markdown",
   "metadata": {},
   "source": [
    "###  meep\n",
    "Within the context of a recommender we do not care about the date exactly but more so the hour or time of day, hence we will change the bins accordingly "
   ]
  },
  {
   "cell_type": "code",
   "execution_count": null,
   "metadata": {},
   "outputs": [],
   "source": []
  },
  {
   "cell_type": "code",
   "execution_count": null,
   "metadata": {},
   "outputs": [],
   "source": []
  }
 ],
 "metadata": {
  "kernelspec": {
   "display_name": "recSysEnv",
   "language": "python",
   "name": "python3"
  },
  "language_info": {
   "codemirror_mode": {
    "name": "ipython",
    "version": 3
   },
   "file_extension": ".py",
   "mimetype": "text/x-python",
   "name": "python",
   "nbconvert_exporter": "python",
   "pygments_lexer": "ipython3",
   "version": "3.9.18"
  }
 },
 "nbformat": 4,
 "nbformat_minor": 2
}
