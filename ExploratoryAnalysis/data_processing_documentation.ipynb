{
 "cells": [
  {
   "cell_type": "markdown",
   "metadata": {},
   "source": [
    "## Data Processing\n",
    "This notebook contains notes and documentation on data processing that was used to prepare the data for our testing."
   ]
  },
  {
   "cell_type": "code",
   "execution_count": 1,
   "metadata": {},
   "outputs": [
    {
     "name": "stderr",
     "output_type": "stream",
     "text": [
      "2024-03-02 22:01:56.783900: I external/local_tsl/tsl/cuda/cudart_stub.cc:31] Could not find cuda drivers on your machine, GPU will not be used.\n",
      "2024-03-02 22:01:56.820044: E external/local_xla/xla/stream_executor/cuda/cuda_dnn.cc:9261] Unable to register cuDNN factory: Attempting to register factory for plugin cuDNN when one has already been registered\n",
      "2024-03-02 22:01:56.820081: E external/local_xla/xla/stream_executor/cuda/cuda_fft.cc:607] Unable to register cuFFT factory: Attempting to register factory for plugin cuFFT when one has already been registered\n",
      "2024-03-02 22:01:56.821002: E external/local_xla/xla/stream_executor/cuda/cuda_blas.cc:1515] Unable to register cuBLAS factory: Attempting to register factory for plugin cuBLAS when one has already been registered\n",
      "2024-03-02 22:01:56.826733: I external/local_tsl/tsl/cuda/cudart_stub.cc:31] Could not find cuda drivers on your machine, GPU will not be used.\n",
      "2024-03-02 22:01:56.827926: I tensorflow/core/platform/cpu_feature_guard.cc:182] This TensorFlow binary is optimized to use available CPU instructions in performance-critical operations.\n",
      "To enable the following instructions: AVX2 FMA, in other operations, rebuild TensorFlow with the appropriate compiler flags.\n",
      "2024-03-02 22:01:57.820286: W tensorflow/compiler/tf2tensorrt/utils/py_utils.cc:38] TF-TRT Warning: Could not find TensorRT\n"
     ]
    }
   ],
   "source": [
    "import pandas as pd\n",
    "import numpy as np\n",
    "import data_processing_modules as dpm\n",
    "# for MIND_large data processing change the folder name in all associated functions"
   ]
  },
  {
   "cell_type": "markdown",
   "metadata": {},
   "source": [
    "### Initial Processing\n",
    "Initially the data was stored in .tsv format without column headers. Via data_to_csv in data_processing_modules we were able to change it into a csv."
   ]
  },
  {
   "cell_type": "code",
   "execution_count": null,
   "metadata": {},
   "outputs": [],
   "source": [
    "## Changes to csv format\n",
    "# Behaviors and then news\n",
    "dpm.data_to_csv(True, '../MIND_large/tsv/behaviors.tsv')\n",
    "dpm.data_to_csv(False, '../MIND_large/tsv/news.tsv')"
   ]
  },
  {
   "cell_type": "markdown",
   "metadata": {},
   "source": [
    "### Processing for popularity counts \n",
    "To access popularity counts for both categories and articles, we made create_popularity_dfs and create_popularity_csvs to extract popularity information and output it into a csv for later use in visualizations. "
   ]
  },
  {
   "cell_type": "code",
   "execution_count": 2,
   "metadata": {},
   "outputs": [],
   "source": [
    "behaviors = pd.read_csv('../MIND_large/csv/behaviors.csv', index_col=0)\n",
    "news = pd.read_csv('../MIND_large/csv/news.csv', index_col=0)\n",
    "# dpm.create_popularity_csvs(news, behaviors, small=False)"
   ]
  },
  {
   "cell_type": "code",
   "execution_count": 3,
   "metadata": {},
   "outputs": [
    {
     "data": {
      "text/html": [
       "<div>\n",
       "<style scoped>\n",
       "    .dataframe tbody tr th:only-of-type {\n",
       "        vertical-align: middle;\n",
       "    }\n",
       "\n",
       "    .dataframe tbody tr th {\n",
       "        vertical-align: top;\n",
       "    }\n",
       "\n",
       "    .dataframe thead th {\n",
       "        text-align: right;\n",
       "    }\n",
       "</style>\n",
       "<table border=\"1\" class=\"dataframe\">\n",
       "  <thead>\n",
       "    <tr style=\"text-align: right;\">\n",
       "      <th></th>\n",
       "      <th>impression_id</th>\n",
       "      <th>user_id</th>\n",
       "      <th>time</th>\n",
       "      <th>history</th>\n",
       "      <th>impressions</th>\n",
       "      <th>hour</th>\n",
       "    </tr>\n",
       "  </thead>\n",
       "  <tbody>\n",
       "    <tr>\n",
       "      <th>359673</th>\n",
       "      <td>359674</td>\n",
       "      <td>U66319</td>\n",
       "      <td>2019-11-15 00:00:00</td>\n",
       "      <td>N10721 N128129 N28406 N118998 N38884 N96764 N1...</td>\n",
       "      <td>N98015-0 N44109-0 N19586-0 N26122-0 N109853-0 ...</td>\n",
       "      <td>01</td>\n",
       "    </tr>\n",
       "    <tr>\n",
       "      <th>271465</th>\n",
       "      <td>271466</td>\n",
       "      <td>U714534</td>\n",
       "      <td>2019-11-15 00:00:01</td>\n",
       "      <td>NaN</td>\n",
       "      <td>N43355-0 N125161-0 N26122-1 N102958-0 N129510-...</td>\n",
       "      <td>01</td>\n",
       "    </tr>\n",
       "    <tr>\n",
       "      <th>348597</th>\n",
       "      <td>348598</td>\n",
       "      <td>U231191</td>\n",
       "      <td>2019-11-15 00:00:02</td>\n",
       "      <td>N7742 N90185 N58034 N48215 N58477 N48215 N1167...</td>\n",
       "      <td>N63342-0 N106619-0 N43490-0 N68688-0 N9989-0 N...</td>\n",
       "      <td>01</td>\n",
       "    </tr>\n",
       "    <tr>\n",
       "      <th>214469</th>\n",
       "      <td>214470</td>\n",
       "      <td>U458420</td>\n",
       "      <td>2019-11-15 00:00:04</td>\n",
       "      <td>N18843 N112324 N43234 N128546 N108752 N81970 N...</td>\n",
       "      <td>N74401-0 N76254-0 N67937-0 N69938-0 N102846-0 ...</td>\n",
       "      <td>01</td>\n",
       "    </tr>\n",
       "    <tr>\n",
       "      <th>257816</th>\n",
       "      <td>257817</td>\n",
       "      <td>U167725</td>\n",
       "      <td>2019-11-15 00:00:05</td>\n",
       "      <td>N80865 N77603 N14898 N75485</td>\n",
       "      <td>N43490-0 N100425-0 N32626-0 N129314-0 N74875-0...</td>\n",
       "      <td>01</td>\n",
       "    </tr>\n",
       "  </tbody>\n",
       "</table>\n",
       "</div>"
      ],
      "text/plain": [
       "        impression_id  user_id                time  \\\n",
       "359673         359674   U66319 2019-11-15 00:00:00   \n",
       "271465         271466  U714534 2019-11-15 00:00:01   \n",
       "348597         348598  U231191 2019-11-15 00:00:02   \n",
       "214469         214470  U458420 2019-11-15 00:00:04   \n",
       "257816         257817  U167725 2019-11-15 00:00:05   \n",
       "\n",
       "                                                  history  \\\n",
       "359673  N10721 N128129 N28406 N118998 N38884 N96764 N1...   \n",
       "271465                                                NaN   \n",
       "348597  N7742 N90185 N58034 N48215 N58477 N48215 N1167...   \n",
       "214469  N18843 N112324 N43234 N128546 N108752 N81970 N...   \n",
       "257816                        N80865 N77603 N14898 N75485   \n",
       "\n",
       "                                              impressions hour  \n",
       "359673  N98015-0 N44109-0 N19586-0 N26122-0 N109853-0 ...   01  \n",
       "271465  N43355-0 N125161-0 N26122-1 N102958-0 N129510-...   01  \n",
       "348597  N63342-0 N106619-0 N43490-0 N68688-0 N9989-0 N...   01  \n",
       "214469  N74401-0 N76254-0 N67937-0 N69938-0 N102846-0 ...   01  \n",
       "257816  N43490-0 N100425-0 N32626-0 N129314-0 N74875-0...   01  "
      ]
     },
     "execution_count": 3,
     "metadata": {},
     "output_type": "execute_result"
    }
   ],
   "source": [
    "behaviors = dpm.modify_hourly(behaviors)\n",
    "behaviors = behaviors.sort_values('time')\n",
    "behaviors.head()"
   ]
  },
  {
   "cell_type": "code",
   "execution_count": 4,
   "metadata": {},
   "outputs": [
    {
     "name": "stdout",
     "output_type": "stream",
     "text": [
      "Index(['news_id', 'category', 'sub_category', 'title', 'abstract', 'url',\n",
      "       'title_entities', 'abstract_entities'],\n",
      "      dtype='object')\n",
      "<class 'pandas.core.frame.DataFrame'>\n",
      "Starting loop\n"
     ]
    },
    {
     "name": "stderr",
     "output_type": "stream",
     "text": [
      "  0%|          | 0/376471 [00:00<?, ?it/s]"
     ]
    },
    {
     "name": "stderr",
     "output_type": "stream",
     "text": [
      "100%|██████████| 376471/376471 [1:32:30<00:00, 67.83it/s]\n"
     ]
    },
    {
     "data": {
      "text/html": [
       "<div>\n",
       "<style scoped>\n",
       "    .dataframe tbody tr th:only-of-type {\n",
       "        vertical-align: middle;\n",
       "    }\n",
       "\n",
       "    .dataframe tbody tr th {\n",
       "        vertical-align: top;\n",
       "    }\n",
       "\n",
       "    .dataframe thead th {\n",
       "        text-align: right;\n",
       "    }\n",
       "</style>\n",
       "<table border=\"1\" class=\"dataframe\">\n",
       "  <thead>\n",
       "    <tr style=\"text-align: right;\">\n",
       "      <th></th>\n",
       "      <th>user_id</th>\n",
       "      <th>time</th>\n",
       "      <th>news_id</th>\n",
       "      <th>category</th>\n",
       "      <th>sub_category</th>\n",
       "      <th>title</th>\n",
       "      <th>abstract</th>\n",
       "      <th>interaction_type</th>\n",
       "      <th>score</th>\n",
       "    </tr>\n",
       "  </thead>\n",
       "  <tbody>\n",
       "    <tr>\n",
       "      <th>0</th>\n",
       "      <td>U66319</td>\n",
       "      <td>01</td>\n",
       "      <td>N10721</td>\n",
       "      <td>entertainment</td>\n",
       "      <td>entertainment-celebrity</td>\n",
       "      <td>Mike Johnson asks out Keke Palmer after Demi L...</td>\n",
       "      <td>Mike Johnson tried to ask out Keke Palmer in a...</td>\n",
       "      <td>history</td>\n",
       "      <td>1</td>\n",
       "    </tr>\n",
       "    <tr>\n",
       "      <th>1</th>\n",
       "      <td>U66319</td>\n",
       "      <td>01</td>\n",
       "      <td>N128129</td>\n",
       "      <td>movies</td>\n",
       "      <td>movies-celebrity</td>\n",
       "      <td>Brie Larson Has the Best Reaction Ever After T...</td>\n",
       "      <td>The 'Captain Marvel' star was left speechless ...</td>\n",
       "      <td>history</td>\n",
       "      <td>1</td>\n",
       "    </tr>\n",
       "    <tr>\n",
       "      <th>2</th>\n",
       "      <td>U66319</td>\n",
       "      <td>01</td>\n",
       "      <td>N28406</td>\n",
       "      <td>news</td>\n",
       "      <td>newsworld</td>\n",
       "      <td>Accused dine-and-dashers in viral video at St....</td>\n",
       "      <td>Five young black men who posted a video of a m...</td>\n",
       "      <td>history</td>\n",
       "      <td>1</td>\n",
       "    </tr>\n",
       "    <tr>\n",
       "      <th>3</th>\n",
       "      <td>U66319</td>\n",
       "      <td>01</td>\n",
       "      <td>N118998</td>\n",
       "      <td>news</td>\n",
       "      <td>newsgoodnews</td>\n",
       "      <td>Trooper pulls over to save flag on highway</td>\n",
       "      <td>The trooper is being praised for stopping his ...</td>\n",
       "      <td>history</td>\n",
       "      <td>1</td>\n",
       "    </tr>\n",
       "    <tr>\n",
       "      <th>4</th>\n",
       "      <td>U66319</td>\n",
       "      <td>01</td>\n",
       "      <td>N38884</td>\n",
       "      <td>sports</td>\n",
       "      <td>mma</td>\n",
       "      <td>UFC champ Khabib Nurmagomedov seen training in...</td>\n",
       "      <td>Khabib Nurmagomedov doesn't mess around.</td>\n",
       "      <td>history</td>\n",
       "      <td>1</td>\n",
       "    </tr>\n",
       "  </tbody>\n",
       "</table>\n",
       "</div>"
      ],
      "text/plain": [
       "  user_id time  news_id       category             sub_category  \\\n",
       "0  U66319   01   N10721  entertainment  entertainment-celebrity   \n",
       "1  U66319   01  N128129         movies         movies-celebrity   \n",
       "2  U66319   01   N28406           news                newsworld   \n",
       "3  U66319   01  N118998           news             newsgoodnews   \n",
       "4  U66319   01   N38884         sports                      mma   \n",
       "\n",
       "                                               title  \\\n",
       "0  Mike Johnson asks out Keke Palmer after Demi L...   \n",
       "1  Brie Larson Has the Best Reaction Ever After T...   \n",
       "2  Accused dine-and-dashers in viral video at St....   \n",
       "3         Trooper pulls over to save flag on highway   \n",
       "4  UFC champ Khabib Nurmagomedov seen training in...   \n",
       "\n",
       "                                            abstract interaction_type  score  \n",
       "0  Mike Johnson tried to ask out Keke Palmer in a...          history      1  \n",
       "1  The 'Captain Marvel' star was left speechless ...          history      1  \n",
       "2  Five young black men who posted a video of a m...          history      1  \n",
       "3  The trooper is being praised for stopping his ...          history      1  \n",
       "4           Khabib Nurmagomedov doesn't mess around.          history      1  "
      ]
     },
     "execution_count": 4,
     "metadata": {},
     "output_type": "execute_result"
    }
   ],
   "source": [
    "tf_dataset = dpm.decompose_interactions(news, behaviors)\n",
    "tf_dataset.head()"
   ]
  },
  {
   "cell_type": "code",
   "execution_count": 6,
   "metadata": {},
   "outputs": [
    {
     "data": {
      "text/html": [
       "<div>\n",
       "<style scoped>\n",
       "    .dataframe tbody tr th:only-of-type {\n",
       "        vertical-align: middle;\n",
       "    }\n",
       "\n",
       "    .dataframe tbody tr th {\n",
       "        vertical-align: top;\n",
       "    }\n",
       "\n",
       "    .dataframe thead th {\n",
       "        text-align: right;\n",
       "    }\n",
       "</style>\n",
       "<table border=\"1\" class=\"dataframe\">\n",
       "  <thead>\n",
       "    <tr style=\"text-align: right;\">\n",
       "      <th></th>\n",
       "      <th>user_id</th>\n",
       "      <th>time</th>\n",
       "      <th>news_id</th>\n",
       "      <th>category</th>\n",
       "      <th>sub_category</th>\n",
       "      <th>title</th>\n",
       "      <th>abstract</th>\n",
       "      <th>interaction_type</th>\n",
       "      <th>score</th>\n",
       "    </tr>\n",
       "  </thead>\n",
       "  <tbody>\n",
       "    <tr>\n",
       "      <th>0</th>\n",
       "      <td>U66319</td>\n",
       "      <td>01</td>\n",
       "      <td>N10721</td>\n",
       "      <td>entertainment</td>\n",
       "      <td>entertainment-celebrity</td>\n",
       "      <td>Mike Johnson asks out Keke Palmer after Demi L...</td>\n",
       "      <td>Mike Johnson tried to ask out Keke Palmer in a...</td>\n",
       "      <td>history</td>\n",
       "      <td>1</td>\n",
       "    </tr>\n",
       "    <tr>\n",
       "      <th>1</th>\n",
       "      <td>U66319</td>\n",
       "      <td>01</td>\n",
       "      <td>N128129</td>\n",
       "      <td>movies</td>\n",
       "      <td>movies-celebrity</td>\n",
       "      <td>Brie Larson Has the Best Reaction Ever After T...</td>\n",
       "      <td>The 'Captain Marvel' star was left speechless ...</td>\n",
       "      <td>history</td>\n",
       "      <td>1</td>\n",
       "    </tr>\n",
       "    <tr>\n",
       "      <th>2</th>\n",
       "      <td>U66319</td>\n",
       "      <td>01</td>\n",
       "      <td>N28406</td>\n",
       "      <td>news</td>\n",
       "      <td>newsworld</td>\n",
       "      <td>Accused dine-and-dashers in viral video at St....</td>\n",
       "      <td>Five young black men who posted a video of a m...</td>\n",
       "      <td>history</td>\n",
       "      <td>1</td>\n",
       "    </tr>\n",
       "    <tr>\n",
       "      <th>3</th>\n",
       "      <td>U66319</td>\n",
       "      <td>01</td>\n",
       "      <td>N118998</td>\n",
       "      <td>news</td>\n",
       "      <td>newsgoodnews</td>\n",
       "      <td>Trooper pulls over to save flag on highway</td>\n",
       "      <td>The trooper is being praised for stopping his ...</td>\n",
       "      <td>history</td>\n",
       "      <td>1</td>\n",
       "    </tr>\n",
       "    <tr>\n",
       "      <th>4</th>\n",
       "      <td>U66319</td>\n",
       "      <td>01</td>\n",
       "      <td>N38884</td>\n",
       "      <td>sports</td>\n",
       "      <td>mma</td>\n",
       "      <td>UFC champ Khabib Nurmagomedov seen training in...</td>\n",
       "      <td>Khabib Nurmagomedov doesn't mess around.</td>\n",
       "      <td>history</td>\n",
       "      <td>1</td>\n",
       "    </tr>\n",
       "    <tr>\n",
       "      <th>...</th>\n",
       "      <td>...</td>\n",
       "      <td>...</td>\n",
       "      <td>...</td>\n",
       "      <td>...</td>\n",
       "      <td>...</td>\n",
       "      <td>...</td>\n",
       "      <td>...</td>\n",
       "      <td>...</td>\n",
       "      <td>...</td>\n",
       "    </tr>\n",
       "    <tr>\n",
       "      <th>20645888</th>\n",
       "      <td>U491432</td>\n",
       "      <td>00</td>\n",
       "      <td>N87192</td>\n",
       "      <td>finance</td>\n",
       "      <td>finance-companies</td>\n",
       "      <td>Bill Gates tops Jeff Bezos as world's richest ...</td>\n",
       "      <td>This time it's official.</td>\n",
       "      <td>impression</td>\n",
       "      <td>0</td>\n",
       "    </tr>\n",
       "    <tr>\n",
       "      <th>20645889</th>\n",
       "      <td>U491432</td>\n",
       "      <td>00</td>\n",
       "      <td>N31918</td>\n",
       "      <td>news</td>\n",
       "      <td>newsworld</td>\n",
       "      <td>Oscar Wilde's stolen ring found by Dutch 'art ...</td>\n",
       "      <td>A golden ring once given as a present by the f...</td>\n",
       "      <td>impression</td>\n",
       "      <td>0</td>\n",
       "    </tr>\n",
       "    <tr>\n",
       "      <th>20645890</th>\n",
       "      <td>U491432</td>\n",
       "      <td>00</td>\n",
       "      <td>N73556</td>\n",
       "      <td>sports</td>\n",
       "      <td>football_nfl</td>\n",
       "      <td>Report: At least 24 teams expected to attend K...</td>\n",
       "      <td>It looks like the majority of the teams in the...</td>\n",
       "      <td>impression</td>\n",
       "      <td>0</td>\n",
       "    </tr>\n",
       "    <tr>\n",
       "      <th>20645891</th>\n",
       "      <td>U491432</td>\n",
       "      <td>00</td>\n",
       "      <td>N92223</td>\n",
       "      <td>lifestyle</td>\n",
       "      <td>lifestylebuzz</td>\n",
       "      <td>This 10-Year-Old Girl's Demanding Christmas Wi...</td>\n",
       "      <td>A father recently shared his 10-year-old daugh...</td>\n",
       "      <td>impression</td>\n",
       "      <td>0</td>\n",
       "    </tr>\n",
       "    <tr>\n",
       "      <th>20645892</th>\n",
       "      <td>U491432</td>\n",
       "      <td>00</td>\n",
       "      <td>N114517</td>\n",
       "      <td>sports</td>\n",
       "      <td>baseball_mlb</td>\n",
       "      <td>MLB GM wants Jeff Luhnow 'banned for life' if ...</td>\n",
       "      <td>Another team executive said he wanted to see t...</td>\n",
       "      <td>impression</td>\n",
       "      <td>0</td>\n",
       "    </tr>\n",
       "  </tbody>\n",
       "</table>\n",
       "<p>20645893 rows × 9 columns</p>\n",
       "</div>"
      ],
      "text/plain": [
       "          user_id time  news_id       category             sub_category  \\\n",
       "0          U66319   01   N10721  entertainment  entertainment-celebrity   \n",
       "1          U66319   01  N128129         movies         movies-celebrity   \n",
       "2          U66319   01   N28406           news                newsworld   \n",
       "3          U66319   01  N118998           news             newsgoodnews   \n",
       "4          U66319   01   N38884         sports                      mma   \n",
       "...           ...  ...      ...            ...                      ...   \n",
       "20645888  U491432   00   N87192        finance        finance-companies   \n",
       "20645889  U491432   00   N31918           news                newsworld   \n",
       "20645890  U491432   00   N73556         sports             football_nfl   \n",
       "20645891  U491432   00   N92223      lifestyle            lifestylebuzz   \n",
       "20645892  U491432   00  N114517         sports             baseball_mlb   \n",
       "\n",
       "                                                      title  \\\n",
       "0         Mike Johnson asks out Keke Palmer after Demi L...   \n",
       "1         Brie Larson Has the Best Reaction Ever After T...   \n",
       "2         Accused dine-and-dashers in viral video at St....   \n",
       "3                Trooper pulls over to save flag on highway   \n",
       "4         UFC champ Khabib Nurmagomedov seen training in...   \n",
       "...                                                     ...   \n",
       "20645888  Bill Gates tops Jeff Bezos as world's richest ...   \n",
       "20645889  Oscar Wilde's stolen ring found by Dutch 'art ...   \n",
       "20645890  Report: At least 24 teams expected to attend K...   \n",
       "20645891  This 10-Year-Old Girl's Demanding Christmas Wi...   \n",
       "20645892  MLB GM wants Jeff Luhnow 'banned for life' if ...   \n",
       "\n",
       "                                                   abstract interaction_type  \\\n",
       "0         Mike Johnson tried to ask out Keke Palmer in a...          history   \n",
       "1         The 'Captain Marvel' star was left speechless ...          history   \n",
       "2         Five young black men who posted a video of a m...          history   \n",
       "3         The trooper is being praised for stopping his ...          history   \n",
       "4                  Khabib Nurmagomedov doesn't mess around.          history   \n",
       "...                                                     ...              ...   \n",
       "20645888                           This time it's official.       impression   \n",
       "20645889  A golden ring once given as a present by the f...       impression   \n",
       "20645890  It looks like the majority of the teams in the...       impression   \n",
       "20645891  A father recently shared his 10-year-old daugh...       impression   \n",
       "20645892  Another team executive said he wanted to see t...       impression   \n",
       "\n",
       "          score  \n",
       "0             1  \n",
       "1             1  \n",
       "2             1  \n",
       "3             1  \n",
       "4             1  \n",
       "...         ...  \n",
       "20645888      0  \n",
       "20645889      0  \n",
       "20645890      0  \n",
       "20645891      0  \n",
       "20645892      0  \n",
       "\n",
       "[20645893 rows x 9 columns]"
      ]
     },
     "execution_count": 6,
     "metadata": {},
     "output_type": "execute_result"
    }
   ],
   "source": [
    "tf_dataset"
   ]
  },
  {
   "cell_type": "code",
   "execution_count": 5,
   "metadata": {},
   "outputs": [],
   "source": [
    "tf_dataset.to_csv('../MIND_large/csv/tensorflowDatasetFullGood.csv')"
   ]
  },
  {
   "cell_type": "code",
   "execution_count": 18,
   "metadata": {},
   "outputs": [],
   "source": [
    "fpath = f'../MIND_large/csv/tensorflow_dataset'\n",
    "idx = [5161473 * i for i in range(5)]\n",
    "idx[-1] += 1\n",
    "for i in range(len(idx)-1):\n",
    "    start, end = idx[i], idx[i+1]\n",
    "    chunk = tf_dataset[(tf_dataset.index >= start) & (tf_dataset.index < end)]\n",
    "    chunk.to_csv(fpath + f'_chunk{i}.csv')"
   ]
  },
  {
   "cell_type": "code",
   "execution_count": 10,
   "metadata": {},
   "outputs": [
    {
     "data": {
      "text/plain": [
       "14452124.399999999"
      ]
     },
     "execution_count": 10,
     "metadata": {},
     "output_type": "execute_result"
    }
   ],
   "source": [
    "20645892 * 0.7"
   ]
  },
  {
   "cell_type": "code",
   "execution_count": 12,
   "metadata": {},
   "outputs": [],
   "source": [
    "5161473 * 5 * .8\n",
    "train_test = '80_20'\n",
    "train = tf_dataset[(tf_dataset.index >= 0) & (tf_dataset.index < 14452123)] # tentative\n",
    "test = tf_dataset[(tf_dataset.index < 20645893.0) & (tf_dataset.index >= 14452123)]\n",
    "# Then for the determined split we need to place our data into the specified folder\n",
    "train.to_csv(fpath + 'train.csv')\n",
    "test.to_csv(fpath + 'test.csv')\n"
   ]
  },
  {
   "cell_type": "code",
   "execution_count": 16,
   "metadata": {},
   "outputs": [
    {
     "data": {
      "text/plain": [
       "[0.0, 7226061.0, 14452122.0]"
      ]
     },
     "execution_count": 16,
     "metadata": {},
     "output_type": "execute_result"
    }
   ],
   "source": [
    " \n",
    "[i * 7226061.0 for i in range(3)] "
   ]
  },
  {
   "cell_type": "code",
   "execution_count": 17,
   "metadata": {},
   "outputs": [],
   "source": [
    "idx = [i * 7226061.0 for i in range(3)] \n",
    "idx[-1] += 1\n",
    "for i in range(len(idx)-1):\n",
    "    start, end = idx[i], idx[i+1]\n",
    "    chunk = tf_dataset[(tf_dataset.index >= start) & (tf_dataset.index < end)]\n",
    "    chunk.to_csv(fpath + f'train_chunk{i}.csv')"
   ]
  },
  {
   "cell_type": "markdown",
   "metadata": {},
   "source": [
    "### Tensorflow compatibility\n",
    "Tensorflow recommenders requires the dataset to be in a specific format in order for it to be compatible with its systems. Using decompose_interactions we are able to create a dataframe that is tensorflow compatible."
   ]
  },
  {
   "cell_type": "code",
   "execution_count": null,
   "metadata": {},
   "outputs": [],
   "source": [
    "news.head()"
   ]
  },
  {
   "cell_type": "code",
   "execution_count": 3,
   "metadata": {},
   "outputs": [
    {
     "name": "stdout",
     "output_type": "stream",
     "text": [
      "Index(['news_id', 'category', 'sub_category', 'title', 'abstract', 'url',\n",
      "       'title_entities', 'abstract_entities'],\n",
      "      dtype='object')\n",
      "<class 'pandas.core.frame.DataFrame'>\n"
     ]
    }
   ],
   "source": []
  },
  {
   "cell_type": "markdown",
   "metadata": {},
   "source": []
  },
  {
   "cell_type": "code",
   "execution_count": null,
   "metadata": {},
   "outputs": [],
   "source": [
    "tf_dataset = pd.read_csv('../MIND_large/csv/tensorflowDataset.csv')\n",
    "tf_dataset.head()"
   ]
  },
  {
   "cell_type": "markdown",
   "metadata": {},
   "source": [
    "### Temporal Processing\n",
    "Due to the inclusion of the interaction timestamp in the behaviors data we analyzed the popularity of articles at different times of day. To process this data we used create_interaction_counts (behaviors_with_individual_counts). Subsequently we used modify_hourly which extracts the hour from the timestamp."
   ]
  },
  {
   "cell_type": "code",
   "execution_count": null,
   "metadata": {},
   "outputs": [],
   "source": [
    "# dpm.create_interaction_counts()\n",
    "behaviors = pd.read_csv('../MIND_large/csv/behaviors_with_individual_counts.csv', index_col=0).drop(columns='Unnamed: 0')\n",
    "behaviors = dpm.modify_hourly(behaviors)"
   ]
  },
  {
   "cell_type": "code",
   "execution_count": null,
   "metadata": {},
   "outputs": [],
   "source": [
    "import pandas as pd\n",
    "import numpy as np\n",
    "import data_processing_modules as dpm\n",
    "user_impressions_df = pd.read_csv('../MIND_large/csv/behaviors_grouped_with_history.csv').reset_index()\n",
    "user_impression_preference = pd.read_csv('../MIND_large/csv/behaviors_grouped_with_history.csv').reset_index()\n",
    "feature_matrix = user_impressions_df.merge(user_impression_preference)\n",
    "feature_matrix\n",
    "user_interacted = feature_matrix[['user_id', 'history', 'impressions']]\n",
    "user_interacted.head() \n",
    "del feature_matrix\n",
    "del user_impressions_df\n",
    "del user_impression_preference\n",
    "news = pd.read_csv('../MIND_large/csv/news.csv')['news_id']\n",
    "news_data = {news_id : np.full(255990, -1, dtype='int8') for news_id in news}\n",
    "def populate_dictionaries(behaviors_frame):\n",
    "    \"\"\"\n",
    "    Populates the news data dictionary with user preferences where each user_id corresponds to a row index and the columns correspond to news articles.\n",
    "    \"\"\"\n",
    "    index = 0\n",
    "    # Might just want to use the popularity counts that are already found in behaviors with popularity counts? that could be a lot better imho\n",
    "    for history, impressions in zip(behaviors_frame['history'], behaviors_frame['impressions']):\n",
    "\n",
    "        if history != '-1':\n",
    "            for news_id in history.split():\n",
    "                meep = news_data[news_id]\n",
    "                meep[index] = 1\n",
    "\n",
    "        if type(impressions) != float:    \n",
    "            \n",
    "            impressions = impressions.replace('[', '')\n",
    "            impressions = impressions.replace(']', '')\n",
    "\n",
    "            for impression_string in impressions.split(','):\n",
    "                impression_string = impression_string.replace(\"'\", \"\")\n",
    "                for impression in impression_string.split():\n",
    "                \n",
    "                    impression_info = dpm.clean_impression(impression)\n",
    "                    if impression_info['score'] == '1':\n",
    "                        news_data[impression_info['article_ID']][index] = 1\n",
    "                    else:\n",
    "                        news_data[impression_info['article_ID']][index] = 0\n",
    "        index += 1\n",
    "\n",
    "populate_dictionaries(user_interacted)\n",
    "del user_interacted"
   ]
  },
  {
   "cell_type": "code",
   "execution_count": null,
   "metadata": {},
   "outputs": [],
   "source": [
    "72023 / 7\n",
    "matrix_separators = [10289 * i for i in range(1, 8)]\n",
    "matrix_separators.insert(0, 0)\n",
    "matrix_separators"
   ]
  },
  {
   "cell_type": "code",
   "execution_count": null,
   "metadata": {},
   "outputs": [],
   "source": [
    "for index in range(len(matrix_separators)-1):\n",
    "    start, end = matrix_separators[index], matrix_separators[index+1]\n",
    "    user_item_chunk = np.empty((255990, 10290), dtype='int8')\n",
    "    for index in range(start, end):\n",
    "        key = news[index]\n",
    "        user_item_chunk[:, index] = news_data[key]\n",
    "        del news_data[key]\n",
    "    np.save(f'../MIND_large/{index+1}user_item_mat.npy', user_item_chunk)\n",
    "    del user_item_chunk\n",
    "\n"
   ]
  },
  {
   "cell_type": "markdown",
   "metadata": {},
   "source": [
    "### Clustering Processing\n",
    "With the goal of minimizing search spaces and making our recommenders more efficient we utilized clustering. During the clustering of news articles we extracted embeddings from a pre-trained BERT model and applied them to the abstracts and titles present in the dataset with create_text_embeddings. In addition to using BERT embeddings, we used scikit learn's bag of words and tf-idf vectorizers. Utilizing scikit-learn vectorizers requires only a few lines of code, therefore any preprocessing is done during clustering instead of prior like BERT embeddings below."
   ]
  },
  {
   "cell_type": "code",
   "execution_count": null,
   "metadata": {},
   "outputs": [],
   "source": [
    "dpm.preprocess_BERT_embeddings(news, small=True)"
   ]
  }
 ],
 "metadata": {
  "kernelspec": {
   "display_name": "recSysEnv",
   "language": "python",
   "name": "python3"
  },
  "language_info": {
   "codemirror_mode": {
    "name": "ipython",
    "version": 3
   },
   "file_extension": ".py",
   "mimetype": "text/x-python",
   "name": "python",
   "nbconvert_exporter": "python",
   "pygments_lexer": "ipython3",
   "version": "3.11.6"
  }
 },
 "nbformat": 4,
 "nbformat_minor": 2
}
