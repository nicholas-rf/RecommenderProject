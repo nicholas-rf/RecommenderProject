{
 "cells": [
  {
   "cell_type": "markdown",
   "metadata": {},
   "source": [
    "# PSTAT 234/134 Final Project\n",
    "## An exploration of recommender systems\n",
    "#### By Nicholas Roze-Freitas and Coby Wilcox"
   ]
  },
  {
   "cell_type": "markdown",
   "metadata": {},
   "source": [
    "## Introduction\n",
    "Recommender systems, or recommenders, are found everywhere in our day to day life; when we engage with social media, shop online, or look for something to watch on a streaming service, we are interacting with a recommender. Regardless of how ubiquitous recommenders are, building and evaluating recommender systems present interesting and unique challenges for a few reasons. First, recommenders are a combination of several smaller systems and models that interact with each other requiring careful management and consideration of how data flows and how each individual part interacts. Second, recommenders are evaluated on a large group of accuracy metrics ranging from more the standard RMSE to more recommender specific ones: serendipity, novelty, robustness, accuracy and coverage to name a few. Through this project we follow the recent history of recommender system innnovation by starting with matrix factorization methods, their generalization under factorization machines, and a more recent frameworks implementation Tensorflow.\n",
    "\n",
    "timeline of evaluate the performance of several recommender system models and frameworks and discuss how we might improve them in the context of the Microsoft News Dataset. To ensure the quality of our findings, we start with an exploration of the Microsoft News Dataset, also known as MIND."
   ]
  },
  {
   "cell_type": "code",
   "execution_count": 1,
   "metadata": {},
   "outputs": [
    {
     "name": "stderr",
     "output_type": "stream",
     "text": [
      "2it [41:29, 1238.62s/it]"
     ]
    },
    {
     "ename": "",
     "evalue": "",
     "output_type": "error",
     "traceback": [
      "\u001b[1;31mThe Kernel crashed while executing code in the current cell or a previous cell. \n",
      "\u001b[1;31mPlease review the code in the cell(s) to identify a possible cause of the failure. \n",
      "\u001b[1;31mClick <a href='https://aka.ms/vscodeJupyterKernelCrash'>here</a> for more info. \n",
      "\u001b[1;31mView Jupyter <a href='command:jupyter.viewOutput'>log</a> for further details."
     ]
    }
   ],
   "source": [
    "from sklearn.feature_extraction import DictVectorizer\n",
    "import matrix_modules\n",
    "from tqdm import tqdm\n",
    "import numpy as np\n",
    "import pandas as pd\n",
    "from scipy import sparse\n",
    "\n",
    "# loads full tensorflow dataframe\n",
    "dataset = matrix_modules.load_in_tensorflow_full()\n",
    "\n",
    "label_list = [\"unc\", \"unct\", \"uncts\"]\n",
    "list_of_lists = [[\"user_id\", \"news_id\",\"category\"],\n",
    "                 [\"user_id\", \"news_id\",\"category\",\"time\"],\n",
    "                 [\"user_id\", \"news_id\",\"category\",\"time\",\"sub_category\"]]\n",
    "\n",
    "for i,feature_list in tqdm(enumerate(list_of_lists)):\n",
    "    v = DictVectorizer()\n",
    "    x = v.fit_transform(list(dataset[feature_list].T.to_dict().values()))\n",
    "    sparse.save_npz(f\"../MIND_large/embeddings/sparse_mat_fm_{label_list[i]}.npz\", x)\n",
    "    del x, v"
   ]
  },
  {
   "cell_type": "markdown",
   "metadata": {},
   "source": [
    "## Exploratory Data Analysis Findings\n",
    "Our exploratory data analysis was performed with the intention to determine potential features that could be used in our recommender systems as well as help us understand any potential problems with our data. Two of four files contained in MIND were of particular interest: news and behaviors. Aligning with what is necessary for recommenders, news and behaviors represented the catalog and impressions that we would be using to build our systems. After an initial peak into the news dataset we determined that any potential features that we could extract included article abstracts, titles, categories and sub categories. We also found that the distribution of categories was skewed towards 'news' and 'sports' having the highest number of articles. After this initial exploration of news, we moved on to behaviors. Behaviors contained few features for each user; only including the time of interaction, their history and a list of articles that they had either interacted with or not. Before deciding on any features to extract, we visualized category and article popularity to determine if our data suffers from the long tail problem (describe here). Additionally we explored how time of day might impact preference for a specific category of article. To obtain meaningful features from this data we performed transformations and found a users preferences for specific articles as well as,median time of day of interaction.\n",
    "\n",
    "Below we include graphs showcasing the distribution of articles, our examination of popularity and how time of day affects potential article popularity.\n",
    "\n",
    "\n",
    "its density we examined its distribution showed that there were several categories as well "
   ]
  },
  {
   "cell_type": "markdown",
   "metadata": {},
   "source": [
    "## Utilizing Clustering\n",
    "### Purpose\n",
    "### Item Clustering\n",
    "### User Clustering"
   ]
  },
  {
   "cell_type": "markdown",
   "metadata": {},
   "source": [
    "## Predicting Rankings\n",
    "intro sentence to the r - uvT thing \n",
    "### GD\n",
    "### ALS\n",
    "### FMs"
   ]
  },
  {
   "cell_type": "markdown",
   "metadata": {},
   "source": [
    "## Making Predictions\n",
    "### Hybrid filtering\n",
    "### Using a weighted sum\n",
    "### Improving recommendations in a business context"
   ]
  }
 ],
 "metadata": {
  "kernelspec": {
   "display_name": "base",
   "language": "python",
   "name": "python3"
  },
  "language_info": {
   "codemirror_mode": {
    "name": "ipython",
    "version": 3
   },
   "file_extension": ".py",
   "mimetype": "text/x-python",
   "name": "python",
   "nbconvert_exporter": "python",
   "pygments_lexer": "ipython3",
   "version": "3.11.6"
  }
 },
 "nbformat": 4,
 "nbformat_minor": 2
}
