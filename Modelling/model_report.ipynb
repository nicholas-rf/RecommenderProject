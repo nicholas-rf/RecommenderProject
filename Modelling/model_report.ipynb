{
 "cells": [
  {
   "cell_type": "markdown",
   "metadata": {},
   "source": [
    "# Description of modelling practices\n",
    "To include a wide range of testing and frameworks we then evaluated recommender systems under baseline techniques like matrix factorization and ____ and newer frameworks like Tensorflow Recommenders and more notably NVIDIA Merlin. Using clustering we saved on compute by minimizing the search space that our matrix factorization needed to operate on."
   ]
  },
  {
   "cell_type": "markdown",
   "metadata": {},
   "source": [
    "## Matrix factorization methods with clustering\n",
    "Within baseline techniques is the utilization of a user-item matrix $R$, via clustering we were able to experiment on this. Three different types of the user-item ratings matrix $R$ were used for our baseline, two using either user or item clustering and one using both. By setting up $R$ in this way we increased the range of ratings and introduced collaboritve, content and hybrid filtering techniques in the models without them and enhanced those that did. "
   ]
  },
  {
   "cell_type": "markdown",
   "metadata": {},
   "source": [
    "### Ratings calculations for clusters\n",
    "#### Item Clusters\n",
    "\n",
    "The ratings for user $u_i$ in an item cluster $IC$ is denoted as $IC_i$ and is calculated as the sum of all interactions that user $u_i$ had with various items in the cluster. Mathematically, it can be expressed as:\n",
    "$$\n",
    "IC_{i} = \\sum_{j=1}^{n} I_{ij}\n",
    "$$\n",
    "\n",
    "where:\n",
    "- $n$ is the total number of items in the cluster,\n",
    "- $I_{ij}$ is a binary indicator defined as follows $ I_{ij} = \\begin{cases} 1, & \\text{if user } u_{i} \\text{ has interacted with item } v_{j} \\\\ \n",
    "0, & \\text{otherwise} \\end{cases}\n",
    "$"
   ]
  },
  {
   "cell_type": "markdown",
   "metadata": {},
   "source": [
    "Maybe consider combining these two so that theyre more succinct since the binary indicator is the same?"
   ]
  },
  {
   "cell_type": "markdown",
   "metadata": {},
   "source": [
    "#### User Clusters\n",
    "\n",
    "The ratings for item $v_{j}$ in a user cluster $UC$ is denoted as $UC_{j}$ and is calculated as the sum of all interactions that users in the cluster had with item $v_{j}$. Mathematically, it can be expressed as:\n",
    "$$\n",
    "UC_{j} = \\sum_{i=1}^{m} I_{ij}\n",
    "$$\n",
    "where:\n",
    "- $m$ is the total number of users in the cluster,\n",
    "- $I_{ij}$ is a binary indicator defined as follows $ I_{ij} = \\begin{cases} 1, & \\text{if user } u_{i} \\text{ has interacted with item } v_{j} \\\\ \n",
    "0, & \\text{otherwise} \\end{cases}\n",
    "$"
   ]
  },
  {
   "cell_type": "markdown",
   "metadata": {},
   "source": [
    "#### Using both clusters\n",
    "To further experiment on how we can use clustering we also composed $R$ of users from a $UC$ and the items from their highest rated $IC$"
   ]
  },
  {
   "cell_type": "markdown",
   "metadata": {},
   "source": [
    "#### How our matrices might look\n",
    "Maybe a visualization or drawing of our matrices?"
   ]
  },
  {
   "cell_type": "markdown",
   "metadata": {},
   "source": [
    "## Modelling : Baseline\n",
    "As mentioned previously, our goal was to create a strong baseline.\n",
    "To ensure a strong baseline for comparison, we implemented and experimented on stochastic gradient descent, alternating least squares, singular value decomposition ++ and matrix factorization machines."
   ]
  },
  {
   "cell_type": "markdown",
   "metadata": {
    "vscode": {
     "languageId": "plaintext"
    }
   },
   "source": [
    "### Stochastic Gradient Descent and Alternating Least Squares\n",
    "\n",
    "Stochastic gradient descent, SGD, and alternating least squares, ALS, for recommender systems utilize our ratings matrix $R$ and two matrices $U$ and $V$ to represent users and items for $K$ latent factors. Under SGD, we minimize the residuals found by $\\|R - V U^T\\|_F^2$ for observed values in $R$ using update functions for $U$ and $V$. In ALS, one latent factor matrix $U$ or $V$ fixed while the other is optimized with the process being alternated between $U$ and $V$ until convergence. To incorporate user features and item features past clustering, we experimented with adding these features to their respective latent factor matrices during runtime for the respective users and items in the clusters that are being evaluated. "
   ]
  }
 ],
 "metadata": {
  "kernelspec": {
   "display_name": "base",
   "language": "python",
   "name": "python3"
  },
  "language_info": {
   "name": "python",
   "version": "3.11.6"
  }
 },
 "nbformat": 4,
 "nbformat_minor": 2
}
