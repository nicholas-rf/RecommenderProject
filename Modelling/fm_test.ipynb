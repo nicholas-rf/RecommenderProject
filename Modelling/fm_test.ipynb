{
 "cells": [
  {
   "cell_type": "code",
   "execution_count": 1,
   "metadata": {},
   "outputs": [],
   "source": [
    "from sklearn.feature_extraction import DictVectorizer\n",
    "import matrix_modules\n",
    "from tqdm import tqdm\n",
    "import numpy as np\n",
    "import pandas as pd\n",
    "from scipy import sparse\n",
    "\n",
    "# loads full tensorflow dataframe\n",
    "dataset = matrix_modules.load_in_tensorflow_full()\n",
    "\n",
    "label_list = [\"unc\", \"unct\", \"uncts\"]\n",
    "list_of_lists = [[\"user_id\", \"news_id\",\"category\"],\n",
    "                 [\"user_id\", \"news_id\",\"category\",\"time\"],\n",
    "                 [\"user_id\", \"news_id\",\"category\",\"time\",\"sub_category\"]]\n",
    "\n",
    "for i,feature_list in enumerate(list_of_lists):\n",
    "    v = DictVectorizer()\n",
    "    x = v.fit_transform(list(dataset[feature_list].T.to_dict().values()))\n",
    "\n",
    "    sparse.save_npz(f\"../MIND_large/embeddings/sparse_mat_fm_{label_list[i]}.npz\", x)"
   ]
  }
 ],
 "metadata": {
  "kernelspec": {
   "display_name": "base",
   "language": "python",
   "name": "python3"
  },
  "language_info": {
   "codemirror_mode": {
    "name": "ipython",
    "version": 3
   },
   "file_extension": ".py",
   "mimetype": "text/x-python",
   "name": "python",
   "nbconvert_exporter": "python",
   "pygments_lexer": "ipython3",
   "version": "3.11.6"
  }
 },
 "nbformat": 4,
 "nbformat_minor": 2
}
